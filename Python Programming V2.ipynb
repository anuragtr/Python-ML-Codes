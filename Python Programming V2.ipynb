{
 "cells": [
  {
   "cell_type": "markdown",
   "metadata": {},
   "source": [
    "####################################################\n",
    "############## Text/String Operations\n",
    "####################################################"
   ]
  },
  {
   "cell_type": "code",
   "execution_count": 9,
   "metadata": {},
   "outputs": [],
   "source": [
    "# importing libraries\n",
    "import pandas as pd\n",
    "import matplotlib.pyplot as plt\n",
    "import sklearn\n",
    "import numpy as np  \n",
    "import re  # regular expressions like '+', '*'\n",
    "import nltk  # The Natural Language Toolkit\n",
    "from sklearn.datasets import load_files  \n",
    "# nltk.download('popular') \n",
    "# will download stopwords, punkt etc # download in default dir else error later on\n",
    "import pickle  \n",
    "from nltk.corpus import stopwords\n",
    "from nltk import PorterStemmer\n",
    "from nltk.tokenize import sent_tokenize, word_tokenize\n",
    "from nltk.stem import WordNetLemmatizer\n",
    "from nltk.corpus import wordnet"
   ]
  },
  {
   "cell_type": "code",
   "execution_count": 91,
   "metadata": {},
   "outputs": [
    {
     "data": {
      "text/plain": [
       "['This is practice data create!!d for text process11ing so @# ``- added some special charac22ters also\\n',\n",
       " 'This is 2nd line\\n',\n",
       " 'This is 3rd line\\n']"
      ]
     },
     "execution_count": 91,
     "metadata": {},
     "output_type": "execute_result"
    }
   ],
   "source": [
    "# read from local\n",
    "with open('text1', 'r') as txt1:\n",
    "    txt1 = txt1.readlines()\n",
    "txt1"
   ]
  },
  {
   "cell_type": "code",
   "execution_count": 438,
   "metadata": {},
   "outputs": [
    {
     "name": "stdout",
     "output_type": "stream",
     "text": [
      "This is practice data create!!d for text process11ing so @# ``- added some special charac22ters also\n",
      "\n"
     ]
    }
   ],
   "source": [
    "# create string for future ops\n",
    "str1 = txt1[0]\n",
    "print(str1)\n",
    "strx = \"xyz abc ttt ttt pqr cqr pqt hhx hxxz\""
   ]
  },
  {
   "cell_type": "code",
   "execution_count": 8,
   "metadata": {},
   "outputs": [],
   "source": [
    "# write in local\n",
    "with open('text2', 'w') as txt2:\n",
    "    txt2.writelines(txt1)"
   ]
  },
  {
   "cell_type": "code",
   "execution_count": 25,
   "metadata": {},
   "outputs": [
    {
     "name": "stdout",
     "output_type": "stream",
     "text": [
      "This is practice data create!!d for text process11ing so @# ``- added some special charac22ters also\n",
      "\n",
      "['This', 'is', 'practice', 'data', 'created', 'for', 'text', 'process11ing', 'so', '', '', 'added', 'some', 'special', 'charac22ters', 'also']\n",
      "This is practice data created for text process11ing so   added some special charac22ters also\n",
      "This is practice data created for text process11ing so added some special charac22ters also\n"
     ]
    }
   ],
   "source": [
    "# remove special chars from 'string'\n",
    "print(txt1[0])\n",
    "temp = [re.sub('[^A-Za-z0-9]+', '', x) for x in txt1[0].split()] # removes special chars\n",
    "print(temp)\n",
    "temp = ' '.join(temp) # joins words\n",
    "print(temp)\n",
    "temp = ' '.join(temp.split()) # removes extra spaces from middle\n",
    "print(temp)"
   ]
  },
  {
   "cell_type": "code",
   "execution_count": 45,
   "metadata": {},
   "outputs": [
    {
     "name": "stdout",
     "output_type": "stream",
     "text": [
      "['This is practice data create!!d for text process11ing so @# ``- added some special charac22ters also\\n', 'This is 2nd line\\n', 'This is 3rd line\\n']\n",
      "['This is practice data created for text process11ing so added some special charac22ters also', 'This is 2nd line', 'This is 3rd line']\n"
     ]
    }
   ],
   "source": [
    "# remove special chars from 'list of strings'; leave alphanumeric\n",
    "print(txt1)\n",
    "def rm_special_from_str(str1):\n",
    "    temp = [re.sub('[^A-Za-z0-9]+', '', x) for x in str1.split()] # removes special chars\n",
    "    temp = ' '.join(temp) # joins words\n",
    "    temp = ' '.join(temp.split()) # removes extra spaces from middle\n",
    "    return temp\n",
    "temp = [rm_special_from_str(x) for x in txt1]\n",
    "print(temp)"
   ]
  },
  {
   "cell_type": "code",
   "execution_count": 53,
   "metadata": {},
   "outputs": [
    {
     "name": "stdout",
     "output_type": "stream",
     "text": [
      "This is 2nd line\n",
      "\n",
      "This is nd line\n",
      "\n"
     ]
    }
   ],
   "source": [
    "# remove numeric from words in string\n",
    "str1 = txt1[1]\n",
    "print(str1) # This is 2nd line\n",
    "temp = re.sub('[0-9]+', '', str1)\n",
    "print(temp) # 'This is nd line'"
   ]
  },
  {
   "cell_type": "code",
   "execution_count": 80,
   "metadata": {},
   "outputs": [
    {
     "name": "stdout",
     "output_type": "stream",
     "text": [
      "['This is practice data create!!d for text process11ing so @# ``- added some special charac22ters also\\n', 'This is 2nd line\\n', 'This is 3rd line\\n']\n"
     ]
    },
    {
     "data": {
      "text/plain": [
       "['Thss is practice data create!!d for text process11ing so @# ``- added some special charac22ters also',\n",
       " 'Thss is 2nd line',\n",
       " 'Thss is 3rd line']"
      ]
     },
     "execution_count": 80,
     "metadata": {},
     "output_type": "execute_result"
    }
   ],
   "source": [
    "# replace sub-string in multiple lines (only if sub-str is not complete word)\n",
    "print(txt1)\n",
    "def replace_substr(str1):\n",
    "    temp = [x.replace('is','ss') if x!='is' else x for x in str1.split()]\n",
    "    temp = ' '.join(temp)\n",
    "    return(temp)\n",
    "temp = [replace_substr(x) for x in txt1]\n",
    "temp"
   ]
  },
  {
   "cell_type": "code",
   "execution_count": 83,
   "metadata": {},
   "outputs": [
    {
     "name": "stdout",
     "output_type": "stream",
     "text": [
      "abc xyz  pqr\n",
      "abc xyz pqr\n"
     ]
    }
   ],
   "source": [
    "# remove leading and training spaces\n",
    "str1 = '   abc xyz  pqr  '\n",
    "print(str1.strip())\n",
    "# remove all extra spaces\n",
    "print(' '.join(str1.split()))"
   ]
  },
  {
   "cell_type": "code",
   "execution_count": 94,
   "metadata": {},
   "outputs": [
    {
     "data": {
      "text/plain": [
       "16"
      ]
     },
     "execution_count": 94,
     "metadata": {},
     "output_type": "execute_result"
    }
   ],
   "source": [
    "# word count in string\n",
    "len(str1.split())"
   ]
  },
  {
   "cell_type": "code",
   "execution_count": 101,
   "metadata": {},
   "outputs": [
    {
     "name": "stdout",
     "output_type": "stream",
     "text": [
      "This is practice data create!!d for text process11ing so @# ``- added some special charac22ters also\n",
      "\n",
      "This is data create!!d for text process11ing so @# ``- added some special charac22ters also\n"
     ]
    }
   ],
   "source": [
    "# remove words from string containing a sub-string\n",
    "print(str1)\n",
    "str2 = [x for x in str1.split() if 'act' not in x]\n",
    "print(' '.join(str2))"
   ]
  },
  {
   "cell_type": "code",
   "execution_count": 107,
   "metadata": {},
   "outputs": [
    {
     "name": "stdout",
     "output_type": "stream",
     "text": [
      "This is practice data create!!d for text process11ing so @# ``- added some special charac22ters also\n",
      "\n"
     ]
    },
    {
     "data": {
      "text/plain": [
       "'This is practice data create!!d for text process11ing so ``- added some special charac22ters also'"
      ]
     },
     "execution_count": 107,
     "metadata": {},
     "output_type": "execute_result"
    }
   ],
   "source": [
    "# remove words from string starting with a character\n",
    "print(str1)\n",
    "str2 = [x for x in str1.split() if not x.startswith('@')] # similarly 'endswith'\n",
    "' '.join(str2)"
   ]
  },
  {
   "cell_type": "code",
   "execution_count": 115,
   "metadata": {},
   "outputs": [
    {
     "name": "stdout",
     "output_type": "stream",
     "text": [
      "This is practice data create!!d for text process11ing so @# ``- added some special charac22ters also\n",
      "\n"
     ]
    },
    {
     "data": {
      "text/plain": [
       "'This is practice data create!!d for text process11ing so @# ``- added some special charac22ters'"
      ]
     },
     "execution_count": 115,
     "metadata": {},
     "output_type": "execute_result"
    }
   ],
   "source": [
    "# add a word as 1st word of string\n",
    "print(str1)\n",
    "str2 = '1st-word ' + str1\n",
    "str2\n",
    "# remove 1st word of string\n",
    "str2 = str1.replace(  str1.split()[0], ''  ).strip()\n",
    "str2\n",
    "# remove last word of string\n",
    "str2 = str1.replace(  str1.split()[ len(str1.split())-1 ], ''  ).strip()\n",
    "str2"
   ]
  },
  {
   "cell_type": "code",
   "execution_count": 121,
   "metadata": {},
   "outputs": [
    {
     "data": {
      "text/plain": [
       "'This is practice data create!!d for text process11ing so @# ``- added some special charac22ters also'"
      ]
     },
     "execution_count": 121,
     "metadata": {},
     "output_type": "execute_result"
    }
   ],
   "source": [
    "# remove 1st character from string\n",
    "str2 = str1[1:]\n",
    "str2\n",
    "# remove last character from string\n",
    "str2 = str1[:-1]\n",
    "str2"
   ]
  },
  {
   "cell_type": "code",
   "execution_count": 148,
   "metadata": {},
   "outputs": [
    {
     "data": {
      "text/plain": [
       "'xyz abc ttt'"
      ]
     },
     "execution_count": 148,
     "metadata": {},
     "output_type": "execute_result"
    }
   ],
   "source": [
    "# remove duplicate words from string\n",
    "temp = \"xyz abc abc ttt\"\n",
    "temp1 = temp.split()\n",
    "str2 = sorted( set(temp1), key=temp1.index)\n",
    "' '.join(str2)"
   ]
  },
  {
   "cell_type": "code",
   "execution_count": 157,
   "metadata": {},
   "outputs": [
    {
     "data": {
      "text/plain": [
       "2"
      ]
     },
     "execution_count": 157,
     "metadata": {},
     "output_type": "execute_result"
    }
   ],
   "source": [
    "# count of a word in string\n",
    "strx\n",
    "len([x for x in strx.split() if x=='pqr'])"
   ]
  },
  {
   "cell_type": "code",
   "execution_count": null,
   "metadata": {},
   "outputs": [],
   "source": [
    "# sub-string count in string\n",
    "print(strx)\n",
    "strx.count('pq')"
   ]
  },
  {
   "cell_type": "code",
   "execution_count": 159,
   "metadata": {},
   "outputs": [
    {
     "name": "stdout",
     "output_type": "stream",
     "text": [
      "xyz abc ttt ttt pqr pqr pqt hhu huz\n",
      "['xyz', 'abc', 'ttt', 'pqr', 'pqt', 'hhu', 'huz']\n",
      "[1, 1, 2, 2, 1, 1, 1]\n"
     ]
    }
   ],
   "source": [
    "# count of all words in string\n",
    "print(strx) # \n",
    "strx_unique = sorted(set(strx.split()), key=strx.index)\n",
    "print(strx_unique)\n",
    "def word_freq(str_xx):\n",
    "    return(len([x for x in strx.split() if x==str_xx]))\n",
    "words_freq_list = [word_freq(x) for x in strx_unique]\n",
    "print(words_freq_list)"
   ]
  },
  {
   "cell_type": "code",
   "execution_count": 190,
   "metadata": {},
   "outputs": [
    {
     "name": "stdout",
     "output_type": "stream",
     "text": [
      "xyz abc ttt ttt pqr pqr pqt hhu huz\n",
      "[7]\n",
      "[27]\n",
      " ttt ttt pqr pqr \n"
     ]
    },
    {
     "data": {
      "text/plain": [
       "' ttt ttt pqr '"
      ]
     },
     "execution_count": 190,
     "metadata": {},
     "output_type": "execute_result"
    }
   ],
   "source": [
    "# get sub-string between 2 sub-strings ('abc' & 'pqt')\n",
    "print(strx) # 'xyz abc ttt ttt pqr pqr pqt hhu huz'\n",
    "start_index = [x+3 for x in range(len(strx)) if 'abc' in strx[x:x+3]]\n",
    "print(start_index)\n",
    "end_index = [x+3 for x in range(len(strx)) if 'pqt' in strx[x:x+3]]\n",
    "print(end_index)\n",
    "print(strx[start_index[0]:end_index[0]-3])\n",
    "# OR\n",
    "result = re.search('abc(.*)pqr', strx)\n",
    "str(result.group(1))"
   ]
  },
  {
   "cell_type": "code",
   "execution_count": 221,
   "metadata": {},
   "outputs": [
    {
     "name": "stdout",
     "output_type": "stream",
     "text": [
      "       Name  Age  Height\n",
      "0     tom-x   10     6.1\n",
      "1    nick-y   15     5.8\n",
      "2  arnold-t   11     5.6\n",
      "3     sam-g   13     5.7\n",
      "       Name  Age  Height Name_first Name_last\n",
      "0     tom-x   10     6.1        tom         x\n",
      "1    nick-y   15     5.8       nick         y\n",
      "2  arnold-t   11     5.6     arnold         t\n",
      "3     sam-g   13     5.7        sam         g\n"
     ]
    }
   ],
   "source": [
    "# split text variable of df into 2 using 'delimiter'\n",
    "import pandas as pd \n",
    "data = [['tom-x', 10, 6.1], ['nick-y', 15, 5.8], ['arnold-t', 11, 5.6], ['sam-g', 13, 5.7]] \n",
    "dff = pd.DataFrame(data, columns = ['Name', 'Age', 'Height']) \n",
    "print(dff)\n",
    "dff['Name_first'] = dff['Name'].apply(lambda x: x.split('-')[0])\n",
    "dff['Name_last'] = dff['Name'].apply(lambda x: x.split('-')[1])\n",
    "print(dff)"
   ]
  },
  {
   "cell_type": "code",
   "execution_count": 229,
   "metadata": {},
   "outputs": [
    {
     "name": "stdout",
     "output_type": "stream",
     "text": [
      "xyz abc ttt ttt pqr pqr pqt hhu huz\n"
     ]
    },
    {
     "data": {
      "text/plain": [
       "' huz'"
      ]
     },
     "execution_count": 229,
     "metadata": {},
     "output_type": "execute_result"
    }
   ],
   "source": [
    "# get last 4 characters of string\n",
    "print(strx)\n",
    "strx[len(strx)-4:len(strx)]"
   ]
  },
  {
   "cell_type": "code",
   "execution_count": null,
   "metadata": {},
   "outputs": [],
   "source": [
    "## Regex - more"
   ]
  },
  {
   "cell_type": "code",
   "execution_count": 628,
   "metadata": {},
   "outputs": [
    {
     "name": "stdout",
     "output_type": "stream",
     "text": [
      "xyz abc ttt ttt pqr cqr pqt hhx hxxz\n",
      "match found\n",
      "8\n"
     ]
    }
   ],
   "source": [
    "# find matching sub-string in string\n",
    "print(strx)\n",
    "if (re.search('pqr', strx)):\n",
    "    print('match found')\n",
    "\n",
    "# find sub-string location in string:\n",
    "temp = 'sphinx..=.=221'\n",
    "result = re.search(\"=\", temp)\n",
    "print(result.span(0)[0]) # output=6 (1st location)"
   ]
  },
  {
   "cell_type": "code",
   "execution_count": 440,
   "metadata": {},
   "outputs": [
    {
     "name": "stdout",
     "output_type": "stream",
     "text": [
      "xyz abc ttt ttt pqr cqr pqt hhx hxxz\n",
      "['hhx', 'hxxz']\n"
     ]
    }
   ],
   "source": [
    "# find words starting with a character/s\n",
    "print(strx)\n",
    "temp = re.findall(r'\\b(h\\w+)', strx) \n",
    "# \\b(h\\w+) searches for 'h+chars' at start of word\n",
    "# r'\\b[sS]\\w+' for lower & upper case\n",
    "# \\b searches for at start or end dep on placement in query\n",
    "print(temp)\n",
    "# can use 'startswith' also, as above"
   ]
  },
  {
   "cell_type": "code",
   "execution_count": 442,
   "metadata": {},
   "outputs": [
    {
     "name": "stdout",
     "output_type": "stream",
     "text": [
      "xyz abc ttt ttt pqr cqr pqt hhx hxxz\n",
      "['xyz', 'hxxz']\n"
     ]
    }
   ],
   "source": [
    "# find words ending with a character/s\n",
    "print(strx)\n",
    "temp = re.findall(r'(\\w+z)\\b',strx) \n",
    "# (\\w+z)\\b searches for '\\w+z' at start of word\n",
    "# \\b searches for at start or end dep on placement in query\n",
    "print(temp)\n",
    "# can use 'endswith' also, as above"
   ]
  },
  {
   "cell_type": "code",
   "execution_count": 445,
   "metadata": {},
   "outputs": [
    {
     "name": "stdout",
     "output_type": "stream",
     "text": [
      "xyz abc ttt ttt pqr cqr pqt hhx hxxz\n",
      "['pqr', 'cqr', 'pqt']\n"
     ]
    }
   ],
   "source": [
    "# find words with sub-string at center (not searching at ends)\n",
    "print(strx)\n",
    "temp = re.findall(r'(\\w+q\\w+)', strx)\n",
    "print(temp)"
   ]
  },
  {
   "cell_type": "code",
   "execution_count": 619,
   "metadata": {},
   "outputs": [
    {
     "name": "stdout",
     "output_type": "stream",
     "text": [
      "False\n",
      "False\n",
      "ABCXYZ\n",
      "abcxyz\n"
     ]
    }
   ],
   "source": [
    "# Check lower case / upper case:\n",
    "str_temp = 'AbcXyz'\n",
    "print(str_temp.isupper())\n",
    "print(str_temp.islower())\n",
    "# Convert to lower case / upper case:\n",
    "print(str_temp.upper())\n",
    "print(str_temp.lower())"
   ]
  },
  {
   "cell_type": "code",
   "execution_count": 618,
   "metadata": {},
   "outputs": [
    {
     "data": {
      "text/plain": [
       "'This is practice data create!!d for text process11ing so @# ``- added some special charac22ters also\\n'"
      ]
     },
     "execution_count": 618,
     "metadata": {},
     "output_type": "execute_result"
    }
   ],
   "source": [
    "str1"
   ]
  },
  {
   "cell_type": "markdown",
   "metadata": {},
   "source": [
    "####################################################\n",
    "############## For Loops\n",
    "####################################################"
   ]
  },
  {
   "cell_type": "code",
   "execution_count": 251,
   "metadata": {},
   "outputs": [
    {
     "name": "stdout",
     "output_type": "stream",
     "text": [
      "key1-3\n",
      "key2-6\n",
      "key1-3\n",
      "key2-6\n"
     ]
    }
   ],
   "source": [
    "# for loop\n",
    "for i in range(len(strx.split())):\n",
    "#     print(i)\n",
    "    pass\n",
    "for word in strx.split():\n",
    "#     print(word)\n",
    "    pass\n",
    "for i,j in enumerate(strx.split()):\n",
    "#     print(\"{} is index, {} is word\".format(i,j))\n",
    "    pass\n",
    "\n",
    "x1 = [7,5,4]\n",
    "x2 = [77,55,44]\n",
    "for j,k in zip(x1,x2):\n",
    "#     print(\"{}-{}\".format(j,k))\n",
    "    pass\n",
    "for i,(j,k) in enumerate(zip(x1,x2)):\n",
    "#     print(\"{}-{}-{}\".format(i,j,k))\n",
    "    pass\n",
    "    \n",
    "x1 = {'key1':3, 'key2':6}\n",
    "for key in x1.keys():\n",
    "    print(\"{k}-{v}\".format(k=key, v=x1[key]))\n",
    "for key,value in x1.items():\n",
    "    print(\"{k}-{v}\".format(k=key, v=value))"
   ]
  },
  {
   "cell_type": "markdown",
   "metadata": {},
   "source": [
    "####################################################\n",
    "############## List, Tuple, Set Operations\n",
    "####################################################"
   ]
  },
  {
   "cell_type": "code",
   "execution_count": 252,
   "metadata": {},
   "outputs": [],
   "source": [
    "# list comprehensions & for loops are covered"
   ]
  },
  {
   "cell_type": "code",
   "execution_count": 336,
   "metadata": {},
   "outputs": [],
   "source": [
    "list1 = [5, -3, 77, 1, 77, 34]\n",
    "list2 = ['xx', 're', 'xx', 'tt', 'wq']\n",
    "list3 = [1, 44, 'test', 'exam', 65.0]\n",
    "list4 = [(9, '10', 4.3),\n",
    "                (7, '17', 2.5),\n",
    "                (15, '39', 11.4)]\n",
    "tup1 = (5, 3, 77, 1, 77, 34)\n",
    "tup2 = ('xx', 're', 'xx', 'tt', 'wq')\n",
    "tup3 = (1, 44, 'test', 'exam', 65.0)\n",
    "set1 = {4, 55, 6, 7}\n",
    "set2 = {4, 55, 'xyz', 7, 'abc'}"
   ]
  },
  {
   "cell_type": "code",
   "execution_count": 320,
   "metadata": {},
   "outputs": [
    {
     "name": "stdout",
     "output_type": "stream",
     "text": [
      "[5, -3, 77, 1, 77, 34]\n",
      "[5, -3, 77, 1, 34]\n"
     ]
    }
   ],
   "source": [
    "# remove duplicates\n",
    "print(list1)\n",
    "temp = sorted(set(list1), key=list1.index)\n",
    "print(temp)"
   ]
  },
  {
   "cell_type": "code",
   "execution_count": 307,
   "metadata": {},
   "outputs": [
    {
     "data": {
      "text/plain": [
       "[(7, '17', 2.5), (9, '10', 4.3), (15, '39', 11.4)]"
      ]
     },
     "execution_count": 307,
     "metadata": {},
     "output_type": "execute_result"
    }
   ],
   "source": [
    "# sort 'list of tuples' by 1st element of tuples\n",
    "list4_val1 =  [x[0] for x in list4]  # [9, 7, 15]\n",
    "list4_dict = {k:v for (k,v) in zip(list4_val1,list4)}\n",
    "list4_key_sort = sorted(list4_dict)\n",
    "list_sort = [list4_dict[x] for x in list4_key_sort]\n",
    "list_sort\n",
    "# OR\n",
    "temp = list4.copy()\n",
    "temp.sort(key=lambda x: x[0])\n",
    "temp"
   ]
  },
  {
   "cell_type": "code",
   "execution_count": 316,
   "metadata": {},
   "outputs": [
    {
     "name": "stdout",
     "output_type": "stream",
     "text": [
      "(5, 3, 77, 1, 77, 34)\n",
      "(5, 3, 77, 1, 77, 34, 99)\n"
     ]
    }
   ],
   "source": [
    "# append value in tuple\n",
    "print(tup1)\n",
    "tup1_list = list(tup1)\n",
    "tup1_list.append(99)\n",
    "temp = tuple(tup1_list)\n",
    "print(temp)"
   ]
  },
  {
   "cell_type": "code",
   "execution_count": 323,
   "metadata": {},
   "outputs": [
    {
     "name": "stdout",
     "output_type": "stream",
     "text": [
      "[5, -3, 77, 1, 77, 34]\n",
      "[5, 77, 1, 77, 34]\n"
     ]
    }
   ],
   "source": [
    "# remove negative values from list\n",
    "print(list1)\n",
    "temp = [x for x in list1 if x>=0]\n",
    "print(temp)"
   ]
  },
  {
   "cell_type": "code",
   "execution_count": 328,
   "metadata": {},
   "outputs": [
    {
     "name": "stdout",
     "output_type": "stream",
     "text": [
      "[5, -3, 77, 1, 77, 34]\n",
      "[5, -3, 77, 1, 77]\n"
     ]
    }
   ],
   "source": [
    "# remove last element of list\n",
    "print(list1)\n",
    "temp = list1.copy()\n",
    "temp.pop()\n",
    "print(temp)"
   ]
  },
  {
   "cell_type": "code",
   "execution_count": 349,
   "metadata": {},
   "outputs": [
    {
     "name": "stdout",
     "output_type": "stream",
     "text": [
      "set1-{4, 7, 6, 55}\n",
      "{99, 4, 6, 7, 55}\n",
      "{4, 7, 6}\n",
      "------------\n",
      "set1-{4, 7, 6, 55}\n",
      "set2-{4, 7, 'abc', 55, 'xyz'}\n",
      "{4, 55, 7}\n",
      "{4, 6, 7, 'abc', 55, 'xyz'}\n"
     ]
    }
   ],
   "source": [
    "# add element to set\n",
    "print(\"set1-{}\".format(set1))\n",
    "temp = set1.copy()\n",
    "temp.add(99)\n",
    "print(temp)\n",
    "# remove element to set\n",
    "temp = set1.copy()\n",
    "temp.remove(55)\n",
    "print(temp)\n",
    "\n",
    "# intersection of 2 sets\n",
    "print(\"------------\")\n",
    "print(\"set1-{}\".format(set1))\n",
    "print(\"set2-{}\".format(set2))\n",
    "temp1 = set1.copy()\n",
    "temp2 = set2.copy()\n",
    "temp = temp1.intersection(temp2)\n",
    "print(temp)\n",
    "# union of 2 sets\n",
    "temp = temp1.union(temp2)\n",
    "print(temp)"
   ]
  },
  {
   "cell_type": "code",
   "execution_count": 360,
   "metadata": {},
   "outputs": [
    {
     "name": "stdout",
     "output_type": "stream",
     "text": [
      "[5, -3, 77, 1, 77, 34]\n",
      "[1, 44, 'test', 'exam', 65.0]\n",
      "[5, -3, 77, 77, 34]\n"
     ]
    }
   ],
   "source": [
    "# subtract 2 lists\n",
    "print(list1)\n",
    "print(list3)\n",
    "diff = list( set(list1).intersection(set(list3)) ) # find intersection\n",
    "temp = [x for x in list1 if x not in diff] # find difference\n",
    "print(temp)"
   ]
  },
  {
   "cell_type": "markdown",
   "metadata": {},
   "source": [
    "####################################################\n",
    "############## Dictionary Operations\n",
    "####################################################"
   ]
  },
  {
   "cell_type": "code",
   "execution_count": 467,
   "metadata": {},
   "outputs": [],
   "source": [
    "# Note: Dict is unordered(for faster search) and keys are unique"
   ]
  },
  {
   "cell_type": "code",
   "execution_count": 464,
   "metadata": {},
   "outputs": [],
   "source": [
    "d_simple1 = {\"name\":\"Ford Prefect\", \"gender\":\"male\"}\n",
    "d_simple2 = {\"age\":40, 'height':5.7}\n",
    "d_complex = {   \n",
    "    \"players\": [\n",
    "        {\n",
    "            \"name\": \"Virat Kohli\",\n",
    "            \"gender\": \"male\"\n",
    "        },\n",
    "        {\n",
    "            \"name\": \"Rohit Sharma\",\n",
    "            \"gender\": \"male\"\n",
    "        },\n",
    "        {\n",
    "            \"name\": \"Jasprit Bumrah\",\n",
    "            \"gender\": \"male\"\n",
    "        }   \n",
    "    ]\n",
    "}"
   ]
  },
  {
   "cell_type": "code",
   "execution_count": 465,
   "metadata": {},
   "outputs": [
    {
     "name": "stdout",
     "output_type": "stream",
     "text": [
      "Ford Prefect\n",
      "Ford Prefect\n"
     ]
    }
   ],
   "source": [
    "# access dict values using keys\n",
    "print(d_simple['name'])\n",
    "print(d_simple.get('name'))"
   ]
  },
  {
   "cell_type": "code",
   "execution_count": 466,
   "metadata": {},
   "outputs": [
    {
     "data": {
      "text/plain": [
       "defaultdict(list, {'name': ['Tim', 'Jim'], 'age': [40]})"
      ]
     },
     "execution_count": 466,
     "metadata": {},
     "output_type": "execute_result"
    }
   ],
   "source": [
    "# create dict(list) using defaultdict\n",
    "from collections import defaultdict\n",
    "d1 = defaultdict(list)\n",
    "d1['name'].append('Tim')\n",
    "d1['name'].append('Jim')\n",
    "d1['age'].append(40)\n",
    "d1"
   ]
  },
  {
   "cell_type": "code",
   "execution_count": 471,
   "metadata": {},
   "outputs": [
    {
     "data": {
      "text/plain": [
       "{'name': 'Ford Prefect', 'gender': 'male', 'age': 40, 'height': 5.7}"
      ]
     },
     "execution_count": 471,
     "metadata": {},
     "output_type": "execute_result"
    }
   ],
   "source": [
    "# append dict to dict\n",
    "import copy\n",
    "temp = copy.deepcopy(d_simple1)\n",
    "temp.update(d_simple2)\n",
    "temp"
   ]
  },
  {
   "cell_type": "code",
   "execution_count": 576,
   "metadata": {},
   "outputs": [
    {
     "data": {
      "text/plain": [
       "{1: [23, 'a'], 2: [76, 'b'], 4: [56, 'c']}"
      ]
     },
     "execution_count": 576,
     "metadata": {},
     "output_type": "execute_result"
    }
   ],
   "source": [
    "# combine the 2 dicts the way it's shown in output\n",
    "d1 = {1: 23, 2: 76, 4: 56, 5: 77}\n",
    "d2 = {23: 'a', 76: 'b', 56: 'c', 99: 'd'}\n",
    "# output: {1: [23, 'a'], 2: [76, 'b'], 4: [56, 'c']}\n",
    "\n",
    "d3 = defaultdict(list)\n",
    "for key1, key2 in zip(d1.keys(), d2.keys()):\n",
    "    if d1[key1] == key2:\n",
    "        d3[key1].append(d1[key1])\n",
    "        d3[key1].append(d2[key2])\n",
    "d3\n",
    "\n",
    "# OR\n",
    "temp = { k:[v,d2[v]] for (k,v) in zip(d1.keys(), d1.values()) if v in d2.keys()}\n",
    "temp"
   ]
  },
  {
   "cell_type": "code",
   "execution_count": 493,
   "metadata": {},
   "outputs": [
    {
     "data": {
      "text/plain": [
       "['name', 'gender']"
      ]
     },
     "execution_count": 493,
     "metadata": {},
     "output_type": "execute_result"
    }
   ],
   "source": [
    "# get top n keys of dict\n",
    "list(d_simple1.keys())[0:2]"
   ]
  },
  {
   "cell_type": "code",
   "execution_count": 506,
   "metadata": {},
   "outputs": [
    {
     "name": "stdout",
     "output_type": "stream",
     "text": [
      "{'abc': 'xyz'}\n"
     ]
    }
   ],
   "source": [
    "# observe this behaviour by keeping/removing global\n",
    "dict1 = {}\n",
    "dict2 = {}\n",
    "dict2['abc'] = \"xyz\"\n",
    "def abc():\n",
    "    global dict1 # 'global' to be used like this in Python \n",
    "    # https://www.geeksforgeeks.org/global-keyword-in-python/\n",
    "    dict1 = dict2\n",
    "abc()\n",
    "print (dict1)"
   ]
  },
  {
   "cell_type": "code",
   "execution_count": 499,
   "metadata": {},
   "outputs": [
    {
     "name": "stdout",
     "output_type": "stream",
     "text": [
      "{'xyz': 5}\n"
     ]
    }
   ],
   "source": [
    "# observe this behaviour (contd..)\n",
    "dict11 = {}\n",
    "def abc():\n",
    "    # global dict1 # not required her \n",
    "    dict11['xyz'] = 5\n",
    "abc()\n",
    "print (dict11)"
   ]
  },
  {
   "cell_type": "markdown",
   "metadata": {},
   "source": [
    "####################################################\n",
    "############## Numpy & Matrix Operations\n",
    "####################################################"
   ]
  },
  {
   "cell_type": "code",
   "execution_count": 530,
   "metadata": {},
   "outputs": [
    {
     "name": "stdout",
     "output_type": "stream",
     "text": [
      "[ 0 43  0 65 11  0]\n",
      "[[34  0 43  0]\n",
      " [ 0  0 75  0]\n",
      " [ 0  2  0  0]\n",
      " [ 0  0  0  0]]\n"
     ]
    }
   ],
   "source": [
    "# create 1D and 2D numpy arrays\n",
    "np1 = np.zeros([6], dtype=int)\n",
    "np1[1] = 43\n",
    "np1[3] = 65\n",
    "np1[4] = 11\n",
    "print(np1)\n",
    "np2 = np.zeros([4,4], dtype=int)\n",
    "np2[0][0] = 34\n",
    "np2[0][2] = 43\n",
    "np2[1][2] = 75\n",
    "np2[2][1] = 2\n",
    "print(np2)"
   ]
  },
  {
   "cell_type": "code",
   "execution_count": 578,
   "metadata": {},
   "outputs": [
    {
     "data": {
      "text/plain": [
       "matrix([[34,  0, 43,  0],\n",
       "        [ 0,  0, 75,  0],\n",
       "        [ 0,  2,  0,  0],\n",
       "        [ 0,  0,  0,  0]])"
      ]
     },
     "execution_count": 578,
     "metadata": {},
     "output_type": "execute_result"
    }
   ],
   "source": [
    "# create matrix from 2D array\n",
    "m1 = np.asmatrix(np2)\n",
    "m1"
   ]
  },
  {
   "cell_type": "code",
   "execution_count": 531,
   "metadata": {},
   "outputs": [
    {
     "data": {
      "text/plain": [
       "array([ 0., 43.,  0., 65., 11.,  0.])"
      ]
     },
     "execution_count": 531,
     "metadata": {},
     "output_type": "execute_result"
    }
   ],
   "source": [
    "# convert array type to float\n",
    "temp = np1.astype(float)\n",
    "temp"
   ]
  },
  {
   "cell_type": "code",
   "execution_count": 582,
   "metadata": {},
   "outputs": [
    {
     "name": "stdout",
     "output_type": "stream",
     "text": [
      "(4, 4)\n",
      "4\n",
      "[[34  0 43  0  0  0 75  0]\n",
      " [ 0  2  0  0  0  0  0  0]]\n"
     ]
    }
   ],
   "source": [
    "# check array shape\n",
    "print(np2.shape)\n",
    "print(np2.shape[0])\n",
    "# reshape array\n",
    "temp = np.reshape(np2, (2,8))\n",
    "print(temp)"
   ]
  },
  {
   "cell_type": "code",
   "execution_count": 571,
   "metadata": {},
   "outputs": [
    {
     "name": "stdout",
     "output_type": "stream",
     "text": [
      "[[34  0 43  0]\n",
      " [ 0  0 75  0]\n",
      " [ 0  2  0  0]\n",
      " [ 0  0  0  0]]\n",
      "[[34  0 43  0 34  0 43  0]\n",
      " [ 0  0 75  0  0  0 75  0]\n",
      " [ 0  2  0  0  0  2  0  0]\n",
      " [ 0  0  0  0  0  0  0  0]]\n"
     ]
    }
   ],
   "source": [
    "# concatenate 2 arrays (1D) - horizontally\n",
    "temp = np.concatenate([np1, np2.flatten()], axis=0)\n",
    "temp\n",
    "# concatenate 2 arrays (2D) - vertically\n",
    "print(np2)\n",
    "temp = np.concatenate([np2, np2], axis=1)\n",
    "print(temp)"
   ]
  },
  {
   "cell_type": "code",
   "execution_count": 564,
   "metadata": {},
   "outputs": [
    {
     "data": {
      "text/plain": [
       "array([ 0, 43,  0, 65, 11,  0,  0, 43,  0, 65, 11,  0])"
      ]
     },
     "execution_count": 564,
     "metadata": {},
     "output_type": "execute_result"
    }
   ],
   "source": [
    "# append value/array to numpy array\n",
    "temp = np.append(np1, 99)\n",
    "temp\n",
    "temp = np.append(np1, np1)\n",
    "temp"
   ]
  },
  {
   "cell_type": "code",
   "execution_count": 575,
   "metadata": {},
   "outputs": [
    {
     "name": "stdout",
     "output_type": "stream",
     "text": [
      "[ 0 43  0 65 11  0]\n",
      "[ 0 43]\n",
      "[11 65]\n"
     ]
    }
   ],
   "source": [
    "# remove value/array from numpy array\n",
    "print(np1)\n",
    "t1 = np1[0:2]\n",
    "print(t1)\n",
    "temp = np.setdiff1d(np1, t1)\n",
    "print(temp)"
   ]
  },
  {
   "cell_type": "code",
   "execution_count": 555,
   "metadata": {},
   "outputs": [
    {
     "data": {
      "text/plain": [
       "array([[ 0, 43,  0, 65, 11,  0],\n",
       "       [ 0, 43,  0, 65, 11,  0]])"
      ]
     },
     "execution_count": 555,
     "metadata": {},
     "output_type": "execute_result"
    }
   ],
   "source": [
    "# create 2D array from 1D arrays:\n",
    "temp = np.array([np1, np1])\n",
    "temp"
   ]
  },
  {
   "cell_type": "code",
   "execution_count": 559,
   "metadata": {},
   "outputs": [
    {
     "name": "stdout",
     "output_type": "stream",
     "text": [
      "[[34  0 43  0]\n",
      " [ 0  0 75  0]\n",
      " [ 0  2  0  0]\n",
      " [ 0  0  0  0]]\n",
      "[[34  0  0  0]\n",
      " [ 0  0  2  0]\n",
      " [43 75  0  0]\n",
      " [ 0  0  0  0]]\n"
     ]
    }
   ],
   "source": [
    "# transpose array\n",
    "print(np2)\n",
    "print(np2.T)"
   ]
  },
  {
   "cell_type": "code",
   "execution_count": 561,
   "metadata": {},
   "outputs": [
    {
     "data": {
      "text/plain": [
       "array([34,  0, 43,  0])"
      ]
     },
     "execution_count": 561,
     "metadata": {},
     "output_type": "execute_result"
    }
   ],
   "source": [
    "# access 1st column of 2D array\n",
    "np2[:,0]\n",
    "# access 1st row of 2D array\n",
    "np2[0,:]"
   ]
  },
  {
   "cell_type": "markdown",
   "metadata": {},
   "source": [
    "####################################################\n",
    "############## Others\n",
    "####################################################"
   ]
  },
  {
   "cell_type": "code",
   "execution_count": 596,
   "metadata": {},
   "outputs": [
    {
     "name": "stdout",
     "output_type": "stream",
     "text": [
      "    Name  Age        Date\n",
      "0    tom   10  23-12-1983\n",
      "1   nick   15   25-7-1999\n",
      "2  julie   14  26-11-1985\n",
      "3  annie   18   12-3-1978\n"
     ]
    }
   ],
   "source": [
    "# create dataframe\n",
    "import pandas as pd \n",
    "data = [['tom', 10, '23-12-1983'], ['nick', 15, '25-7-1999'], \n",
    "        ['julie', 14, '26-11-1985'], ['annie', 18, '12-3-1978']]\n",
    "df = pd.DataFrame(data, columns = ['Name', 'Age', 'Date']) \n",
    "print(df)"
   ]
  },
  {
   "cell_type": "code",
   "execution_count": 597,
   "metadata": {},
   "outputs": [
    {
     "data": {
      "text/plain": [
       "0   1983-12-23\n",
       "1   1999-07-25\n",
       "2   1985-11-26\n",
       "3   1978-12-03\n",
       "Name: Date, dtype: datetime64[ns]"
      ]
     },
     "execution_count": 597,
     "metadata": {},
     "output_type": "execute_result"
    }
   ],
   "source": [
    "# convert string column to date type\n",
    "import datetime\n",
    "df['Date'] = pd.to_datetime(df['Date'])\n",
    "df['Date']"
   ]
  },
  {
   "cell_type": "code",
   "execution_count": 598,
   "metadata": {},
   "outputs": [
    {
     "data": {
      "text/plain": [
       "0    23\n",
       "1    25\n",
       "2    26\n",
       "3     3\n",
       "Name: Date, dtype: int64"
      ]
     },
     "execution_count": 598,
     "metadata": {},
     "output_type": "execute_result"
    }
   ],
   "source": [
    "# get year/month/day info from date variable\n",
    "df['Date'].dt.year\n",
    "df['Date'].dt.month\n",
    "df['Date'].dt.day"
   ]
  },
  {
   "cell_type": "code",
   "execution_count": 602,
   "metadata": {},
   "outputs": [
    {
     "data": {
      "text/html": [
       "<div>\n",
       "<style scoped>\n",
       "    .dataframe tbody tr th:only-of-type {\n",
       "        vertical-align: middle;\n",
       "    }\n",
       "\n",
       "    .dataframe tbody tr th {\n",
       "        vertical-align: top;\n",
       "    }\n",
       "\n",
       "    .dataframe thead th {\n",
       "        text-align: right;\n",
       "    }\n",
       "</style>\n",
       "<table border=\"1\" class=\"dataframe\">\n",
       "  <thead>\n",
       "    <tr style=\"text-align: right;\">\n",
       "      <th></th>\n",
       "      <th>Name</th>\n",
       "      <th>Age</th>\n",
       "      <th>Date</th>\n",
       "    </tr>\n",
       "    <tr>\n",
       "      <th>Date</th>\n",
       "      <th></th>\n",
       "      <th></th>\n",
       "      <th></th>\n",
       "    </tr>\n",
       "  </thead>\n",
       "  <tbody>\n",
       "    <tr>\n",
       "      <th>1999-07-25</th>\n",
       "      <td>nick</td>\n",
       "      <td>15</td>\n",
       "      <td>1999-07-25</td>\n",
       "    </tr>\n",
       "  </tbody>\n",
       "</table>\n",
       "</div>"
      ],
      "text/plain": [
       "            Name  Age       Date\n",
       "Date                            \n",
       "1999-07-25  nick   15 1999-07-25"
      ]
     },
     "execution_count": 602,
     "metadata": {},
     "output_type": "execute_result"
    }
   ],
   "source": [
    "\n",
    "temp = df.copy()\n",
    "temp.index = temp['Date']\n",
    "temp['1999']"
   ]
  },
  {
   "cell_type": "code",
   "execution_count": 604,
   "metadata": {},
   "outputs": [
    {
     "data": {
      "text/html": [
       "<div>\n",
       "<style scoped>\n",
       "    .dataframe tbody tr th:only-of-type {\n",
       "        vertical-align: middle;\n",
       "    }\n",
       "\n",
       "    .dataframe tbody tr th {\n",
       "        vertical-align: top;\n",
       "    }\n",
       "\n",
       "    .dataframe thead th {\n",
       "        text-align: right;\n",
       "    }\n",
       "</style>\n",
       "<table border=\"1\" class=\"dataframe\">\n",
       "  <thead>\n",
       "    <tr style=\"text-align: right;\">\n",
       "      <th></th>\n",
       "      <th>Name</th>\n",
       "      <th>Age</th>\n",
       "      <th>Date</th>\n",
       "    </tr>\n",
       "  </thead>\n",
       "  <tbody>\n",
       "    <tr>\n",
       "      <th>0</th>\n",
       "      <td>tom</td>\n",
       "      <td>10</td>\n",
       "      <td>1983-12-23</td>\n",
       "    </tr>\n",
       "    <tr>\n",
       "      <th>1</th>\n",
       "      <td>nick</td>\n",
       "      <td>15</td>\n",
       "      <td>1999-07-25</td>\n",
       "    </tr>\n",
       "    <tr>\n",
       "      <th>2</th>\n",
       "      <td>julie</td>\n",
       "      <td>14</td>\n",
       "      <td>1985-11-26</td>\n",
       "    </tr>\n",
       "  </tbody>\n",
       "</table>\n",
       "</div>"
      ],
      "text/plain": [
       "    Name  Age       Date\n",
       "0    tom   10 1983-12-23\n",
       "1   nick   15 1999-07-25\n",
       "2  julie   14 1985-11-26"
      ]
     },
     "execution_count": 604,
     "metadata": {},
     "output_type": "execute_result"
    }
   ],
   "source": [
    "temp = df.loc[df['Date']>'1980-07-24', :]\n",
    "temp"
   ]
  },
  {
   "cell_type": "code",
   "execution_count": 616,
   "metadata": {},
   "outputs": [
    {
     "data": {
      "text/html": [
       "<div>\n",
       "<style scoped>\n",
       "    .dataframe tbody tr th:only-of-type {\n",
       "        vertical-align: middle;\n",
       "    }\n",
       "\n",
       "    .dataframe tbody tr th {\n",
       "        vertical-align: top;\n",
       "    }\n",
       "\n",
       "    .dataframe thead th {\n",
       "        text-align: right;\n",
       "    }\n",
       "</style>\n",
       "<table border=\"1\" class=\"dataframe\">\n",
       "  <thead>\n",
       "    <tr style=\"text-align: right;\">\n",
       "      <th></th>\n",
       "      <th>Name</th>\n",
       "      <th>Age</th>\n",
       "      <th>Date</th>\n",
       "    </tr>\n",
       "  </thead>\n",
       "  <tbody>\n",
       "    <tr>\n",
       "      <th>0</th>\n",
       "      <td>tom</td>\n",
       "      <td>10</td>\n",
       "      <td>1983-12-23</td>\n",
       "    </tr>\n",
       "    <tr>\n",
       "      <th>1</th>\n",
       "      <td>nick</td>\n",
       "      <td>15</td>\n",
       "      <td>1999-07-25</td>\n",
       "    </tr>\n",
       "    <tr>\n",
       "      <th>2</th>\n",
       "      <td>julie</td>\n",
       "      <td>14</td>\n",
       "      <td>1985-11-26</td>\n",
       "    </tr>\n",
       "    <tr>\n",
       "      <th>3</th>\n",
       "      <td>annie</td>\n",
       "      <td>18</td>\n",
       "      <td>1978-12-03</td>\n",
       "    </tr>\n",
       "  </tbody>\n",
       "</table>\n",
       "</div>"
      ],
      "text/plain": [
       "    Name  Age       Date\n",
       "0    tom   10 1983-12-23\n",
       "1   nick   15 1999-07-25\n",
       "2  julie   14 1985-11-26\n",
       "3  annie   18 1978-12-03"
      ]
     },
     "execution_count": 616,
     "metadata": {},
     "output_type": "execute_result"
    }
   ],
   "source": [
    "df"
   ]
  },
  {
   "cell_type": "code",
   "execution_count": null,
   "metadata": {},
   "outputs": [],
   "source": []
  },
  {
   "cell_type": "code",
   "execution_count": null,
   "metadata": {},
   "outputs": [],
   "source": []
  },
  {
   "cell_type": "code",
   "execution_count": null,
   "metadata": {},
   "outputs": [],
   "source": []
  },
  {
   "cell_type": "code",
   "execution_count": null,
   "metadata": {},
   "outputs": [],
   "source": []
  },
  {
   "cell_type": "code",
   "execution_count": null,
   "metadata": {},
   "outputs": [],
   "source": []
  },
  {
   "cell_type": "code",
   "execution_count": null,
   "metadata": {},
   "outputs": [],
   "source": []
  },
  {
   "cell_type": "code",
   "execution_count": null,
   "metadata": {},
   "outputs": [],
   "source": []
  },
  {
   "cell_type": "code",
   "execution_count": null,
   "metadata": {},
   "outputs": [],
   "source": []
  },
  {
   "cell_type": "code",
   "execution_count": null,
   "metadata": {},
   "outputs": [],
   "source": []
  },
  {
   "cell_type": "code",
   "execution_count": null,
   "metadata": {},
   "outputs": [],
   "source": []
  }
 ],
 "metadata": {
  "kernelspec": {
   "display_name": "Python 3",
   "language": "python",
   "name": "python3"
  },
  "language_info": {
   "codemirror_mode": {
    "name": "ipython",
    "version": 3
   },
   "file_extension": ".py",
   "mimetype": "text/x-python",
   "name": "python",
   "nbconvert_exporter": "python",
   "pygments_lexer": "ipython3",
   "version": "3.6.6"
  }
 },
 "nbformat": 4,
 "nbformat_minor": 2
}
