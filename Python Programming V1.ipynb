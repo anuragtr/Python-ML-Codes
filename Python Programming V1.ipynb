{
 "cells": [
  {
   "cell_type": "code",
   "execution_count": 504,
   "metadata": {},
   "outputs": [],
   "source": [
    "import pandas as pd\n",
    "import numpy as np"
   ]
  },
  {
   "cell_type": "markdown",
   "metadata": {},
   "source": [
    "####################################################\n",
    "################### Regular Class ####################\n",
    "####################################################"
   ]
  },
  {
   "cell_type": "code",
   "execution_count": null,
   "metadata": {},
   "outputs": [],
   "source": [
    "### instance/class variables and method"
   ]
  },
  {
   "cell_type": "code",
   "execution_count": null,
   "metadata": {},
   "outputs": [],
   "source": [
    "### Practice by coding before interview"
   ]
  },
  {
   "cell_type": "code",
   "execution_count": 1,
   "metadata": {},
   "outputs": [],
   "source": [
    "class drink:\n",
    "    \n",
    "    \"\"\" class variables\"\"\"\n",
    "    form = 'liquid'\n",
    "    served_as = 'cold'\n",
    "    \n",
    "    def __init__(self, is_alcoholic, alc_content, color):\n",
    "        self.is_alcoholic = is_alcoholic\n",
    "        self.alc_content = alc_content\n",
    "        self.color = color\n",
    "    \n",
    "    def inc_alc_content(self, val):\n",
    "        self.alc_content += val\n",
    "    \n",
    "    def change_served_as(self, val):\n",
    "        self.served_as = val\n",
    "    \n",
    "    \"\"\"class method\"\"\"\n",
    "    @classmethod # decorator\n",
    "    def cl_change_served_as(cls, val):\n",
    "        cls.served_as = val\n",
    "        "
   ]
  },
  {
   "cell_type": "code",
   "execution_count": null,
   "metadata": {},
   "outputs": [],
   "source": []
  },
  {
   "cell_type": "code",
   "execution_count": null,
   "metadata": {},
   "outputs": [],
   "source": []
  },
  {
   "cell_type": "code",
   "execution_count": null,
   "metadata": {},
   "outputs": [],
   "source": [
    "class testMOD(object):\n",
    "    def testFunc(self, variable):\n",
    "        var = variable\n",
    "        self.something = var + 12\n",
    "        print('Original:', self.something)\n",
    "\n",
    "def alternativeFunc1(self, variable):\n",
    "    var = variable\n",
    "    self.something = var + 1.2\n",
    "    print('Alternative1:', self.something)\n",
    "\n",
    "mytest1 = testMOD()\n",
    "mytest1.testFunc(10)   # Original: 22\n",
    "\n",
    "mytest1.testFunc = alternativeFunc1.__get__(mytest1, testMOD)\n",
    "mytest1.testFunc(10)   # Alternative1: 11.2\n",
    "mytestX = testMOD()\n",
    "mytestX.testFunc(10)   # Original: 22"
   ]
  },
  {
   "cell_type": "code",
   "execution_count": null,
   "metadata": {},
   "outputs": [],
   "source": []
  },
  {
   "cell_type": "code",
   "execution_count": 772,
   "metadata": {},
   "outputs": [
    {
     "name": "stdout",
     "output_type": "stream",
     "text": [
      "6\n"
     ]
    }
   ],
   "source": []
  },
  {
   "cell_type": "code",
   "execution_count": 778,
   "metadata": {},
   "outputs": [
    {
     "name": "stdout",
     "output_type": "stream",
     "text": [
      "2\n",
      "1\n"
     ]
    }
   ],
   "source": []
  },
  {
   "cell_type": "code",
   "execution_count": 774,
   "metadata": {},
   "outputs": [],
   "source": []
  },
  {
   "cell_type": "code",
   "execution_count": 775,
   "metadata": {},
   "outputs": [],
   "source": []
  },
  {
   "cell_type": "code",
   "execution_count": 776,
   "metadata": {},
   "outputs": [
    {
     "name": "stdout",
     "output_type": "stream",
     "text": [
      "4\n"
     ]
    }
   ],
   "source": []
  },
  {
   "cell_type": "code",
   "execution_count": 765,
   "metadata": {},
   "outputs": [],
   "source": []
  },
  {
   "cell_type": "code",
   "execution_count": null,
   "metadata": {},
   "outputs": [],
   "source": []
  },
  {
   "cell_type": "code",
   "execution_count": null,
   "metadata": {},
   "outputs": [],
   "source": []
  },
  {
   "cell_type": "code",
   "execution_count": null,
   "metadata": {},
   "outputs": [],
   "source": []
  },
  {
   "cell_type": "code",
   "execution_count": 753,
   "metadata": {},
   "outputs": [
    {
     "name": "stdout",
     "output_type": "stream",
     "text": [
      "4\n",
      "5\n",
      "{'is_alcoholic': 'y', 'alc_content': 5, 'color': 'golden'}\n",
      "42\n"
     ]
    }
   ],
   "source": [
    "# create instance, access instance vars and methods\n",
    "beer = drink('y', 4, 'golden')\n",
    "print(beer.alc_content)\n",
    "beer.inc_alc_content(1)\n",
    "print(beer.alc_content)\n",
    "print(beer.__dict__) # access all vars, methods of instance\n",
    "\n",
    "whisky = drink('y', 42, 'golden')\n",
    "print(whisky.alc_content)"
   ]
  },
  {
   "cell_type": "code",
   "execution_count": 103,
   "metadata": {},
   "outputs": [
    {
     "name": "stdout",
     "output_type": "stream",
     "text": [
      "{'is_alcoholic': 'y', 'alc_content': 5, 'color': 'golden'}\n",
      "Help on class drink in module __main__:\n",
      "\n",
      "class drink(builtins.object)\n",
      " |  class variables\n",
      " |  \n",
      " |  Methods defined here:\n",
      " |  \n",
      " |  __init__(self, is_alcoholic, alc_content, color)\n",
      " |      Initialize self.  See help(type(self)) for accurate signature.\n",
      " |  \n",
      " |  change_served_as(self, val)\n",
      " |  \n",
      " |  inc_alc_content(self, val)\n",
      " |  \n",
      " |  ----------------------------------------------------------------------\n",
      " |  Class methods defined here:\n",
      " |  \n",
      " |  cl_change_served_as(val) from builtins.type\n",
      " |  \n",
      " |  ----------------------------------------------------------------------\n",
      " |  Data descriptors defined here:\n",
      " |  \n",
      " |  __dict__\n",
      " |      dictionary for instance variables (if defined)\n",
      " |  \n",
      " |  __weakref__\n",
      " |      list of weak references to the object (if defined)\n",
      " |  \n",
      " |  ----------------------------------------------------------------------\n",
      " |  Data and other attributes defined here:\n",
      " |  \n",
      " |  form = 'liquid'\n",
      " |  \n",
      " |  served_as = 'cold'\n",
      "\n",
      "None\n"
     ]
    }
   ],
   "source": [
    "# see details of class and instance\n",
    "print(beer.__dict__)\n",
    "print(help(drink))"
   ]
  },
  {
   "cell_type": "code",
   "execution_count": 104,
   "metadata": {},
   "outputs": [
    {
     "name": "stdout",
     "output_type": "stream",
     "text": [
      "cold\n",
      "cold\n"
     ]
    }
   ],
   "source": [
    "# access class variables\n",
    "print(drink.served_as)\n",
    "print(beer.served_as)"
   ]
  },
  {
   "cell_type": "code",
   "execution_count": 105,
   "metadata": {},
   "outputs": [
    {
     "name": "stdout",
     "output_type": "stream",
     "text": [
      "very cold\n",
      "cold\n"
     ]
    }
   ],
   "source": [
    "# change 'class var' for 1 instance only\n",
    "beer.change_served_as('very cold') # called using 'class name'\n",
    "print(beer.served_as)\n",
    "print(whisky.served_as)"
   ]
  },
  {
   "cell_type": "code",
   "execution_count": 106,
   "metadata": {},
   "outputs": [
    {
     "name": "stdout",
     "output_type": "stream",
     "text": [
      "very cold\n",
      "chilled\n"
     ]
    }
   ],
   "source": [
    "# change 'class var' using 'class method'\n",
    "drink.cl_change_served_as('chilled')\n",
    "print(beer.served_as) # since 'served_as' was set for beer, it didn't change\n",
    "print(whisky.served_as)"
   ]
  },
  {
   "cell_type": "markdown",
   "metadata": {},
   "source": [
    "####################################################\n",
    "############## Function Over-ride #################\n",
    "####################################################"
   ]
  },
  {
   "cell_type": "code",
   "execution_count": 780,
   "metadata": {},
   "outputs": [
    {
     "name": "stdout",
     "output_type": "stream",
     "text": [
      "0\n",
      "-1\n"
     ]
    }
   ],
   "source": [
    "# Over-ride an existing function for an object\n",
    "print(beer.alc_content)\n",
    "def dec_dec(self, val): # reduce alc_content\n",
    "    self.alc_content -= val\n",
    "beer.inc_alc_content = dec_dec.__get__(beer, drink) # over-ride inc function with dec\n",
    "beer.inc_alc_content(1)\n",
    "print(beer.alc_content)"
   ]
  },
  {
   "cell_type": "code",
   "execution_count": null,
   "metadata": {},
   "outputs": [],
   "source": []
  },
  {
   "cell_type": "markdown",
   "metadata": {},
   "source": [
    "####################################################\n",
    "#################### Inheritance #####################\n",
    "####################################################"
   ]
  },
  {
   "cell_type": "code",
   "execution_count": 177,
   "metadata": {},
   "outputs": [],
   "source": [
    "class juice(drink):\n",
    "    \n",
    "    served_as = 'normal' # over-writes 'drink' cls variable\n",
    "    is_packed = 'y'\n",
    "    \n",
    "    def __init__(self, is_alcoholic, alc_content, color, preservative):\n",
    "        super().__init__(is_alcoholic, alc_content, color)\n",
    "#         drink.__init__(self, is_alcoholic, alc_content, color) # works same as 'super()'\n",
    "        self.preservative = {preservative} # set to maintain unique items\n",
    "    \n",
    "    def add_preservative(self, p):\n",
    "        self.preservative.add(p)\n",
    "        \n",
    "    def remove_preservative(self, p):\n",
    "        self.preservative = self.preservative.difference({p})"
   ]
  },
  {
   "cell_type": "code",
   "execution_count": 178,
   "metadata": {},
   "outputs": [
    {
     "name": "stdout",
     "output_type": "stream",
     "text": [
      "normal\n",
      "{'p2'}\n",
      "{'p27', 'p23', 'p2'}\n",
      "{'p27', 'p2'}\n"
     ]
    }
   ],
   "source": [
    "# create instance of sub-class; use sub-class vars and methods\n",
    "orange_juice = juice('n', 0, 'orange','p2')\n",
    "print(orange_juice.served_as)\n",
    "print(orange_juice.preservative)\n",
    "\n",
    "orange_juice.add_preservative('p23')\n",
    "orange_juice.add_preservative('p27')\n",
    "orange_juice.add_preservative('p23')\n",
    "print(orange_juice.preservative)\n",
    "\n",
    "orange_juice.remove_preservative('p23')\n",
    "print(orange_juice.preservative)"
   ]
  },
  {
   "cell_type": "markdown",
   "metadata": {},
   "source": [
    "####################################################\n",
    "####### Magic/Dunder/Special Method, Operator Overloading\n",
    "####################################################"
   ]
  },
  {
   "cell_type": "code",
   "execution_count": 243,
   "metadata": {},
   "outputs": [],
   "source": [
    "# 'dunder init' or '__init__' is the most common dunder method"
   ]
  },
  {
   "cell_type": "code",
   "execution_count": 261,
   "metadata": {},
   "outputs": [],
   "source": [
    "class mocktails(drink):\n",
    "    \n",
    "    def __init__(self, is_alcoholic, alc_content, color, flavor):\n",
    "        super().__init__(is_alcoholic, alc_content, color)\n",
    "        self.flavor = flavor\n",
    "        \n",
    "    def __repr__(self): # for developers - unambiguous representation\n",
    "        return (str(self.__dict__)) # repr() should return string\n",
    "        \n",
    "    def __str__(self): # for users\n",
    "        return (\"It is a drink with {}% alcohol content and flavor of '{}'\".format(\n",
    "            self.alc_content, self.flavor)) # str() should return string\n",
    "    \n",
    "    def __add__(self, other):\n",
    "        return (self.alc_content + other.alc_content)\n",
    "    \n",
    "#     def __alc__(self): # won't work as __alc__ is not predifined special method\n",
    "#         return (self.alc_content)\n",
    "    \n",
    "    def __len__(self):\n",
    "        return (self.alc_content)"
   ]
  },
  {
   "cell_type": "code",
   "execution_count": 262,
   "metadata": {},
   "outputs": [
    {
     "name": "stdout",
     "output_type": "stream",
     "text": [
      "{'is_alcoholic': 'n', 'alc_content': 0, 'color': 'no color', 'flavor': 'mint'}\n",
      "It is a drink with 0% alcohol content and flavor of 'mint'\n"
     ]
    }
   ],
   "source": [
    "virgin_mojito = mocktails('n', 0, 'no color', 'mint')\n",
    "print(repr(virgin_mojito))\n",
    "# virgin_mojito.__repr__() # same as repr()\n",
    "print(str(virgin_mojito))\n",
    "# virgin_mojito.__str__() # same as str()"
   ]
  },
  {
   "cell_type": "code",
   "execution_count": 263,
   "metadata": {},
   "outputs": [
    {
     "name": "stdout",
     "output_type": "stream",
     "text": [
      "8\n"
     ]
    }
   ],
   "source": [
    "mojito = mocktails('y', 8, 'no color', 'mint')\n",
    "print(virgin_mojito + mojito) # returns added 'acl_content' of 2 drinks"
   ]
  },
  {
   "cell_type": "code",
   "execution_count": 264,
   "metadata": {},
   "outputs": [
    {
     "name": "stdout",
     "output_type": "stream",
     "text": [
      "0\n"
     ]
    }
   ],
   "source": [
    "# print(alc(virgin_mojito)) # won't work as __alc__ is not predifined special method\n",
    "print(len(virgin_mojito)) # alternate way to get alc_content using __len__ special method"
   ]
  },
  {
   "cell_type": "code",
   "execution_count": 265,
   "metadata": {},
   "outputs": [],
   "source": [
    "# Other 'special' methods\n",
    "     # https://docs.python.org/3/reference/datamodel.html#special-method-names\n",
    "# other examples: __len__, __del__"
   ]
  },
  {
   "cell_type": "code",
   "execution_count": 266,
   "metadata": {},
   "outputs": [
    {
     "name": "stdout",
     "output_type": "stream",
     "text": [
      "this is the main program\n"
     ]
    }
   ],
   "source": [
    "# another special method '__name__'\n",
    "if __name__ == '__main__': \n",
    "    print('this is the main program')"
   ]
  },
  {
   "cell_type": "markdown",
   "metadata": {},
   "source": [
    "####################################################\n",
    "####### Property Decorator - Getter/Setter/Deleter\n",
    "####################################################"
   ]
  },
  {
   "cell_type": "code",
   "execution_count": 371,
   "metadata": {},
   "outputs": [],
   "source": [
    "class car:\n",
    "    \n",
    "    def __init__(self, brand, model, latest_price):\n",
    "        self.brand = brand\n",
    "        self.model = model\n",
    "        self.__latest_price = latest_price # __ means stay away from; used instead of private\n",
    "#         self.price = price # can't use while using 'getter' below\n",
    "    \n",
    "    @property # getter\n",
    "    def price(self):\n",
    "        price = self.__latest_price\n",
    "        return(price)\n",
    "    \n",
    "    @price.setter # setter \n",
    "    def price(self, p):\n",
    "        if p > 5000000:\n",
    "            print('Cannot set this price') # this is the benefit of property decorator\n",
    "        else:\n",
    "            self.__latest_price = p\n",
    "            return self.__latest_price\n",
    "    \n",
    "    @price.deleter # deleter\n",
    "    def price(self):\n",
    "        self.__latest_price = None\n",
    "        return self.__latest_price"
   ]
  },
  {
   "cell_type": "code",
   "execution_count": 372,
   "metadata": {},
   "outputs": [
    {
     "data": {
      "text/plain": [
       "4200000"
      ]
     },
     "execution_count": 372,
     "metadata": {},
     "output_type": "execute_result"
    }
   ],
   "source": [
    "# using 'getter'\n",
    "bmw_c_series = car('BMW', 'C_Series', 4200000)\n",
    "bmw_c_series.__dict__\n",
    "bmw_c_series.price # getter"
   ]
  },
  {
   "cell_type": "code",
   "execution_count": 375,
   "metadata": {},
   "outputs": [
    {
     "name": "stdout",
     "output_type": "stream",
     "text": [
      "4500000\n",
      "Cannot set this price\n",
      "4500000\n"
     ]
    }
   ],
   "source": [
    "# using 'setter'\n",
    "bmw_c_series.price = 4500000\n",
    "print(bmw_c_series.price)\n",
    "\n",
    "# using 'setter'\n",
    "bmw_c_series.price = 5100000 \n",
    "print(bmw_c_series.price)"
   ]
  },
  {
   "cell_type": "code",
   "execution_count": 335,
   "metadata": {},
   "outputs": [],
   "source": [
    "# using 'deleter'\n",
    "del bmw_c_series.price\n",
    "bmw_c_series.price"
   ]
  },
  {
   "cell_type": "code",
   "execution_count": null,
   "metadata": {},
   "outputs": [],
   "source": [
    "# benefits: can avoid someone from setting a variable to a particular value"
   ]
  },
  {
   "cell_type": "markdown",
   "metadata": {},
   "source": [
    "####################################################\n",
    "####### Decorator - Changes behaviour of function\n",
    "####################################################"
   ]
  },
  {
   "cell_type": "code",
   "execution_count": null,
   "metadata": {},
   "outputs": [],
   "source": [
    "# ref: https://www.geeksforgeeks.org/decorators-in-python/"
   ]
  },
  {
   "cell_type": "code",
   "execution_count": null,
   "metadata": {},
   "outputs": [],
   "source": []
  },
  {
   "cell_type": "code",
   "execution_count": null,
   "metadata": {},
   "outputs": [],
   "source": []
  },
  {
   "cell_type": "markdown",
   "metadata": {},
   "source": [
    "####################################################\n",
    "############## args & kwargs\n",
    "####################################################"
   ]
  },
  {
   "cell_type": "code",
   "execution_count": null,
   "metadata": {},
   "outputs": [],
   "source": []
  },
  {
   "cell_type": "code",
   "execution_count": null,
   "metadata": {},
   "outputs": [],
   "source": []
  },
  {
   "cell_type": "code",
   "execution_count": null,
   "metadata": {},
   "outputs": [],
   "source": []
  },
  {
   "cell_type": "markdown",
   "metadata": {},
   "source": [
    "####################################################\n",
    "############## List Comprehension / Dict Comprehensio\n",
    "####################################################"
   ]
  },
  {
   "cell_type": "code",
   "execution_count": 380,
   "metadata": {},
   "outputs": [
    {
     "data": {
      "text/plain": [
       "[4, 8]"
      ]
     },
     "execution_count": 380,
     "metadata": {},
     "output_type": "execute_result"
    }
   ],
   "source": [
    "# List Comprehension - faster than for loops\n",
    "xx = [1, 2, 3, 4]\n",
    "yy = [x*2 for x in xx if x%2==0] # double the even numbers\n",
    "yy"
   ]
  },
  {
   "cell_type": "code",
   "execution_count": 386,
   "metadata": {},
   "outputs": [
    {
     "data": {
      "text/plain": [
       "{'k2': 44}"
      ]
     },
     "execution_count": 386,
     "metadata": {},
     "output_type": "execute_result"
    }
   ],
   "source": [
    "# Dict Comprehension - faster than for loops\n",
    "xx = {'k1':23, 'k2':44}\n",
    "yy = {k:v for (k,v) in zip(xx.keys(), xx.values()) if v>30}\n",
    "yy"
   ]
  },
  {
   "cell_type": "code",
   "execution_count": null,
   "metadata": {},
   "outputs": [],
   "source": []
  },
  {
   "cell_type": "code",
   "execution_count": null,
   "metadata": {},
   "outputs": [],
   "source": []
  },
  {
   "cell_type": "code",
   "execution_count": null,
   "metadata": {},
   "outputs": [],
   "source": []
  },
  {
   "cell_type": "code",
   "execution_count": null,
   "metadata": {},
   "outputs": [],
   "source": []
  },
  {
   "cell_type": "code",
   "execution_count": null,
   "metadata": {},
   "outputs": [],
   "source": []
  },
  {
   "cell_type": "code",
   "execution_count": null,
   "metadata": {},
   "outputs": [],
   "source": []
  },
  {
   "cell_type": "markdown",
   "metadata": {},
   "source": [
    "####################################################\n",
    "############## Dataframe Operations (Pandas)\n",
    "####################################################"
   ]
  },
  {
   "cell_type": "code",
   "execution_count": 665,
   "metadata": {},
   "outputs": [
    {
     "name": "stdout",
     "output_type": "stream",
     "text": [
      "    Name  Age  Height\n",
      "0    tom   10     6.1\n",
      "1   nick   15     5.8\n",
      "2  julie   14     5.7\n",
      "3  annie   15     5.4\n",
      "     Name  Age  Height\n",
      "0     tom   10     6.1\n",
      "1    nick   15     5.8\n",
      "2  arnold   11     5.6\n",
      "3     sam   13     5.7\n",
      "    Name  Age  Height\n",
      "0    tom   10     6.1\n",
      "1   nick   15     5.8\n",
      "2   None   14     5.7\n",
      "3  annie   15     NaN\n"
     ]
    }
   ],
   "source": [
    "# create dataframe\n",
    "import pandas as pd \n",
    "data = [['tom', 10, 6.1], ['nick', 15, 5.8], ['julie', 14, 5.7], ['annie', 15, 5.4]] \n",
    "df = pd.DataFrame(data, columns = ['Name', 'Age', 'Height']) \n",
    "print(df)\n",
    "\n",
    "import pandas as pd \n",
    "data = [['tom', 10, 6.1], ['nick', 15, 5.8], ['arnold', 11, 5.6], ['sam', 13, 5.7]] \n",
    "dff = pd.DataFrame(data, columns = ['Name', 'Age', 'Height']) \n",
    "print(dff)\n",
    "\n",
    "# create dataframe (with Nulls)\n",
    "import pandas as pd \n",
    "data = [['tom', 10, 6.1], ['nick', 15, 5.8], [None, 14, 5.7], ['annie', 15, None]] \n",
    "dfx = pd.DataFrame(data, columns = ['Name', 'Age', 'Height']) \n",
    "print(dfx)"
   ]
  },
  {
   "cell_type": "code",
   "execution_count": 616,
   "metadata": {},
   "outputs": [
    {
     "data": {
      "text/plain": [
       "15"
      ]
     },
     "execution_count": 616,
     "metadata": {},
     "output_type": "execute_result"
    }
   ],
   "source": [
    "# access columns, rows and cells\n",
    "# cols\n",
    "df['Height'] # col by name\n",
    "df[['Name','Height']] # cols by name\n",
    "df.iloc[:,1] # col by location (uses index)\n",
    "df.iloc[:,0:2] # cols by location (uses index)\n",
    "# rows\n",
    "df.iloc[1,:] # row by location\n",
    "df.iloc[0:2,:] # rows by location\n",
    "df[0:2] # rows by location\n",
    "# cell\n",
    "df['Height'][1] # cell by name\n",
    "df.iat[1,1] # cell by location (uses position, not index)"
   ]
  },
  {
   "cell_type": "code",
   "execution_count": 408,
   "metadata": {},
   "outputs": [
    {
     "data": {
      "text/html": [
       "<div>\n",
       "<style scoped>\n",
       "    .dataframe tbody tr th:only-of-type {\n",
       "        vertical-align: middle;\n",
       "    }\n",
       "\n",
       "    .dataframe tbody tr th {\n",
       "        vertical-align: top;\n",
       "    }\n",
       "\n",
       "    .dataframe thead th {\n",
       "        text-align: right;\n",
       "    }\n",
       "</style>\n",
       "<table border=\"1\" class=\"dataframe\">\n",
       "  <thead>\n",
       "    <tr style=\"text-align: right;\">\n",
       "      <th></th>\n",
       "      <th>Name</th>\n",
       "      <th>Age</th>\n",
       "      <th>Height</th>\n",
       "    </tr>\n",
       "  </thead>\n",
       "  <tbody>\n",
       "    <tr>\n",
       "      <th>1</th>\n",
       "      <td>nick</td>\n",
       "      <td>15</td>\n",
       "      <td>5.8</td>\n",
       "    </tr>\n",
       "    <tr>\n",
       "      <th>3</th>\n",
       "      <td>annie</td>\n",
       "      <td>15</td>\n",
       "      <td>5.4</td>\n",
       "    </tr>\n",
       "    <tr>\n",
       "      <th>2</th>\n",
       "      <td>juli</td>\n",
       "      <td>14</td>\n",
       "      <td>5.7</td>\n",
       "    </tr>\n",
       "    <tr>\n",
       "      <th>0</th>\n",
       "      <td>tom</td>\n",
       "      <td>10</td>\n",
       "      <td>6.1</td>\n",
       "    </tr>\n",
       "  </tbody>\n",
       "</table>\n",
       "</div>"
      ],
      "text/plain": [
       "    Name  Age  Height\n",
       "1   nick   15     5.8\n",
       "3  annie   15     5.4\n",
       "2   juli   14     5.7\n",
       "0    tom   10     6.1"
      ]
     },
     "execution_count": 408,
     "metadata": {},
     "output_type": "execute_result"
    }
   ],
   "source": [
    "# sort\n",
    "df.sort_values(['Age', 'Height'], ascending=[False, False])"
   ]
  },
  {
   "cell_type": "code",
   "execution_count": 709,
   "metadata": {},
   "outputs": [
    {
     "data": {
      "text/html": [
       "<div>\n",
       "<style scoped>\n",
       "    .dataframe tbody tr th:only-of-type {\n",
       "        vertical-align: middle;\n",
       "    }\n",
       "\n",
       "    .dataframe tbody tr th {\n",
       "        vertical-align: top;\n",
       "    }\n",
       "\n",
       "    .dataframe thead th {\n",
       "        text-align: right;\n",
       "    }\n",
       "</style>\n",
       "<table border=\"1\" class=\"dataframe\">\n",
       "  <thead>\n",
       "    <tr style=\"text-align: right;\">\n",
       "      <th></th>\n",
       "      <th>Name</th>\n",
       "      <th>Age</th>\n",
       "      <th>Height</th>\n",
       "    </tr>\n",
       "  </thead>\n",
       "  <tbody>\n",
       "    <tr>\n",
       "      <th>0</th>\n",
       "      <td>tom</td>\n",
       "      <td>10</td>\n",
       "      <td>6.1</td>\n",
       "    </tr>\n",
       "    <tr>\n",
       "      <th>2</th>\n",
       "      <td>julie</td>\n",
       "      <td>14</td>\n",
       "      <td>5.7</td>\n",
       "    </tr>\n",
       "  </tbody>\n",
       "</table>\n",
       "</div>"
      ],
      "text/plain": [
       "    Name  Age  Height\n",
       "0    tom   10     6.1\n",
       "2  julie   14     5.7"
      ]
     },
     "execution_count": 709,
     "metadata": {},
     "output_type": "execute_result"
    }
   ],
   "source": [
    "# drop duplicates\n",
    "df1 = df.drop_duplicates(['Name','Age'], keep='first')\n",
    "df1 = df.drop_duplicates(['Name','Age'], keep='last')\n",
    "df1 = df.drop_duplicates(['Age'], keep=False)\n",
    "df1"
   ]
  },
  {
   "cell_type": "code",
   "execution_count": 434,
   "metadata": {},
   "outputs": [
    {
     "data": {
      "text/html": [
       "<div>\n",
       "<style scoped>\n",
       "    .dataframe tbody tr th:only-of-type {\n",
       "        vertical-align: middle;\n",
       "    }\n",
       "\n",
       "    .dataframe tbody tr th {\n",
       "        vertical-align: top;\n",
       "    }\n",
       "\n",
       "    .dataframe thead th {\n",
       "        text-align: right;\n",
       "    }\n",
       "</style>\n",
       "<table border=\"1\" class=\"dataframe\">\n",
       "  <thead>\n",
       "    <tr style=\"text-align: right;\">\n",
       "      <th></th>\n",
       "      <th>Name</th>\n",
       "      <th>Age</th>\n",
       "      <th>Height</th>\n",
       "    </tr>\n",
       "  </thead>\n",
       "  <tbody>\n",
       "    <tr>\n",
       "      <th>0</th>\n",
       "      <td>tom</td>\n",
       "      <td>10</td>\n",
       "      <td>6.1</td>\n",
       "    </tr>\n",
       "    <tr>\n",
       "      <th>1</th>\n",
       "      <td>nick</td>\n",
       "      <td>16</td>\n",
       "      <td>6.0</td>\n",
       "    </tr>\n",
       "    <tr>\n",
       "      <th>2</th>\n",
       "      <td>julie</td>\n",
       "      <td>14</td>\n",
       "      <td>5.7</td>\n",
       "    </tr>\n",
       "    <tr>\n",
       "      <th>3</th>\n",
       "      <td>annie</td>\n",
       "      <td>15</td>\n",
       "      <td>5.4</td>\n",
       "    </tr>\n",
       "  </tbody>\n",
       "</table>\n",
       "</div>"
      ],
      "text/plain": [
       "    Name  Age  Height\n",
       "0    tom   10     6.1\n",
       "1   nick   16     6.0\n",
       "2  julie   14     5.7\n",
       "3  annie   15     5.4"
      ]
     },
     "execution_count": 434,
     "metadata": {},
     "output_type": "execute_result"
    }
   ],
   "source": [
    "# conditional replace in column\n",
    "df1 = df.copy()\n",
    "df1.loc[ (df1['Height']>5.7) & (df1['Age']>=15) , ['Age','Height']] = [16, 6.0]\n",
    "df1"
   ]
  },
  {
   "cell_type": "code",
   "execution_count": 749,
   "metadata": {},
   "outputs": [
    {
     "data": {
      "text/html": [
       "<div>\n",
       "<style scoped>\n",
       "    .dataframe tbody tr th:only-of-type {\n",
       "        vertical-align: middle;\n",
       "    }\n",
       "\n",
       "    .dataframe tbody tr th {\n",
       "        vertical-align: top;\n",
       "    }\n",
       "\n",
       "    .dataframe thead th {\n",
       "        text-align: right;\n",
       "    }\n",
       "</style>\n",
       "<table border=\"1\" class=\"dataframe\">\n",
       "  <thead>\n",
       "    <tr style=\"text-align: right;\">\n",
       "      <th></th>\n",
       "      <th>Name</th>\n",
       "      <th>Age</th>\n",
       "      <th>Height</th>\n",
       "    </tr>\n",
       "  </thead>\n",
       "  <tbody>\n",
       "    <tr>\n",
       "      <th>0</th>\n",
       "      <td>tom</td>\n",
       "      <td>10</td>\n",
       "      <td>6.1</td>\n",
       "    </tr>\n",
       "    <tr>\n",
       "      <th>1</th>\n",
       "      <td>nick</td>\n",
       "      <td>15</td>\n",
       "      <td>5.8</td>\n",
       "    </tr>\n",
       "  </tbody>\n",
       "</table>\n",
       "</div>"
      ],
      "text/plain": [
       "   Name  Age  Height\n",
       "0   tom   10     6.1\n",
       "1  nick   15     5.8"
      ]
     },
     "execution_count": 749,
     "metadata": {},
     "output_type": "execute_result"
    }
   ],
   "source": [
    "# filter rows in dataframe on condition\n",
    "temp = df.loc[df['Height'] >= 5.8]\n",
    "temp\n",
    "# OR\n",
    "temp = df.loc[df['Height'] >= 5.8, :]\n",
    "temp"
   ]
  },
  {
   "cell_type": "code",
   "execution_count": 701,
   "metadata": {},
   "outputs": [
    {
     "data": {
      "text/html": [
       "<div>\n",
       "<style scoped>\n",
       "    .dataframe tbody tr th:only-of-type {\n",
       "        vertical-align: middle;\n",
       "    }\n",
       "\n",
       "    .dataframe tbody tr th {\n",
       "        vertical-align: top;\n",
       "    }\n",
       "\n",
       "    .dataframe thead th {\n",
       "        text-align: right;\n",
       "    }\n",
       "</style>\n",
       "<table border=\"1\" class=\"dataframe\">\n",
       "  <thead>\n",
       "    <tr style=\"text-align: right;\">\n",
       "      <th></th>\n",
       "      <th>Name</th>\n",
       "      <th>Age</th>\n",
       "      <th>Height</th>\n",
       "    </tr>\n",
       "  </thead>\n",
       "  <tbody>\n",
       "    <tr>\n",
       "      <th>0</th>\n",
       "      <td>tom</td>\n",
       "      <td>10</td>\n",
       "      <td>6.1</td>\n",
       "    </tr>\n",
       "    <tr>\n",
       "      <th>1</th>\n",
       "      <td>nick</td>\n",
       "      <td>15</td>\n",
       "      <td>5.8</td>\n",
       "    </tr>\n",
       "    <tr>\n",
       "      <th>2</th>\n",
       "      <td>julieee</td>\n",
       "      <td>14</td>\n",
       "      <td>5.7</td>\n",
       "    </tr>\n",
       "    <tr>\n",
       "      <th>3</th>\n",
       "      <td>annieee</td>\n",
       "      <td>15</td>\n",
       "      <td>5.4</td>\n",
       "    </tr>\n",
       "  </tbody>\n",
       "</table>\n",
       "</div>"
      ],
      "text/plain": [
       "      Name  Age  Height\n",
       "0      tom   10     6.1\n",
       "1     nick   15     5.8\n",
       "2  julieee   14     5.7\n",
       "3  annieee   15     5.4"
      ]
     },
     "execution_count": 701,
     "metadata": {},
     "output_type": "execute_result"
    }
   ],
   "source": [
    "# replace sub-string in text column (with condition)\n",
    "df1 = df.copy()\n",
    "df1['Name'] = df1['Name'].apply(lambda x: x.replace('ie', 'ieee') if x=='julie' else x)\n",
    "df1\n",
    "# OR\n",
    "df1 = df.copy()\n",
    "df1['Name'] = df1['Name'].str.replace('ie','ieee')\n",
    "df1"
   ]
  },
  {
   "cell_type": "code",
   "execution_count": 451,
   "metadata": {},
   "outputs": [
    {
     "data": {
      "text/html": [
       "<div>\n",
       "<style scoped>\n",
       "    .dataframe tbody tr th:only-of-type {\n",
       "        vertical-align: middle;\n",
       "    }\n",
       "\n",
       "    .dataframe tbody tr th {\n",
       "        vertical-align: top;\n",
       "    }\n",
       "\n",
       "    .dataframe thead th {\n",
       "        text-align: right;\n",
       "    }\n",
       "</style>\n",
       "<table border=\"1\" class=\"dataframe\">\n",
       "  <thead>\n",
       "    <tr style=\"text-align: right;\">\n",
       "      <th></th>\n",
       "      <th>Name</th>\n",
       "      <th>Age</th>\n",
       "      <th>Height</th>\n",
       "    </tr>\n",
       "  </thead>\n",
       "  <tbody>\n",
       "    <tr>\n",
       "      <th>0</th>\n",
       "      <td>tom</td>\n",
       "      <td>10</td>\n",
       "      <td>6.1</td>\n",
       "    </tr>\n",
       "    <tr>\n",
       "      <th>1</th>\n",
       "      <td>nick</td>\n",
       "      <td>15</td>\n",
       "      <td>5.8</td>\n",
       "    </tr>\n",
       "    <tr>\n",
       "      <th>2</th>\n",
       "      <td>None</td>\n",
       "      <td>14</td>\n",
       "      <td>5.7</td>\n",
       "    </tr>\n",
       "    <tr>\n",
       "      <th>3</th>\n",
       "      <td>annie</td>\n",
       "      <td>15</td>\n",
       "      <td>5.5</td>\n",
       "    </tr>\n",
       "  </tbody>\n",
       "</table>\n",
       "</div>"
      ],
      "text/plain": [
       "    Name  Age  Height\n",
       "0    tom   10     6.1\n",
       "1   nick   15     5.8\n",
       "2   None   14     5.7\n",
       "3  annie   15     5.5"
      ]
     },
     "execution_count": 451,
     "metadata": {},
     "output_type": "execute_result"
    }
   ],
   "source": [
    "# replace Null in dataframe column\n",
    "dfx1 = dfx.copy()\n",
    "dfx1['Height'].fillna(5.5, inplace=True) # inplace=T replaces in the df itself\n",
    "dfx1"
   ]
  },
  {
   "cell_type": "code",
   "execution_count": 714,
   "metadata": {},
   "outputs": [
    {
     "data": {
      "text/html": [
       "<div>\n",
       "<style scoped>\n",
       "    .dataframe tbody tr th:only-of-type {\n",
       "        vertical-align: middle;\n",
       "    }\n",
       "\n",
       "    .dataframe tbody tr th {\n",
       "        vertical-align: top;\n",
       "    }\n",
       "\n",
       "    .dataframe thead th {\n",
       "        text-align: right;\n",
       "    }\n",
       "</style>\n",
       "<table border=\"1\" class=\"dataframe\">\n",
       "  <thead>\n",
       "    <tr style=\"text-align: right;\">\n",
       "      <th></th>\n",
       "      <th>Name</th>\n",
       "      <th>Age</th>\n",
       "      <th>Height</th>\n",
       "    </tr>\n",
       "  </thead>\n",
       "  <tbody>\n",
       "    <tr>\n",
       "      <th>0</th>\n",
       "      <td>tom</td>\n",
       "      <td>10</td>\n",
       "      <td>6.1</td>\n",
       "    </tr>\n",
       "    <tr>\n",
       "      <th>1</th>\n",
       "      <td>nick</td>\n",
       "      <td>15</td>\n",
       "      <td>5.8</td>\n",
       "    </tr>\n",
       "    <tr>\n",
       "      <th>2</th>\n",
       "      <td>None</td>\n",
       "      <td>14</td>\n",
       "      <td>5.7</td>\n",
       "    </tr>\n",
       "    <tr>\n",
       "      <th>3</th>\n",
       "      <td>annie</td>\n",
       "      <td>15</td>\n",
       "      <td>0.0</td>\n",
       "    </tr>\n",
       "  </tbody>\n",
       "</table>\n",
       "</div>"
      ],
      "text/plain": [
       "    Name  Age  Height\n",
       "0    tom   10     6.1\n",
       "1   nick   15     5.8\n",
       "2   None   14     5.7\n",
       "3  annie   15     0.0"
      ]
     },
     "execution_count": 714,
     "metadata": {},
     "output_type": "execute_result"
    }
   ],
   "source": [
    "# replace Null in dataframe - all numeric columns\n",
    "dfx1 = dfx.copy()\n",
    "dfx1 = dfx1[list(dfx1.columns)].apply(lambda x: x.fillna(0) \n",
    "                                      if np.issubdtype(x.dtype, np.number) else x)\n",
    "# OR dfx1[dfx1.columns.values]\n",
    "dfx1"
   ]
  },
  {
   "cell_type": "code",
   "execution_count": 532,
   "metadata": {},
   "outputs": [
    {
     "data": {
      "text/html": [
       "<div>\n",
       "<style scoped>\n",
       "    .dataframe tbody tr th:only-of-type {\n",
       "        vertical-align: middle;\n",
       "    }\n",
       "\n",
       "    .dataframe tbody tr th {\n",
       "        vertical-align: top;\n",
       "    }\n",
       "\n",
       "    .dataframe thead th {\n",
       "        text-align: right;\n",
       "    }\n",
       "</style>\n",
       "<table border=\"1\" class=\"dataframe\">\n",
       "  <thead>\n",
       "    <tr style=\"text-align: right;\">\n",
       "      <th></th>\n",
       "      <th>Name</th>\n",
       "      <th>Age</th>\n",
       "      <th>Height</th>\n",
       "    </tr>\n",
       "  </thead>\n",
       "  <tbody>\n",
       "    <tr>\n",
       "      <th>0</th>\n",
       "      <td>tom</td>\n",
       "      <td>10</td>\n",
       "      <td>6.1</td>\n",
       "    </tr>\n",
       "    <tr>\n",
       "      <th>1</th>\n",
       "      <td>nick</td>\n",
       "      <td>15</td>\n",
       "      <td>5.8</td>\n",
       "    </tr>\n",
       "    <tr>\n",
       "      <th>2</th>\n",
       "      <td>Blank</td>\n",
       "      <td>14</td>\n",
       "      <td>5.7</td>\n",
       "    </tr>\n",
       "    <tr>\n",
       "      <th>3</th>\n",
       "      <td>annie</td>\n",
       "      <td>15</td>\n",
       "      <td>NaN</td>\n",
       "    </tr>\n",
       "  </tbody>\n",
       "</table>\n",
       "</div>"
      ],
      "text/plain": [
       "    Name  Age  Height\n",
       "0    tom   10     6.1\n",
       "1   nick   15     5.8\n",
       "2  Blank   14     5.7\n",
       "3  annie   15     NaN"
      ]
     },
     "execution_count": 532,
     "metadata": {},
     "output_type": "execute_result"
    }
   ],
   "source": [
    "# replace Null in dataframe - all non-numeric columns\n",
    "dfx1 = dfx.copy()\n",
    "dfx1 = dfx1[list(dfx1.columns)].apply(lambda x: x.fillna('Blank') \n",
    "                                      if np.issubdtype(x.dtype, np.number)==False else x)\n",
    "dfx1"
   ]
  },
  {
   "cell_type": "code",
   "execution_count": 535,
   "metadata": {},
   "outputs": [
    {
     "data": {
      "text/plain": [
       "15    2\n",
       "10    1\n",
       "14    1\n",
       "Name: Age, dtype: int64"
      ]
     },
     "execution_count": 535,
     "metadata": {},
     "output_type": "execute_result"
    }
   ],
   "source": [
    "# get frequency of each value in variable\n",
    "dfx['Age'].value_counts()"
   ]
  },
  {
   "cell_type": "code",
   "execution_count": 731,
   "metadata": {},
   "outputs": [
    {
     "data": {
      "text/html": [
       "<div>\n",
       "<style scoped>\n",
       "    .dataframe tbody tr th:only-of-type {\n",
       "        vertical-align: middle;\n",
       "    }\n",
       "\n",
       "    .dataframe tbody tr th {\n",
       "        vertical-align: top;\n",
       "    }\n",
       "\n",
       "    .dataframe thead th {\n",
       "        text-align: right;\n",
       "    }\n",
       "</style>\n",
       "<table border=\"1\" class=\"dataframe\">\n",
       "  <thead>\n",
       "    <tr style=\"text-align: right;\">\n",
       "      <th></th>\n",
       "      <th>Name</th>\n",
       "      <th>Age</th>\n",
       "      <th>Height</th>\n",
       "    </tr>\n",
       "  </thead>\n",
       "  <tbody>\n",
       "    <tr>\n",
       "      <th>0</th>\n",
       "      <td>tom</td>\n",
       "      <td>10</td>\n",
       "      <td>6.1</td>\n",
       "    </tr>\n",
       "    <tr>\n",
       "      <th>1</th>\n",
       "      <td>nick</td>\n",
       "      <td>15</td>\n",
       "      <td>5.8</td>\n",
       "    </tr>\n",
       "    <tr>\n",
       "      <th>2</th>\n",
       "      <td>None</td>\n",
       "      <td>14</td>\n",
       "      <td>5.7</td>\n",
       "    </tr>\n",
       "  </tbody>\n",
       "</table>\n",
       "</div>"
      ],
      "text/plain": [
       "   Name  Age  Height\n",
       "0   tom   10     6.1\n",
       "1  nick   15     5.8\n",
       "2  None   14     5.7"
      ]
     },
     "execution_count": 731,
     "metadata": {},
     "output_type": "execute_result"
    }
   ],
   "source": [
    "# drop rows where certain variables contain NA\n",
    "dfx1 = dfx.copy()\n",
    "dfx1 = dfx1.dropna(subset = ['Name', 'Height'])\n",
    "dfx1\n",
    "\n",
    "# drop rows where variables contain NA (all numeric)\n",
    "col1 = []\n",
    "dfx1 = dfx.copy()\n",
    "for col in dfx1.columns:\n",
    "    if np.issubdtype(dfx1[col].dtype, np.number):\n",
    "        col1.append(col)\n",
    "dfx2 = dfx1.dropna(subset = col1)\n",
    "dfx2\n",
    "# OR\n",
    "num_vars = []\n",
    "Temp = dfx1[dfx1.columns.values].apply(lambda x: num_vars.append(x.name) \n",
    "                                       if np.issubdtype(x,np.number) else x)\n",
    "dfx2 = dfx.dropna(subset = num_vars)\n",
    "dfx2"
   ]
  },
  {
   "cell_type": "code",
   "execution_count": 745,
   "metadata": {},
   "outputs": [
    {
     "data": {
      "text/html": [
       "<div>\n",
       "<style scoped>\n",
       "    .dataframe tbody tr th:only-of-type {\n",
       "        vertical-align: middle;\n",
       "    }\n",
       "\n",
       "    .dataframe tbody tr th {\n",
       "        vertical-align: top;\n",
       "    }\n",
       "\n",
       "    .dataframe thead th {\n",
       "        text-align: right;\n",
       "    }\n",
       "</style>\n",
       "<table border=\"1\" class=\"dataframe\">\n",
       "  <thead>\n",
       "    <tr style=\"text-align: right;\">\n",
       "      <th></th>\n",
       "      <th>Name</th>\n",
       "      <th>Age</th>\n",
       "      <th>Height</th>\n",
       "      <th>Name</th>\n",
       "      <th>Age</th>\n",
       "      <th>Height</th>\n",
       "    </tr>\n",
       "  </thead>\n",
       "  <tbody>\n",
       "    <tr>\n",
       "      <th>0</th>\n",
       "      <td>tom</td>\n",
       "      <td>10</td>\n",
       "      <td>6.1</td>\n",
       "      <td>tom</td>\n",
       "      <td>10</td>\n",
       "      <td>6.1</td>\n",
       "    </tr>\n",
       "    <tr>\n",
       "      <th>1</th>\n",
       "      <td>nick</td>\n",
       "      <td>15</td>\n",
       "      <td>5.8</td>\n",
       "      <td>nick</td>\n",
       "      <td>15</td>\n",
       "      <td>5.8</td>\n",
       "    </tr>\n",
       "    <tr>\n",
       "      <th>2</th>\n",
       "      <td>julie</td>\n",
       "      <td>14</td>\n",
       "      <td>5.7</td>\n",
       "      <td>None</td>\n",
       "      <td>14</td>\n",
       "      <td>5.7</td>\n",
       "    </tr>\n",
       "    <tr>\n",
       "      <th>3</th>\n",
       "      <td>annie</td>\n",
       "      <td>15</td>\n",
       "      <td>5.4</td>\n",
       "      <td>annie</td>\n",
       "      <td>15</td>\n",
       "      <td>NaN</td>\n",
       "    </tr>\n",
       "  </tbody>\n",
       "</table>\n",
       "</div>"
      ],
      "text/plain": [
       "    Name  Age  Height   Name  Age  Height\n",
       "0    tom   10     6.1    tom   10     6.1\n",
       "1   nick   15     5.8   nick   15     5.8\n",
       "2  julie   14     5.7   None   14     5.7\n",
       "3  annie   15     5.4  annie   15     NaN"
      ]
     },
     "execution_count": 745,
     "metadata": {},
     "output_type": "execute_result"
    }
   ],
   "source": [
    "# concatenate 2 dataframe by rows\n",
    "temp = pd.concat([df,dfx], axis=0)\n",
    "temp\n",
    "\n",
    "# concatenate 2 dataframe by columns\n",
    "temp = pd.concat([df,dfx], axis=1)\n",
    "temp"
   ]
  },
  {
   "cell_type": "code",
   "execution_count": 588,
   "metadata": {},
   "outputs": [
    {
     "data": {
      "text/html": [
       "<div>\n",
       "<style scoped>\n",
       "    .dataframe tbody tr th:only-of-type {\n",
       "        vertical-align: middle;\n",
       "    }\n",
       "\n",
       "    .dataframe tbody tr th {\n",
       "        vertical-align: top;\n",
       "    }\n",
       "\n",
       "    .dataframe thead th {\n",
       "        text-align: right;\n",
       "    }\n",
       "</style>\n",
       "<table border=\"1\" class=\"dataframe\">\n",
       "  <thead>\n",
       "    <tr style=\"text-align: right;\">\n",
       "      <th></th>\n",
       "      <th>Name</th>\n",
       "      <th>Age</th>\n",
       "      <th>Height</th>\n",
       "    </tr>\n",
       "  </thead>\n",
       "  <tbody>\n",
       "    <tr>\n",
       "      <th>2</th>\n",
       "      <td>julie</td>\n",
       "      <td>14</td>\n",
       "      <td>5.7</td>\n",
       "    </tr>\n",
       "  </tbody>\n",
       "</table>\n",
       "</div>"
      ],
      "text/plain": [
       "    Name  Age  Height\n",
       "2  julie   14     5.7"
      ]
     },
     "execution_count": 588,
     "metadata": {},
     "output_type": "execute_result"
    }
   ],
   "source": [
    "# subtract dataframes by rows (A-B) - by certain columns\n",
    "dfx2 = pd.concat([df, dfx, dfx]).drop_duplicates(['Name'], keep=False)\n",
    "dfx2"
   ]
  },
  {
   "cell_type": "code",
   "execution_count": 650,
   "metadata": {},
   "outputs": [
    {
     "data": {
      "text/html": [
       "<div>\n",
       "<style scoped>\n",
       "    .dataframe tbody tr th:only-of-type {\n",
       "        vertical-align: middle;\n",
       "    }\n",
       "\n",
       "    .dataframe tbody tr th {\n",
       "        vertical-align: top;\n",
       "    }\n",
       "\n",
       "    .dataframe thead th {\n",
       "        text-align: right;\n",
       "    }\n",
       "</style>\n",
       "<table border=\"1\" class=\"dataframe\">\n",
       "  <thead>\n",
       "    <tr style=\"text-align: right;\">\n",
       "      <th></th>\n",
       "      <th>Age</th>\n",
       "    </tr>\n",
       "  </thead>\n",
       "  <tbody>\n",
       "    <tr>\n",
       "      <th>0</th>\n",
       "      <td>10</td>\n",
       "    </tr>\n",
       "    <tr>\n",
       "      <th>1</th>\n",
       "      <td>15</td>\n",
       "    </tr>\n",
       "    <tr>\n",
       "      <th>2</th>\n",
       "      <td>14</td>\n",
       "    </tr>\n",
       "    <tr>\n",
       "      <th>3</th>\n",
       "      <td>15</td>\n",
       "    </tr>\n",
       "  </tbody>\n",
       "</table>\n",
       "</div>"
      ],
      "text/plain": [
       "   Age\n",
       "0   10\n",
       "1   15\n",
       "2   14\n",
       "3   15"
      ]
     },
     "execution_count": 650,
     "metadata": {},
     "output_type": "execute_result"
    }
   ],
   "source": [
    "# select columns in df\n",
    "df[['Name', 'Age']] # by name\n",
    "df.iloc[:,0:2] # by location\n",
    "    # get column names\n",
    "list(df.columns[[0,2]])\n",
    "list(df.columns)\n",
    "df.columns.values\n",
    "\n",
    "# drop columns in df\n",
    "df1 = df.drop(['Age', 'Height'], axis=1) # by name \n",
    "df1\n",
    "df1 = df.drop(df.columns[[0, 2]], axis=1) # by location\n",
    "df1"
   ]
  },
  {
   "cell_type": "code",
   "execution_count": 656,
   "metadata": {},
   "outputs": [
    {
     "data": {
      "text/html": [
       "<div>\n",
       "<style scoped>\n",
       "    .dataframe tbody tr th:only-of-type {\n",
       "        vertical-align: middle;\n",
       "    }\n",
       "\n",
       "    .dataframe tbody tr th {\n",
       "        vertical-align: top;\n",
       "    }\n",
       "\n",
       "    .dataframe thead th {\n",
       "        text-align: right;\n",
       "    }\n",
       "</style>\n",
       "<table border=\"1\" class=\"dataframe\">\n",
       "  <thead>\n",
       "    <tr style=\"text-align: right;\">\n",
       "      <th></th>\n",
       "      <th>Name</th>\n",
       "      <th>Age</th>\n",
       "      <th>Height</th>\n",
       "    </tr>\n",
       "  </thead>\n",
       "  <tbody>\n",
       "    <tr>\n",
       "      <th>2</th>\n",
       "      <td>julie</td>\n",
       "      <td>14</td>\n",
       "      <td>5.7</td>\n",
       "    </tr>\n",
       "    <tr>\n",
       "      <th>3</th>\n",
       "      <td>annie</td>\n",
       "      <td>15</td>\n",
       "      <td>5.4</td>\n",
       "    </tr>\n",
       "  </tbody>\n",
       "</table>\n",
       "</div>"
      ],
      "text/plain": [
       "    Name  Age  Height\n",
       "2  julie   14     5.7\n",
       "3  annie   15     5.4"
      ]
     },
     "execution_count": 656,
     "metadata": {},
     "output_type": "execute_result"
    }
   ],
   "source": [
    "# select rows in df\n",
    "df1 = df[0:2] # by location\n",
    "# drop rows in df\n",
    "df1 = df.drop([0,1], axis=0) # by location\n",
    "df1"
   ]
  },
  {
   "cell_type": "code",
   "execution_count": 739,
   "metadata": {},
   "outputs": [
    {
     "data": {
      "text/html": [
       "<div>\n",
       "<style scoped>\n",
       "    .dataframe tbody tr th:only-of-type {\n",
       "        vertical-align: middle;\n",
       "    }\n",
       "\n",
       "    .dataframe tbody tr th {\n",
       "        vertical-align: top;\n",
       "    }\n",
       "\n",
       "    .dataframe thead th {\n",
       "        text-align: right;\n",
       "    }\n",
       "</style>\n",
       "<table border=\"1\" class=\"dataframe\">\n",
       "  <thead>\n",
       "    <tr style=\"text-align: right;\">\n",
       "      <th></th>\n",
       "      <th>Age</th>\n",
       "      <th>Height</th>\n",
       "    </tr>\n",
       "  </thead>\n",
       "  <tbody>\n",
       "    <tr>\n",
       "      <th>0</th>\n",
       "      <td>10</td>\n",
       "      <td>6.1</td>\n",
       "    </tr>\n",
       "    <tr>\n",
       "      <th>1</th>\n",
       "      <td>14</td>\n",
       "      <td>5.7</td>\n",
       "    </tr>\n",
       "    <tr>\n",
       "      <th>2</th>\n",
       "      <td>15</td>\n",
       "      <td>11.2</td>\n",
       "    </tr>\n",
       "  </tbody>\n",
       "</table>\n",
       "</div>"
      ],
      "text/plain": [
       "   Age  Height\n",
       "0   10     6.1\n",
       "1   14     5.7\n",
       "2   15    11.2"
      ]
     },
     "execution_count": 739,
     "metadata": {},
     "output_type": "execute_result"
    }
   ],
   "source": [
    "# groupby\n",
    "temp = df.groupby(['Age'],as_index=False)['Height'].sum()\n",
    "temp"
   ]
  },
  {
   "cell_type": "code",
   "execution_count": 661,
   "metadata": {},
   "outputs": [
    {
     "data": {
      "text/html": [
       "<div>\n",
       "<style scoped>\n",
       "    .dataframe tbody tr th:only-of-type {\n",
       "        vertical-align: middle;\n",
       "    }\n",
       "\n",
       "    .dataframe tbody tr th {\n",
       "        vertical-align: top;\n",
       "    }\n",
       "\n",
       "    .dataframe thead th {\n",
       "        text-align: right;\n",
       "    }\n",
       "</style>\n",
       "<table border=\"1\" class=\"dataframe\">\n",
       "  <thead>\n",
       "    <tr style=\"text-align: right;\">\n",
       "      <th></th>\n",
       "      <th>Name_1</th>\n",
       "      <th>Age_1</th>\n",
       "      <th>Height</th>\n",
       "    </tr>\n",
       "  </thead>\n",
       "  <tbody>\n",
       "    <tr>\n",
       "      <th>0</th>\n",
       "      <td>tom</td>\n",
       "      <td>10</td>\n",
       "      <td>6.1</td>\n",
       "    </tr>\n",
       "    <tr>\n",
       "      <th>1</th>\n",
       "      <td>nick</td>\n",
       "      <td>15</td>\n",
       "      <td>5.8</td>\n",
       "    </tr>\n",
       "    <tr>\n",
       "      <th>2</th>\n",
       "      <td>julie</td>\n",
       "      <td>14</td>\n",
       "      <td>5.7</td>\n",
       "    </tr>\n",
       "    <tr>\n",
       "      <th>3</th>\n",
       "      <td>annie</td>\n",
       "      <td>15</td>\n",
       "      <td>5.4</td>\n",
       "    </tr>\n",
       "  </tbody>\n",
       "</table>\n",
       "</div>"
      ],
      "text/plain": [
       "  Name_1  Age_1  Height\n",
       "0    tom     10     6.1\n",
       "1   nick     15     5.8\n",
       "2  julie     14     5.7\n",
       "3  annie     15     5.4"
      ]
     },
     "execution_count": 661,
     "metadata": {},
     "output_type": "execute_result"
    }
   ],
   "source": [
    "# rename columns\n",
    "df1 = df.rename(columns = {'Name':'Name_1', 'Age':'Age_1'})\n",
    "df1"
   ]
  },
  {
   "cell_type": "code",
   "execution_count": 675,
   "metadata": {},
   "outputs": [
    {
     "name": "stdout",
     "output_type": "stream",
     "text": [
      "    Name  Age_x  Height_x  Age_y  Height_y\n",
      "0    tom     10       6.1   10.0       6.1\n",
      "1   nick     15       5.8   15.0       5.8\n",
      "2  julie     14       5.7    NaN       NaN\n",
      "3  annie     15       5.4    NaN       NaN\n",
      "   Name  Age_x  Height_x  Age_y  Height_y\n",
      "0   tom     10       6.1     10       6.1\n",
      "1  nick     15       5.8     15       5.8\n"
     ]
    }
   ],
   "source": [
    "# left join\n",
    "temp = pd.merge(df, dff, how='left', on='Name')\n",
    "print(temp)\n",
    "# inner join\n",
    "temp = pd.merge(df, dff, how='inner', on='Name')\n",
    "print(temp)"
   ]
  },
  {
   "cell_type": "code",
   "execution_count": 685,
   "metadata": {},
   "outputs": [
    {
     "name": "stdout",
     "output_type": "stream",
     "text": [
      "   Name  Age  Height\n",
      "0   tom   10     6.1\n",
      "1  nick   15     5.8\n",
      "    Name  Age  Height\n",
      "2  julie   14     5.7\n",
      "3  annie   15     5.4\n"
     ]
    }
   ],
   "source": [
    "# random sampling\n",
    "msk = np.random.rand(len(df)) < 0.75\n",
    "Train = df[msk]\n",
    "Test = df[~msk]\n",
    "print(Train)\n",
    "print(Test)"
   ]
  },
  {
   "cell_type": "code",
   "execution_count": 688,
   "metadata": {},
   "outputs": [
    {
     "name": "stdout",
     "output_type": "stream",
     "text": [
      "3\n",
      "4\n"
     ]
    }
   ],
   "source": [
    "# count rows/columns of df\n",
    "print(len(df.columns))\n",
    "print(len(df.index))"
   ]
  },
  {
   "cell_type": "code",
   "execution_count": 698,
   "metadata": {},
   "outputs": [
    {
     "data": {
      "text/html": [
       "<div>\n",
       "<style scoped>\n",
       "    .dataframe tbody tr th:only-of-type {\n",
       "        vertical-align: middle;\n",
       "    }\n",
       "\n",
       "    .dataframe tbody tr th {\n",
       "        vertical-align: top;\n",
       "    }\n",
       "\n",
       "    .dataframe thead th {\n",
       "        text-align: right;\n",
       "    }\n",
       "</style>\n",
       "<table border=\"1\" class=\"dataframe\">\n",
       "  <thead>\n",
       "    <tr style=\"text-align: right;\">\n",
       "      <th></th>\n",
       "      <th>Name</th>\n",
       "      <th>Age</th>\n",
       "      <th>Salary</th>\n",
       "    </tr>\n",
       "  </thead>\n",
       "  <tbody>\n",
       "    <tr>\n",
       "      <th>0</th>\n",
       "      <td>Anil</td>\n",
       "      <td>56</td>\n",
       "      <td>1200</td>\n",
       "    </tr>\n",
       "    <tr>\n",
       "      <th>1</th>\n",
       "      <td>Sunil</td>\n",
       "      <td>32</td>\n",
       "      <td>1300</td>\n",
       "    </tr>\n",
       "    <tr>\n",
       "      <th>2</th>\n",
       "      <td>Harry</td>\n",
       "      <td>43</td>\n",
       "      <td>700</td>\n",
       "    </tr>\n",
       "  </tbody>\n",
       "</table>\n",
       "</div>"
      ],
      "text/plain": [
       "    Name  Age  Salary\n",
       "0   Anil   56    1200\n",
       "1  Sunil   32    1300\n",
       "2  Harry   43     700"
      ]
     },
     "execution_count": 698,
     "metadata": {},
     "output_type": "execute_result"
    }
   ],
   "source": [
    "# create dataframe\n",
    "list1 = [['Anil', 56, 1200], ['Sunil', 32, 1300], ['Harry', 43, 700]]\n",
    "df1 = pd.DataFrame(list1, columns=['Name', 'Age', 'Salary'])\n",
    "df1"
   ]
  },
  {
   "cell_type": "code",
   "execution_count": null,
   "metadata": {},
   "outputs": [],
   "source": []
  },
  {
   "cell_type": "code",
   "execution_count": null,
   "metadata": {},
   "outputs": [],
   "source": []
  },
  {
   "cell_type": "code",
   "execution_count": null,
   "metadata": {},
   "outputs": [],
   "source": []
  },
  {
   "cell_type": "code",
   "execution_count": null,
   "metadata": {},
   "outputs": [],
   "source": []
  },
  {
   "cell_type": "code",
   "execution_count": null,
   "metadata": {},
   "outputs": [],
   "source": []
  },
  {
   "cell_type": "code",
   "execution_count": 663,
   "metadata": {},
   "outputs": [
    {
     "data": {
      "text/html": [
       "<div>\n",
       "<style scoped>\n",
       "    .dataframe tbody tr th:only-of-type {\n",
       "        vertical-align: middle;\n",
       "    }\n",
       "\n",
       "    .dataframe tbody tr th {\n",
       "        vertical-align: top;\n",
       "    }\n",
       "\n",
       "    .dataframe thead th {\n",
       "        text-align: right;\n",
       "    }\n",
       "</style>\n",
       "<table border=\"1\" class=\"dataframe\">\n",
       "  <thead>\n",
       "    <tr style=\"text-align: right;\">\n",
       "      <th></th>\n",
       "      <th>Name</th>\n",
       "      <th>Age</th>\n",
       "      <th>Height</th>\n",
       "    </tr>\n",
       "  </thead>\n",
       "  <tbody>\n",
       "    <tr>\n",
       "      <th>0</th>\n",
       "      <td>tom</td>\n",
       "      <td>10</td>\n",
       "      <td>6.1</td>\n",
       "    </tr>\n",
       "    <tr>\n",
       "      <th>1</th>\n",
       "      <td>nick</td>\n",
       "      <td>15</td>\n",
       "      <td>5.8</td>\n",
       "    </tr>\n",
       "    <tr>\n",
       "      <th>2</th>\n",
       "      <td>julie</td>\n",
       "      <td>14</td>\n",
       "      <td>5.7</td>\n",
       "    </tr>\n",
       "    <tr>\n",
       "      <th>3</th>\n",
       "      <td>annie</td>\n",
       "      <td>15</td>\n",
       "      <td>5.4</td>\n",
       "    </tr>\n",
       "  </tbody>\n",
       "</table>\n",
       "</div>"
      ],
      "text/plain": [
       "    Name  Age  Height\n",
       "0    tom   10     6.1\n",
       "1   nick   15     5.8\n",
       "2  julie   14     5.7\n",
       "3  annie   15     5.4"
      ]
     },
     "execution_count": 663,
     "metadata": {},
     "output_type": "execute_result"
    }
   ],
   "source": [
    "df"
   ]
  },
  {
   "cell_type": "code",
   "execution_count": 666,
   "metadata": {},
   "outputs": [
    {
     "data": {
      "text/html": [
       "<div>\n",
       "<style scoped>\n",
       "    .dataframe tbody tr th:only-of-type {\n",
       "        vertical-align: middle;\n",
       "    }\n",
       "\n",
       "    .dataframe tbody tr th {\n",
       "        vertical-align: top;\n",
       "    }\n",
       "\n",
       "    .dataframe thead th {\n",
       "        text-align: right;\n",
       "    }\n",
       "</style>\n",
       "<table border=\"1\" class=\"dataframe\">\n",
       "  <thead>\n",
       "    <tr style=\"text-align: right;\">\n",
       "      <th></th>\n",
       "      <th>Name</th>\n",
       "      <th>Age</th>\n",
       "      <th>Height</th>\n",
       "    </tr>\n",
       "  </thead>\n",
       "  <tbody>\n",
       "    <tr>\n",
       "      <th>0</th>\n",
       "      <td>tom</td>\n",
       "      <td>10</td>\n",
       "      <td>6.1</td>\n",
       "    </tr>\n",
       "    <tr>\n",
       "      <th>1</th>\n",
       "      <td>nick</td>\n",
       "      <td>15</td>\n",
       "      <td>5.8</td>\n",
       "    </tr>\n",
       "    <tr>\n",
       "      <th>2</th>\n",
       "      <td>arnold</td>\n",
       "      <td>11</td>\n",
       "      <td>5.6</td>\n",
       "    </tr>\n",
       "    <tr>\n",
       "      <th>3</th>\n",
       "      <td>sam</td>\n",
       "      <td>13</td>\n",
       "      <td>5.7</td>\n",
       "    </tr>\n",
       "  </tbody>\n",
       "</table>\n",
       "</div>"
      ],
      "text/plain": [
       "     Name  Age  Height\n",
       "0     tom   10     6.1\n",
       "1    nick   15     5.8\n",
       "2  arnold   11     5.6\n",
       "3     sam   13     5.7"
      ]
     },
     "execution_count": 666,
     "metadata": {},
     "output_type": "execute_result"
    }
   ],
   "source": [
    "dff"
   ]
  },
  {
   "cell_type": "code",
   "execution_count": null,
   "metadata": {},
   "outputs": [],
   "source": []
  },
  {
   "cell_type": "code",
   "execution_count": null,
   "metadata": {},
   "outputs": [],
   "source": []
  },
  {
   "cell_type": "code",
   "execution_count": null,
   "metadata": {},
   "outputs": [],
   "source": []
  },
  {
   "cell_type": "code",
   "execution_count": null,
   "metadata": {},
   "outputs": [],
   "source": []
  },
  {
   "cell_type": "code",
   "execution_count": null,
   "metadata": {},
   "outputs": [],
   "source": []
  },
  {
   "cell_type": "code",
   "execution_count": null,
   "metadata": {},
   "outputs": [],
   "source": []
  },
  {
   "cell_type": "code",
   "execution_count": null,
   "metadata": {},
   "outputs": [],
   "source": []
  },
  {
   "cell_type": "code",
   "execution_count": null,
   "metadata": {},
   "outputs": [],
   "source": []
  }
 ],
 "metadata": {
  "kernelspec": {
   "display_name": "Python 3",
   "language": "python",
   "name": "python3"
  },
  "language_info": {
   "codemirror_mode": {
    "name": "ipython",
    "version": 3
   },
   "file_extension": ".py",
   "mimetype": "text/x-python",
   "name": "python",
   "nbconvert_exporter": "python",
   "pygments_lexer": "ipython3",
   "version": "3.6.6"
  }
 },
 "nbformat": 4,
 "nbformat_minor": 2
}
