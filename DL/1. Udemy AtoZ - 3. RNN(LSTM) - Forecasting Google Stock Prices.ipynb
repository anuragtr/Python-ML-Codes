{
 "cells": [
  {
   "cell_type": "markdown",
   "metadata": {
    "collapsed": true
   },
   "source": [
    "### Anaconda & Python Version:\n",
    "\n",
    "The version of the notebook server is 5.0.0 and is running on:\n",
    "Python 3.6.4 |Anaconda custom (64-bit)| (default, Jan 16 2018, 10:22:32) [MSC v.1900 64 bit (AMD64)]\n",
    "\n",
    "Current Kernel Information:\n",
    "Python 3.6.4 |Anaconda custom (64-bit)| (default, Jan 16 2018, 10:22:32) [MSC v.1900 64 bit (AMD64)]\n",
    "Type 'copyright', 'credits' or 'license' for more information\n",
    "IPython 6.1.0 -- An enhanced Interactive Python. Type '?' for help.\n",
    "\n",
    "#### Anaconda 5.0.1 (not sure)"
   ]
  },
  {
   "cell_type": "markdown",
   "metadata": {},
   "source": [
    "### Steps:\n",
    "#### 1.\n",
    "#### 2.\n",
    "#### 3.\n",
    "#### 4.\n",
    "#### 5.\n",
    "#### 6.\n",
    "#### 7.\n",
    "#### 8.\n",
    "### Strategy for Forecasting:\n",
    "##### 1. Trainer is only using Training data for accuracy maximization, then predicts once on Test (so no check on Overfitting)\n",
    "##### 2. To maximize accuracy and prevent overfitting we can use following strategy:\n",
    "##### 3. Create a Validation data (Oct-Dec 2016) : \n",
    "##### Note -- Current Train (Jan 2012-Sep 2016) -- Test (Jan 2017)\n",
    "#####          -- Updated Train (Jan 2012-Sep 2016) -- Validation data (Oct-Dec 2016) -- Test (Jan 2017)\n",
    "##### 4. Accuracy Maximization - Plot Train vs Validation accuracies, choose where Train_acc=higher side and Validation accuracy=highest\n",
    "##### 5. Use Same Model (Training (Jan 2012-Sep 2016)) for Jan 2017 accuracy check\n",
    "##### 5. Use Updated Model (Training (Jan 2012-Dec 2016)) for Jan 2017 accuracy check (same parameters)\n",
    "##### Check if Trainers accuracy is beaten"
   ]
  },
  {
   "cell_type": "code",
   "execution_count": 1,
   "metadata": {
    "collapsed": true
   },
   "outputs": [],
   "source": [
    "###########################################################\n",
    "###########################################################\n",
    "# 1. Basic/Default RNN(LSTM) Code\n",
    "###########################################################\n",
    "###########################################################\n",
    "\n",
    "\n",
    "\n",
    "# tbd"
   ]
  },
  {
   "cell_type": "code",
   "execution_count": 2,
   "metadata": {
    "collapsed": true
   },
   "outputs": [],
   "source": [
    "###########################################################\n",
    "# 1.1 Data Pre-Processing\n",
    "###########################################################"
   ]
  },
  {
   "cell_type": "code",
   "execution_count": 3,
   "metadata": {
    "scrolled": true
   },
   "outputs": [
    {
     "name": "stdout",
     "output_type": "stream",
     "text": [
      "dataset_train raw:\n",
      "         Date    Open    High     Low   Close       Volume\n",
      "0  01-03-2012  325.25  332.83  324.97  663.59    73,80,500\n",
      "1  01-04-2012  331.27  333.87  329.08  666.45    57,49,400\n",
      "2  01-05-2012  329.83  330.75  326.89  657.21    65,90,300\n",
      "3  01-06-2012  328.34  328.77  323.68  648.24    54,05,900\n",
      "4  01-09-2012  322.04  322.29  309.46  620.76  1,16,88,800\n",
      "training_set before shaping:\n",
      "[[325.25]\n",
      " [331.27]\n",
      " [329.83]\n",
      " ...\n",
      " [777.85]\n",
      " [781.44]\n",
      " [776.33]]\n",
      "training_set_scaled before shaping:\n",
      "[[0.09090193]\n",
      " [0.1027647 ]\n",
      " [0.09992709]\n",
      " ...\n",
      " [0.98277731]\n",
      " [0.98985162]\n",
      " [0.97978206]]\n",
      "X_train: 2D np array\n",
      "[[0.09090193 0.1027647  0.09992709 ... 0.01911443 0.01915384 0.00752754]\n",
      " [0.1027647  0.09992709 0.09699096 ... 0.01915384 0.00752754 0.00687725]\n",
      " [0.09992709 0.09699096 0.08457643 ... 0.00752754 0.00687725 0.00238438]\n",
      " ...\n",
      " [0.91601474 0.91414271 0.9042505  ... 1.         0.99241334 0.97814649]\n",
      " [0.91414271 0.9042505  0.92624195 ... 0.99241334 0.97814649 0.98277731]\n",
      " [0.9042505  0.92624195 0.93579916 ... 0.97814649 0.98277731 0.98985162]]\n",
      "Y_train: 2D np array\n",
      "[0.00687725 0.00238438 0.00723195 ... 0.98277731 0.98985162 0.97978206]\n",
      "X_train: 3D np array\n",
      "[[[0.09090193]\n",
      "  [0.1027647 ]\n",
      "  [0.09992709]\n",
      "  ...\n",
      "  [0.01911443]\n",
      "  [0.01915384]\n",
      "  [0.00752754]]\n",
      "\n",
      " [[0.1027647 ]\n",
      "  [0.09992709]\n",
      "  [0.09699096]\n",
      "  ...\n",
      "  [0.01915384]\n",
      "  [0.00752754]\n",
      "  [0.00687725]]\n",
      "\n",
      " [[0.09992709]\n",
      "  [0.09699096]\n",
      "  [0.08457643]\n",
      "  ...\n",
      "  [0.00752754]\n",
      "  [0.00687725]\n",
      "  [0.00238438]]\n",
      "\n",
      " ...\n",
      "\n",
      " [[0.91601474]\n",
      "  [0.91414271]\n",
      "  [0.9042505 ]\n",
      "  ...\n",
      "  [1.        ]\n",
      "  [0.99241334]\n",
      "  [0.97814649]]\n",
      "\n",
      " [[0.91414271]\n",
      "  [0.9042505 ]\n",
      "  [0.92624195]\n",
      "  ...\n",
      "  [0.99241334]\n",
      "  [0.97814649]\n",
      "  [0.98277731]]\n",
      "\n",
      " [[0.9042505 ]\n",
      "  [0.92624195]\n",
      "  [0.93579916]\n",
      "  ...\n",
      "  [0.97814649]\n",
      "  [0.98277731]\n",
      "  [0.98985162]]]\n",
      "Y_train: 3D np array\n",
      "[0.00687725 0.00238438 0.00723195 ... 0.98277731 0.98985162 0.97978206]\n"
     ]
    }
   ],
   "source": [
    "## Code for single feature modelling ('Open' stock price)\n",
    "\n",
    "# Importing the Libraries\n",
    "import numpy as np\n",
    "import matplotlib.pyplot as plt\n",
    "import pandas as pd\n",
    "\n",
    "# Importing the Training set\n",
    "dataset_train = pd.read_csv('C:/Users/anurag.trivedi/2. Data/3. RNN Data/Recurrent_Neural_Networks/Updated/Google_Stock_Price_Train.csv')\n",
    "df1 = dataset_train.head(5)\n",
    "print('dataset_train raw:')\n",
    "print(df1)\n",
    "\n",
    "# creating np array\n",
    "training_set = dataset_train.iloc[:,1:2].values # 2 D np array created\n",
    "# range 1:2 and .values help create a np array from 2nd column of df; only np arrays are taken as inputs in NN\n",
    "# 'dataset_train.iloc[:,1]' will create a vector and not np array\n",
    "# 'dataset_train.iloc[:,1:2]' will create a df and not np array\n",
    "# 'dataset_train.iloc[:,1:2].values' will create a np array\n",
    "print('training_set before shaping:')\n",
    "print(training_set)\n",
    "\n",
    "# Feature Scaling:\n",
    "from sklearn.preprocessing import MinMaxScaler\n",
    "sc = MinMaxScaler(feature_range = (0,1)) # Min-Max Normalization preferred for RNN\n",
    "training_set_scaled = sc.fit_transform(training_set)\n",
    "print('training_set_scaled before shaping:')\n",
    "print(training_set_scaled)\n",
    "\n",
    "# Creating a data structure with 60 timesteps and 1 output:\n",
    "TS_Range = 120 # timesteps (should be optimized) extent of past data used for next prediction\n",
    "X_train = [] # empty list defined\n",
    "Y_train = [] # empty list defined\n",
    "for i in range(TS_Range, len(training_set)):\n",
    "    X_train.append(training_set_scaled[i-TS_Range:i, 0]) # [a,b], this format since array is 2D\n",
    "    Y_train.append(training_set_scaled[i, 0])\n",
    "X_train, Y_train = np.array(X_train), np.array(Y_train)\n",
    "# Note: can add other vars apart from last 60 open prices; ex closing stock price. But wont do in this impl(keeping only 1 feature, opening price)\n",
    "print('X_train: 2D np array')\n",
    "print(X_train)\n",
    "print('Y_train: 2D np array')\n",
    "print(Y_train)\n",
    "\n",
    "# 3D Reshaping:\n",
    "X_train = np.reshape(X_train, (X_train.shape[0], X_train.shape[1], 1))\n",
    "# can add extra features with current 3D shape, but not doing it in this implementation(3rd dim=1 means only 1 feature added, opening price)\n",
    "# .shape[0]=no of rows(total initial number of stock prices-timesteps); .shape[1]=no of columns(timesteps); 1=no of features(here its 'open stock price')\n",
    "print('X_train: 3D np array')\n",
    "print(X_train)\n",
    "print('Y_train: 3D np array')\n",
    "print(Y_train)"
   ]
  },
  {
   "cell_type": "code",
   "execution_count": null,
   "metadata": {
    "collapsed": true
   },
   "outputs": [],
   "source": []
  },
  {
   "cell_type": "code",
   "execution_count": null,
   "metadata": {
    "collapsed": true
   },
   "outputs": [],
   "source": []
  },
  {
   "cell_type": "code",
   "execution_count": 392,
   "metadata": {},
   "outputs": [
    {
     "name": "stdout",
     "output_type": "stream",
     "text": [
      "dataset_train raw:\n",
      "         Date    Open    High     Low   Close       Volume\n",
      "0  01-03-2012  325.25  332.83  324.97  663.59    73,80,500\n",
      "1  01-04-2012  331.27  333.87  329.08  666.45    57,49,400\n",
      "2  01-05-2012  329.83  330.75  326.89  657.21    65,90,300\n",
      "3  01-06-2012  328.34  328.77  323.68  648.24    54,05,900\n",
      "4  01-09-2012  322.04  322.29  309.46  620.76  1,16,88,800\n",
      "training_set before shaping:\n",
      "[[ 325.25  332.83]\n",
      " [ 331.27  333.87]\n",
      " [ 329.83  330.75]\n",
      " ..., \n",
      " [ 777.85  781.81]\n",
      " [ 781.44  785.8 ]\n",
      " [ 776.33  780.94]]\n",
      "training_set_scaled before shaping:\n",
      "[[ 0.09090193  0.10148233]\n",
      " [ 0.1027647   0.10352691]\n",
      " [ 0.09992709  0.09739315]\n",
      " ..., \n",
      " [ 0.98277731  0.98415445]\n",
      " [ 0.98985162  0.99199858]\n",
      " [ 0.97978206  0.98244407]]\n",
      "X_train: 2D np array\n",
      "[[ 0.09090193  0.1027647   0.09992709 ...,  0.08319899  0.08713089\n",
      "   0.09212441]\n",
      " [ 0.1027647   0.09992709  0.09699096 ...,  0.08713089  0.09212441\n",
      "   0.09015846]\n",
      " [ 0.09992709  0.09699096  0.08457643 ...,  0.09212441  0.09015846\n",
      "   0.08711123]\n",
      " ..., \n",
      " [ 0.82160522  0.80962421  0.82558575 ...,  0.99815201  0.98598278\n",
      "   0.99237211]\n",
      " [ 0.80962421  0.82558575  0.82838394 ...,  0.98598278  0.99237211\n",
      "   0.98415445]\n",
      " [ 0.82558575  0.82838394  0.84523223 ...,  0.99237211  0.98415445\n",
      "   0.99199858]]\n",
      "Y_train: 2D np array\n",
      "[ 0.09139457  0.08973929  0.07896033 ...,  0.98277731  0.98985162\n",
      "  0.97978206]\n",
      "X_train: 3D np array\n",
      "[[[ 0.09090193]\n",
      "  [ 0.1027647 ]\n",
      "  [ 0.09992709]\n",
      "  ..., \n",
      "  [ 0.08319899]\n",
      "  [ 0.08713089]\n",
      "  [ 0.09212441]]\n",
      "\n",
      " [[ 0.1027647 ]\n",
      "  [ 0.09992709]\n",
      "  [ 0.09699096]\n",
      "  ..., \n",
      "  [ 0.08713089]\n",
      "  [ 0.09212441]\n",
      "  [ 0.09015846]]\n",
      "\n",
      " [[ 0.09992709]\n",
      "  [ 0.09699096]\n",
      "  [ 0.08457643]\n",
      "  ..., \n",
      "  [ 0.09212441]\n",
      "  [ 0.09015846]\n",
      "  [ 0.08711123]]\n",
      "\n",
      " ..., \n",
      " [[ 0.82160522]\n",
      "  [ 0.80962421]\n",
      "  [ 0.82558575]\n",
      "  ..., \n",
      "  [ 0.99815201]\n",
      "  [ 0.98598278]\n",
      "  [ 0.99237211]]\n",
      "\n",
      " [[ 0.80962421]\n",
      "  [ 0.82558575]\n",
      "  [ 0.82838394]\n",
      "  ..., \n",
      "  [ 0.98598278]\n",
      "  [ 0.99237211]\n",
      "  [ 0.98415445]]\n",
      "\n",
      " [[ 0.82558575]\n",
      "  [ 0.82838394]\n",
      "  [ 0.84523223]\n",
      "  ..., \n",
      "  [ 0.99237211]\n",
      "  [ 0.98415445]\n",
      "  [ 0.99199858]]]\n",
      "Y_train: 3D np array\n",
      "[ 0.09139457  0.08973929  0.07896033 ...,  0.98277731  0.98985162\n",
      "  0.97978206]\n"
     ]
    }
   ],
   "source": [
    "## Code for multiple feature modelling (here 2, 'Open' stock price and 'High' during the day)\n",
    "## 'Uncomment all code below'\n",
    "\n",
    "# dataset_train = pd.read_csv('C:/Users/anurag.trivedi/2. Data/RNN Data/Recurrent_Neural_Networks/Updated/Google_Stock_Price_Train.csv')\n",
    "# df1 = dataset_train.head(5)\n",
    "# print('dataset_train raw:')\n",
    "# print(df1)\n",
    "\n",
    "# # creating np array\n",
    "# training_set = dataset_train.iloc[:,1:3].values # 2 D np array created\n",
    "# # range 1:2 and .values help create a np array from 2nd column of df; only np arrays are taken as inputs in NN\n",
    "# # 'dataset_train.iloc[:,1]' will create a vector and not np array\n",
    "# # 'dataset_train.iloc[:,1:2]' will create a df and not np array\n",
    "# # 'dataset_train.iloc[:,1:2].values' will create a np array\n",
    "# print('training_set before shaping:')\n",
    "# print(training_set)\n",
    "\n",
    "# # Feature Scaling:\n",
    "# from sklearn.preprocessing import MinMaxScaler\n",
    "# sc = MinMaxScaler(feature_range = (0,1)) # Min-Max Normalization preferred for RNN\n",
    "# training_set_scaled = sc.fit_transform(training_set)\n",
    "# print('training_set_scaled before shaping:')\n",
    "# print(training_set_scaled)\n",
    "\n",
    "# # Creating a data structure with 60 timesteps and 1 output:\n",
    "# TS_Range = 60 # timesteps (should be optimized) extent of past data used for next prediction\n",
    "# X_train = [] # empty list defined\n",
    "# X_train_1 = [] # empty list defined\n",
    "# Y_train = [] # empty list defined\n",
    "# Y_train_1 = [] # empty list defined\n",
    "# for i in range(TS_Range, len(training_set)):\n",
    "#     X_train.append(training_set_scaled[i-TS_Range:i, 0]) # [a,b], this format since array is 2D\n",
    "#     X_train_1.append(training_set_scaled[i-TS_Range:i, 1])\n",
    "#     Y_train.append(training_set_scaled[i, 0])\n",
    "\n",
    "# X_train, X_train_1, Y_train = np.array(X_train), np.array(X_train_1), np.array(Y_train)\n",
    "\n",
    "# # creates 2*TS_Range columns; half for one attribute, half for another\n",
    "# X_train = np.concatenate((X_train, X_train_1), axis=1) # cbind\n",
    "\n",
    "# # Note: can add other vars apart from last 60 open prices; ex closing stock price. But wont do in this impl(keeping only 1 feature, opening price)\n",
    "# print('X_train: 2D np array')\n",
    "# print(X_train)\n",
    "# print('Y_train: 2D np array')\n",
    "# print(Y_train)\n",
    "\n",
    "# # 3D Reshaping:\n",
    "# X_train = np.reshape(X_train, (X_train.shape[0], X_train.shape[1], 1))\n",
    "# # can add extra features with current 3D shape, but not doing it in this implementation(3rd dim=1 means only 1 feature added, opening price)\n",
    "# # .shape[0]=no of rows(total initial number of stock prices-timesteps); .shape[1]=no of columns(timesteps); 1=no of features(here its 'open stock price')\n",
    "# print('X_train: 3D np array')\n",
    "# print(X_train)\n",
    "# print('Y_train: 3D np array')\n",
    "# print(Y_train)"
   ]
  },
  {
   "cell_type": "code",
   "execution_count": null,
   "metadata": {
    "collapsed": true
   },
   "outputs": [],
   "source": []
  },
  {
   "cell_type": "code",
   "execution_count": null,
   "metadata": {
    "collapsed": true
   },
   "outputs": [],
   "source": []
  },
  {
   "cell_type": "code",
   "execution_count": null,
   "metadata": {
    "collapsed": true
   },
   "outputs": [],
   "source": []
  },
  {
   "cell_type": "code",
   "execution_count": null,
   "metadata": {
    "collapsed": true
   },
   "outputs": [],
   "source": []
  },
  {
   "cell_type": "code",
   "execution_count": null,
   "metadata": {
    "collapsed": true
   },
   "outputs": [],
   "source": []
  },
  {
   "cell_type": "code",
   "execution_count": 52,
   "metadata": {
    "collapsed": true
   },
   "outputs": [],
   "source": [
    "###########################################################\n",
    "# 1.2 Building the RNN - Default Model\n",
    "###########################################################"
   ]
  },
  {
   "cell_type": "code",
   "execution_count": 4,
   "metadata": {},
   "outputs": [
    {
     "name": "stderr",
     "output_type": "stream",
     "text": [
      "Using TensorFlow backend.\n"
     ]
    }
   ],
   "source": [
    "# Importing Keras libraries and packages\n",
    "from keras.models import Sequential\n",
    "from keras.layers import Dense\n",
    "from keras.layers import LSTM\n",
    "from keras.layers import Dropout"
   ]
  },
  {
   "cell_type": "code",
   "execution_count": 5,
   "metadata": {},
   "outputs": [
    {
     "name": "stdout",
     "output_type": "stream",
     "text": [
      "Epoch 1/100\n",
      "1075/1075 [==============================] - 19s 17ms/step - loss: 0.0481\n",
      "Epoch 2/100\n",
      " 576/1075 [===============>..............] - ETA: 6s - loss: 0.0054"
     ]
    },
    {
     "ename": "KeyboardInterrupt",
     "evalue": "",
     "output_type": "error",
     "traceback": [
      "\u001b[1;31m---------------------------------------------------------------------------\u001b[0m",
      "\u001b[1;31mKeyboardInterrupt\u001b[0m                         Traceback (most recent call last)",
      "\u001b[1;32m<ipython-input-5-5bca094bfc88>\u001b[0m in \u001b[0;36m<module>\u001b[1;34m\u001b[0m\n\u001b[0;32m     31\u001b[0m \u001b[1;33m\u001b[0m\u001b[0m\n\u001b[0;32m     32\u001b[0m \u001b[1;31m# Fitting RNN\u001b[0m\u001b[1;33m\u001b[0m\u001b[1;33m\u001b[0m\u001b[0m\n\u001b[1;32m---> 33\u001b[1;33m \u001b[0mRegressor\u001b[0m\u001b[1;33m.\u001b[0m\u001b[0mfit\u001b[0m\u001b[1;33m(\u001b[0m \u001b[0mX_train\u001b[0m\u001b[1;33m,\u001b[0m \u001b[0mY_train\u001b[0m\u001b[1;33m,\u001b[0m \u001b[0mepochs\u001b[0m\u001b[1;33m=\u001b[0m\u001b[1;36m100\u001b[0m\u001b[1;33m,\u001b[0m \u001b[0mbatch_size\u001b[0m\u001b[1;33m=\u001b[0m\u001b[1;36m32\u001b[0m \u001b[1;33m)\u001b[0m\u001b[1;33m\u001b[0m\u001b[0m\n\u001b[0m\u001b[0;32m     34\u001b[0m \u001b[1;31m# Author said too much reduction in error on Training can cause overfitting and hence lesser accuracy on Test\u001b[0m\u001b[1;33m\u001b[0m\u001b[1;33m\u001b[0m\u001b[0m\n\u001b[0;32m     35\u001b[0m \u001b[1;31m# But trying to reduce accuracy on Vald can also cause overfitting on Vald and acc reduction for Test\u001b[0m\u001b[1;33m\u001b[0m\u001b[1;33m\u001b[0m\u001b[0m\n",
      "\u001b[1;32m~\\Anaconda1\\lib\\site-packages\\keras\\engine\\training.py\u001b[0m in \u001b[0;36mfit\u001b[1;34m(self, x, y, batch_size, epochs, verbose, callbacks, validation_split, validation_data, shuffle, class_weight, sample_weight, initial_epoch, steps_per_epoch, validation_steps, **kwargs)\u001b[0m\n\u001b[0;32m   1037\u001b[0m                                         \u001b[0minitial_epoch\u001b[0m\u001b[1;33m=\u001b[0m\u001b[0minitial_epoch\u001b[0m\u001b[1;33m,\u001b[0m\u001b[1;33m\u001b[0m\u001b[0m\n\u001b[0;32m   1038\u001b[0m                                         \u001b[0msteps_per_epoch\u001b[0m\u001b[1;33m=\u001b[0m\u001b[0msteps_per_epoch\u001b[0m\u001b[1;33m,\u001b[0m\u001b[1;33m\u001b[0m\u001b[0m\n\u001b[1;32m-> 1039\u001b[1;33m                                         validation_steps=validation_steps)\n\u001b[0m\u001b[0;32m   1040\u001b[0m \u001b[1;33m\u001b[0m\u001b[0m\n\u001b[0;32m   1041\u001b[0m     def evaluate(self, x=None, y=None,\n",
      "\u001b[1;32m~\\Anaconda1\\lib\\site-packages\\keras\\engine\\training_arrays.py\u001b[0m in \u001b[0;36mfit_loop\u001b[1;34m(model, f, ins, out_labels, batch_size, epochs, verbose, callbacks, val_f, val_ins, shuffle, callback_metrics, initial_epoch, steps_per_epoch, validation_steps)\u001b[0m\n\u001b[0;32m    197\u001b[0m                     \u001b[0mins_batch\u001b[0m\u001b[1;33m[\u001b[0m\u001b[0mi\u001b[0m\u001b[1;33m]\u001b[0m \u001b[1;33m=\u001b[0m \u001b[0mins_batch\u001b[0m\u001b[1;33m[\u001b[0m\u001b[0mi\u001b[0m\u001b[1;33m]\u001b[0m\u001b[1;33m.\u001b[0m\u001b[0mtoarray\u001b[0m\u001b[1;33m(\u001b[0m\u001b[1;33m)\u001b[0m\u001b[1;33m\u001b[0m\u001b[0m\n\u001b[0;32m    198\u001b[0m \u001b[1;33m\u001b[0m\u001b[0m\n\u001b[1;32m--> 199\u001b[1;33m                 \u001b[0mouts\u001b[0m \u001b[1;33m=\u001b[0m \u001b[0mf\u001b[0m\u001b[1;33m(\u001b[0m\u001b[0mins_batch\u001b[0m\u001b[1;33m)\u001b[0m\u001b[1;33m\u001b[0m\u001b[0m\n\u001b[0m\u001b[0;32m    200\u001b[0m                 \u001b[0mouts\u001b[0m \u001b[1;33m=\u001b[0m \u001b[0mto_list\u001b[0m\u001b[1;33m(\u001b[0m\u001b[0mouts\u001b[0m\u001b[1;33m)\u001b[0m\u001b[1;33m\u001b[0m\u001b[0m\n\u001b[0;32m    201\u001b[0m                 \u001b[1;32mfor\u001b[0m \u001b[0ml\u001b[0m\u001b[1;33m,\u001b[0m \u001b[0mo\u001b[0m \u001b[1;32min\u001b[0m \u001b[0mzip\u001b[0m\u001b[1;33m(\u001b[0m\u001b[0mout_labels\u001b[0m\u001b[1;33m,\u001b[0m \u001b[0mouts\u001b[0m\u001b[1;33m)\u001b[0m\u001b[1;33m:\u001b[0m\u001b[1;33m\u001b[0m\u001b[0m\n",
      "\u001b[1;32m~\\Anaconda1\\lib\\site-packages\\keras\\backend\\tensorflow_backend.py\u001b[0m in \u001b[0;36m__call__\u001b[1;34m(self, inputs)\u001b[0m\n\u001b[0;32m   2713\u001b[0m                 \u001b[1;32mreturn\u001b[0m \u001b[0mself\u001b[0m\u001b[1;33m.\u001b[0m\u001b[0m_legacy_call\u001b[0m\u001b[1;33m(\u001b[0m\u001b[0minputs\u001b[0m\u001b[1;33m)\u001b[0m\u001b[1;33m\u001b[0m\u001b[0m\n\u001b[0;32m   2714\u001b[0m \u001b[1;33m\u001b[0m\u001b[0m\n\u001b[1;32m-> 2715\u001b[1;33m             \u001b[1;32mreturn\u001b[0m \u001b[0mself\u001b[0m\u001b[1;33m.\u001b[0m\u001b[0m_call\u001b[0m\u001b[1;33m(\u001b[0m\u001b[0minputs\u001b[0m\u001b[1;33m)\u001b[0m\u001b[1;33m\u001b[0m\u001b[0m\n\u001b[0m\u001b[0;32m   2716\u001b[0m         \u001b[1;32melse\u001b[0m\u001b[1;33m:\u001b[0m\u001b[1;33m\u001b[0m\u001b[0m\n\u001b[0;32m   2717\u001b[0m             \u001b[1;32mif\u001b[0m \u001b[0mpy_any\u001b[0m\u001b[1;33m(\u001b[0m\u001b[0mis_tensor\u001b[0m\u001b[1;33m(\u001b[0m\u001b[0mx\u001b[0m\u001b[1;33m)\u001b[0m \u001b[1;32mfor\u001b[0m \u001b[0mx\u001b[0m \u001b[1;32min\u001b[0m \u001b[0minputs\u001b[0m\u001b[1;33m)\u001b[0m\u001b[1;33m:\u001b[0m\u001b[1;33m\u001b[0m\u001b[0m\n",
      "\u001b[1;32m~\\Anaconda1\\lib\\site-packages\\keras\\backend\\tensorflow_backend.py\u001b[0m in \u001b[0;36m_call\u001b[1;34m(self, inputs)\u001b[0m\n\u001b[0;32m   2673\u001b[0m             \u001b[0mfetched\u001b[0m \u001b[1;33m=\u001b[0m \u001b[0mself\u001b[0m\u001b[1;33m.\u001b[0m\u001b[0m_callable_fn\u001b[0m\u001b[1;33m(\u001b[0m\u001b[1;33m*\u001b[0m\u001b[0marray_vals\u001b[0m\u001b[1;33m,\u001b[0m \u001b[0mrun_metadata\u001b[0m\u001b[1;33m=\u001b[0m\u001b[0mself\u001b[0m\u001b[1;33m.\u001b[0m\u001b[0mrun_metadata\u001b[0m\u001b[1;33m)\u001b[0m\u001b[1;33m\u001b[0m\u001b[0m\n\u001b[0;32m   2674\u001b[0m         \u001b[1;32melse\u001b[0m\u001b[1;33m:\u001b[0m\u001b[1;33m\u001b[0m\u001b[0m\n\u001b[1;32m-> 2675\u001b[1;33m             \u001b[0mfetched\u001b[0m \u001b[1;33m=\u001b[0m \u001b[0mself\u001b[0m\u001b[1;33m.\u001b[0m\u001b[0m_callable_fn\u001b[0m\u001b[1;33m(\u001b[0m\u001b[1;33m*\u001b[0m\u001b[0marray_vals\u001b[0m\u001b[1;33m)\u001b[0m\u001b[1;33m\u001b[0m\u001b[0m\n\u001b[0m\u001b[0;32m   2676\u001b[0m         \u001b[1;32mreturn\u001b[0m \u001b[0mfetched\u001b[0m\u001b[1;33m[\u001b[0m\u001b[1;33m:\u001b[0m\u001b[0mlen\u001b[0m\u001b[1;33m(\u001b[0m\u001b[0mself\u001b[0m\u001b[1;33m.\u001b[0m\u001b[0moutputs\u001b[0m\u001b[1;33m)\u001b[0m\u001b[1;33m]\u001b[0m\u001b[1;33m\u001b[0m\u001b[0m\n\u001b[0;32m   2677\u001b[0m \u001b[1;33m\u001b[0m\u001b[0m\n",
      "\u001b[1;32m~\\Anaconda1\\lib\\site-packages\\tensorflow\\python\\client\\session.py\u001b[0m in \u001b[0;36m__call__\u001b[1;34m(self, *args, **kwargs)\u001b[0m\n\u001b[0;32m   1397\u001b[0m           ret = tf_session.TF_SessionRunCallable(\n\u001b[0;32m   1398\u001b[0m               \u001b[0mself\u001b[0m\u001b[1;33m.\u001b[0m\u001b[0m_session\u001b[0m\u001b[1;33m.\u001b[0m\u001b[0m_session\u001b[0m\u001b[1;33m,\u001b[0m \u001b[0mself\u001b[0m\u001b[1;33m.\u001b[0m\u001b[0m_handle\u001b[0m\u001b[1;33m,\u001b[0m \u001b[0margs\u001b[0m\u001b[1;33m,\u001b[0m \u001b[0mstatus\u001b[0m\u001b[1;33m,\u001b[0m\u001b[1;33m\u001b[0m\u001b[0m\n\u001b[1;32m-> 1399\u001b[1;33m               run_metadata_ptr)\n\u001b[0m\u001b[0;32m   1400\u001b[0m         \u001b[1;32mif\u001b[0m \u001b[0mrun_metadata\u001b[0m\u001b[1;33m:\u001b[0m\u001b[1;33m\u001b[0m\u001b[0m\n\u001b[0;32m   1401\u001b[0m           \u001b[0mproto_data\u001b[0m \u001b[1;33m=\u001b[0m \u001b[0mtf_session\u001b[0m\u001b[1;33m.\u001b[0m\u001b[0mTF_GetBuffer\u001b[0m\u001b[1;33m(\u001b[0m\u001b[0mrun_metadata_ptr\u001b[0m\u001b[1;33m)\u001b[0m\u001b[1;33m\u001b[0m\u001b[0m\n",
      "\u001b[1;31mKeyboardInterrupt\u001b[0m: "
     ]
    }
   ],
   "source": [
    "# Same code for single/multi feature modelling\n",
    "# Changes for multi feature: no changes\n",
    "\n",
    "# Initializing the RNN\n",
    "Regressor = Sequential()\n",
    "\n",
    "# Adding LSTM layers and Dropout Regularization\n",
    "Regressor.add( LSTM( units=100, return_sequences=True, input_shape=(X_train.shape[1], 1) ) ) \n",
    "# last parameter is for 1/more features\n",
    "# input_shape has last 2 parameters of np.reshape function in 'data pre-processing' paragraph\n",
    "# LSTMs by default use tanh activation\n",
    "Regressor.add( Dropout(0.1) )\n",
    "\n",
    "Regressor.add( LSTM( units=100, return_sequences=True ) )\n",
    "Regressor.add( Dropout(0.1) )\n",
    "\n",
    "Regressor.add( LSTM( units=100, return_sequences=True ) )\n",
    "Regressor.add( Dropout(0.1) )\n",
    "\n",
    "Regressor.add( LSTM( units=100 ) )\n",
    "Regressor.add( Dropout(0.1) )\n",
    "\n",
    "# Output layer\n",
    "Regressor.add( Dense( units=1 ) )\n",
    "\n",
    "# 'return_sequence=True' means will add another LSTM layer after this\n",
    "# input_shape has last 2 parameters of np.reshape function\n",
    "# author says 0.2 dropout is standard here\n",
    "\n",
    "# Compiling the RNN\n",
    "Regressor.compile( optimizer='adam', loss='mean_squared_error' )\n",
    "# RMSprop is preferred; but author using adam since he found it more useful\n",
    "\n",
    "# Fitting RNN\n",
    "Regressor.fit( X_train, Y_train, epochs=100, batch_size=32 )\n",
    "# Author said too much reduction in error on Training can cause overfitting and hence lesser accuracy on Test\n",
    "# But trying to reduce accuracy on Vald can also cause overfitting on Vald and acc reduction for Test\n",
    "# Maybe good to find an automated method like Auto-Arima\n",
    "# loss at 0.0012 for 100 epochs\n",
    "\n",
    "# Approach - Build 2-3 approaches and finalize one which minimizes error on Test"
   ]
  },
  {
   "cell_type": "code",
   "execution_count": null,
   "metadata": {
    "collapsed": true
   },
   "outputs": [],
   "source": []
  },
  {
   "cell_type": "code",
   "execution_count": null,
   "metadata": {
    "collapsed": true
   },
   "outputs": [],
   "source": []
  },
  {
   "cell_type": "code",
   "execution_count": null,
   "metadata": {
    "collapsed": true
   },
   "outputs": [],
   "source": []
  },
  {
   "cell_type": "code",
   "execution_count": null,
   "metadata": {
    "collapsed": true
   },
   "outputs": [],
   "source": []
  },
  {
   "cell_type": "code",
   "execution_count": null,
   "metadata": {
    "collapsed": true
   },
   "outputs": [],
   "source": []
  },
  {
   "cell_type": "code",
   "execution_count": null,
   "metadata": {
    "collapsed": true
   },
   "outputs": [],
   "source": []
  },
  {
   "cell_type": "code",
   "execution_count": null,
   "metadata": {
    "collapsed": true
   },
   "outputs": [],
   "source": []
  },
  {
   "cell_type": "code",
   "execution_count": 79,
   "metadata": {
    "collapsed": true
   },
   "outputs": [],
   "source": [
    "###########################################################\n",
    "# 1.3 Making the Next Day Predictions(Sequence Predictions) and Visualizing the Results - Vald\n",
    "# Note: Predictions are only for next day, then actual of next day is taken to predict for day after\n",
    "# Separate code written below(in section 3.) to forecast for multiple days at once\n",
    "###########################################################"
   ]
  },
  {
   "cell_type": "code",
   "execution_count": 402,
   "metadata": {},
   "outputs": [
    {
     "data": {
      "image/png": "[encoded data removed]",
      "text/plain": [
       "<matplotlib.figure.Figure at 0xaafbaf28>"
      ]
     },
     "metadata": {},
     "output_type": "display_data"
    },
    {
     "data": {
      "text/plain": [
       "94.396201682914565"
      ]
     },
     "execution_count": 402,
     "metadata": {},
     "output_type": "execute_result"
    }
   ],
   "source": [
    "## Code for single feature modelling ('Open' stock price)\n",
    "\n",
    "# Importing the Validation set\n",
    "dataset_vald = pd.read_csv('C:/Users/anurag.trivedi/2. Data/RNN Data/Recurrent_Neural_Networks/Updated/Google_Stock_Price_Vald.csv')\n",
    "vald_set = dataset_vald.iloc[:,1:2].values\n",
    "\n",
    "# Combining with last 60 values before vald timeframe:\n",
    "train_vald_set = np.concatenate([training_set,vald_set]) # 2 np arrays concatenated\n",
    "vald_set_1 = train_vald_set[ (len(training_set) - TS_Range) : len(train_vald_set) , :  ] # Timesteps_Range = 60\n",
    "\n",
    "# QC:\n",
    "# np.savetxt(\"C:/Users/anurag.trivedi/2. Data/RNN Data/Recurrent_Neural_Networks/Updated/Temp.csv\", vald_set, delimiter=\",\") \n",
    "\n",
    "# Feature Scaling:\n",
    "vald_set_scaled = sc.transform(vald_set_1)\n",
    "# print(vald_set_scaled)\n",
    "\n",
    "# Creating a data structure with 60 timesteps and no output:\n",
    "# TS_Range = 60 # timesteps (should be optimized) extent of past data used for next prediction\n",
    "X_Vald = []\n",
    "for i in range(TS_Range, len(vald_set_scaled)):\n",
    "    X_Vald.append( vald_set_scaled[i-TS_Range:i, 0] )\n",
    "X_Vald = np.array(X_Vald)\n",
    "\n",
    "# QC:\n",
    "# np.savetxt(\"C:/Users/anurag.trivedi/2. Data/RNN Data/Recurrent_Neural_Networks/Updated/Temp1.csv\", vald_set_scaled, delimiter=\",\")\n",
    "# np.savetxt(\"C:/Users/anurag.trivedi/2. Data/RNN Data/Recurrent_Neural_Networks/Updated/Temp2.csv\", X_Vald, delimiter=\",\") \n",
    "\n",
    "# 3D Reshaping:\n",
    "X_Vald = np.reshape(X_Vald, (X_Vald.shape[0], X_Vald.shape[1], 1))\n",
    "\n",
    "# Predictions:\n",
    "X_Vald_Predicted = Regressor.predict(X_Vald)\n",
    "X_Vald_Predicted = sc.inverse_transform(X_Vald_Predicted)\n",
    "\n",
    "# Visualizing the results:\n",
    "plt.plot(vald_set, color = 'black', label = 'Real Google Stock Price')\n",
    "plt.plot(X_Vald_Predicted, color = 'red', label = 'Predicted Google Stock Price')\n",
    "plt.title('Google Stock Price Prediction')\n",
    "plt.xlabel('Days')\n",
    "plt.ylabel('Google Stock Price')\n",
    "plt.legend()\n",
    "plt.show()\n",
    "\n",
    "# MSE\n",
    "import math\n",
    "from sklearn.metrics import mean_squared_error\n",
    "mse = mean_squared_error(vald_set, X_Vald_Predicted)\n",
    "mse"
   ]
  },
  {
   "cell_type": "code",
   "execution_count": 394,
   "metadata": {},
   "outputs": [
    {
     "data": {
      "image/png": "[encoded data removed]",
      "text/plain": [
       "<matplotlib.figure.Figure at 0x9333fd68>"
      ]
     },
     "metadata": {},
     "output_type": "display_data"
    },
    {
     "data": {
      "text/plain": [
       "312.84804006023137"
      ]
     },
     "execution_count": 394,
     "metadata": {},
     "output_type": "execute_result"
    }
   ],
   "source": [
    "## Code for multiple feature modelling (here 2, 'Open' stock price and 'High' during the day)\n",
    "## 'Uncomment all code below'\n",
    "\n",
    "# # Importing the Validation set\n",
    "# dataset_vald = pd.read_csv('C:/Users/anurag.trivedi/2. Data/RNN Data/Recurrent_Neural_Networks/Updated/Google_Stock_Price_Vald.csv')\n",
    "# vald_set = dataset_vald.iloc[:,1:3].values\n",
    "\n",
    "# # Combining with last 60 values before vald timeframe:\n",
    "# train_vald_set = np.concatenate([training_set,vald_set]) # 2 np arrays concatenated\n",
    "# vald_set_1 = train_vald_set[ (len(training_set) - TS_Range) : len(train_vald_set) , :  ] # Timesteps_Range = 60\n",
    "\n",
    "# # QC:\n",
    "# # np.savetxt(\"C:/Users/anurag.trivedi/2. Data/RNN Data/Recurrent_Neural_Networks/Updated/Temp.csv\", vald_set, delimiter=\",\") \n",
    "\n",
    "# # Feature Scaling:\n",
    "# vald_set_scaled = sc.transform(vald_set_1)\n",
    "# # print(vald_set_scaled)\n",
    "\n",
    "# # Creating a data structure with 60 timesteps and no output:\n",
    "# # TS_Range = 60 # timesteps (should be optimized) extent of past data used for next prediction\n",
    "# X_Vald = []\n",
    "# X_Vald_1 = []\n",
    "# for i in range(TS_Range, len(vald_set_scaled)):\n",
    "#     X_Vald.append( vald_set_scaled[i-TS_Range:i, 0] )\n",
    "#     X_Vald_1.append( vald_set_scaled[i-TS_Range:i, 1] )\n",
    "# X_Vald, X_Vald_1 = np.array(X_Vald), np.array(X_Vald_1)\n",
    "\n",
    "# # creates 2*TS_Range columns; half for one attribute, half for another\n",
    "# X_Vald = np.concatenate((X_Vald, X_Vald_1), axis=1) # cbind\n",
    "\n",
    "# # QC:\n",
    "# # np.savetxt(\"C:/Users/anurag.trivedi/2. Data/RNN Data/Recurrent_Neural_Networks/Updated/Temp1.csv\", vald_set_scaled, delimiter=\",\")\n",
    "# # np.savetxt(\"C:/Users/anurag.trivedi/2. Data/RNN Data/Recurrent_Neural_Networks/Updated/Temp2.csv\", X_Vald, delimiter=\",\") \n",
    "\n",
    "# # 3D Reshaping:\n",
    "# X_Vald = np.reshape(X_Vald, (X_Vald.shape[0], X_Vald.shape[1], 1))\n",
    "\n",
    "# # Predictions:\n",
    "# X_Vald_Predicted = Regressor.predict(X_Vald)\n",
    "# # sc.inverse_transform will inverse 2 columns, hence below workaround\n",
    "# X_Vald_Predicted = np.concatenate((X_Vald_Predicted, X_Vald_Predicted), axis=1) # cbind\n",
    "# X_Vald_Predicted = sc.inverse_transform( X_Vald_Predicted )\n",
    "# X_Vald_Predicted = X_Vald_Predicted[:,0]\n",
    "# X_Vald_Predicted\n",
    "\n",
    "# # Visualizing the results:\n",
    "# plt.plot(vald_set[:,0], color = 'black', label = 'Real Google Stock Price')\n",
    "# plt.plot(X_Vald_Predicted, color = 'red', label = 'Predicted Google Stock Price')\n",
    "# plt.title('Google Stock Price Prediction')\n",
    "# plt.xlabel('Days')\n",
    "# plt.ylabel('Google Stock Price')\n",
    "# plt.legend()\n",
    "# plt.show()\n",
    "\n",
    "# # MSE\n",
    "# import math\n",
    "# from sklearn.metrics import mean_squared_error\n",
    "# mse = mean_squared_error(vald_set[:,0], X_Vald_Predicted)\n",
    "# mse"
   ]
  },
  {
   "cell_type": "code",
   "execution_count": null,
   "metadata": {
    "collapsed": true
   },
   "outputs": [],
   "source": []
  },
  {
   "cell_type": "code",
   "execution_count": null,
   "metadata": {
    "collapsed": true
   },
   "outputs": [],
   "source": []
  },
  {
   "cell_type": "code",
   "execution_count": null,
   "metadata": {
    "collapsed": true
   },
   "outputs": [],
   "source": []
  },
  {
   "cell_type": "code",
   "execution_count": null,
   "metadata": {
    "collapsed": true
   },
   "outputs": [],
   "source": []
  },
  {
   "cell_type": "code",
   "execution_count": null,
   "metadata": {
    "collapsed": true
   },
   "outputs": [],
   "source": []
  },
  {
   "cell_type": "code",
   "execution_count": null,
   "metadata": {
    "collapsed": true
   },
   "outputs": [],
   "source": [
    "###########################################################\n",
    "# 1.3.2 Manual Parameter Tuning (Min Training and Validation MSE)\n",
    "###########################################################"
   ]
  },
  {
   "cell_type": "code",
   "execution_count": null,
   "metadata": {
    "collapsed": true
   },
   "outputs": [],
   "source": [
    "# Parameters to tune (** means accuracy increased, * means paramter helped in inc accuracy)\n",
    "# 1. Timesteps = 60, 90, 150 ..\n",
    "# 2. Number of RNN layers\n",
    "# 3. Number of neurons in RNN layer\n",
    "# 4. Dropout rate\n",
    "# 5. epochs, batch_size\n",
    "# 6. Add more variables in 3D structure\n",
    "\n",
    "# 1. Timesteps = 60\n",
    "# 2. Number of RNN layers = 4\n",
    "# 3. Number of neurons in RNN layer = 50 \n",
    "# 4. Dropout rate = 0.2\n",
    "# 5. epochs=100, batch_size=32\n",
    "# 6. Add more variables in 3D structure = 1\n",
    "# Train mse = 0.0017, Vald mse = 142.89 *\n",
    "\n",
    "# 1. Timesteps = 60\n",
    "# 2. Number of RNN layers = 6\n",
    "# 3. Number of neurons in RNN layer = 50 \n",
    "# 4. Dropout rate = 0.2\n",
    "# 5. epochs=100, batch_size=32\n",
    "# 6. Add more variables in 3D structure = 1\n",
    "# Train mse = 0.0019, Vald mse = 394.86\n",
    "\n",
    "# 1. Timesteps = 60\n",
    "# 2. Number of RNN layers = 4\n",
    "# 3. Number of neurons in RNN layer = 100* (time inc)\n",
    "# 4. Dropout rate = 0.2\n",
    "# 5. epochs=100, batch_size=32\n",
    "# 6. Add more variables in 3D structure = 1\n",
    "# Train mse = 0.0011, Vald mse = 102.71 **\n",
    "\n",
    "# 1. Timesteps = 200 (time inc)\n",
    "# 2. Number of RNN layers = 4\n",
    "# 3. Number of neurons in RNN layer = 100*\n",
    "# 4. Dropout rate = 0.2\n",
    "# 5. epochs=100, batch_size=32\n",
    "# 6. Add more variables in 3D structure = 1\n",
    "# Train mse = 0.0011, Vald mse = 129.33\n",
    "# Note: adding too many timesteps lead to overfitting\n",
    "\n",
    "# 1. Timesteps = 60\n",
    "# 2. Number of RNN layers = 4\n",
    "# 3. Number of neurons in RNN layer = 100* (time inc)\n",
    "# 4. Dropout rate = 0.2\n",
    "# 5. epochs=100, batch_size=32\n",
    "# 6. Add more variables in 3D structure = 2 (Open stock price, High stock price)\n",
    "# Train mse = 0.0012, Vald mse = 312.84\n",
    "# Adding 1 more var lead to overfitting\n",
    "\n",
    "# 1. Timesteps = 120*\n",
    "# 2. Number of RNN layers = 4\n",
    "# 3. Number of neurons in RNN layer = 100* (time inc)\n",
    "# 4. Dropout rate = 0.2\n",
    "# 5. epochs=100, batch_size=32\n",
    "# 6. Add more variables in 3D structure = 1\n",
    "# Train mse = 0.0013, Vald mse = 96.56 ***\n",
    "\n",
    "# 1. Timesteps = 120*\n",
    "# 2. Number of RNN layers = 4\n",
    "# 3. Number of neurons in RNN layer = 100* (time inc)\n",
    "# 4. Dropout rate = 0.2\n",
    "# 5. epochs=200, batch_size=32\n",
    "# 6. Add more variables in 3D structure = 1\n",
    "# Train mse = 0.00082, Vald mse = 108.09\n",
    "# Note: Inc epochs can lead to overfitting\n",
    "\n",
    "# 1. Timesteps = 120*\n",
    "# 2. Number of RNN layers = 4\n",
    "# 3. Number of neurons in RNN layer = 100* (time inc)\n",
    "# 4. Dropout rate = 0.1*\n",
    "# 5. epochs=100, batch_size=32\n",
    "# 6. Add more variables in 3D structure = 1\n",
    "# Train mse = 0.000895, Vald mse = 94.40 ****\n",
    "\n"
   ]
  },
  {
   "cell_type": "code",
   "execution_count": 295,
   "metadata": {
    "collapsed": true
   },
   "outputs": [],
   "source": []
  },
  {
   "cell_type": "code",
   "execution_count": null,
   "metadata": {
    "collapsed": true
   },
   "outputs": [],
   "source": []
  },
  {
   "cell_type": "code",
   "execution_count": null,
   "metadata": {
    "collapsed": true
   },
   "outputs": [],
   "source": []
  },
  {
   "cell_type": "code",
   "execution_count": 256,
   "metadata": {
    "collapsed": true
   },
   "outputs": [],
   "source": [
    "###########################################################\n",
    "# 1.4 Making Multiple Days Prediction at once and Visualizing the Results - Vald\n",
    "# Note: Predictions are for multiple days at once (prediction of next day is taken to predict for day after)\n",
    "###########################################################\n",
    "# For this, check 'Forecasting' folder - LSTM based code is present"
   ]
  },
  {
   "cell_type": "code",
   "execution_count": 287,
   "metadata": {},
   "outputs": [
    {
     "data": {
      "image/png": "[encoded data removed]",
      "text/plain": [
       "<matplotlib.figure.Figure at 0x193726d8>"
      ]
     },
     "metadata": {},
     "output_type": "display_data"
    }
   ],
   "source": [
    "## Code for single feature modelling ('Open' stock price)\n",
    "\n",
    "Forecast_Length = 63 # number of time periods for which future forecast is required\n",
    "\n",
    "X_Vald_Predicted_Final = [] # list to save final set of predictions generated one by one\n",
    "\n",
    "# Combining with last 60 values before vald timeframe:\n",
    "vald_set_1 = train_vald_set[ (len(training_set) - TS_Range) : len(training_set) , :  ] # Timesteps_Range = 60 \n",
    "\n",
    "# QC:\n",
    "# np.savetxt(\"C:/Users/anurag.trivedi/2. Data/RNN Data/Recurrent_Neural_Networks/Updated/Temp.csv\", vald_set_1, delimiter=\",\")\n",
    "\n",
    "# Feature Scaling:\n",
    "vald_set_scaled = sc.transform(vald_set_1)\n",
    "# print(vald_set_scaled)\n",
    "\n",
    "# Creating a data structure with 60 timesteps and no output:\n",
    "# TS_Range = 60 # timesteps (should be optimized) extent of past data used for next prediction\n",
    "X_Vald = []\n",
    "for i in range(TS_Range, len(vald_set_scaled)+1):\n",
    "    X_Vald.append( vald_set_scaled[i-TS_Range:i, 0] )\n",
    "X_Vald = np.array(X_Vald)\n",
    "\n",
    "# QC:\n",
    "# np.savetxt(\"C:/Users/anurag.trivedi/2. Data/RNN Data/Recurrent_Neural_Networks/Updated/Temp1.csv\", vald_set_scaled, delimiter=\",\")\n",
    "# np.savetxt(\"C:/Users/anurag.trivedi/2. Data/RNN Data/Recurrent_Neural_Networks/Updated/Temp2.csv\", X_Vald, delimiter=\",\") \n",
    "\n",
    "# 3D Reshaping:\n",
    "X_Vald = np.reshape(X_Vald, (X_Vald.shape[0], X_Vald.shape[1], 1))\n",
    "\n",
    "# Predictions:\n",
    "X_Vald_Predicted = Regressor.predict(X_Vald)\n",
    "# X_Vald_Predicted = sc.inverse_transform(X_Vald_Predicted)\n",
    "\n",
    "X_Vald_Predicted_Final.append ( X_Vald_Predicted )\n",
    "\n",
    "for i in range(0, Forecast_Length-1): # 'number of days of future forecasts'-1, in this case we need 64 days of forecasts in total\n",
    "    vald_set_scaled = vald_set_scaled.tolist()\n",
    "    vald_set_scaled.append( X_Vald_Predicted )\n",
    "    vald_set_scaled = np.array(vald_set_scaled)\n",
    "    vald_set_scaled = vald_set_scaled[1:TS_Range+1]\n",
    "    \n",
    "    X_Vald = []\n",
    "    for i in range(TS_Range, len(vald_set_scaled)+1):\n",
    "        X_Vald.append( vald_set_scaled[i-TS_Range:i, 0] )\n",
    "        X_Vald = np.array(X_Vald)\n",
    "        \n",
    "    X_Vald = np.reshape(X_Vald, (X_Vald.shape[0], X_Vald.shape[1], 1))\n",
    "    \n",
    "    X_Vald_Predicted = Regressor.predict(X_Vald)\n",
    "    \n",
    "    X_Vald_Predicted_Final.append ( X_Vald_Predicted )\n",
    "    \n",
    "X_Vald_Predicted_Final = np.array(X_Vald_Predicted_Final) \n",
    "X_Vald_Predicted_Final = X_Vald_Predicted_Final[:,:,0] # converting 3D to 2D\n",
    "X_Vald_Predicted_Final = sc.inverse_transform(X_Vald_Predicted_Final)\n",
    "X_Vald_Predicted_Final\n",
    "\n",
    "# Visualizing the results:\n",
    "plt.plot(vald_set, color = 'black', label = 'Real Google Stock Price')\n",
    "plt.plot(X_Vald_Predicted_Final, color = 'red', label = 'Predicted Google Stock Price')\n",
    "plt.title('Google Stock Price Prediction')\n",
    "plt.xlabel('Days')\n",
    "plt.ylabel('Google Stock Price')\n",
    "plt.legend()\n",
    "plt.show()"
   ]
  },
  {
   "cell_type": "code",
   "execution_count": null,
   "metadata": {
    "collapsed": true
   },
   "outputs": [],
   "source": []
  },
  {
   "cell_type": "code",
   "execution_count": null,
   "metadata": {
    "collapsed": true
   },
   "outputs": [],
   "source": []
  },
  {
   "cell_type": "code",
   "execution_count": null,
   "metadata": {
    "collapsed": true
   },
   "outputs": [],
   "source": []
  }
 ],
 "metadata": {
  "kernelspec": {
   "display_name": "Python 3",
   "language": "python",
   "name": "python3"
  },
  "language_info": {
   "codemirror_mode": {
    "name": "ipython",
    "version": 3
   },
   "file_extension": ".py",
   "mimetype": "text/x-python",
   "name": "python",
   "nbconvert_exporter": "python",
   "pygments_lexer": "ipython3",
   "version": "3.6.6"
  }
 },
 "nbformat": 4,
 "nbformat_minor": 2
}
