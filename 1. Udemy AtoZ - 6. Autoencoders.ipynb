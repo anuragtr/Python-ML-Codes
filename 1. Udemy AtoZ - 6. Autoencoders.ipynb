{
 "cells": [
  {
   "cell_type": "markdown",
   "metadata": {},
   "source": [
    "# ### Anaconda & Python Version:\n",
    "\n",
    "The version of the notebook server is 5.7.0 and is running on:\n",
    "Python 3.6.6 |Anaconda, Inc.| (default, Jun 28 2018, 11:27:44) [MSC v.1900 64 bit (AMD64)]\n",
    "\n",
    "Current Kernel Information:\n",
    "Python 3.6.6 |Anaconda, Inc.| (default, Jun 28 2018, 11:27:44) [MSC v.1900 64 bit (AMD64)]\n",
    "Type 'copyright', 'credits' or 'license' for more information\n",
    "IPython 7.0.1 -- An enhanced Interactive Python. Type '?' for help.\n",
    "\n",
    "#### Anaconda 5.0.1"
   ]
  },
  {
   "cell_type": "code",
   "execution_count": 1,
   "metadata": {},
   "outputs": [],
   "source": [
    "# Versions of Libraries: (Code: 'pip list' in anaconda prompt)\n",
    "# Check version of anaconda - 'conda list anaconda$' or 'conda info' in anaconda command prompt\n",
    "# Check version of python - 'python' in anaconda command prompt"
   ]
  },
  {
   "cell_type": "code",
   "execution_count": 2,
   "metadata": {},
   "outputs": [],
   "source": [
    "### Problem: Recommendation System for 1/2/3/4/5 ratings recommendations\n",
    "### Problem Type: \n",
    "### Steps:\n",
    "#### 0. \n",
    "#### 1. \n",
    "#### 2. Note: Should have a validation set also\n",
    "#### 3. \n",
    "#### 4. \n",
    "#### 5. \n",
    "#### 6. \n",
    "#### 7."
   ]
  },
  {
   "cell_type": "code",
   "execution_count": 3,
   "metadata": {},
   "outputs": [],
   "source": [
    "## install pytorch:\n",
    "# pytorch - (wrapper library over torch) is easiest and fastest for Boltzmann Machines, compared to tensorflow, keras\n",
    "# pytorch - developed by Facebook AI research group, good for NLP, DL on GPUs\n",
    "# keras - (wrapper library over tensorflow/theano), makes DL more intuitive and easy to use but no enhancement in speed\n",
    "\n",
    "# installing pytorch:\n",
    "# go to: https://pytorch.org/; select Stable, Windows, Pip, 3.6, None;\n",
    "# change 'pip3' to 'pip' in below link:\n",
    "# run \"pip install http://download.pytorch.org/whl/cpu/torch-0.4.1-cp36-cp36m-win_amd64.whl\" in anaconda cmd\n",
    "# succefully installs: torch-0.4.1            # although author installed 'torch 0.1.10.post1'"
   ]
  },
  {
   "cell_type": "code",
   "execution_count": 4,
   "metadata": {},
   "outputs": [],
   "source": [
    "## standard datasets for movie recommendation system:\n",
    "# link - https://grouplens.org/datasets/movielens/\n",
    "# for this problem, download 'ml-100k.zip' and 'ml-1m.zip' (same on grouplens and superdatascience)"
   ]
  },
  {
   "cell_type": "code",
   "execution_count": 5,
   "metadata": {},
   "outputs": [],
   "source": [
    "## Special Note: Here we are going to work on torch tensors and not tensorflow tensors"
   ]
  },
  {
   "cell_type": "code",
   "execution_count": 12,
   "metadata": {},
   "outputs": [],
   "source": [
    "try:\n",
    "    import torch\n",
    "except ImportError as e:\n",
    "    !pip install torch"
   ]
  },
  {
   "cell_type": "code",
   "execution_count": 13,
   "metadata": {},
   "outputs": [],
   "source": [
    "## import libraries:\n",
    "import numpy as np\n",
    "import pandas as pd\n",
    "# import torch\n",
    "import torch.nn as nn\n",
    "import torch.nn.parallel\n",
    "import torch.optim as optim\n",
    "import torch.utils.data\n",
    "from torch.autograd import Variable"
   ]
  },
  {
   "cell_type": "code",
   "execution_count": 15,
   "metadata": {},
   "outputs": [
    {
     "data": {
      "text/html": [
       "<div>\n",
       "<style scoped>\n",
       "    .dataframe tbody tr th:only-of-type {\n",
       "        vertical-align: middle;\n",
       "    }\n",
       "\n",
       "    .dataframe tbody tr th {\n",
       "        vertical-align: top;\n",
       "    }\n",
       "\n",
       "    .dataframe thead th {\n",
       "        text-align: right;\n",
       "    }\n",
       "</style>\n",
       "<table border=\"1\" class=\"dataframe\">\n",
       "  <thead>\n",
       "    <tr style=\"text-align: right;\">\n",
       "      <th></th>\n",
       "      <th>Movie_ID</th>\n",
       "      <th>Movie_Title</th>\n",
       "      <th>Movie_Genre</th>\n",
       "    </tr>\n",
       "  </thead>\n",
       "  <tbody>\n",
       "    <tr>\n",
       "      <th>0</th>\n",
       "      <td>1</td>\n",
       "      <td>Toy Story (1995)</td>\n",
       "      <td>Animation|Children's|Comedy</td>\n",
       "    </tr>\n",
       "    <tr>\n",
       "      <th>1</th>\n",
       "      <td>2</td>\n",
       "      <td>Jumanji (1995)</td>\n",
       "      <td>Adventure|Children's|Fantasy</td>\n",
       "    </tr>\n",
       "    <tr>\n",
       "      <th>2</th>\n",
       "      <td>3</td>\n",
       "      <td>Grumpier Old Men (1995)</td>\n",
       "      <td>Comedy|Romance</td>\n",
       "    </tr>\n",
       "  </tbody>\n",
       "</table>\n",
       "</div>"
      ],
      "text/plain": [
       "   Movie_ID              Movie_Title                   Movie_Genre\n",
       "0         1         Toy Story (1995)   Animation|Children's|Comedy\n",
       "1         2           Jumanji (1995)  Adventure|Children's|Fantasy\n",
       "2         3  Grumpier Old Men (1995)                Comedy|Romance"
      ]
     },
     "execution_count": 15,
     "metadata": {},
     "output_type": "execute_result"
    }
   ],
   "source": [
    "## import dataset:\n",
    "movies = pd.read_csv('/home/antrived/Dropbox/Job-25-Feb-2019/prep/13. Data/1. Real Data/12. Recommendatio Engine Data/Movielens/ml-1m/movies.dat',\n",
    "                     sep='::',header=None,engine='python',encoding='latin-1')\n",
    "# movie names have ',', separator is '::', movie names may have special character so encoder 'utf-8' not used\n",
    "# movies.head(3) # 4000 movies\n",
    "movies=movies.rename(columns = {0:'Movie_ID'})\n",
    "movies=movies.rename(columns = {1:'Movie_Title'})\n",
    "movies=movies.rename(columns = {2:'Movie_Genre'})\n",
    "movies.head(3)"
   ]
  },
  {
   "cell_type": "code",
   "execution_count": 16,
   "metadata": {},
   "outputs": [
    {
     "data": {
      "text/html": [
       "<div>\n",
       "<style scoped>\n",
       "    .dataframe tbody tr th:only-of-type {\n",
       "        vertical-align: middle;\n",
       "    }\n",
       "\n",
       "    .dataframe tbody tr th {\n",
       "        vertical-align: top;\n",
       "    }\n",
       "\n",
       "    .dataframe thead th {\n",
       "        text-align: right;\n",
       "    }\n",
       "</style>\n",
       "<table border=\"1\" class=\"dataframe\">\n",
       "  <thead>\n",
       "    <tr style=\"text-align: right;\">\n",
       "      <th></th>\n",
       "      <th>User_ID</th>\n",
       "      <th>Gender</th>\n",
       "      <th>Age</th>\n",
       "      <th>Job_Code</th>\n",
       "      <th>Zip_Code</th>\n",
       "    </tr>\n",
       "  </thead>\n",
       "  <tbody>\n",
       "    <tr>\n",
       "      <th>0</th>\n",
       "      <td>1</td>\n",
       "      <td>F</td>\n",
       "      <td>1</td>\n",
       "      <td>10</td>\n",
       "      <td>48067</td>\n",
       "    </tr>\n",
       "    <tr>\n",
       "      <th>1</th>\n",
       "      <td>2</td>\n",
       "      <td>M</td>\n",
       "      <td>56</td>\n",
       "      <td>16</td>\n",
       "      <td>70072</td>\n",
       "    </tr>\n",
       "    <tr>\n",
       "      <th>2</th>\n",
       "      <td>3</td>\n",
       "      <td>M</td>\n",
       "      <td>25</td>\n",
       "      <td>15</td>\n",
       "      <td>55117</td>\n",
       "    </tr>\n",
       "  </tbody>\n",
       "</table>\n",
       "</div>"
      ],
      "text/plain": [
       "   User_ID Gender  Age  Job_Code Zip_Code\n",
       "0        1      F    1        10    48067\n",
       "1        2      M   56        16    70072\n",
       "2        3      M   25        15    55117"
      ]
     },
     "execution_count": 16,
     "metadata": {},
     "output_type": "execute_result"
    }
   ],
   "source": [
    "## import dataset:\n",
    "users = pd.read_csv('/home/antrived/Dropbox/Job-25-Feb-2019/prep/13. Data/1. Real Data/12. Recommendatio Engine Data/Movielens/ml-1m/users.dat',\n",
    "                     sep='::',header=None,engine='python',encoding='latin-1')\n",
    "users.head(3) # 6000 users; ID, Gender, Age, Job Code, Zip Code\n",
    "users=users.rename(columns = {0:'User_ID'})\n",
    "users=users.rename(columns = {1:'Gender'})\n",
    "users=users.rename(columns = {2:'Age'})\n",
    "users=users.rename(columns = {3:'Job_Code'})\n",
    "users=users.rename(columns = {4:'Zip_Code'})\n",
    "users.head(3)"
   ]
  },
  {
   "cell_type": "code",
   "execution_count": 17,
   "metadata": {},
   "outputs": [
    {
     "data": {
      "text/html": [
       "<div>\n",
       "<style scoped>\n",
       "    .dataframe tbody tr th:only-of-type {\n",
       "        vertical-align: middle;\n",
       "    }\n",
       "\n",
       "    .dataframe tbody tr th {\n",
       "        vertical-align: top;\n",
       "    }\n",
       "\n",
       "    .dataframe thead th {\n",
       "        text-align: right;\n",
       "    }\n",
       "</style>\n",
       "<table border=\"1\" class=\"dataframe\">\n",
       "  <thead>\n",
       "    <tr style=\"text-align: right;\">\n",
       "      <th></th>\n",
       "      <th>User_ID</th>\n",
       "      <th>Movie_ID</th>\n",
       "      <th>Rating</th>\n",
       "      <th>Time_Stamp</th>\n",
       "    </tr>\n",
       "  </thead>\n",
       "  <tbody>\n",
       "    <tr>\n",
       "      <th>0</th>\n",
       "      <td>1</td>\n",
       "      <td>1193</td>\n",
       "      <td>5</td>\n",
       "      <td>978300760</td>\n",
       "    </tr>\n",
       "    <tr>\n",
       "      <th>1</th>\n",
       "      <td>1</td>\n",
       "      <td>661</td>\n",
       "      <td>3</td>\n",
       "      <td>978302109</td>\n",
       "    </tr>\n",
       "    <tr>\n",
       "      <th>2</th>\n",
       "      <td>1</td>\n",
       "      <td>914</td>\n",
       "      <td>3</td>\n",
       "      <td>978301968</td>\n",
       "    </tr>\n",
       "  </tbody>\n",
       "</table>\n",
       "</div>"
      ],
      "text/plain": [
       "   User_ID  Movie_ID  Rating  Time_Stamp\n",
       "0        1      1193       5   978300760\n",
       "1        1       661       3   978302109\n",
       "2        1       914       3   978301968"
      ]
     },
     "execution_count": 17,
     "metadata": {},
     "output_type": "execute_result"
    }
   ],
   "source": [
    "## import dataset:\n",
    "ratings = pd.read_csv('/home/antrived/Dropbox/Job-25-Feb-2019/prep/13. Data/1. Real Data/12. Recommendatio Engine Data/Movielens/ml-1m/ratings.dat',\n",
    "                     sep='::',header=None,engine='python',encoding='latin-1')\n",
    "# ratings.head(3) # 1,000,000 ratings; User, Movie, Rating, timestamp when user rated movie\n",
    "ratings=ratings.rename(columns = {0:'User_ID'})\n",
    "ratings=ratings.rename(columns = {1:'Movie_ID'})\n",
    "ratings=ratings.rename(columns = {2:'Rating'})\n",
    "ratings=ratings.rename(columns = {3:'Time_Stamp'})\n",
    "ratings.head(3)"
   ]
  },
  {
   "cell_type": "markdown",
   "metadata": {
    "collapsed": true
   },
   "source": [
    "#######################################################################################\n",
    "############################### Data Pre-Processing ###################################\n",
    "#######################################################################################"
   ]
  },
  {
   "cell_type": "code",
   "execution_count": 11,
   "metadata": {
    "collapsed": true
   },
   "outputs": [],
   "source": [
    "## reduce Train-Univ size (for faster execution)\n",
    "# remove users\n",
    "ratings_small = ratings.head(300000)\n",
    "ratings_small # 1779 users, ~4000 movies\n",
    "ratings = ratings_small"
   ]
  },
  {
   "cell_type": "code",
   "execution_count": 12,
   "metadata": {
    "collapsed": true
   },
   "outputs": [],
   "source": [
    "## Normal train test split\n",
    "# 'same user same set' will not work for recomm engine because a user should have watched some movies for recomm to generate\n",
    "\n",
    "# random sampling\n",
    "np.random.seed(4)\n",
    "msk = np.random.rand(len(ratings)) < 0.75                        \n",
    "Train = ratings[msk] # generates random sample of nearly 75%        \n",
    "Test = ratings[~msk]\n",
    "\n",
    "# drop Time_Stamp as not required\n",
    "Train = Train.drop(['Time_Stamp'], axis=1)\n",
    "Test = Test.drop(['Time_Stamp'], axis=1)\n",
    "\n",
    "# save Train & Test as csv\n",
    "Train.to_csv('C:/Users/anurag.trivedi/2. Data/5. Boltzmann Machines/Boltzmann_Machines/Train.csv', sep=',')\n",
    "Test.to_csv('C:/Users/anurag.trivedi/2. Data/5. Boltzmann Machines/Boltzmann_Machines/Test.csv', sep=',')"
   ]
  },
  {
   "cell_type": "code",
   "execution_count": 13,
   "metadata": {
    "collapsed": true
   },
   "outputs": [],
   "source": [
    "## converting train-test to np array\n",
    "Train_arr = np.array(Train, dtype='int')\n",
    "Test_arr = np.array(Test, dtype='int')"
   ]
  },
  {
   "cell_type": "code",
   "execution_count": 14,
   "metadata": {
    "collapsed": true
   },
   "outputs": [],
   "source": [
    "## creating Train & Test user-movie 2d array - list of lists, a row represents list of a user with all movie ratings\n",
    "# list of lists is required to create train/test torch tensors for NN\n",
    "# each matrix will have all train-test users and movies as rows and columns respectively\n",
    "# If user did not rate a movie, 0 will be put there\n",
    "\n",
    "# getting the number of user and movies\n",
    "frames = [Train, Test]\n",
    "Train_Test_concat = pd.concat(frames) # 300,000 rows \n",
    "nb_users = Train_Test_concat.iloc[:,0].nunique() # total no. of users = 1779\n",
    "nb_movies = Train_Test_concat.iloc[:,1].nunique() # total no. of movies = 3569\n",
    "\n",
    "# function to create list of lists for train/test - same structure of all_users*all_movies\n",
    "\n",
    "Train_Test_concat = Train_Test_concat.sort_values(['User_ID','Movie_ID'], ascending=[True,True])\n",
    "\n",
    "def convert(Data):\n",
    "    # create dataframe of user-movie(row*col) -> convert to list of list -> convert to torch tensor\n",
    "    Data_list = Train_Test_concat[['User_ID', 'Movie_ID']]\n",
    "    Data_list = pd.merge(Data_list, Data, how='left', on=['User_ID', 'Movie_ID'])\n",
    "    # Train_list/Test _list # 300,000 rows\n",
    "    \n",
    "    Data_list['Rating'].fillna(0, inplace=True) # replace NA with 0 - did not watch\n",
    "    # Train_list/Test_list # ratings will be correct only w.r.t. train/test set\n",
    "    # Transpose\n",
    "    Data_list = Data_list.pivot_table(index=['User_ID'],columns=['Movie_ID'],values='Rating',aggfunc='first',fill_value=0)\n",
    "    \n",
    "    # creating list of lists\n",
    "    Temp = []\n",
    "    for i in range(len(Data_list.index)):\n",
    "        Temp1 = []\n",
    "        for j in range(len(Data_list.columns)):\n",
    "            Temp1.append(Data_list.iloc[i,j])\n",
    "        Temp.append(Temp1)\n",
    "    return Temp\n",
    "\n",
    "Train_list = convert(Train) \n",
    "Test_list = convert(Test) \n",
    "# Temp # list of list is created with 1779 lists and 3569 values in each list\n",
    "\n",
    "# check the structure using pd df\n",
    "# Temp2 = pd.DataFrame(Train_list)\n",
    "# Temp2 # 1779 × 3569\n",
    "# Temp2 = pd.DataFrame(Test_list)\n",
    "# Temp2 # 1779 × 3569"
   ]
  },
  {
   "cell_type": "code",
   "execution_count": 16,
   "metadata": {
    "collapsed": true
   },
   "outputs": [],
   "source": [
    "## converting data into torch tensors\n",
    "# torch tensors are basically multi-dimensional arrays with same datatype, but compatible to torch\n",
    "# author says NN with torch tensors performed better than NN with tensorflow  tensors (for BM and Autoencoders)\n",
    "Train_torchtensor = torch.FloatTensor(Train_list)\n",
    "Test_torchtensor = torch.FloatTensor(Test_list)"
   ]
  },
  {
   "cell_type": "code",
   "execution_count": 17,
   "metadata": {
    "collapsed": true
   },
   "outputs": [],
   "source": [
    "## Note: Here we are keeping 1-5 rating; 0 means user has not rated"
   ]
  },
  {
   "cell_type": "markdown",
   "metadata": {
    "collapsed": true
   },
   "source": [
    "#######################################################################################\n",
    "################## Creating architecture of Stacked Autoencoders ######################\n",
    "#######################################################################################"
   ]
  },
  {
   "cell_type": "code",
   "execution_count": 19,
   "metadata": {
    "collapsed": true
   },
   "outputs": [],
   "source": [
    "## creating architecture of Stacked Autoencoders - in pytorch\n",
    "# will create inheritance class to use funcs & vars of parent class 'Module' in torch.nn lib; \n",
    "# bcoz parent class has all tools to make Autoencoder\n",
    "\n",
    "nb_neurons_h1 = 20 # no of neurons in hidden layer 1; to be tuned\n",
    "nb_neurons_h2 = 10 # no of neurons in hidden layer 2; to be tuned\n",
    "nb_neurons_h3 = 20 # no of neurons in hidden layer 3; to be tuned\n",
    "                   # last layer has been increased to 20 again as decoding would start from here\n",
    "                   # 'number of layers' also to be tuned\n",
    "                   # note: nb_movies/input neurons = 3569\n",
    "\n",
    "class SAE(nn.Module): # creating inherited class from 'Module' class in nn lib/module\n",
    "    def __init__(self, ): # to intialize the object\n",
    "        super(SAE, self).__init__() # process of inheritance is done but we can optimize it using 'super' fn\n",
    "                                    # using super function to inherit all fn/vars from 'nn.Module' class\n",
    "        self.fc1 = nn.Linear(nb_movies, nb_neurons_h1) # fc=full_conn; (par1,par2) are no of input,hidden neurons for layer 1\n",
    "        self.fc2 = nn.Linear(nb_neurons_h1, nb_neurons_h2) # (par1,par2) are no of input,hidden neurons for layer 2\n",
    "        self.fc3 = nn.Linear(nb_neurons_h2, nb_neurons_h3)\n",
    "        self.fc4 = nn.Linear(nb_neurons_h3, nb_movies)\n",
    "        # note: neurons in hidden layers represent some characteristics of movie like neuron1=horror_genre and so on\n",
    "        self.activation = nn.Sigmoid() # author said Sigmoid performed better than Rectifier # to be tuned\n",
    "    def forward(self, x): # encoding and decoding function # x is input vector for a hidden layer\n",
    "        x = self.activation(self.fc1(x))\n",
    "        x = self.activation(self.fc2(x))\n",
    "        x = self.activation(self.fc3(x))\n",
    "        x = self.fc4(x)\n",
    "        return x # vector of predicted ratings"
   ]
  },
  {
   "cell_type": "code",
   "execution_count": 20,
   "metadata": {
    "collapsed": true
   },
   "outputs": [],
   "source": [
    "## creating AE object/model; setting parameters\n",
    "\n",
    "sae = SAE() # parameters are already defined in the class\n",
    "\n",
    "criterion = nn.MSELoss()\n",
    "\n",
    "lr_val=0.01 # lr: to be tuned\n",
    "weight_decay_val = 0.5 # weight_decay: to be tuned\n",
    "# weight decay: weights are reduced by a proportion to control overfitting\n",
    "    # https://stats.stackexchange.com/questions/29130/difference-between-neural-net-weight-decay-and-learning-rate\n",
    "optimizer = optim.RMSprop(sae.parameters(), lr=lr_val, weight_decay=weight_decay_val) \n",
    "# nb_neurons_h1, nb_neurons_h2 and so on are also tuning paramaters - mentioned above\n",
    "# there is class for 'adam', 'rmsprop' etc, author got good result with rmsprop # to be tuned"
   ]
  },
  {
   "cell_type": "code",
   "execution_count": 21,
   "metadata": {},
   "outputs": [
    {
     "name": "stderr",
     "output_type": "stream",
     "text": [
      "C:\\Users\\anurag.trivedi\\Anaconda1\\lib\\site-packages\\ipykernel_launcher.py:19: UserWarning: invalid index of a 0-dim tensor. This will be an error in PyTorch 0.5. Use tensor.item() to convert a 0-dim tensor to a Python number\n"
     ]
    },
    {
     "name": "stdout",
     "output_type": "stream",
     "text": [
      "epoch: 1 loss: tensor(1.8712)\n",
      "epoch: 2 loss: tensor(1.1293)\n",
      "epoch: 3 loss: tensor(1.0465)\n",
      "epoch: 4 loss: tensor(1.0169)\n",
      "epoch: 5 loss: tensor(1.0026)\n",
      "epoch: 6 loss: tensor(0.9938)\n",
      "epoch: 7 loss: tensor(0.9887)\n",
      "epoch: 8 loss: tensor(0.9849)\n",
      "epoch: 9 loss: tensor(0.9828)\n",
      "epoch: 10 loss: tensor(0.9807)\n",
      "epoch: 11 loss: tensor(0.9791)\n",
      "epoch: 12 loss: tensor(0.9781)\n",
      "epoch: 13 loss: tensor(0.9773)\n",
      "epoch: 14 loss: tensor(0.9764)\n",
      "epoch: 15 loss: tensor(0.9760)\n",
      "epoch: 16 loss: tensor(0.9754)\n",
      "epoch: 17 loss: tensor(0.9750)\n",
      "epoch: 18 loss: tensor(0.9746)\n",
      "epoch: 19 loss: tensor(0.9741)\n",
      "epoch: 20 loss: tensor(0.9738)\n",
      "epoch: 21 loss: tensor(0.9739)\n",
      "epoch: 22 loss: tensor(0.9737)\n",
      "epoch: 23 loss: tensor(0.9732)\n",
      "epoch: 24 loss: tensor(0.9734)\n",
      "epoch: 25 loss: tensor(0.9730)\n",
      "epoch: 26 loss: tensor(0.9730)\n",
      "epoch: 27 loss: tensor(0.9726)\n",
      "epoch: 28 loss: tensor(0.9729)\n",
      "epoch: 29 loss: tensor(0.9728)\n",
      "epoch: 30 loss: tensor(0.9726)\n",
      "epoch: 31 loss: tensor(0.9728)\n",
      "epoch: 32 loss: tensor(0.9726)\n",
      "epoch: 33 loss: tensor(0.9724)\n",
      "epoch: 34 loss: tensor(0.9725)\n",
      "epoch: 35 loss: tensor(0.9721)\n",
      "epoch: 36 loss: tensor(0.9724)\n",
      "epoch: 37 loss: tensor(0.9721)\n",
      "epoch: 38 loss: tensor(0.9723)\n",
      "epoch: 39 loss: tensor(0.9723)\n",
      "epoch: 40 loss: tensor(0.9721)\n",
      "epoch: 41 loss: tensor(0.9720)\n",
      "epoch: 42 loss: tensor(0.9723)\n",
      "epoch: 43 loss: tensor(0.9720)\n",
      "epoch: 44 loss: tensor(0.9720)\n",
      "epoch: 45 loss: tensor(0.9716)\n",
      "epoch: 46 loss: tensor(0.9716)\n",
      "epoch: 47 loss: tensor(0.9710)\n",
      "epoch: 48 loss: tensor(0.9716)\n",
      "epoch: 49 loss: tensor(0.9711)\n",
      "epoch: 50 loss: tensor(0.9707)\n",
      "epoch: 51 loss: tensor(0.9704)\n",
      "epoch: 52 loss: tensor(0.9704)\n",
      "epoch: 53 loss: tensor(0.9696)\n",
      "epoch: 54 loss: tensor(0.9684)\n",
      "epoch: 55 loss: tensor(0.9676)\n",
      "epoch: 56 loss: tensor(0.9670)\n",
      "epoch: 57 loss: tensor(0.9660)\n",
      "epoch: 58 loss: tensor(0.9641)\n",
      "epoch: 59 loss: tensor(0.9630)\n",
      "epoch: 60 loss: tensor(0.9620)\n",
      "epoch: 61 loss: tensor(0.9621)\n",
      "epoch: 62 loss: tensor(0.9592)\n",
      "epoch: 63 loss: tensor(0.9593)\n",
      "epoch: 64 loss: tensor(0.9581)\n",
      "epoch: 65 loss: tensor(0.9582)\n",
      "epoch: 66 loss: tensor(0.9580)\n",
      "epoch: 67 loss: tensor(0.9557)\n",
      "epoch: 68 loss: tensor(0.9545)\n",
      "epoch: 69 loss: tensor(0.9555)\n",
      "epoch: 70 loss: tensor(0.9523)\n",
      "epoch: 71 loss: tensor(0.9514)\n",
      "epoch: 72 loss: tensor(0.9493)\n",
      "epoch: 73 loss: tensor(0.9568)\n",
      "epoch: 74 loss: tensor(0.9549)\n",
      "epoch: 75 loss: tensor(0.9503)\n",
      "epoch: 76 loss: tensor(0.9500)\n",
      "epoch: 77 loss: tensor(0.9519)\n",
      "epoch: 78 loss: tensor(0.9512)\n",
      "epoch: 79 loss: tensor(0.9471)\n",
      "epoch: 80 loss: tensor(0.9462)\n",
      "epoch: 81 loss: tensor(0.9429)\n",
      "epoch: 82 loss: tensor(0.9419)\n",
      "epoch: 83 loss: tensor(0.9404)\n",
      "epoch: 84 loss: tensor(0.9384)\n",
      "epoch: 85 loss: tensor(0.9364)\n",
      "epoch: 86 loss: tensor(0.9354)\n",
      "epoch: 87 loss: tensor(0.9335)\n",
      "epoch: 88 loss: tensor(0.9330)\n",
      "epoch: 89 loss: tensor(0.9332)\n",
      "epoch: 90 loss: tensor(0.9301)\n",
      "epoch: 91 loss: tensor(0.9293)\n",
      "epoch: 92 loss: tensor(0.9288)\n",
      "epoch: 93 loss: tensor(0.9271)\n",
      "epoch: 94 loss: tensor(0.9258)\n",
      "epoch: 95 loss: tensor(0.9274)\n",
      "epoch: 96 loss: tensor(0.9253)\n",
      "epoch: 97 loss: tensor(0.9258)\n",
      "epoch: 98 loss: tensor(0.9220)\n",
      "epoch: 99 loss: tensor(0.9223)\n",
      "epoch: 100 loss: tensor(0.9246)\n",
      "epoch: 101 loss: tensor(0.9246)\n",
      "epoch: 102 loss: tensor(0.9233)\n",
      "epoch: 103 loss: tensor(0.9213)\n",
      "epoch: 104 loss: tensor(0.9203)\n",
      "epoch: 105 loss: tensor(0.9205)\n",
      "epoch: 106 loss: tensor(0.9189)\n",
      "epoch: 107 loss: tensor(0.9184)\n",
      "epoch: 108 loss: tensor(0.9177)\n",
      "epoch: 109 loss: tensor(0.9171)\n",
      "epoch: 110 loss: tensor(0.9169)\n",
      "epoch: 111 loss: tensor(0.9155)\n",
      "epoch: 112 loss: tensor(0.9156)\n",
      "epoch: 113 loss: tensor(0.9144)\n",
      "epoch: 114 loss: tensor(0.9148)\n",
      "epoch: 115 loss: tensor(0.9144)\n",
      "epoch: 116 loss: tensor(0.9143)\n",
      "epoch: 117 loss: tensor(0.9139)\n",
      "epoch: 118 loss: tensor(0.9152)\n",
      "epoch: 119 loss: tensor(0.9138)\n",
      "epoch: 120 loss: tensor(0.9191)\n",
      "epoch: 121 loss: tensor(0.9217)\n",
      "epoch: 122 loss: tensor(0.9203)\n",
      "epoch: 123 loss: tensor(0.9180)\n",
      "epoch: 124 loss: tensor(0.9180)\n",
      "epoch: 125 loss: tensor(0.9172)\n",
      "epoch: 126 loss: tensor(0.9173)\n",
      "epoch: 127 loss: tensor(0.9161)\n",
      "epoch: 128 loss: tensor(0.9160)\n",
      "epoch: 129 loss: tensor(0.9148)\n",
      "epoch: 130 loss: tensor(0.9150)\n",
      "epoch: 131 loss: tensor(0.9152)\n",
      "epoch: 132 loss: tensor(0.9156)\n",
      "epoch: 133 loss: tensor(0.9139)\n",
      "epoch: 134 loss: tensor(0.9141)\n",
      "epoch: 135 loss: tensor(0.9142)\n",
      "epoch: 136 loss: tensor(0.9149)\n",
      "epoch: 137 loss: tensor(0.9131)\n",
      "epoch: 138 loss: tensor(0.9132)\n",
      "epoch: 139 loss: tensor(0.9127)\n",
      "epoch: 140 loss: tensor(0.9124)\n",
      "epoch: 141 loss: tensor(0.9120)\n",
      "epoch: 142 loss: tensor(0.9117)\n",
      "epoch: 143 loss: tensor(0.9114)\n",
      "epoch: 144 loss: tensor(0.9109)\n",
      "epoch: 145 loss: tensor(0.9111)\n",
      "epoch: 146 loss: tensor(0.9109)\n",
      "epoch: 147 loss: tensor(0.9106)\n",
      "epoch: 148 loss: tensor(0.9114)\n",
      "epoch: 149 loss: tensor(0.9103)\n",
      "epoch: 150 loss: tensor(0.9132)\n",
      "epoch: 151 loss: tensor(0.9103)\n",
      "epoch: 152 loss: tensor(0.9103)\n",
      "epoch: 153 loss: tensor(0.9100)\n",
      "epoch: 154 loss: tensor(0.9096)\n",
      "epoch: 155 loss: tensor(0.9097)\n",
      "epoch: 156 loss: tensor(0.9092)\n",
      "epoch: 157 loss: tensor(0.9092)\n",
      "epoch: 158 loss: tensor(0.9094)\n",
      "epoch: 159 loss: tensor(0.9090)\n",
      "epoch: 160 loss: tensor(0.9091)\n",
      "epoch: 161 loss: tensor(0.9086)\n",
      "epoch: 162 loss: tensor(0.9088)\n",
      "epoch: 163 loss: tensor(0.9080)\n",
      "epoch: 164 loss: tensor(0.9079)\n",
      "epoch: 165 loss: tensor(0.9072)\n",
      "epoch: 166 loss: tensor(0.9071)\n",
      "epoch: 167 loss: tensor(0.9068)\n",
      "epoch: 168 loss: tensor(0.9070)\n",
      "epoch: 169 loss: tensor(0.9066)\n",
      "epoch: 170 loss: tensor(0.9067)\n",
      "epoch: 171 loss: tensor(0.9064)\n",
      "epoch: 172 loss: tensor(0.9063)\n",
      "epoch: 173 loss: tensor(0.9059)\n",
      "epoch: 174 loss: tensor(0.9056)\n",
      "epoch: 175 loss: tensor(0.9056)\n",
      "epoch: 176 loss: tensor(0.9057)\n",
      "epoch: 177 loss: tensor(0.9053)\n",
      "epoch: 178 loss: tensor(0.9053)\n",
      "epoch: 179 loss: tensor(0.9050)\n",
      "epoch: 180 loss: tensor(0.9052)\n",
      "epoch: 181 loss: tensor(0.9050)\n",
      "epoch: 182 loss: tensor(0.9050)\n",
      "epoch: 183 loss: tensor(0.9048)\n",
      "epoch: 184 loss: tensor(0.9046)\n",
      "epoch: 185 loss: tensor(0.9043)\n",
      "epoch: 186 loss: tensor(0.9041)\n",
      "epoch: 187 loss: tensor(0.9041)\n",
      "epoch: 188 loss: tensor(0.9038)\n",
      "epoch: 189 loss: tensor(0.9032)\n",
      "epoch: 190 loss: tensor(0.9033)\n",
      "epoch: 191 loss: tensor(0.9028)\n",
      "epoch: 192 loss: tensor(0.9028)\n",
      "epoch: 193 loss: tensor(0.9030)\n",
      "epoch: 194 loss: tensor(0.9026)\n",
      "epoch: 195 loss: tensor(0.9025)\n",
      "epoch: 196 loss: tensor(0.9024)\n",
      "epoch: 197 loss: tensor(0.9022)\n",
      "epoch: 198 loss: tensor(0.9019)\n",
      "epoch: 199 loss: tensor(0.9016)\n",
      "epoch: 200 loss: tensor(0.9015)\n"
     ]
    }
   ],
   "source": [
    "# training the SAE\n",
    "\n",
    "# weights to update after each iteration\n",
    "\n",
    "nb_epochs = 200 # to be tuned\n",
    "for epoch in range(1, nb_epochs+1):\n",
    "    train_loss = 0\n",
    "    s = 0. # initalized as float\n",
    "    for id_user in range(nb_users):\n",
    "        input = Variable(Train_torchtensor[id_user]).unsqueeze(0) # pytorch takes only 2D vectors # this improvization done to input 1D as 2D\n",
    "        target = input.clone() # target same as input\n",
    "        if torch.sum(target.data > 0) > 0: # train only on users rated at least 1 movie\n",
    "            output = sae(input) # calls forward function in SAE class\n",
    "            target.require_grad = False # code optim - calculates gradient only for input and not target\n",
    "            output[target == 0] = 0     # code optim - absent ratings will not be counted in error calculation/weight update\n",
    "            loss = criterion(output, target)\n",
    "            mean_corrector = nb_movies/float(torch.sum(target.data > 0) + 1e-10) # mean adj fact; smallval added to avoid 0 in denom \n",
    "            loss.backward() # decides whether weights would be inc/dec in backpropagation\n",
    "            train_loss += np.sqrt(loss.data[0]*mean_corrector)\n",
    "            s += 1.\n",
    "            optimizer.step() # decided amount of weight change\n",
    "    print('epoch: '+str(epoch)+' loss: '+str(train_loss/s))\n",
    "\n",
    "# here error is RMSE\n",
    "# Meaning - If error is 0.9 it means average difference between each pred and actual rating is 0.9 stars\n",
    "# here targeting a loss of less than 1 star\n",
    "# these type of problems should have vald set, so creating it now\n",
    "# 0.8984 error with 75-25 sampling"
   ]
  },
  {
   "cell_type": "code",
   "execution_count": 22,
   "metadata": {},
   "outputs": [
    {
     "name": "stderr",
     "output_type": "stream",
     "text": [
      "C:\\Users\\anurag.trivedi\\Anaconda1\\lib\\site-packages\\ipykernel_launcher.py:15: UserWarning: invalid index of a 0-dim tensor. This will be an error in PyTorch 0.5. Use tensor.item() to convert a 0-dim tensor to a Python number\n",
      "  from ipykernel import kernelapp as app\n"
     ]
    },
    {
     "name": "stdout",
     "output_type": "stream",
     "text": [
      "test_loss: tensor(0.9184)\n"
     ]
    }
   ],
   "source": [
    "## predicting on test data - calculating accuracy / test_loss\n",
    "\n",
    "test_loss = 0\n",
    "s = 0. # initalized as float\n",
    "for id_user in range(nb_users):\n",
    "    input = Variable(Train_torchtensor[id_user]).unsqueeze(0) # pytorch takes only 2D vectors # this improvization done to input 1D as 2D\n",
    "    target = Variable(Test_torchtensor[id_user]).unsqueeze(0)\n",
    "    if torch.sum(target.data > 0) > 0: # train only on users rated at least 1 movie\n",
    "        output = sae(input) # calls forward function in SAE class\n",
    "        target.require_grad = False # code optim - calculates gradient only for input and not target\n",
    "        output[target == 0] = 0     # code optim - absent ratings will not be counted in error calculation/weight update\n",
    "        loss = criterion(output, target)\n",
    "        mean_corrector = nb_movies/float(torch.sum(target.data > 0) + 1e-10) # mean adj fact; smallval added to avoid 0 in denom \n",
    "        # loss.backward() # decides whether weights would be inc/dec in backpropagation\n",
    "        test_loss += np.sqrt(loss.data[0]*mean_corrector)\n",
    "        s += 1.\n",
    "        # optimizer.step() # decided amount of weight change\n",
    "print('test_loss: '+str(test_loss/s))\n",
    "\n",
    "# test loss = 0.9195"
   ]
  },
  {
   "cell_type": "code",
   "execution_count": 23,
   "metadata": {},
   "outputs": [
    {
     "data": {
      "text/plain": [
       "tensor([4.0532, 0.0000, 0.0000,  ..., 0.0000, 0.0000, 0.0000],\n",
       "       grad_fn=<SelectBackward>)"
      ]
     },
     "execution_count": 23,
     "metadata": {},
     "output_type": "execute_result"
    }
   ],
   "source": [
    "## predicting on test data - calculating accuracy / test_loss\n",
    "## & creating an output with all recommendations\n",
    "\n",
    "# this code needs to be written - will be similar to previous para\n",
    "\n",
    "output[0] # shows how output looks"
   ]
  },
  {
   "cell_type": "code",
   "execution_count": null,
   "metadata": {
    "collapsed": true
   },
   "outputs": [],
   "source": [
    "## also above code should be re-written with 2 vald sets, and auto parameter tuning"
   ]
  },
  {
   "cell_type": "code",
   "execution_count": null,
   "metadata": {
    "collapsed": true
   },
   "outputs": [],
   "source": [
    "## QC: this paragraph can be deleted:\n",
    "# checking how predictions vs actuals are for last user\n",
    "\n",
    "# actual of last user\n",
    "Temp = pd.DataFrame(Test_list)\n",
    "Temp.to_csv('C:/Users/anurag.trivedi/2. Data/5. Boltzmann Machines/Boltzmann_Machines/Temp.csv', sep=',')\n",
    "# focus on last user (actual)\n",
    "\n",
    "# prediction of last user\n",
    "temp1 = output.detach().numpy()\n",
    "temp1 = pd.DataFrame(temp1[0]) # to convert 2D to 1D & array to df\n",
    "temp1.to_csv('C:/Users/anurag.trivedi/2. Data/5. Boltzmann Machines/Boltzmann_Machines/Temp1.csv', sep=',')\n",
    "\n",
    "# Note: Predictions are generated for all non-zero rating in test, all predictions are between 1 to 5\n",
    "# By manual check its clear actual and preds are generally within 1 rating range; which is good"
   ]
  },
  {
   "cell_type": "code",
   "execution_count": 32,
   "metadata": {
    "collapsed": true
   },
   "outputs": [],
   "source": [
    "## Error Metric and Activation Function:\n",
    "# RMSE used here because of 1-5 predictions; Confusion Matrix can also be used\n",
    "# MAE may not be the best to optimize; can optimize using RMSE but report MAE\n",
    "## Activation Fn - Sigmoid (same for RBM)\n",
    "# Why Sigmoid - Maybe because only 1 hidden layer iteration(forward pass) before weight updation, \n",
    "#               so Relu's benefits of faster weight update and lesser risk of Van. Gradient do not apply\n",
    "#               Hence a more complex(non-linear) activation function used"
   ]
  },
  {
   "cell_type": "code",
   "execution_count": null,
   "metadata": {
    "collapsed": true
   },
   "outputs": [],
   "source": []
  },
  {
   "cell_type": "code",
   "execution_count": null,
   "metadata": {},
   "outputs": [],
   "source": []
  },
  {
   "cell_type": "markdown",
   "metadata": {},
   "source": [
    "#######################################################################################\n",
    "################## Stacked Autoencoders - Scoring on new data ######################\n",
    "#######################################################################################"
   ]
  },
  {
   "cell_type": "code",
   "execution_count": null,
   "metadata": {},
   "outputs": [],
   "source": [
    "# 1. Try to find existing packages\n",
    "# 2. Custom approach:\n",
    "    # find existing user closest to new user using RMSE(not cosine sim here)\n",
    "    # use this existing user's recomm for the new user"
   ]
  },
  {
   "cell_type": "code",
   "execution_count": null,
   "metadata": {},
   "outputs": [],
   "source": []
  },
  {
   "cell_type": "code",
   "execution_count": null,
   "metadata": {},
   "outputs": [],
   "source": []
  },
  {
   "cell_type": "code",
   "execution_count": null,
   "metadata": {},
   "outputs": [],
   "source": []
  }
 ],
 "metadata": {
  "kernelspec": {
   "display_name": "Python 3",
   "language": "python",
   "name": "python3"
  },
  "language_info": {
   "codemirror_mode": {
    "name": "ipython",
    "version": 3
   },
   "file_extension": ".py",
   "mimetype": "text/x-python",
   "name": "python",
   "nbconvert_exporter": "python",
   "pygments_lexer": "ipython3",
   "version": "3.6.6"
  }
 },
 "nbformat": 4,
 "nbformat_minor": 2
}
