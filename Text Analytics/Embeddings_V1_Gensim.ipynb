{
 "cells": [
  {
   "cell_type": "markdown",
   "metadata": {},
   "source": [
    "Server Information:\n",
    "You are using Jupyter notebook.\n",
    "\n",
    "The version of the notebook server is: 5.7.8\n",
    "The server is running on this version of Python:\n",
    "Python 3.6.6 |Anaconda, Inc.| (default, Oct  9 2018, 12:34:16) \n",
    "[GCC 7.3.0]\n",
    "\n",
    "Current Kernel Information:\n",
    "Python 3.6.6 |Anaconda, Inc.| (default, Oct  9 2018, 12:34:16) \n",
    "Type 'copyright', 'credits' or 'license' for more information\n",
    "IPython 7.5.0 -- An enhanced Interactive Python. Type '?' for help."
   ]
  },
  {
   "cell_type": "code",
   "execution_count": 1,
   "metadata": {},
   "outputs": [],
   "source": [
    "#### Implement Embeddings and evaluate them using text classification\n",
    "## Key Source - https://towardsdatascience.com/understanding-feature-engineering-part-4-deep-learning-methods-for-text-data-96c44370bbfa\n",
    "## Algos implemented - Word2Vec, GloVe and FastText"
   ]
  },
  {
   "cell_type": "code",
   "execution_count": null,
   "metadata": {},
   "outputs": [],
   "source": []
  },
  {
   "cell_type": "code",
   "execution_count": null,
   "metadata": {},
   "outputs": [],
   "source": [
    "###### STEPS:\n",
    "\n",
    "#### Embeddings Generation - Word2Vec\n",
    "#### Embeddings Generation - Gensim-Word2Vec\n",
    "#### Text Classification Accuracy - Gensim-Word2Vec\n",
    "\n",
    "#### Embeddings Generation - GloVe\n",
    "#### Text Classification Accuracy - GloVe\n",
    "\n",
    "#### Embeddings Generation - FastText\n",
    "#### Text Classification Accuracy - FastText"
   ]
  },
  {
   "cell_type": "code",
   "execution_count": null,
   "metadata": {},
   "outputs": [],
   "source": []
  },
  {
   "cell_type": "code",
   "execution_count": null,
   "metadata": {},
   "outputs": [],
   "source": [
    "###############################################################\n",
    "################ Embeddings Generation - Word2Vec\n",
    "###############################################################"
   ]
  },
  {
   "cell_type": "code",
   "execution_count": null,
   "metadata": {},
   "outputs": [],
   "source": [
    "###############################################################\n",
    "################ Embeddings Generation - Gensim-Word2Vec\n",
    "###############################################################"
   ]
  },
  {
   "cell_type": "code",
   "execution_count": null,
   "metadata": {},
   "outputs": [],
   "source": [
    "###############################################################\n",
    "################ Text Classification Accuracy - Gensim-Word2Vec\n",
    "###############################################################"
   ]
  },
  {
   "cell_type": "code",
   "execution_count": null,
   "metadata": {},
   "outputs": [],
   "source": [
    "###############################################################\n",
    "################ Embeddings Generation - GloVe\n",
    "###############################################################"
   ]
  },
  {
   "cell_type": "code",
   "execution_count": null,
   "metadata": {},
   "outputs": [],
   "source": [
    "###############################################################\n",
    "################ Text Classification Accuracy - GloVe\n",
    "###############################################################"
   ]
  },
  {
   "cell_type": "code",
   "execution_count": null,
   "metadata": {},
   "outputs": [],
   "source": [
    "###############################################################\n",
    "################ Embeddings Generation - FastText\n",
    "###############################################################"
   ]
  },
  {
   "cell_type": "code",
   "execution_count": null,
   "metadata": {},
   "outputs": [],
   "source": [
    "###############################################################\n",
    "################ Text Classification Accuracy - FastText\n",
    "###############################################################"
   ]
  },
  {
   "cell_type": "code",
   "execution_count": null,
   "metadata": {},
   "outputs": [],
   "source": []
  },
  {
   "cell_type": "code",
   "execution_count": null,
   "metadata": {},
   "outputs": [],
   "source": []
  },
  {
   "cell_type": "code",
   "execution_count": 1,
   "metadata": {
    "scrolled": true
   },
   "outputs": [],
   "source": [
    "# importing libraries\n",
    "import pandas as pd\n",
    "import matplotlib.pyplot as plt\n",
    "import sklearn\n",
    "import numpy as np  \n",
    "import re  # regular expressions like '+', '*'\n",
    "import nltk  # The Natural Language Toolkit\n",
    "from sklearn.datasets import load_files  \n",
    "# nltk.download('popular') \n",
    "# will download stopwords, punkt etc # download in default dir else error later on\n",
    "import pickle  \n",
    "from nltk.corpus import stopwords\n",
    "from nltk import PorterStemmer\n",
    "from nltk.tokenize import sent_tokenize, word_tokenize\n",
    "from nltk.stem import WordNetLemmatizer\n",
    "from nltk.corpus import wordnet"
   ]
  },
  {
   "cell_type": "code",
   "execution_count": 2,
   "metadata": {},
   "outputs": [
    {
     "data": {
      "text/html": [
       "<div>\n",
       "<style scoped>\n",
       "    .dataframe tbody tr th:only-of-type {\n",
       "        vertical-align: middle;\n",
       "    }\n",
       "\n",
       "    .dataframe tbody tr th {\n",
       "        vertical-align: top;\n",
       "    }\n",
       "\n",
       "    .dataframe thead th {\n",
       "        text-align: right;\n",
       "    }\n",
       "</style>\n",
       "<table border=\"1\" class=\"dataframe\">\n",
       "  <thead>\n",
       "    <tr style=\"text-align: right;\">\n",
       "      <th></th>\n",
       "      <th>Industry</th>\n",
       "      <th>Wiki_Text</th>\n",
       "    </tr>\n",
       "  </thead>\n",
       "  <tbody>\n",
       "    <tr>\n",
       "      <th>0</th>\n",
       "      <td>Hollywood</td>\n",
       "      <td>is a neighborhood in the central region of Los...</td>\n",
       "    </tr>\n",
       "    <tr>\n",
       "      <th>1</th>\n",
       "      <td>Hollywood</td>\n",
       "      <td>including several of its historic studios. Its...</td>\n",
       "    </tr>\n",
       "    <tr>\n",
       "      <th>2</th>\n",
       "      <td>Hollywood</td>\n",
       "      <td>ethnically diverse, densely populated, economi...</td>\n",
       "    </tr>\n",
       "    <tr>\n",
       "      <th>3</th>\n",
       "      <td>Hollywood</td>\n",
       "      <td>Hollywood was a small community in 1870 and wa...</td>\n",
       "    </tr>\n",
       "    <tr>\n",
       "      <th>4</th>\n",
       "      <td>Hollywood</td>\n",
       "      <td>1910, and soon thereafter a prominentÂ film in...</td>\n",
       "    </tr>\n",
       "    <tr>\n",
       "      <th>5</th>\n",
       "      <td>Hollywood</td>\n",
       "      <td>In 1853, oneÂ adobeÂ hut stood in Nopalera (No...</td>\n",
       "    </tr>\n",
       "    <tr>\n",
       "      <th>6</th>\n",
       "      <td>Hollywood</td>\n",
       "      <td>community flourished. The area was known as th...</td>\n",
       "    </tr>\n",
       "    <tr>\n",
       "      <th>7</th>\n",
       "      <td>Hollywood</td>\n",
       "      <td>According to the diary ofÂ H.Â J. Whitley, kno...</td>\n",
       "    </tr>\n",
       "    <tr>\n",
       "      <th>8</th>\n",
       "      <td>Hollywood</td>\n",
       "      <td>carrying wood. The man got out of the wagon an...</td>\n",
       "    </tr>\n",
       "    <tr>\n",
       "      <th>9</th>\n",
       "      <td>Hollywood</td>\n",
       "      <td>represent England and wood would represent his...</td>\n",
       "    </tr>\n",
       "  </tbody>\n",
       "</table>\n",
       "</div>"
      ],
      "text/plain": [
       "    Industry                                          Wiki_Text\n",
       "0  Hollywood  is a neighborhood in the central region of Los...\n",
       "1  Hollywood  including several of its historic studios. Its...\n",
       "2  Hollywood  ethnically diverse, densely populated, economi...\n",
       "3  Hollywood  Hollywood was a small community in 1870 and wa...\n",
       "4  Hollywood  1910, and soon thereafter a prominentÂ film in...\n",
       "5  Hollywood  In 1853, oneÂ adobeÂ hut stood in Nopalera (No...\n",
       "6  Hollywood  community flourished. The area was known as th...\n",
       "7  Hollywood  According to the diary ofÂ H.Â J. Whitley, kno...\n",
       "8  Hollywood  carrying wood. The man got out of the wagon an...\n",
       "9  Hollywood  represent England and wood would represent his..."
      ]
     },
     "execution_count": 2,
     "metadata": {},
     "output_type": "execute_result"
    }
   ],
   "source": [
    "## importing data\n",
    "# Windows \n",
    "# hollybolly_inc=pd.read_excel(\"C:/Users/anurag.trivedi/Dropbox/Job 06 Sep 2018/prep/13. Data/1. Real Data/11. Text Classification Data/1. HollyBolly/HollyBolly Increased.xlsx\",sheet_name='HollyBolly Increased')\n",
    "# Linux\n",
    "hollybolly_inc=pd.read_csv(\"/home/antrived/Dropbox/Job-25-Feb-2019/prep/13. Data/1. Real Data/11. Text Classification Data/1. HollyBolly/HollyBolly_Increased_V2.csv\", encoding='ISO-8859-1')\n",
    "hollybolly = hollybolly_inc\n",
    "hollybolly.head(10)"
   ]
  },
  {
   "cell_type": "code",
   "execution_count": 3,
   "metadata": {},
   "outputs": [],
   "source": [
    "## Labelling\n",
    "hollybolly.Industry[hollybolly.Industry == \"Hollywood\"] = 1\n",
    "hollybolly.Industry[hollybolly.Industry == \"Bollywood\"] = 0"
   ]
  },
  {
   "cell_type": "code",
   "execution_count": 4,
   "metadata": {},
   "outputs": [
    {
     "data": {
      "text/plain": [
       "array([1, 1, 1, 1, 1, 1, 1, 1, 1, 1, 1, 1, 1, 1, 1, 1, 1, 1, 1, 1, 1, 1,\n",
       "       1, 1, 1, 1, 1, 1, 1, 1, 1, 1, 1, 1, 1, 1, 1, 1, 1, 1, 1, 1, 1, 1,\n",
       "       1, 1, 1, 1, 1, 1, 1, 1, 1, 1, 1, 1, 1, 1, 1, 1, 1, 1, 1, 1, 1, 1,\n",
       "       1, 1, 1, 1, 0, 0, 0, 0, 0, 0, 0, 0, 0, 0, 0, 0, 0, 0, 0, 0, 0, 0,\n",
       "       0, 0, 0, 0, 0, 0, 0, 0, 0, 0, 0, 0, 0, 0, 0, 0, 0, 0, 0, 0, 0, 0,\n",
       "       0, 0, 0, 0, 0, 0, 0, 0, 0, 0, 0, 0, 0, 0, 0, 0, 0, 0, 0, 0, 0, 0,\n",
       "       0, 0, 0, 0, 0, 0, 0, 0, 0, 0, 0, 0, 0, 0, 0, 0, 0, 0, 0, 0, 0, 0,\n",
       "       0, 0, 0, 0, 0, 0, 0, 0, 0, 0, 0, 0, 0, 0, 0, 0], dtype=object)"
      ]
     },
     "execution_count": 4,
     "metadata": {},
     "output_type": "execute_result"
    }
   ],
   "source": [
    "Y = hollybolly.iloc[:,0].values\n",
    "type(Y) # numpy array\n",
    "Y\n",
    "# sum(hollybolly.Industry)"
   ]
  },
  {
   "cell_type": "code",
   "execution_count": 5,
   "metadata": {},
   "outputs": [
    {
     "name": "stdout",
     "output_type": "stream",
     "text": [
      "<class 'list'>\n",
      "['is a neighborhood in the central region of Los Angeles, California. The neighborhood is notable for its place as the home of the U.S. film industry, ', 'including several of its historic studios. Its name has come to be aÂ\\xa0metonymfor theÂ\\xa0motion picture industry of the United States. Hollywood is also a highlyÂ\\xa0', 'ethnically diverse, densely populated, economically diverse neighborhood and retail business district.', 'Hollywood was a small community in 1870 and was incorporated as a municipality in 1903.[3][4]Â\\xa0It officially merged with the city of Los Angeles inÂ\\xa0', '1910, and soon thereafter a prominentÂ\\xa0film industryÂ\\xa0began to emerge, eventually becoming the most recognizable film industry in the world.[5][6]', 'In 1853, oneÂ\\xa0adobeÂ\\xa0hut stood in Nopalera (NopalÂ\\xa0field), named for the MexicanÂ\\xa0Nopal cactusÂ\\xa0indigenous to the area. By 1870, an agriculturalÂ\\xa0', 'community flourished. The area was known as theÂ\\xa0Cahuenga Valley, after the pass in theÂ\\xa0Santa Monica MountainsÂ\\xa0immediately to the north.', 'According to the diary ofÂ\\xa0H.Â\\xa0J. Whitley, known as the \"Father of Hollywood\", on his honeymoon in 1886 he stood at the top of the hill looking out over the valley. Along came a Chinese man in a wagonÂ\\xa0', 'carrying wood. The man got out of the wagon and bowed. The Chinese man was asked what he was doing and replied, \"I holly-wood\", meaning \\'hauling wood.\\' H.Â\\xa0J. Whitley had an epiphany and decided to name his new town Hollywood. Holly wouldÂ\\xa0', 'represent England and wood would represent his Scottish heritage. Whitley had already started over 100 towns across the western United States', \"spread to GeneralÂ\\xa0Harrison Gray Otis, Hurd's wife, eastern adjacent ranch co-ow\", 'Daeida WilcoxÂ\\xa0may have learned of the nameÂ\\xa0HollywoodÂ\\xa0from Ivar Weid, her neighbor in Holly Canyon (now Lake Hollywood) and a prominent', \"Whitley's.[9][10]Â\\xa0She recommended the same name to her husband,Â\\xa0Harvey. H. Wilcox. In August 1887, Wilcox filed with the Los Angeles Cou\", 'parcel map of property he had sold named \"Hollywood, California.\" Wilcox wanted to be the first to record it on a deed. The earlyÂ\\xa0', 'By 1900, the region had a post office, newspaper, hotel, and two markets. LosÂ\\xa0', 'Angeles, with a population of 102,479 lay 10 miles (16Â\\xa0km) east through theÂ\\xa0vineyards, barley fields, andÂ\\xa0citrusÂ\\xa0groves. A single', 'Prospect Avenue from it, but service was infrequent and the trip took two hours. The old citrus fruit-packing house was convertedÂ\\xa0', 'TheÂ\\xa0Hollywood HotelÂ\\xa0was opened in 1902 by H.Â\\xa0J. Whitley, president of the Los Pacific Boulevard and Development Company. Having finally', 'subdivided it, Whitley built the hotel to attract land buyers. Flanking the west side ofÂ\\xa0Highland Avenue, the structure fro', 'unpaved road, was regularly graded and graveled. The hotel was to become internationally known and was the center of the civic and social lif', \"Whitley's company developed and sold one of the early residential areas, the Ocean View Tract.[12]Â\\xa0Whitley did much to promote th\", 'electric lighting, including bringing electricity and building a bank, as well as a road into theÂ\\xa0Cahuenga Pass. The lighting ran for several blocksÂ\\xa0', \"Whitley's land was centered onÂ\\xa0Highland Avenue.[13][14]Â\\xa0His 1918 development,Â\\xa0Whitley Heights, was named for him.\", 'Â\\xa0incorporated as aÂ\\xa0municipalityÂ\\xa0on November 14, 1903, by a vote of 88 for and 77 against. On January 30, 1904, the', '113 toÂ\\xa096, for the banishment of liquor in the city, except when it was being sold for medicinal purposes. Neithe', 'In 1910, the city voted for merger with Los Angeles in order to secure an adequate water supply and to gain access to theÂ\\xa0', 'By 1912, major motion-picture companies had set up production near or in Los Angeles.[17]Â\\xa0In the early 1900s, mostÂ\\xa0', \"Edison'sÂ\\xa0Motion Picture Patents CompanyÂ\\xa0in New Jersey, and filmmakers were often sued to stop their productions. To escape this, film\", \"where Edison's patents could not be enforced.[18]Â\\xa0Also, the weather was ideal and there was quick access to various settings. Los Angeles bec\", 'DirectorÂ\\xa0D. W. GriffithÂ\\xa0was the first to make a motion picture in Hollywood. His 17-minute short filmÂ\\xa0InÂ\\xa0Old CaliforniaÂ\\xa0(1910) was filmed for theÂ\\xa0Biograph Company.[20][21][22]Â\\xa0Although Hollywood banned movie thea', 'will recognize names like Abbey Road, Electric Lady, and Motown as places where The Beatles, Jimi Hendrix, Diana Ross, and the Supremes left their musical marks.', 'Since then, an impressive list of rock, pop, country, and reggae artists â\\x80\\x94 Aerosmith, Britney Spears, Keith Urban, and Damian Marley to name a few â\\x80\\x94 have followed suit.', 'Around 1905, â\\x80\\x9cNickelodeonsâ\\x80\\x9d, or 5-cent movie theaters, began to offer an easy and inexpensive way for the public to watch movies. Nickelodeons helped the movie industry move into the 1920â\\x80\\x99s by increasing the public appeal of film and generate more money for filmmakers, alongside the widespread use of theaters to screen World War I propaganda.Â\\xa0', \"Other moviemakers arrived from Europe after World War I: directors likeÂ\\xa0Ernst Lubitsch,Â\\xa0Alfred Hitchcock,Â\\xa0Fritz LangÂ\\xa0andÂ\\xa0Jean Renoir; and actors likeÂ\\xa0Rudolph Valentino,Â\\xa0Marlene Dietrich,Â\\xa0Ronald Colman, andÂ\\xa0Charles Boyer. They joined a homegrown supply of actorsÂ\\xa0â\\x80\\x94 lured west from the New York City stage after the introduction of sound filmsÂ\\xa0â\\x80\\x94 to form one of the 20th century's most remarkable growth industries. At motion pictures' height of popularity in the mid-1940s, the studios were cranking out a total of about 400 movies a year, seen by an audience of 90 million Americans per week.\", 'At the same time, one could usually guess which studio made which film, largely because of the actors who appeared in it;Â\\xa0MGM, for example, claimed it had contracted \"more stars than there are in heaven.\" Each studio had its own style and characteristic touches which made it possible to know thisÂ\\xa0â\\x80\\x93 a trait that does not exist today.', 'Movie-making was still a business, however, and motion picture companies made money by operating under theÂ\\xa0studio system. The major studios kept thousands of people on salaryÂ\\xa0â\\x80\\x94 actors, producers, directors, writers, stunt men, craftspersons, and technicians.', 'The Supreme Court eventually ruled that the major studios ownership of theaters and film distribution was a violation of theÂ\\xa0Sherman Antitrust Act. As a result, the studios began to release actors and technical staff from their contracts with the studios.', 'The drive to produce a spectacle on the movie screen has largely shaped American cinema ever since.', 'The first impression from those quotes is to assume that Russo is talking about future MCU films such as the second part ofÂ\\xa0Infinity WarÂ\\xa0not being constrained by the idea that films more than two hours are too long for audiences.', 'Could it be only a few years until the Russo Brothers names are appearing as â\\x80\\x9cexecutive producerâ\\x80\\x9d above a slew of Oscar nominees, even as they continue to direct some of the most popular blockbusters in recent memory? Weâ\\x80\\x99ll see if the AGBO experiment pans out.', 'To his credit, Weinstein eventually made good on his promise. Following a widely reported sexual harassment scandal, in 2018 The Weinstein Company declared bankruptcy.', 'Six people were arrested Thursday and one was arrested Friday after a grand jury indicted them on a variety of election fraud charges. They face accusations of bribing voters, improperly helping people fill out absentee ballots, voting despite being convicted of disqualifying felonies, and voting even though they lived outside the city or voting district.', 'In view of all this, it should come as no surprise that thereâ\\x80\\x99s already a film in development about what was perhaps theÂ\\xa0biggest storyÂ\\xa0in journalism this past year: the New York Timesâ\\x80\\x99 investigation into allegations of decades-long sexual abuse against Harvey Weinstein.', 'According to aÂ\\xa0reportÂ\\xa0in Mumbai Mirror, Lawrence Kasanoff, who is the producer of the Mortal Kombat series, made a quiet visit to Mumbai to meet Tiger and discuss details of the project. It is expected to be an action film. Lawrence, along with a big studio head and Emmy Award-winning writer Sean Catherine Derek of the Batman series came to Mumbai. Sanjay Grover, son of veteran actor Gulshan Grover, who has been part of the project for the last one year, was also part of the meetings, the report added.', 'The foremost example of this M.O.: 2012â\\x80\\x99sÂ\\xa0Argo.Â\\xa0In the late â\\x80\\x9990s, the producer had read the then-recently declassified testimony of CIA exfiltration expert Tony Mendez in a CIA journal, detailing how he helped American diplomats escape the 1979 Iran hostage crisis by posing them as a group of Canadian filmmakers.', 'Seven of the 11 top-grossing films of 2017 were superhero movies, based on characters first introduced in comic books.', 'Mr. Sonnierâ\\x80\\x99s revenues from a film are a tiny fraction of those from a major studio release, but he is making money off his strategy by keeping production costs low and relying on word-of-mouth to turn his movies into sleeper hits.', 'But according to aÂ\\xa0new reportÂ\\xa0from the University of Southern Californiaâ\\x80\\x99s Annenberg School for Communication and Journalism, youâ\\x80\\x99d be hard-pressed to find anyone who is like me or looks like me', 'â\\x80\\x9cThe Chinese film market is going to be the largest film market in short order,â\\x80\\x9d said Charles Rivkin, a former US assistant secretary of state who in January took over from Christopher Dodd as MPAA chairman. â\\x80\\x9cTheyâ\\x80\\x99re building about 25 screens a day.â\\x80\\x9d', 'This movie was not supposed to be good. Hereâ\\x80\\x99s the plot: A middle-aged cardiovascular surgeonâ\\x80\\x99s wife is killed by a one-armed man, and said surgeon is sent to death row. But his bus crashes on the way to prison, then a train crashes into the bus crash, then Dr. Richard Kimble escapes to go on the run with five U.S. marshals on his heels. This is literally the opening 20 minutes ofÂ\\xa0The Fugitive.', 'One, prominent among Asian immigrant communities, argues that the movie marks a breakthrough in Asian representation by virtue of its all-Asian cast, and holds the promise of further representation.', 'The ceremony will feature presentations, performances, and a special achievement award. Past honorees include Diane Warren, Smokey Robinson, and Glen Campbell.', 'No matter how high it is, a quote is a number that an actorâ\\x80\\x99s representation is constantly trying to jack upâ\\x80\\x94a never-ending cache of money and extras to be forever bested. â\\x80\\x9cAgents build quotes and fight for things in each successful deal that then become bedrock,â\\x80\\x9d says one veteran producer. This is also how agents, who skim 10 percent of their clientsâ\\x80\\x99 takes, earn more themselves.', 'â\\x80\\x9cOne of the most exciting aspects of our Fox acquisition is that it will allow us to greatly accelerate our direct-to-consumer strategy,â\\x80\\x9d Mr. Iger said when he announced the deal in December. â\\x80\\x9cWe believe creating a direct-to-consumer relationship is vital to the future of our media businesses, and itâ\\x80\\x99s our highest priority.â\\x80\\x9d', 'Donald Jr. opens the closet door to reveal De Niro as Mueller hiding behind the door, causing Eric to exclaim:Â\\xa0\"Robert Mueller is in there!\"Â\\xa0', 'â\\x80\\x9cSpaceyâ\\x80\\x99s conduct was extreme and outrageous,â\\x80\\x9d says the filing of yesterday, which is well within the statute of limitations that have stymied many of these types of cases in the now #MeToo era.', 'â\\x80\\x9cI was completely shocked by how little dialogue there was in the film,â\\x80\\x9d Mr. Haynes said in a phone interview.', 'Male actors command about twice the screen time of female ones. Men are the heroes and villains and do most of the talking, with (at the last count) two-thirds of speaking parts in successful films, a ratio only slightly better than in the late 1940s. Women, still, are often ornaments or victims, love interests or damsels in distress: useful for being disrobed, attacked or both.', 'â\\x80\\x9cFor a guy who always had control over actors, filmmakers, his company, his familyâ\\x80\\x94everybodyâ\\x80\\x94this was the first time I saw that he couldnâ\\x80\\x99t control a situation.â\\x80\\x9d Even so, Weinstein seemed hell-bent on trying.', 'Sorry to Bother You: is this the most shocking anti-capitalistÂ\\xa0filmÂ\\xa0ever?', 'No, youâ\\x80\\x99re not seeing double. These beautiful stars all have daughters who look just like them. From Kelly Ripa and Lola Consuelos, to Catherine Zeta-Jones and Carys Douglas,Â\\xa0the resemblance between these duos is uncanny!', 'Lady Gaga surprised the small crowd at the Black Rabbit Rose venue in Hollywood, California Thursday with a performance of Frank Sinatra songs. â\\x80\\x9cIâ\\x80\\x99m here to ruin the party. Iâ\\x80\\x99m so sorry,â\\x80\\x9d Gaga quipped.', 'Rising from the ashes of the 1929 stock-market crash, Twentieth Century-Fox was forged in a master stroke by ruthless producer Darryl F. Zanuck, who merged Twentieth Century Pictures with William Foxâ\\x80\\x99s ailing studioâ\\x80\\x94and booted out Fox in the processâ\\x80\\x94to create a formidable Hollywood player. It was the studio that turned Marilyn Monroe into a star, awarded Elizabeth Taylor her first $1 million payday (for the costly Cleopatra, which at $44 million nearly capsized the company), and helped solidify the modern-day blockbuster with George Lucasâ\\x80\\x99s space fantasy,Â\\xa0Star Wars.', 'Triple FrontierÂ\\xa0is a good movie. The J.C. Chandor-directed action melodrama, penned by Mark Boal and starring Ben Affleck, Oscar Isaac, Garrett Hedland, Charlie Hunnam and Pedro Pascal, isnâ\\x80\\x99t a new genre classic or a towering artistic achievement. It starts better than it ends, and it seems somewhat unwilling to truly confront the morality of its story (especially after its heroes cross a line of no return), but itâ\\x80\\x99s exactly what it promises.', 'When Aunt Becky and that Desperate Housewife became ensnared in the wild Hollywood cheating scam this week, countless questions arose. What does Teri Hatcher think? If Aunt Becky ends up in the slammer, will it be enough to make the Olsen twins resurface? And most importantly: where did Aunt Becky get $500,000 from?', 'She has starred inÂ\\xa0Coronation Street and is currently in Emmerdale.Â\\xa0And Gaynor Faye has now shared that she had a shot to break Hollywood prior to taking up roles in the British soap world. The English actress, 47, opened up toÂ\\xa0The Mirror on how her career could have taken a different path if she had headed across the pond.', 'Former \"Desperate Housewives\" star Felicity Huffman and actress Lori Loughlin, best known for playing Aunt Becky on \"Full House,\" are facing court appearances later this month related to allegations they participated in a college admissions cheating scheme. In the court of public opinion, however, it\\'s hard to say whether fans and Hollywood will, as Uncle Jesse says, \"Have mercy.\"', 'Airplanes are a versatile tool in the screenwriterâ\\x80\\x99s arsenal: They get characters from place to place, they can crash dramatically, they can get filled with inexplicable, profanity-inducing snakes. But theyâ\\x80\\x99re also kind of a nightmare to film movies in, on account of really only being designed for the one thing: Cramming as many people as possible into a little tube and hurling them into the sky, without much considerations for stuff like camera equipment and crews.', 'Entrepreneur Mariam Shaarâ\\x80\\x99s idea of using Palestiniansâ\\x80\\x99 national cuisine to provide hope and opportunity for refugee women has succeeded beyond her wildest dreams. Shaarâ\\x80\\x99s project â\\x80\\x9cSoufraâ\\x80\\x9d â\\x80\\x94 which means a table laden with food â\\x80\\x94 drew the attention of Hollywood actress and social activist Susan Sarandon, whose documentary â\\x80\\x94 also called â\\x80\\x9cSoufraâ\\x80\\x9d â\\x80\\x94 was screened for the first time this week in Beirut.', 'Several weeks ago, during all the pomp and circumstance of Oscar Sunday, stood actress Selma Blair in her sheer dress carrying a custom-made cane that was covered in patent leather. She posed for photographs before entering the Vanity Fair party. This was her first public appearance since revealing that she had been diagnosed with multiple sclerosis.', 'It is more formally referred to asÂ\\xa0Hindi cinema.[4]Â\\xa0The term \"Bollywood\" is often used by non-Indians as aÂ\\xa0synecdocheÂ\\xa0to refer t', 'however, Bollywood proper is only a part of the larger Indian film industry, which includes other production', 'ollywood is one of the largest film producers in India, representing 43% of the net box office revenue, whileÂ\\xa0Ta', 'rest of the regional cinema constitutes 21% as of 2014.[7]Â\\xa0Bollywood is also one of the largest centers of film production in the wo', 'of the biggest film industries in the world in terms of the number of people employed and the number of films produced.[1', 'were sold across the globe which in comparison is 900,000 tickets more thanÂ\\xa0Hollywood.[12]Â\\xa0Bollywood produced 252 films in 2014Â\\xa0', 'The name \"Bollywood\" is aÂ\\xa0portmanteauÂ\\xa0derived fromÂ\\xa0BombayÂ\\xa0(the former name for Mumbai) andÂ\\xa0Hollywood, the center of theÂ\\xa0American film industry.[13]Â\\xa0However, u', 'The naming scheme for \"Bollywood\" was inspired by \"Tollywood\", the name that was used to refer to theÂ\\xa0cinema of West Bengal. Dating back to 1932, \"Tollywood\" was the earliestÂ\\xa0', 'was this \"chance juxtaposition of two pairs of rhyming syllables,\" Holly and Tolly, that led to the portmanteau name \"Tollywood\" being coined. The name \"Tollywood\" went on to be', 'basedÂ\\xa0Junior StatesmanÂ\\xa0youth magazine, establishing a precedent for other film industries to use similar-sounding names, eventually leading to the coining of \"Bollywood\"', \"the world's largest film producer. Credit for the term has been claimed by several different people, including the lyricist, filmmaker and scholar Amit Khanna\", 'film made inÂ\\xa0India. By the 1930s, the industry was producing over 200 films per annum.[22]Â\\xa0The first Indian s', 'commercial success.[23]Â\\xa0There was clearly a huge market for talkies and musicals; Bollywood and all the regional film industries qu', 'The 1930s and 1940s were tumultuous times:Â\\xa0IndiaÂ\\xa0was buffeted by theÂ\\xa0Great Depression,Â\\xa0World War II, theÂ\\xa0Indian independence movement, and the violence of theÂ\\xa0Partition. Most Bollywood films were unab', 'Kanya. The next year, he made another colour film, a version ofÂ\\xa0Mother India. However, colour did not become aÂ\\xa0', 'lavish romantic musicals and melodramas were the staple fare at the cinema.', 'FollowingÂ\\xa0India\\'s independence, the period from the late 1940s to the 1960s is regarded by film historians as the \"Golden Age\" of Hindi cine', 'Examples include theÂ\\xa0Guru DuttÂ\\xa0filmsÂ\\xa0PyaasaÂ\\xa0(1957) andÂ\\xa0Kaagaz Ke PhoolÂ\\xa0(1959) and theÂ\\xa0Raj KapoorÂ\\xa0filmsÂ\\xa0AwaaraÂ\\xa0(1951),Â\\xa0Shree 420Â\\xa0(1955)Â\\xa0', 'India;Â\\xa0AwaaraÂ\\xa0presented the city as both a nightmare and a dream, whileÂ\\xa0Pyaasacritiqued the unreality of city life.[27]Â\\xa0Some of the most famousÂ\\xa0', 'popularised the theme ofÂ\\xa0reincarnationÂ\\xa0inÂ\\xa0Western popular culture.[30]Â\\xa0Other acclaimed mainstream Hindi filmmakers at the time includedÂ\\xa0Kamal AmrohiÂ\\xa0andÂ\\xa0Vijay Bhatt. Successful actors at the time include', 'While commercial Hindi cinema was thriving, the 1950s also saw the emergence of a newÂ\\xa0Parallel CinemaÂ\\xa0movement.[27]Though the movement was mainly led byÂ\\xa0Bengali cinema, it also began gain', \"Ever since theÂ\\xa0social realistÂ\\xa0filmÂ\\xa0Neecha NagarÂ\\xa0won theÂ\\xa0Grand PrizeÂ\\xa0at theÂ\\xa0first Cannes Film Festival,[32]Â\\xa0Hindi films were frequently in competition for theÂ\\xa0Palme d'OrÂ\\xa0at theÂ\\xa0Cannes Film FestivalÂ\\xa0throughout the 1950s and early 1960s, with some of them winning major prizes at the festival.[35]Â\\xa0Guru Dutt, while overlooke\", 'international recognition much later in the 1980s.[35][36]Â\\xa0Dutt is now regarded as one of the greatestÂ\\xa0Asian filmmakersÂ\\xa0of all time, alongside the more famous Indian Bengali filmmakerÂ\\xa0Satyaji', 'In the late 1960s and early 1970s, romance movies and action films starred actors likeÂ\\xa0Shammi Kapoor,Â\\xa0Jeetendra,Â\\xa0Rajesh Khanna,Â\\xa0Dharmendra,Â\\xa0Sanjeev KumarÂ\\xa0andÂ\\xa0Shashi KapoorÂ\\xa0and actresses likeÂ\\xa0Sharmila Tagore,Â\\xa0Mumtaz,Â\\xa0Saira B', 'Some Hindi filmmakers such asÂ\\xa0Shyam BenegalÂ\\xa0continued to produce realisticÂ\\xa0Parallel CinemaÂ\\xa0throughout the 1970s,[40]alongsideÂ\\xa0Mani Kaul,Â\\xa0Kumar Shahani,Â\\xa0Ketan Mehta,Â\\xa0Govind NihalaniÂ\\xa0andÂ\\xa0Vijaya Mehta.', \"The 1970s thus saw the rise of commercial cinema in the form of enduring films such asÂ\\xa0SholayÂ\\xa0(1975), which consolidatedÂ\\xa0Amitabh Bachchan's position as a lead actor. The devotional classicÂ\\xa0Jai Santoshi MaÂ\\xa0was also released in 1975.[41]Â\\xa0Another important film from 1975Â\\xa0\", 'During the late 1980s and 1990s, the pendulum swung back toward family-centric romantic musicals with the success of such films asÂ\\xa0Qayamat Se Qayamat TakÂ\\xa0(1988),Â\\xa0Maine Pyar Kiya', 'films were also successful, with actors likeÂ\\xa0Govinda,Â\\xa0Akshay KumarÂ\\xa0andÂ\\xa0Ajay Devgan, and Kumar gaining popularity forÂ\\xa0performingÂ\\xa0dangerousÂ\\xa0stuntsÂ\\xa0inÂ\\xa0action filmsÂ\\xa0in his well knownÂ\\xa0Khiladi (film series)Â\\xa0and oth', 'These films often featured actors likeÂ\\xa0Nana PatekarÂ\\xa0andÂ\\xa0Manoj Bajpai, and actresses likeÂ\\xa0Manisha Koirala,Â\\xa0Tabu,Â\\xa0Pooja BhattandÂ\\xa0Urmila Matondkar, whose performances were usually critically acclaimed.', \"She had signed a contract with Pooja Films on January 17, 2018, with respect to the film Padman, asking for financial help. Before that, KriArj Entertainment Pvt Ltd had also entered a contract with Gothik Entertainment Pvt Ltd in November 2017. Arora and her company kept both production houses in the dark about each other's contracts.\", 'Shraddha was spotted with Rohan last night (December 07, 2018) as the alleged couple stepped out and possibly went on a dinner date. She sported a chic look withÂ\\xa0a white and green striped dress with a denim jacket and her alleged beau donned a cool look in a casual black tee and blue denim.', \"'Gold' is the fictional re-telling of the India's iconic win at the 1948 London OlympicsÂ\\xa0\", 'In this situation, could an intimacy director, someone who keeps people comfortable on the sets, be essential? Filmmaker Madhur Bhandarkar thinks so.', 'And this trend is here to say. In a conversation with Entrepreneur India, Omung Kumar, the man behind two of Bollywood iconic biopic movie', 'A recent report by media consulting firmÂ\\xa0Ormax Media says Facebook and YouTube are the most effective media in driving buzz power, at 67 percent and 51 percent respectively. Television ranks at number three at 43 percent. The Facebook-Instagram combine thus has total buzz power of 69 percent.', 'Dolly Ki Doli director Abhishek Dogra feels that marriage movies are very relatable for audiences.', 'â\\x80\\x9cItâ\\x80\\x99s always humbling when fans come and speak to you, when they take the time out to say â\\x80\\x98helloâ\\x80\\x99, sometimes missing work and changing schedules. When I met Kauthar Abdulalim on the day of a press conference, I could barely see her with all the press people lined up in the middle.', 'India are some of the films that has been shot in the continent and with the wealth of beauty Australia has, it definitely is one of the most perfect locations for all the producers to explore.â\\x80\\x9d', 'December brings the second season ofÂ\\xa0The Marvelous Mrs. Maisel, the award-winning series that follows a 1958 housewife who discovers she has a talent for stand-up comedy', \"While 'Hindi Medium' bagged honours in the categories of BesÂ\\xa0..Â\\xa0\", 'With a funny cold war between him and the dean of the college, Dr. Asthana (Boman Irani), this film is a laughter riot. The film taught us that while conventional ways may seem like the right way to go about it, but sometimes a miracle is long due and it is only possible when a student-teacher relationship becomes a mutually understanding one. Well, like they say, a teacher never stops learning either.', 'Losely based on the life of Helen Keller and her teacher, Black is a film that made its mark on Indian Cinema with not just the story but with outstanding performances by Amitabh Bachchan andÂ\\xa0RaniÂ\\xa0Mukherjee.', 'A couple of weeks beforeÂ\\xa0Befikre, in Gauri Shindeâ\\x80\\x99sÂ\\xa0Dear Zindagi, Alia Bhatt was Kaira.', 'The paper entitledÂ\\xa0Transnational Cinema: A CrossÂ\\xa0Culture Communication Medium, attempts to look into transnational cinemaâ\\x80\\x99s innate nature to network the national to the international, not only in the panoptical sense but also with questions related to aesthetics, ideas, and mostly factors pertaining to cross-culture communication, especially in Indian context', 'The film is a fictional action fantasy featuring a hunky warrior prince who can throw trees and wrestle bulls but still loves his mother. It had the third-largest opening for a foreign-language film in U.S. history', 'The debutante cannot behold her excitement. As quoted byÂ\\xa0Hindustan Times', 'The film has finally got a release date and it is slated for a release on Eid-Ul-Fitr 2019.', '\"To character assassinate a hardworking, driven, achiever like Priyanka Chopra in this warped, petty manner and for TheCut to publish such a low-brow piece is the lowest of the lows.', 'Netflix didnâ\\x80\\x99t regard India as much of an opportunity when it first expanded there in January 2016. The company has built the worldâ\\x80\\x99sÂ\\xa0largest paid online TV networkÂ\\xa0by taking advantage of the proliferation of high-speed internet to deliver a video service thatâ\\x80\\x99s cheaper and easier to use than cable or satellite TV.Â\\xa0', 'The singer was released Thursday night following the intervention of the Indian Embassy in Abu Dhabi, Navdeep Singh Suri, the Indian Ambassador to the UAE, told Gulf News.', 'A Mumbai teen reflects on his upbringing in the slums when he is accused of cheating on the Indian Version of \"Who Wants to be a Millionaire?\"', 'Two friends are searching for their long lost companion. They revisit their college days and recall the memories of their friend who inspired them to think differently, even as the rest of the world called them \"idiots\".', 'An eight-year-old boy is thought to be a lazy trouble-maker, until the new art teacher has the patience and compassion to discover the real problem behind his struggles in school.', 'Over a hundred guests attended the sparkling event at Bowden Rugby Club.Â\\xa0As well as a festive and colourful atmosphere, guests were treated to a glass of bubbly on arrival, a delicious curry buffet, mince pies,Â\\xa0 a raffle with great prizes, andÂ\\xa0 a fabulous set from DJ Irf.', 'The Matrix Reloaded is a 2003 science fiction action film, the first sequel to The Matrix, and the second installment in The Matrix trilogy.', 'Among the guests who have reached the city, areÂ\\xa0actors RekhaÂ\\xa0andÂ\\xa0Disha Patani.', 'Taimur was seen in bright yellow shirt, blue pants and sneakers. He was clicked sprinting across the field with a baton in his hand, playing with his friends, being cheered by mom Kareena and even breaking into a few tears, perhaps unhappy with the cheerleading duties bestowed upon him.', 'Trade analyst Taran Adarsh also shared the box office figures of the film.', 'â\\x80\\x9cFilms like Toilet... are about social and public awareness. As there is similarity between the two countries, such movies are getting accepted in China.', 'On veteran actorÂ\\xa0Dharmendraâ\\x80\\x99s 83rd birthday, his wife and evergreen actress Hema Malini wished him saying he is her â\\x80\\x9ceverlasting loveâ\\x80\\x9d.', \"Famous celebrity Mehendi artist, Veena Nagda, who was in charge of Deepika's Mehendi ceremony, recentlyÂ\\xa0made this really cute revelation in interaction with a radio channel.\", 'Box office success is one thing but to outdo what has been a singular cultural phenomenon spanning the breadth of the country takes some derring-do.', \"After theÂ\\xa0women dazzled,Â\\xa0and theÂ\\xa0couples rockedÂ\\xa0the red carpet, Bollywood's hunks arrived at Priyanka Chopra and Nick Jonas's wedding reception in Mumbai on Thursday, December 20, night.\", 'PoliticianÂ\\xa0Asif BhamlaÂ\\xa0withÂ\\xa0Alka Yagnik, Sudesh Bhosale, Tabassum andÂ\\xa0Arun Govil.', 'The B-town beauty has been updating her Instagram account with beautiful pictures from her exotic holiday.', 'After aÂ\\xa0receptionÂ\\xa0for the media on Wednesday December 19, Priyanka and Nick hosted the Big One at the Taj Lands End hotel', \"Bauua's coarse charm isn't lost on Afiya Yusufzai Bhinder (Anushka Sharma), the wheelchair-bound NASA brains affected by cerebral palsy.\", \"He got his big break in Hrishikesh Mukherjee'sÂ\\xa0Namak HaraamÂ\\xa0in 1973. Raj Kapoor'sÂ\\xa0Prem Rog, in which he played the main villain, made sure there was no looking back.\", 'Vikram has cases of money laundering and drug dealing against him, and the couple were arrested last year from Kenya.', 'The smooth talking gangster had an instant connection with aspiring actress Monica Bedi.', 'The first celebrity gangster of Bombay got married to Sona, mostly based on the fact that she looked so much like Madhubala. Haji had a distinct fondness for the deceased Madhubala, and was married to Sona in a heartbeat.', 'Anita Ayub, a beauty pageant contestant, was very close to underworld terror Dawood Ibrahim.', 'The actress, famous for dancing under a waterfall, is said to have had an affair with the don.', 'Music label T-Series owner Gulshan Kumar was shot to death in broad daylight in 1997.', \"After Hrithik's father refused to give dreaded don Ali Baba Budesh a share of the profits from Kaho Na Pyaar Hai in 2000, he was yet to learn the true meaning of extortion.\", \"Mukesh Bhatt, Boney Kapoor, Rakesh Roshan have all admitted to receiving calls for sharing of profits, with dire consequences threatened if they didn't comply.\", 'While Sanjay was recently charged and placed in jail, he was earlier picked up in 1994 by the police as well.', 'SRK has openly admitted to speaking to dreaded gangster Chhota Shakeel under duress, claiming he had to listen to a story and decide whether to make a film about it. Apart from this, he has also gotten threat calls from Abu Salem and received death threats after the movie Happy New Year.', 'And it starts way back in 1931. Okay, Itâ\\x80\\x99s actually much older. The Underworld is basically working out of and headquartered in Pakistan.', 'Heâ\\x80\\x99s been threatened multiple times, and since his popularity is linked to Salman, Itâ\\x80\\x99s inevitable that he can be used by underworld.', 'Lets not forget all the other actors/actresses/producers who had connections, and used those connections to push their careers up in the beginning, only to switch sides once they became successful.', 'Fawad Khan is the son of Sales Head/Chair of Pakistanâ\\x80\\x99s biggest Pharmaceutical company. And he was roped in first by KJo, in 2008, but he couldnâ\\x80\\x99t get through, owing to the Mumbai blasts. He instead hit his first release with Sonam', 'The attack on RoshanÂ\\xa0 was not undertaken to prove that the Shiv Sena could no longer protectÂ\\xa0 its clients.', 'Rajasthan gangster Lawrence Bishnoi threatened to kill Race 3 actor Salman Khan in Jodhpur where the actor had gone for the hearing of his blackbuck poaching case.Â\\xa0', 'The underworld don has also asked the singer to perform at two stage shows for him free of cost.', 'The recommendation has come based on a recent audit it conducted on the security cover provided to various important personalities in the city, the report stated. In 2014, the agency had provided security cover to SRK', 'Satya, Company, Vaastav, Once Upon a Time in Mumbaai, Agneepathâ\\x80¦ and now Daddy.', 'While the law was amended in 2000 to allow the film industry to qualify for bank credit, the underworldâ\\x80\\x99s influence within Indian cinema had already become deeply entrenched and pervasive', \"Another incident that became the talk of the town and still remains finds its ground in 2000 released film â\\x80\\x98Chori Chori Chupke Chupke.'\", 'Mamta Kulkarni starred in a couple of hits before running off with Vikram Goswami (the co-accused who also has cases of money laundering and drug dealing) to live anonymously in Dubai.', \"What I've noticed mostly is Tamil and Telugu movies are over hyped all the time because of their over enthusiastic fans.\", 'They know what problems a majority of Indians are facing, their living conditions, their heavily burdened cultural values and they make 90% of movies based on poverty, corruption, police crime drama or rich girl poor boy stories. However, they make shitty, illogical and time wasting movies.', 'South movies are more content driven.', 'Before Baahubali, it was Rajinikanthâ\\x80\\x99s Endhiran, which stunned trade pundits that they started seeing the actor as a box office demigod.', 'Point to be noted here is we havenâ\\x80\\x99t added Malayalam and Kannada movies, especially the former producing some of the finest films in modern Indian cinema and they are slowly attracting non-Malayalam speaking multiplex audiences.', 'Allu Arjun has also signed a Tamil biggie with director Lingusamy and Jr NTR is also said to be planning to soon make his debut in Tamil.', 'A good example of this is how Pillai points out the absence of mythological themes during the genesis of Malayalam cinema.', 'Raman makes a very astute observation as to why there was the rise of misogynistic cinema after the â\\x80\\x9990s.', 'For all its â\\x80\\x98socialâ\\x80\\x99 and contemporary themes, the public space for women in Malayalam cinema was cruelly restricted', 'Zeenat Aman:Â\\xa0She was known for her bold on-screen appearances. She starred in films like Satyam Shivam Sundaram (1978), Ajanabee (1974), Hare Rama Hare Krishna (1971), The Great Gambler (1979), Yaadon Ki Baaraat (1973) and Heera Panna (1973).']\n"
     ]
    }
   ],
   "source": [
    "X = hollybolly.iloc[:,1].values.tolist() \n",
    "print(type(X)) # X is list\n",
    "print(X)"
   ]
  },
  {
   "cell_type": "code",
   "execution_count": null,
   "metadata": {},
   "outputs": [],
   "source": []
  },
  {
   "cell_type": "code",
   "execution_count": 6,
   "metadata": {},
   "outputs": [],
   "source": [
    "## Cleaning - run either Clean1 or Clean2"
   ]
  },
  {
   "cell_type": "code",
   "execution_count": 7,
   "metadata": {},
   "outputs": [
    {
     "name": "stdout",
     "output_type": "stream",
     "text": [
      "['neighborhood central region los angeles california neighborhood notable place home film industry', 'include several historic studio name come metonymfor motion picture industry united state hollywood also highly', 'ethnically diverse densely populate economically diverse neighborhood retail business district', 'hollywood small community incorporate municipality officially merge city los angeles', 'soon thereafter prominent film industry begin emerge eventually become recognizable film industry world', 'one adobe hut stood nopalera nopal field name mexican nopal cactus indigenous area agricultural', 'community flourish area know cahuenga valley pas santa monica mountain immediately north', 'accord diary whitley know father hollywood honeymoon stood top hill look valley along come chinese man wagon', 'carry wood man get wagon bow chinese man ask reply meaning wood whitley epiphany decide name new town hollywood holly would', 'represent england wood would represent scottish heritage whitley already start town across western united state', 'spread general harrison gray otis hurd wife eastern adjacent ranch', 'daeida wilcox may learn name hollywood ivar weid neighbor holly canyon lake hollywood prominent', 'whitley recommend name husband harvey wilcox august wilcox file los angeles cou', 'parcel map property sell name hollywood california wilcox want first record deed early', 'region post office newspaper hotel two market los', 'angeles population lay mile km east vineyard barley field citrus grove single', 'prospect avenue service infrequent trip take two hour old citrus house convert', 'hollywood hotel open whitley president los pacific boulevard development company finally', 'subdivide whitley built hotel attract land buyer flank west side highland avenue structure fro', 'unpaved road regularly grade gravel hotel become internationally know center civic social lif', 'whitley company developed sell one early residential area ocean view tract whitley much promote th', 'electric light include bring electricity building bank well road cahuenga pas light ran several block', 'whitley land center highland avenue development whitley height name', 'incorporate municipality november vote january', 'banishment liquor city except sell medicinal purpose neithe', 'city vote merger los angeles order secure adequate water supply gain access', 'major company set production near los angeles early', 'motion picture patent company new jersey filmmaker often sue stop production escape film', 'edison patent could enforce also weather ideal quick access various setting los angeles bec', 'director griffith first make motion picture hollywood short film old california film biograph company although hollywood ban movie thea', 'recognize name like abbey road electric lady motown place beatles jimi hendrix diana ross supremes left musical mark', 'since impressive list rock pop country reggae artist aerosmith britney spear keith urban damian marley name follow suit', 'around movie theater begin offer easy inexpensive way public watch movie nickelodeon help movie industry move increase public appeal film generate money filmmaker alongside widespread use theater screen world war', 'moviemakers arrive europe world war director like ernst lubitsch alfred hitchcock fritz lang jean renoir actor like rudolph valentino marlene dietrich ronald colman charles boyer join homegrown supply actor lure west new york city stage introduction sound film form one century remarkable growth industry motion picture height popularity studio crank total movie year see audience million american per week', 'time one could usually guess studio make film largely actor appear mgm example claimed contract star heaven studio style characteristic touch make possible know trait exist today', 'still business however motion picture company make money operating studio system major studio kept thousand people salary actor producer director writer stunt men craftspersons technician', 'supreme court eventually rule major studio ownership theater film distribution violation sherman antitrust act result studio begin release actor technical staff contract studio', 'drive produce spectacle movie screen largely shape american cinema ever since', 'first impression quote assume russo talk future mcu film second part infinity war constrain idea film two hour long audience', 'could year russo brother name appear slew oscar nominee even continue direct popular blockbuster recent memory see agbo experiment pan', 'credit weinstein eventually make good promise follow widely report sexual harassment scandal weinstein company declare bankruptcy', 'six people arrest thursday one arrest friday grand jury indict variety election fraud charge face accusation bribing voter improperly help people fill absentee ballot voting despite convict disqualify felony voting even though live outside city voting district', 'view come surprise already film development perhaps big story journalism past year new york investigation allegation sexual abuse harvey weinstein', 'accord report mumbai mirror lawrence kasanoff producer mortal kombat series make quiet visit mumbai meet tiger discus detail project expect action film lawrence along big studio head emmy writer sean catherine derek batman series come mumbai sanjay grover son veteran actor gulshan grover part project last one year also part meeting report add', 'foremost example late producer read declassify testimony cia exfiltration expert tony mendez cia journal detail help american diplomat escape iran hostage crisis pose group canadian filmmaker', 'seven film superhero movie base character first introduce comic book', 'revenue film tiny fraction major studio release make money strategy keep production cost low rely turn movie sleeper hit', 'accord new report university southern annenberg school communication journalism find anyone like look like', 'chinese film market go large film market short order say charles rivkin former u assistant secretary state january take christopher dodd mpaa chairman building screen', 'movie suppose good plot cardiovascular wife kill man say surgeon sent death row bus crash way prison train crash bus crash richard kimble escape go run five marshal heel literally opening minute fugitive', 'one prominent among asian immigrant community argues movie mark breakthrough asian representation virtue cast hold promise representation', 'ceremony feature presentation performance special achievement award past honoree include diane warren smokey robinson glen campbell', 'matter high quote number representation constantly try jack cache money extra forever best build quote fight thing successful deal become bedrock say one veteran producer also agent skim percent take earn', 'excite aspect fox acquisition allow u greatly accelerate strategy iger say announce deal december believe create relationship vital future medium business high', 'donald open closet door reveal de niro mueller hiding behind door cause eric exclaim robert mueller', 'conduct extreme outrageous say filing yesterday well within statute limitation stymie many type case metoo era', 'completely shock little dialogue film haynes say phone interview', 'male actor command twice screen time female one men hero villain talk last count speak part successful film ratio slightly well late woman still often ornament victim love interest damsel distress useful disrobed attack', 'guy always control actor filmmaker company first time saw control even weinstein seem try', 'sorry bother shock film ever', 'see double beautiful star daughter look like kelly ripa lola consuelos catherine carys douglas resemblance duo uncanny', 'lady gaga surprised small crowd black rabbit rise venue hollywood california thursday performance frank sinatra song ruin party sorry gaga quipped', 'rise ash crash twentieth forge master stroke ruthless producer darryl zanuck merge twentieth century picture william ail boot fox create formidable hollywood player studio turn marilyn monroe star award elizabeth taylor first million payday costly cleopatra million nearly capsize company help solidify blockbuster george space fantasy star war', 'triple frontier good movie action melodrama pen mark boal star ben affleck oscar isaac garrett hedland charlie hunnam pedro pascal new genre classic tower artistic achievement start well end seem somewhat unwilling truly confront morality story especially hero cross line return exactly promise', 'aunt becky desperate housewife become ensnare wild hollywood cheat scam week countless question arose teri hatcher think aunt becky end slammer enough make olsen twin resurface importantly aunt becky get', 'star coronation street currently gaynor faye share shot break hollywood prior take role british soap world english actress open mirror career could take different path head across pond', 'former desperate housewife star felicity huffman actress lori loughlin best know play aunt becky full house face court appearance later month related allegation participate college admission cheat scheme court public opinion however hard say whether fan hollywood uncle jesse say mercy', 'airplane versatile tool arsenal get character place place crash dramatically get fill inexplicable snake also kind nightmare film movie account really design one thing cram many people possible little tube hurl sky without much consideration stuff like camera equipment crew', 'entrepreneur mariam idea use national cuisine provide hope opportunity refugee woman succeed beyond wild dream project mean table laden food drew attention hollywood actress social activist susan sarandon whose documentary also call screen first time week beirut', 'several week ago pomp circumstance oscar sunday stood actress selma blair sheer dress carry cane cover patent leather pose photograph enter vanity fair party first public appearance since reveal diagnose multiple sclerosis', 'formally refer hindi cinema term bollywood often use synecdoche refer', 'however bollywood proper part large indian film industry include production', 'ollywood one large film producer india represent net box office revenue ta', 'rest regional cinema constitutes bollywood also one large center film production wo', 'big film industry world term number people employ number film produce', 'sell across globe comparison ticket hollywood bollywood produce film', 'name bollywood portmanteau derive bombay former name mumbai hollywood center american film industry however u', 'name scheme bollywood inspire tollywood name use refer cinema west bengal date back tollywood early', 'chance juxtaposition two pair rhyme syllable holly tolly lead portmanteau name tollywood coin name tollywood go', 'base junior statesman youth magazine establish precedent film industry use name eventually lead coin bollywood', 'world large film producer credit term claimed several different people include lyricist filmmaker scholar amit khanna', 'film make india industry produce film per annum first indian', 'commercial success clearly huge market talkie musical bollywood regional film industry qu', 'tumultuous time india buffet great depression world war ii indian independence movement violence partition bollywood film unab', 'kanya next year make another colour film version mother india however colour become', 'lavish romantic musical melodrama staple fare cinema', 'follow india independence period late regard film historian golden age hindi cine', 'example include guru dutt film pyaasa kaagaz ke phool raj kapoor film awaara shree', 'india awaara present city nightmare dream pyaasacritiqued unreality city life famous', 'popularise theme reincarnation western popular culture acclaim mainstream hindi filmmaker time include kamal amrohi vijay bhatt successful actor time include', 'commercial hindi cinema thrive also saw emergence new parallel cinema movement though movement mainly lead bengali cinema also begin gain', 'ever since social realist film neecha nagar grand prize first cannes film festival hindi film frequently competition palme cannes film festival throughout early win major prize festival guru dutt overlooke', 'international recognition much later dutt regard one great asian filmmaker time alongside famous indian bengali filmmaker satyaji', 'late early romance movie action film star actor like shammi kapoor jeetendra rajesh khanna dharmendra sanjeev kumar shashi kapoor actress like sharmila tagore mumtaz saira b', 'hindi filmmaker shyam benegal continued produce realistic parallel cinema throughout alongside mani kaul kumar shahani ketan mehta govind nihalani vijaya mehta', 'thus saw rise commercial cinema form endure film sholay consolidated amitabh bachchan position lead actor devotional classic jai santoshi also release another important film', 'late pendulum swung back toward romantic musical success film qayamat se qayamat tak maine pyar kiya', 'film also successful actor like govinda akshay kumar ajay devgan kumar gain popularity perform dangerous stunt action film well know khiladi film series oth', 'film often feature actor like nana patekar manoj bajpai actress like manisha koirala tabu pooja bhattand urmila matondkar whose performance usually critically acclaim', 'sign contract pooja film january respect film padman ask financial help kriarj entertainment pvt ltd also enter contract gothik entertainment pvt ltd november arora company kept production house dark contract', 'shraddha spot rohan last night december allege couple step possibly go dinner date sport chic look white green strip dress denim jacket allege beau don cool look casual black tee blue denim', 'fictional india iconic win london olympics', 'situation could intimacy director someone keep people comfortable set essential filmmaker madhur bhandarkar think', 'trend say conversation entrepreneur india omung kumar man behind two bollywood iconic biopic movie', 'recent report medium consult firm ormax medium say facebook youtube effective medium drive buzz power percent percent respectively television rank number three percent combine thus total buzz power percent', 'dolly ki doli director abhishek dogra feel marriage movie relatable audience', 'always humble fan come speak take time say sometimes miss work change schedule met kauthar abdulalim day press conference could barely see press people line middle', 'india film shot continent wealth beauty australia definitely one perfect location producer', 'december brings second season marvelous maisel series follow housewife discovers talent comedy', 'medium bag honour category be', 'funny cold war dean college asthana boman irani film laughter riot film taught u conventional way may seem like right way go sometimes miracle long due possible relationship becomes mutually understand one well like say teacher never stop learn either', 'losely base life helen keller teacher black film make mark indian cinema story outstanding performance amitabh bachchan rani mukherjee', 'couple week befikre gauri dear zindagi alia bhatt kaira', 'paper entitle transnational cinema cross culture communication medium attempt look transnational innate nature network national international panoptical sense also question related aesthetic idea mostly factor pertain communication especially indian context', 'film fictional action fantasy feature hunky warrior prince throw tree wrestle bull still love mother opening film history', 'debutante behold excitement quote hindustan time', 'film finally get release date slat release', 'character assassinate hardworking driven achiever like priyanka chopra warp petty manner thecut publish piece low low', 'netflix regard india much opportunity first expand january company built large paid online tv network take advantage proliferation internet deliver video service cheaper easy use cable satellite', 'singer release thursday night follow intervention indian embassy abu dhabi navdeep singh suri indian ambassador uae told gulf news', 'mumbai teen reflect upbringing slum accuse cheat indian version want millionaire', 'two friend search long lose companion revisit college day recall memory friend inspire think differently even rest world call idiot', 'boy thought lazy new art teacher patience compassion discover real problem behind struggle school', 'hundred guest attend sparkle event bowden rugby well festive colourful atmosphere guest treat glass bubbly arrival delicious curry buffet mince pie raffle great prize fabulous set dj irf', 'matrix reload science fiction action film first sequel matrix second installment matrix trilogy', 'among guest reach city actor rekha disha patani', 'taimur see bright yellow shirt blue pant sneaker clicked sprint across field baton hand play friend cheer mom kareena even break tear perhaps unhappy cheerlead duty bestow upon', 'trade analyst taran adarsh also share box office figure film', 'like toilet social public awareness similarity two country movie get accepted china', 'veteran actor birthday wife evergreen actress hema malini wish say', 'famous celebrity mehendi artist veena nagda charge deepika mehendi ceremony recently make really cute revelation interaction radio channel', 'box office success one thing outdo singular cultural phenomenon span breadth country take', 'woman dazzle couple rock red carpet bollywood hunk arrive priyanka chopra nick jonas wedding reception mumbai thursday december night', 'politician asif bhamla alka yagnik sudesh bhosale tabassum arun govil', 'beauty update instagram account beautiful picture exotic holiday', 'reception medium wednesday december priyanka nick host big one taj land end hotel', 'bauua coarse charm lose afiya yusufzai bhinder anushka sharma nasa brain affected cerebral palsy', 'get big break hrishikesh namak haraam raj prem rog played main villain make sure look back', 'vikram case money laundering drug deal couple arrest last year kenya', 'smooth talk gangster instant connection aspire actress monica bedi', 'first celebrity gangster bombay get married sona mostly base fact look much like madhubala haji distinct fondness decease madhubala married sona heartbeat', 'anita ayub beauty pageant contestant close underworld terror dawood ibrahim', 'actress famous dance waterfall say affair', 'music label owner gulshan kumar shot death broad daylight', 'hrithik father refuse give dread ali baba budesh share profit kaho na pyaar hai yet learn true meaning extortion', 'mukesh bhatt boney kapoor rakesh roshan admit receive call share profit dire consequence threaten comply', 'sanjay recently charge place jail earlier picked police well', 'srk openly admit speak dread gangster chhota shakeel duress claim listen story decide whether make film apart also gotten threat call abu salem receive death threat movie happy new year', 'start way back okay actually much old underworld basically work headquarter pakistan', 'threaten multiple time since popularity link salman inevitable use underworld', 'let forget connection use connection push career begin switch side become successful', 'fawad khan son sale big pharmaceutical company roped first kjo get owe mumbai blast instead hit first release sonam', 'attack roshan undertaken prove shiv sena could longer protect client', 'rajasthan gangster lawrence bishnoi threaten kill race actor salman khan jodhpur actor go hearing blackbuck poach', 'underworld also ask singer perform two stage show free cost', 'recommendation come base recent audit conduct security cover provide various important personality city report state agency provide security cover srk', 'satya company vaastav upon time mumbaai daddy', 'law amend allow film industry qualify bank credit influence within indian cinema already become deeply entrench pervasive', 'another incident become talk town still remains find ground release film chori chupke chupke', 'mamta kulkarni star couple hit run vikram goswami also case money laundering drug deal live anonymously dubai', 'notice mostly tamil telugu movie hyped time enthusiastic fan', 'know problem majority indian face living condition heavily burden cultural value make movie base poverty corruption police crime drama rich girl poor boy story however make shitty illogical time waste movie', 'south movie content driven', 'baahubali endhiran stun trade pundit start see actor box office demigod', 'point note add malayalam kannada movie especially former produce fine film modern indian cinema slowly attract speak multiplex audience', 'allu arjun also sign tamil biggie director lingusamy jr ntr also say planning soon make debut tamil', 'good example pillai point absence mythological theme genesis malayalam cinema', 'raman make astute observation rise misogynistic cinema', 'contemporary theme public space woman malayalam cinema cruelly restrict', 'zeenat aman know bold appearance star film like satyam shivam sundaram ajanabee hare rama hare krishna great gambler yaadon ki baaraat heera panna']\n"
     ]
    }
   ],
   "source": [
    "# Clean1 (run either Clean1 or Clean2)\n",
    "    # removes stopwords, special chars, nums, extra spaces, to lower case etc. (better code)\n",
    "    # removes unicode characters\n",
    "\n",
    "    \n",
    "def remove_stopwords(sentence):\n",
    "    stop_words = set(stopwords.words(\"english\"))\n",
    "    return \" \".join([word.lower() for word in word_tokenize(sentence)\n",
    "                    if word.lower() not in stop_words and word.isalpha()])\n",
    "\n",
    "\n",
    "def clean_stopw_more(text1):\n",
    "    # removes stopwords, special chars, nums, extra spaces, to lower case etc. (better code)\n",
    "    # works on list of strings\n",
    "    documents = []\n",
    "    for sen in text1:\n",
    "        documents.append(remove_stopwords(sen))\n",
    "    return documents\n",
    "\n",
    "\n",
    "def clean_unicode(text1):\n",
    "    # removes unicode characters\n",
    "    # works on list of strings\n",
    "    documents = []\n",
    "    for sen in text1:\n",
    "        sen = str(sen.encode('ascii','ignore'))\n",
    "        sen = sen[2:]\n",
    "        sen = sen[:-1]\n",
    "        sen = \" \".join(sen.split())\n",
    "        documents.append(remove_stopwords(sen))\n",
    "    return documents\n",
    "\n",
    "\n",
    "# Lemmatize with POS Tag\n",
    "def get_wordnet_pos(word):\n",
    "    \"\"\"Map POS tag to first character lemmatize() accepts\"\"\"\n",
    "    tag = nltk.pos_tag([word])[0][1][0].upper()\n",
    "    tag_dict = {\"J\": wordnet.ADJ,\n",
    "                \"N\": wordnet.NOUN,\n",
    "                \"V\": wordnet.VERB,\n",
    "                \"R\": wordnet.ADV}\n",
    "\n",
    "    return tag_dict.get(tag, wordnet.NOUN)\n",
    "\n",
    "\n",
    "def lemmatize(text1):\n",
    "    # lemmitizes\n",
    "    # works on list of strings\n",
    "    documents = []\n",
    "    lemmatizer = WordNetLemmatizer() \n",
    "    for sen in text1:      \n",
    "        document = \"\"\n",
    "        for word in sen.split():\n",
    "#             word1 = lemmatizer.lemmatize(word) # only removes 's' at the end of nouns as of now\n",
    "#             word1 = lemmatizer.lemmatize(word, pos =\"a\") # also converts adjective 'better' to 'good'\n",
    "            word1 = lemmatizer.lemmatize(word, get_wordnet_pos(word)) # as per word's POS tag\n",
    "            document = (''.join(document+\" \"+word1)).strip()\n",
    "        documents.append(document)\n",
    "    return documents\n",
    "\n",
    "\n",
    "X = clean_stopw_more(X)\n",
    "X = clean_unicode(X)\n",
    "X = lemmatize(X)\n",
    "print(X)"
   ]
  },
  {
   "cell_type": "code",
   "execution_count": null,
   "metadata": {},
   "outputs": [],
   "source": []
  },
  {
   "cell_type": "code",
   "execution_count": null,
   "metadata": {},
   "outputs": [],
   "source": []
  },
  {
   "cell_type": "code",
   "execution_count": 177,
   "metadata": {},
   "outputs": [],
   "source": [
    "###############################################################\n",
    "################ Embeddings Generation - Word2Vec\n",
    "###############################################################"
   ]
  },
  {
   "cell_type": "code",
   "execution_count": null,
   "metadata": {},
   "outputs": [],
   "source": []
  },
  {
   "cell_type": "code",
   "execution_count": 166,
   "metadata": {},
   "outputs": [],
   "source": [
    "## Creating Word2Vec model\n",
    "    # Note: training time taking"
   ]
  },
  {
   "cell_type": "code",
   "execution_count": 167,
   "metadata": {},
   "outputs": [],
   "source": [
    "from keras.preprocessing import text\n",
    "from keras.utils import np_utils\n",
    "from keras.preprocessing import sequence"
   ]
  },
  {
   "cell_type": "code",
   "execution_count": 168,
   "metadata": {},
   "outputs": [
    {
     "name": "stdout",
     "output_type": "stream",
     "text": [
      "Vocabulary Size: 1655\n",
      "Vocabulary Sample: [('film', 1), ('movie', 2), ('also', 3), ('hollywood', 4), ('make', 5), ('like', 6), ('actor', 7), ('name', 8), ('one', 9), ('cinema', 10)]\n"
     ]
    }
   ],
   "source": [
    "tokenizer = text.Tokenizer()\n",
    "tokenizer.fit_on_texts(X)\n",
    "word2id = tokenizer.word_index\n",
    "\n",
    "# build vocabulary of unique words\n",
    "word2id['PAD'] = 0\n",
    "id2word = {v:k for k, v in word2id.items()}\n",
    "wids = [[word2id[w] for w in text.text_to_word_sequence(doc)] for doc in X]\n",
    "\n",
    "vocab_size = len(word2id)\n",
    "# Tunable parameters:\n",
    "embed_size = 100 # Typically, the dimensionality of the vectors is set to be between 100 and 1,000\n",
    "                 # Quality of word embedding increases with higher dimensionality. But after reaching some point, marginal gain will diminish\n",
    "window_size = 5 # According to the authors' note, the recommended value is 10 for skip-gram and 5 for CBOW\n",
    "                \n",
    "    \n",
    "print('Vocabulary Size:', vocab_size)\n",
    "print('Vocabulary Sample:', list(word2id.items())[:10])"
   ]
  },
  {
   "cell_type": "code",
   "execution_count": 169,
   "metadata": {},
   "outputs": [
    {
     "name": "stdout",
     "output_type": "stream",
     "text": [
      "Context (X): ['neighborhood', 'central', 'region', 'los', 'angeles', 'neighborhood', 'notable', 'place', 'home', 'film'] -> Target (Y): california\n",
      "Context (X): ['central', 'region', 'los', 'angeles', 'california', 'notable', 'place', 'home', 'film', 'industry'] -> Target (Y): neighborhood\n",
      "Context (X): ['include', 'several', 'historic', 'studio', 'name', 'metonymfor', 'motion', 'picture', 'industry', 'united'] -> Target (Y): come\n",
      "Context (X): ['several', 'historic', 'studio', 'name', 'come', 'motion', 'picture', 'industry', 'united', 'state'] -> Target (Y): metonymfor\n",
      "Context (X): ['historic', 'studio', 'name', 'come', 'metonymfor', 'picture', 'industry', 'united', 'state', 'hollywood'] -> Target (Y): motion\n",
      "Context (X): ['studio', 'name', 'come', 'metonymfor', 'motion', 'industry', 'united', 'state', 'hollywood', 'also'] -> Target (Y): picture\n",
      "Context (X): ['name', 'come', 'metonymfor', 'motion', 'picture', 'united', 'state', 'hollywood', 'also', 'highly'] -> Target (Y): industry\n",
      "Context (X): ['soon', 'thereafter', 'prominent', 'film', 'industry', 'emerge', 'eventually', 'become', 'recognizable', 'film'] -> Target (Y): begin\n",
      "Context (X): ['thereafter', 'prominent', 'film', 'industry', 'begin', 'eventually', 'become', 'recognizable', 'film', 'industry'] -> Target (Y): emerge\n",
      "Context (X): ['prominent', 'film', 'industry', 'begin', 'emerge', 'become', 'recognizable', 'film', 'industry', 'world'] -> Target (Y): eventually\n",
      "Context (X): ['one', 'adobe', 'hut', 'stood', 'nopalera', 'field', 'name', 'mexican', 'nopal', 'cactus'] -> Target (Y): nopal\n"
     ]
    }
   ],
   "source": [
    "def generate_context_word_pairs(corpus, window_size, vocab_size):\n",
    "    context_length = window_size*2\n",
    "    for words in corpus:\n",
    "        sentence_length = len(words)\n",
    "        for index, word in enumerate(words):\n",
    "            context_words = []\n",
    "            label_word   = []            \n",
    "            start = index - window_size\n",
    "            end = index + window_size + 1\n",
    "            \n",
    "            context_words.append([words[i] \n",
    "                                 for i in range(start, end) \n",
    "                                 if 0 <= i < sentence_length \n",
    "                                 and i != index])\n",
    "            label_word.append(word)\n",
    "\n",
    "            x = sequence.pad_sequences(context_words, maxlen=context_length)\n",
    "            y = np_utils.to_categorical(label_word, vocab_size)\n",
    "            yield (x, y)\n",
    "            \n",
    "            \n",
    "# Test this out for some samples\n",
    "i = 0\n",
    "for x, y in generate_context_word_pairs(corpus=wids, window_size=window_size, vocab_size=vocab_size):\n",
    "    if 0 not in x[0]:\n",
    "        print('Context (X):', [id2word[w] for w in x[0]], '-> Target (Y):', id2word[np.argwhere(y[0])[0][0]])\n",
    "    \n",
    "        if i == 10:\n",
    "            break\n",
    "        i += 1"
   ]
  },
  {
   "cell_type": "code",
   "execution_count": 170,
   "metadata": {},
   "outputs": [
    {
     "name": "stdout",
     "output_type": "stream",
     "text": [
      "_________________________________________________________________\n",
      "Layer (type)                 Output Shape              Param #   \n",
      "=================================================================\n",
      "embedding_3 (Embedding)      (None, 10, 100)           165500    \n",
      "_________________________________________________________________\n",
      "lambda_3 (Lambda)            (None, 100)               0         \n",
      "_________________________________________________________________\n",
      "dense_12 (Dense)             (None, 1655)              167155    \n",
      "=================================================================\n",
      "Total params: 332,655\n",
      "Trainable params: 332,655\n",
      "Non-trainable params: 0\n",
      "_________________________________________________________________\n",
      "None\n"
     ]
    },
    {
     "data": {
      "image/svg+xml": [
       "<svg height=\"294pt\" viewBox=\"0.00 0.00 302.00 294.00\" width=\"302pt\" xmlns=\"http://www.w3.org/2000/svg\" xmlns:xlink=\"http://www.w3.org/1999/xlink\">\n",
       "<g class=\"graph\" id=\"graph0\" transform=\"scale(1 1) rotate(0) translate(4 290)\">\n",
       "<title>G</title>\n",
       "<polygon fill=\"#ffffff\" points=\"-4,4 -4,-290 298,-290 298,4 -4,4\" stroke=\"transparent\"/>\n",
       "<!-- 140296028561080 -->\n",
       "<g class=\"node\" id=\"node1\">\n",
       "<title>140296028561080</title>\n",
       "<polygon fill=\"none\" points=\"0,-166.5 0,-212.5 294,-212.5 294,-166.5 0,-166.5\" stroke=\"#000000\"/>\n",
       "<text fill=\"#000000\" font-family=\"Times,serif\" font-size=\"14.00\" text-anchor=\"middle\" x=\"49\" y=\"-185.8\">Embedding</text>\n",
       "<polyline fill=\"none\" points=\"98,-166.5 98,-212.5 \" stroke=\"#000000\"/>\n",
       "<text fill=\"#000000\" font-family=\"Times,serif\" font-size=\"14.00\" text-anchor=\"middle\" x=\"132\" y=\"-197.3\">input:</text>\n",
       "<polyline fill=\"none\" points=\"98,-189.5 166,-189.5 \" stroke=\"#000000\"/>\n",
       "<text fill=\"#000000\" font-family=\"Times,serif\" font-size=\"14.00\" text-anchor=\"middle\" x=\"132\" y=\"-174.3\">output:</text>\n",
       "<polyline fill=\"none\" points=\"166,-166.5 166,-212.5 \" stroke=\"#000000\"/>\n",
       "<text fill=\"#000000\" font-family=\"Times,serif\" font-size=\"14.00\" text-anchor=\"middle\" x=\"230\" y=\"-197.3\">(None, 10)</text>\n",
       "<polyline fill=\"none\" points=\"166,-189.5 294,-189.5 \" stroke=\"#000000\"/>\n",
       "<text fill=\"#000000\" font-family=\"Times,serif\" font-size=\"14.00\" text-anchor=\"middle\" x=\"230\" y=\"-174.3\">(None, 10, 100)</text>\n",
       "</g>\n",
       "<!-- 140296028560016 -->\n",
       "<g class=\"node\" id=\"node2\">\n",
       "<title>140296028560016</title>\n",
       "<polygon fill=\"none\" points=\"12,-83.5 12,-129.5 282,-129.5 282,-83.5 12,-83.5\" stroke=\"#000000\"/>\n",
       "<text fill=\"#000000\" font-family=\"Times,serif\" font-size=\"14.00\" text-anchor=\"middle\" x=\"49\" y=\"-102.8\">Lambda</text>\n",
       "<polyline fill=\"none\" points=\"86,-83.5 86,-129.5 \" stroke=\"#000000\"/>\n",
       "<text fill=\"#000000\" font-family=\"Times,serif\" font-size=\"14.00\" text-anchor=\"middle\" x=\"120\" y=\"-114.3\">input:</text>\n",
       "<polyline fill=\"none\" points=\"86,-106.5 154,-106.5 \" stroke=\"#000000\"/>\n",
       "<text fill=\"#000000\" font-family=\"Times,serif\" font-size=\"14.00\" text-anchor=\"middle\" x=\"120\" y=\"-91.3\">output:</text>\n",
       "<polyline fill=\"none\" points=\"154,-83.5 154,-129.5 \" stroke=\"#000000\"/>\n",
       "<text fill=\"#000000\" font-family=\"Times,serif\" font-size=\"14.00\" text-anchor=\"middle\" x=\"218\" y=\"-114.3\">(None, 10, 100)</text>\n",
       "<polyline fill=\"none\" points=\"154,-106.5 282,-106.5 \" stroke=\"#000000\"/>\n",
       "<text fill=\"#000000\" font-family=\"Times,serif\" font-size=\"14.00\" text-anchor=\"middle\" x=\"218\" y=\"-91.3\">(None, 100)</text>\n",
       "</g>\n",
       "<!-- 140296028561080&#45;&gt;140296028560016 -->\n",
       "<g class=\"edge\" id=\"edge2\">\n",
       "<title>140296028561080-&gt;140296028560016</title>\n",
       "<path d=\"M147,-166.3799C147,-158.1745 147,-148.7679 147,-139.8786\" fill=\"none\" stroke=\"#000000\"/>\n",
       "<polygon fill=\"#000000\" points=\"150.5001,-139.784 147,-129.784 143.5001,-139.784 150.5001,-139.784\" stroke=\"#000000\"/>\n",
       "</g>\n",
       "<!-- 140296028561248 -->\n",
       "<g class=\"node\" id=\"node3\">\n",
       "<title>140296028561248</title>\n",
       "<polygon fill=\"none\" points=\"27.5,-.5 27.5,-46.5 266.5,-46.5 266.5,-.5 27.5,-.5\" stroke=\"#000000\"/>\n",
       "<text fill=\"#000000\" font-family=\"Times,serif\" font-size=\"14.00\" text-anchor=\"middle\" x=\"58\" y=\"-19.8\">Dense</text>\n",
       "<polyline fill=\"none\" points=\"88.5,-.5 88.5,-46.5 \" stroke=\"#000000\"/>\n",
       "<text fill=\"#000000\" font-family=\"Times,serif\" font-size=\"14.00\" text-anchor=\"middle\" x=\"122.5\" y=\"-31.3\">input:</text>\n",
       "<polyline fill=\"none\" points=\"88.5,-23.5 156.5,-23.5 \" stroke=\"#000000\"/>\n",
       "<text fill=\"#000000\" font-family=\"Times,serif\" font-size=\"14.00\" text-anchor=\"middle\" x=\"122.5\" y=\"-8.3\">output:</text>\n",
       "<polyline fill=\"none\" points=\"156.5,-.5 156.5,-46.5 \" stroke=\"#000000\"/>\n",
       "<text fill=\"#000000\" font-family=\"Times,serif\" font-size=\"14.00\" text-anchor=\"middle\" x=\"211.5\" y=\"-31.3\">(None, 100)</text>\n",
       "<polyline fill=\"none\" points=\"156.5,-23.5 266.5,-23.5 \" stroke=\"#000000\"/>\n",
       "<text fill=\"#000000\" font-family=\"Times,serif\" font-size=\"14.00\" text-anchor=\"middle\" x=\"211.5\" y=\"-8.3\">(None, 1655)</text>\n",
       "</g>\n",
       "<!-- 140296028560016&#45;&gt;140296028561248 -->\n",
       "<g class=\"edge\" id=\"edge3\">\n",
       "<title>140296028560016-&gt;140296028561248</title>\n",
       "<path d=\"M147,-83.3799C147,-75.1745 147,-65.7679 147,-56.8786\" fill=\"none\" stroke=\"#000000\"/>\n",
       "<polygon fill=\"#000000\" points=\"150.5001,-56.784 147,-46.784 143.5001,-56.784 150.5001,-56.784\" stroke=\"#000000\"/>\n",
       "</g>\n",
       "<!-- 140296028559512 -->\n",
       "<g class=\"node\" id=\"node4\">\n",
       "<title>140296028559512</title>\n",
       "<polygon fill=\"none\" points=\"71,-249.5 71,-285.5 223,-285.5 223,-249.5 71,-249.5\" stroke=\"#000000\"/>\n",
       "<text fill=\"#000000\" font-family=\"Times,serif\" font-size=\"14.00\" text-anchor=\"middle\" x=\"147\" y=\"-263.8\">140296028559512</text>\n",
       "</g>\n",
       "<!-- 140296028559512&#45;&gt;140296028561080 -->\n",
       "<g class=\"edge\" id=\"edge1\">\n",
       "<title>140296028559512-&gt;140296028561080</title>\n",
       "<path d=\"M147,-249.4092C147,-241.4308 147,-231.795 147,-222.606\" fill=\"none\" stroke=\"#000000\"/>\n",
       "<polygon fill=\"#000000\" points=\"150.5001,-222.5333 147,-212.5333 143.5001,-222.5334 150.5001,-222.5333\" stroke=\"#000000\"/>\n",
       "</g>\n",
       "</g>\n",
       "</svg>"
      ],
      "text/plain": [
       "<IPython.core.display.SVG object>"
      ]
     },
     "execution_count": 170,
     "metadata": {},
     "output_type": "execute_result"
    }
   ],
   "source": [
    "import keras.backend as K\n",
    "from keras.models import Sequential\n",
    "from keras.layers import Dense, Embedding, Lambda\n",
    "# conda install graphviz\n",
    "# conda install pydotplus\n",
    "\n",
    "# build CBOW architecture\n",
    "cbow = Sequential()\n",
    "cbow.add(Embedding(input_dim=vocab_size, output_dim=embed_size, input_length=window_size*2))\n",
    "cbow.add(Lambda(lambda x: K.mean(x, axis=1), output_shape=(embed_size,)))\n",
    "cbow.add(Dense(vocab_size, activation='softmax'))\n",
    "cbow.compile(loss='categorical_crossentropy', optimizer='rmsprop')\n",
    "\n",
    "# view model summary\n",
    "print(cbow.summary())\n",
    "\n",
    "# visualize model structure\n",
    "from IPython.display import SVG\n",
    "from keras.utils.vis_utils import model_to_dot\n",
    "import keras\n",
    "import pydot\n",
    "keras.utils.vis_utils.pydot = pydot\n",
    "\n",
    "SVG(model_to_dot(cbow, show_shapes=True, show_layer_names=False, \n",
    "                 rankdir='TB').create(prog='dot', format='svg'))"
   ]
  },
  {
   "cell_type": "code",
   "execution_count": 149,
   "metadata": {},
   "outputs": [
    {
     "name": "stdout",
     "output_type": "stream",
     "text": [
      "Epoch: 1 \tLoss: 21634.459156513214\n",
      "\n",
      "Epoch: 2 \tLoss: 20992.294375896454\n",
      "\n",
      "Epoch: 3 \tLoss: 20650.47307932377\n",
      "\n",
      "Epoch: 4 \tLoss: 20435.252402067184\n",
      "\n",
      "Epoch: 5 \tLoss: 20388.28981935978\n",
      "\n"
     ]
    }
   ],
   "source": [
    "for epoch in range(1, 6):\n",
    "    loss = 0.\n",
    "    i = 0\n",
    "    for x, y in generate_context_word_pairs(corpus=wids, window_size=window_size, vocab_size=vocab_size):\n",
    "        i += 1\n",
    "        loss += cbow.train_on_batch(x, y)\n",
    "        if i % 100000 == 0:\n",
    "            print('Processed {} (context, word) pairs'.format(i))\n",
    "\n",
    "    print('Epoch:', epoch, '\\tLoss:', loss)\n",
    "    print()"
   ]
  },
  {
   "cell_type": "code",
   "execution_count": 150,
   "metadata": {},
   "outputs": [
    {
     "name": "stdout",
     "output_type": "stream",
     "text": [
      "(1654, 100)\n"
     ]
    },
    {
     "data": {
      "text/html": [
       "<div>\n",
       "<style scoped>\n",
       "    .dataframe tbody tr th:only-of-type {\n",
       "        vertical-align: middle;\n",
       "    }\n",
       "\n",
       "    .dataframe tbody tr th {\n",
       "        vertical-align: top;\n",
       "    }\n",
       "\n",
       "    .dataframe thead th {\n",
       "        text-align: right;\n",
       "    }\n",
       "</style>\n",
       "<table border=\"1\" class=\"dataframe\">\n",
       "  <thead>\n",
       "    <tr style=\"text-align: right;\">\n",
       "      <th></th>\n",
       "      <th>0</th>\n",
       "      <th>1</th>\n",
       "      <th>2</th>\n",
       "      <th>3</th>\n",
       "      <th>4</th>\n",
       "      <th>5</th>\n",
       "      <th>6</th>\n",
       "      <th>7</th>\n",
       "      <th>8</th>\n",
       "      <th>9</th>\n",
       "      <th>...</th>\n",
       "      <th>90</th>\n",
       "      <th>91</th>\n",
       "      <th>92</th>\n",
       "      <th>93</th>\n",
       "      <th>94</th>\n",
       "      <th>95</th>\n",
       "      <th>96</th>\n",
       "      <th>97</th>\n",
       "      <th>98</th>\n",
       "      <th>99</th>\n",
       "    </tr>\n",
       "  </thead>\n",
       "  <tbody>\n",
       "    <tr>\n",
       "      <th>movie</th>\n",
       "      <td>-0.334043</td>\n",
       "      <td>0.083855</td>\n",
       "      <td>-0.131325</td>\n",
       "      <td>-0.182039</td>\n",
       "      <td>0.257532</td>\n",
       "      <td>-0.143698</td>\n",
       "      <td>-0.009579</td>\n",
       "      <td>0.215841</td>\n",
       "      <td>-0.142686</td>\n",
       "      <td>0.109679</td>\n",
       "      <td>...</td>\n",
       "      <td>0.278353</td>\n",
       "      <td>-0.016151</td>\n",
       "      <td>0.354830</td>\n",
       "      <td>0.127030</td>\n",
       "      <td>0.148275</td>\n",
       "      <td>0.177010</td>\n",
       "      <td>-0.207433</td>\n",
       "      <td>0.149154</td>\n",
       "      <td>-0.141244</td>\n",
       "      <td>-0.154270</td>\n",
       "    </tr>\n",
       "    <tr>\n",
       "      <th>also</th>\n",
       "      <td>0.010398</td>\n",
       "      <td>0.057694</td>\n",
       "      <td>0.140365</td>\n",
       "      <td>-0.188692</td>\n",
       "      <td>0.065585</td>\n",
       "      <td>-0.045620</td>\n",
       "      <td>-0.003918</td>\n",
       "      <td>0.026590</td>\n",
       "      <td>0.032038</td>\n",
       "      <td>-0.009219</td>\n",
       "      <td>...</td>\n",
       "      <td>0.078456</td>\n",
       "      <td>-0.114912</td>\n",
       "      <td>-0.294127</td>\n",
       "      <td>-0.088587</td>\n",
       "      <td>0.054760</td>\n",
       "      <td>0.015786</td>\n",
       "      <td>0.171093</td>\n",
       "      <td>-0.077207</td>\n",
       "      <td>-0.157119</td>\n",
       "      <td>0.010037</td>\n",
       "    </tr>\n",
       "    <tr>\n",
       "      <th>hollywood</th>\n",
       "      <td>-0.064275</td>\n",
       "      <td>-0.127071</td>\n",
       "      <td>0.102927</td>\n",
       "      <td>-0.134872</td>\n",
       "      <td>0.229966</td>\n",
       "      <td>-0.077076</td>\n",
       "      <td>0.007508</td>\n",
       "      <td>-0.099740</td>\n",
       "      <td>0.021691</td>\n",
       "      <td>0.045126</td>\n",
       "      <td>...</td>\n",
       "      <td>0.097467</td>\n",
       "      <td>0.013473</td>\n",
       "      <td>-0.100233</td>\n",
       "      <td>-0.044264</td>\n",
       "      <td>0.085443</td>\n",
       "      <td>0.051868</td>\n",
       "      <td>0.016107</td>\n",
       "      <td>-0.095814</td>\n",
       "      <td>-0.240202</td>\n",
       "      <td>-0.077262</td>\n",
       "    </tr>\n",
       "    <tr>\n",
       "      <th>make</th>\n",
       "      <td>0.309155</td>\n",
       "      <td>-0.028272</td>\n",
       "      <td>0.021489</td>\n",
       "      <td>0.018961</td>\n",
       "      <td>-0.180598</td>\n",
       "      <td>-0.002444</td>\n",
       "      <td>-0.182196</td>\n",
       "      <td>0.083872</td>\n",
       "      <td>0.377354</td>\n",
       "      <td>-0.024463</td>\n",
       "      <td>...</td>\n",
       "      <td>-0.045335</td>\n",
       "      <td>0.200182</td>\n",
       "      <td>-0.016402</td>\n",
       "      <td>0.015079</td>\n",
       "      <td>-0.112188</td>\n",
       "      <td>0.054826</td>\n",
       "      <td>0.384337</td>\n",
       "      <td>-0.093122</td>\n",
       "      <td>-0.086162</td>\n",
       "      <td>-0.143059</td>\n",
       "    </tr>\n",
       "    <tr>\n",
       "      <th>like</th>\n",
       "      <td>-0.101427</td>\n",
       "      <td>-0.158749</td>\n",
       "      <td>0.068410</td>\n",
       "      <td>-0.072489</td>\n",
       "      <td>-0.085943</td>\n",
       "      <td>-0.130045</td>\n",
       "      <td>-0.090669</td>\n",
       "      <td>-0.028086</td>\n",
       "      <td>-0.196463</td>\n",
       "      <td>-0.051677</td>\n",
       "      <td>...</td>\n",
       "      <td>-0.047815</td>\n",
       "      <td>0.066962</td>\n",
       "      <td>-0.225218</td>\n",
       "      <td>-0.053311</td>\n",
       "      <td>0.181727</td>\n",
       "      <td>0.029159</td>\n",
       "      <td>0.206783</td>\n",
       "      <td>-0.158792</td>\n",
       "      <td>-0.166766</td>\n",
       "      <td>-0.189482</td>\n",
       "    </tr>\n",
       "  </tbody>\n",
       "</table>\n",
       "<p>5 rows × 100 columns</p>\n",
       "</div>"
      ],
      "text/plain": [
       "                 0         1         2         3         4         5   \\\n",
       "movie     -0.334043  0.083855 -0.131325 -0.182039  0.257532 -0.143698   \n",
       "also       0.010398  0.057694  0.140365 -0.188692  0.065585 -0.045620   \n",
       "hollywood -0.064275 -0.127071  0.102927 -0.134872  0.229966 -0.077076   \n",
       "make       0.309155 -0.028272  0.021489  0.018961 -0.180598 -0.002444   \n",
       "like      -0.101427 -0.158749  0.068410 -0.072489 -0.085943 -0.130045   \n",
       "\n",
       "                 6         7         8         9   ...        90        91  \\\n",
       "movie     -0.009579  0.215841 -0.142686  0.109679  ...  0.278353 -0.016151   \n",
       "also      -0.003918  0.026590  0.032038 -0.009219  ...  0.078456 -0.114912   \n",
       "hollywood  0.007508 -0.099740  0.021691  0.045126  ...  0.097467  0.013473   \n",
       "make      -0.182196  0.083872  0.377354 -0.024463  ... -0.045335  0.200182   \n",
       "like      -0.090669 -0.028086 -0.196463 -0.051677  ... -0.047815  0.066962   \n",
       "\n",
       "                 92        93        94        95        96        97  \\\n",
       "movie      0.354830  0.127030  0.148275  0.177010 -0.207433  0.149154   \n",
       "also      -0.294127 -0.088587  0.054760  0.015786  0.171093 -0.077207   \n",
       "hollywood -0.100233 -0.044264  0.085443  0.051868  0.016107 -0.095814   \n",
       "make      -0.016402  0.015079 -0.112188  0.054826  0.384337 -0.093122   \n",
       "like      -0.225218 -0.053311  0.181727  0.029159  0.206783 -0.158792   \n",
       "\n",
       "                 98        99  \n",
       "movie     -0.141244 -0.154270  \n",
       "also      -0.157119  0.010037  \n",
       "hollywood -0.240202 -0.077262  \n",
       "make      -0.086162 -0.143059  \n",
       "like      -0.166766 -0.189482  \n",
       "\n",
       "[5 rows x 100 columns]"
      ]
     },
     "execution_count": 150,
     "metadata": {},
     "output_type": "execute_result"
    }
   ],
   "source": [
    "weights = cbow.get_weights()[0]\n",
    "weights = weights[1:]\n",
    "print(weights.shape)\n",
    "\n",
    "pd.DataFrame(weights, index=list(id2word.values())[1:]).head()"
   ]
  },
  {
   "cell_type": "code",
   "execution_count": 151,
   "metadata": {
    "scrolled": true
   },
   "outputs": [
    {
     "name": "stdout",
     "output_type": "stream",
     "text": [
      "(1654, 1654)\n"
     ]
    },
    {
     "data": {
      "text/plain": [
       "{'los': ['angeles', 'hotel', 'california', 'whitley', 'wilcox'],\n",
       " 'bollywood': ['refer', 'regional', 'coin', 'tollywood', 'bengali'],\n",
       " 'california': ['wilcox', 'hotel', 'area', 'neighborhood', 'several'],\n",
       " 'hollywood': ['know', 'sell', 'whitley', 'stood', 'field'],\n",
       " 'voting': ['ballot', 'absentee', 'voter', 'despite', 'declare'],\n",
       " 'western': ['shree', 'promote', 'ke', 'popularise', 'kaul'],\n",
       " 'bengali': ['mainly', 'benegal', 'talkie', 'emergence', 'se'],\n",
       " 'amitabh': ['kaul', 'devotional', 'b', 'position', 'ajay'],\n",
       " 'bombay': ['derive', 'amend', 'establish', 'content', 'neighbor'],\n",
       " 'blackbuck': ['daddy', 'remains', 'jodhpur', 'debut', 'statesman'],\n",
       " 'baahubali': ['endhiran', 'stun', 'pundit', 'note', 'dolly']}"
      ]
     },
     "execution_count": 151,
     "metadata": {},
     "output_type": "execute_result"
    }
   ],
   "source": [
    "from sklearn.metrics.pairwise import euclidean_distances\n",
    "\n",
    "# compute pairwise distance matrix\n",
    "distance_matrix = euclidean_distances(weights)\n",
    "print(distance_matrix.shape)\n",
    "\n",
    "# view contextually similar words\n",
    "similar_words = {search_term: [id2word[idx] for idx in distance_matrix[word2id[search_term]-1].argsort()[1:6]+1] \n",
    "                   for search_term in ['los','bollywood','california','hollywood','voting','western','bengali','amitabh','bombay','blackbuck','baahubali']}\n",
    "\n",
    "# similar_words = {search_term: [id2word[idx] for idx in distance_matrix[word2id[search_term]-1].argsort()[1:6]+1] \n",
    "#                    for search_term in ['los','bollywood','california','hollywood']}\n",
    "\n",
    "\n",
    "similar_words"
   ]
  },
  {
   "cell_type": "code",
   "execution_count": null,
   "metadata": {},
   "outputs": [],
   "source": []
  },
  {
   "cell_type": "code",
   "execution_count": 152,
   "metadata": {},
   "outputs": [],
   "source": [
    "# visualize in 2-D using t-SNE\n",
    "    # t-SNE - theory - https://en.wikipedia.org/wiki/T-distributed_stochastic_neighbor_embedding"
   ]
  },
  {
   "cell_type": "code",
   "execution_count": 153,
   "metadata": {},
   "outputs": [
    {
     "name": "stdout",
     "output_type": "stream",
     "text": [
      "Total words: 66 \tWord Embedding shapes: (66, 100)\n"
     ]
    },
    {
     "data": {
      "image/png": "[encoded data removed]",
      "text/plain": [
       "<Figure size 1008x576 with 1 Axes>"
      ]
     },
     "metadata": {
      "needs_background": "light"
     },
     "output_type": "display_data"
    }
   ],
   "source": [
    "\n",
    "from sklearn.manifold import TSNE\n",
    "\n",
    "words = sum([[k] + v for k, v in similar_words.items()], [])\n",
    "words_ids = [word2id[w] for w in words]\n",
    "word_vectors = np.array([weights[idx] for idx in words_ids])\n",
    "print('Total words:', len(words), '\\tWord Embedding shapes:', word_vectors.shape)\n",
    "\n",
    "tsne = TSNE(n_components=2, random_state=0, n_iter=10000, perplexity=3)\n",
    "np.set_printoptions(suppress=True)\n",
    "T = tsne.fit_transform(word_vectors)\n",
    "labels = words\n",
    "\n",
    "plt.figure(figsize=(14, 8))\n",
    "plt.scatter(T[:, 0], T[:, 1], c='steelblue', edgecolors='k')\n",
    "for label, x, y in zip(labels, T[:, 0], T[:, 1]):\n",
    "    plt.annotate(label, xy=(x+1, y+1), xytext=(0, 0), textcoords='offset points')"
   ]
  },
  {
   "cell_type": "code",
   "execution_count": null,
   "metadata": {
    "scrolled": true
   },
   "outputs": [],
   "source": []
  },
  {
   "cell_type": "code",
   "execution_count": null,
   "metadata": {},
   "outputs": [],
   "source": []
  },
  {
   "cell_type": "code",
   "execution_count": null,
   "metadata": {},
   "outputs": [],
   "source": [
    "###############################################################\n",
    "################ Embeddings Generation - Gensim-Word2Vec\n",
    "###############################################################"
   ]
  },
  {
   "cell_type": "code",
   "execution_count": null,
   "metadata": {},
   "outputs": [],
   "source": []
  },
  {
   "cell_type": "code",
   "execution_count": null,
   "metadata": {},
   "outputs": [],
   "source": [
    "############# Gensim Optimized Implementation ###############"
   ]
  },
  {
   "cell_type": "code",
   "execution_count": 135,
   "metadata": {},
   "outputs": [],
   "source": [
    "## Gensim Optimized Implementation\n",
    "    # really faster than training vanilla wordvec\n",
    "    # here we tune/re-train the gensim pre-trained model, refer this:\n",
    "        # https://machinelearningmastery.com/develop-word-embeddings-python-gensim/"
   ]
  },
  {
   "cell_type": "code",
   "execution_count": 8,
   "metadata": {},
   "outputs": [
    {
     "data": {
      "text/plain": [
       "{'los': ['angeles', 'city', 'hollywood', 'hotel', 'california'],\n",
       " 'bollywood': ['use', 'two', 'cinema', 'name', 'india'],\n",
       " 'california': ['hollywood', 'city', 'los', 'rise', 'say'],\n",
       " 'hollywood': ['first', 'actress', 'new', 'star', 'say'],\n",
       " 'voting': ['charge', 'people', 'even', 'fill', 'face'],\n",
       " 'western': ['start', 'well', 'much', 'include', 'time'],\n",
       " 'bengali': ['movement', 'parallel', 'cinema', 'commercial', 'hindi'],\n",
       " 'amitabh': ['cinema', 'film', 'indian', 'mark', 'great'],\n",
       " 'bombay': ['sona', 'married', 'u', 'name', 'however'],\n",
       " 'blackbuck': ['lawrence', 'kill', 'come', 'don', 'pose'],\n",
       " 'baahubali': ['follow', 'performance', 'one', 'aerosmith', 'seem']}"
      ]
     },
     "execution_count": 8,
     "metadata": {},
     "output_type": "execute_result"
    }
   ],
   "source": [
    "from gensim.models import word2vec\n",
    "# pip install gensim\n",
    "\n",
    "# tokenize sentences in corpus\n",
    "wpt = nltk.WordPunctTokenizer()\n",
    "tokenized_corpus = [wpt.tokenize(document) for document in X]\n",
    "\n",
    "# Set values for various parameters\n",
    "feature_size = 100    # Word vector dimensionality (ref. had 100)\n",
    "window_context = 30          # Context window size (ref. had 30)                                                                                  \n",
    "min_word_count = 1   # Minimum word count (ref. had 1)                       \n",
    "sample = 1e-3   # Downsample setting for frequent words (ref. had 1e-3)\n",
    "\n",
    "# train model\n",
    "w2v_model = word2vec.Word2Vec(tokenized_corpus, size=feature_size, \n",
    "                          window=window_context, min_count=min_word_count,\n",
    "                          sample=sample, iter=50)\n",
    "\n",
    "# select cbow or skip_gram\n",
    "# param sg=0/1 decides whether to use the skip-gram model (1) or CBOW (0)\n",
    "# https://stackoverflow.com/questions/39552088/select-between-skip-gram-and-cbow-model-for-training-word2vec-in-gensim\n",
    "\n",
    "# this part is for visualization:\n",
    "# view similar words based on gensim's model\n",
    "similar_words = {search_term: [item[0] for item in w2v_model.wv.most_similar([search_term], topn=5)]\n",
    "                  for search_term in ['los','bollywood','california','hollywood','voting','western','bengali','amitabh','bombay','blackbuck','baahubali']}\n",
    "# similar_words = {search_term: [item[0] for item in w2v_model.wv.most_similar([search_term], topn=5)]\n",
    "#                   for search_term in ['los','bollywood','california','hollywood']}\n",
    "\n",
    "similar_words"
   ]
  },
  {
   "cell_type": "code",
   "execution_count": 30,
   "metadata": {},
   "outputs": [],
   "source": [
    "# # visualizing using t-SNE\n",
    "\n",
    "# from sklearn.manifold import TSNE\n",
    "\n",
    "# words = sum([[k] + v for k, v in similar_words.items()], [])\n",
    "# wvs = w2v_model.wv[words]\n",
    "\n",
    "# tsne = TSNE(n_components=2, random_state=0, n_iter=10000, perplexity=2)\n",
    "# np.set_printoptions(suppress=True)\n",
    "# T = tsne.fit_transform(wvs)\n",
    "# labels = words\n",
    "\n",
    "# plt.figure(figsize=(14, 8))\n",
    "# plt.scatter(T[:, 0], T[:, 1], c='orange', edgecolors='r')\n",
    "# for label, x, y in zip(labels, T[:, 0], T[:, 1]):\n",
    "#     plt.annotate(label, xy=(x+1, y+1), xytext=(0, 0), textcoords='offset points')"
   ]
  },
  {
   "cell_type": "code",
   "execution_count": null,
   "metadata": {},
   "outputs": [],
   "source": [
    "def average_word_vectors(words, model, vocabulary, num_features):\n",
    "    \n",
    "    feature_vector = np.zeros((num_features,),dtype=\"float64\")\n",
    "    nwords = 0.\n",
    "    \n",
    "    for word in words:\n",
    "        if word in vocabulary: \n",
    "            nwords = nwords + 1.\n",
    "            feature_vector = np.add(feature_vector, model[word])\n",
    "    \n",
    "    if nwords:\n",
    "        feature_vector = np.divide(feature_vector, nwords)\n",
    "        \n",
    "    return feature_vector\n",
    "   \n",
    "def averaged_word_vectorizer(corpus, model, num_features):\n",
    "    vocabulary = set(model.wv.index2word)\n",
    "    features = [average_word_vectors(tokenized_sentence, model, vocabulary, num_features)\n",
    "                    for tokenized_sentence in corpus]\n",
    "    return np.array(features)\n",
    "\n",
    "\n",
    "# get document level embeddings\n",
    "w2v_feature_array = averaged_word_vectorizer(corpus=tokenized_corpus, model=w2v_model,\n",
    "                                             num_features=feature_size)\n",
    "pd.DataFrame(w2v_feature_array)"
   ]
  },
  {
   "cell_type": "code",
   "execution_count": null,
   "metadata": {},
   "outputs": [],
   "source": [
    "X = w2v_feature_array"
   ]
  },
  {
   "cell_type": "code",
   "execution_count": null,
   "metadata": {},
   "outputs": [],
   "source": []
  },
  {
   "cell_type": "code",
   "execution_count": null,
   "metadata": {},
   "outputs": [],
   "source": [
    "###############################################################\n",
    "################ Text Classification Accuracy - Gensim-Word2Vec\n",
    "###############################################################"
   ]
  },
  {
   "cell_type": "code",
   "execution_count": null,
   "metadata": {},
   "outputs": [],
   "source": []
  },
  {
   "cell_type": "code",
   "execution_count": 208,
   "metadata": {},
   "outputs": [],
   "source": [
    "## Sampling"
   ]
  },
  {
   "cell_type": "code",
   "execution_count": 11,
   "metadata": {},
   "outputs": [],
   "source": [
    "from sklearn.model_selection import train_test_split  \n",
    "X_train, X_test, Y_train, Y_test = train_test_split(X, Y, test_size=0.3, random_state=12)\n",
    "Y_train = Y_train.astype(int)\n",
    "Y_test = Y_test.astype(int)\n",
    "# print(len(X_train)) # 119\n",
    "# print(len(X_test)) # 51"
   ]
  },
  {
   "cell_type": "code",
   "execution_count": 12,
   "metadata": {
    "scrolled": true
   },
   "outputs": [
    {
     "name": "stdout",
     "output_type": "stream",
     "text": [
      "[[-0.01131674  0.12013239 -0.4042742  ...  0.08783821 -0.12023789\n",
      "  -0.12257169]\n",
      " [-0.01171004  0.13687019 -0.46721459 ...  0.10864651 -0.14366391\n",
      "  -0.13908067]\n",
      " [-0.01518956  0.13065485 -0.44783612 ...  0.1026119  -0.13733978\n",
      "  -0.13324542]\n",
      " ...\n",
      " [-0.01100176  0.08005441 -0.2756313  ...  0.06218941 -0.0859655\n",
      "  -0.07915801]\n",
      " [-0.01259802  0.11253671 -0.40782426 ...  0.09185976 -0.11877396\n",
      "  -0.11883401]\n",
      " [-0.01187696  0.14634616 -0.50022642 ...  0.11420978 -0.15185857\n",
      "  -0.14449064]]\n",
      "[[-0.00771002  0.12240923 -0.40578516 ...  0.08911934 -0.12199145\n",
      "  -0.11846909]\n",
      " [-0.01003699  0.07487516 -0.2573943  ...  0.06124223 -0.07574625\n",
      "  -0.07579294]\n",
      " [-0.00704088  0.08054002 -0.28078838 ...  0.0638036  -0.08565755\n",
      "  -0.08578628]\n",
      " ...\n",
      " [-0.00610127  0.0777188  -0.25497205 ...  0.0581081  -0.07876555\n",
      "  -0.07573028]\n",
      " [-0.00747438  0.07444933 -0.26391739 ...  0.06048374 -0.07917389\n",
      "  -0.0733586 ]\n",
      " [-0.01046814  0.10255512 -0.36353048 ...  0.081932   -0.10934986\n",
      "  -0.10455875]]\n"
     ]
    }
   ],
   "source": [
    "X_train = np.asmatrix(X_train)\n",
    "print(X_train)\n",
    "X_test = np.asmatrix(X_test)\n",
    "print(X_test)"
   ]
  },
  {
   "cell_type": "code",
   "execution_count": null,
   "metadata": {},
   "outputs": [],
   "source": []
  },
  {
   "cell_type": "code",
   "execution_count": 13,
   "metadata": {},
   "outputs": [],
   "source": [
    "# Import classification related packages\n",
    "from sklearn.metrics import confusion_matrix\n",
    "from sklearn.metrics import roc_curve, auc, roc_auc_score\n",
    "from sklearn.metrics import classification_report"
   ]
  },
  {
   "cell_type": "code",
   "execution_count": null,
   "metadata": {},
   "outputs": [],
   "source": []
  },
  {
   "cell_type": "code",
   "execution_count": 14,
   "metadata": {},
   "outputs": [],
   "source": [
    "############# Random Forest ###############"
   ]
  },
  {
   "cell_type": "code",
   "execution_count": 15,
   "metadata": {},
   "outputs": [],
   "source": [
    "from sklearn.ensemble import RandomForestClassifier"
   ]
  },
  {
   "cell_type": "code",
   "execution_count": 16,
   "metadata": {},
   "outputs": [],
   "source": [
    "# Training\n",
    "def rf_classifier(X_train, Y_train, n_estimators, max_depth, max_features, random_state):\n",
    "    model = RandomForestClassifier(n_estimators=n_estimators, max_depth=max_depth, max_features=max_features, random_state=random_state)   \n",
    "    Y_train = np.asarray(Y_train, dtype=\"|S6\")\n",
    "    model.fit(X_train, Y_train)\n",
    "    return model\n",
    "\n",
    "def rf_predictions(model, X_test, Y_test):\n",
    "    y_pred = model.predict_proba(X_test) # default 'predict' gives 'categorical' predictions for RF\n",
    "    # classifier.classes_ # to check order of classes in 'predict_proba' (most prob. it's 0,1...)\n",
    "    y_pred = y_pred[:,1] # accessing 2nd column or '1' class probabilities\n",
    "    # converting prob to 1/0 and array type to int\n",
    "    y_pred[y_pred > 0.5] = 1\n",
    "    y_pred[y_pred <= 0.5] = 0\n",
    "    return y_pred\n",
    "    \n",
    "def create_reports(y_pred, Y_test):\n",
    "    # creating CF matrix\n",
    "    Y_test = Y_test.astype(int)\n",
    "    y_pred = y_pred.astype(int)\n",
    "    cm1 = confusion_matrix(y_pred, Y_test)\n",
    "    print(\"\\n--Confusion Matrix--\\n\")\n",
    "    print(cm1)\n",
    "    # calculating auc\n",
    "    fp_rate, tp_rate, thresholds = roc_curve(Y_test, y_pred)\n",
    "    print(\"\\n-------AUC-------\\n\")\n",
    "    print(auc(fp_rate, tp_rate))\n",
    "    print(\"\\n----------------Classification_Report------------------\\n\")\n",
    "    print(classification_report(Y_test, y_pred))"
   ]
  },
  {
   "cell_type": "code",
   "execution_count": 45,
   "metadata": {},
   "outputs": [
    {
     "name": "stdout",
     "output_type": "stream",
     "text": [
      "\n",
      "--Confusion Matrix--\n",
      "\n",
      "[[27 17]\n",
      " [ 0  7]]\n",
      "\n",
      "-------AUC-------\n",
      "\n",
      "0.6458333333333334\n",
      "\n",
      "----------------Classification_Report------------------\n",
      "\n",
      "              precision    recall  f1-score   support\n",
      "\n",
      "           0       0.61      1.00      0.76        27\n",
      "           1       1.00      0.29      0.45        24\n",
      "\n",
      "   micro avg       0.67      0.67      0.67        51\n",
      "   macro avg       0.81      0.65      0.61        51\n",
      "weighted avg       0.80      0.67      0.62        51\n",
      "\n"
     ]
    }
   ],
   "source": [
    "model = rf_classifier(X_train, Y_train, n_estimators=400, max_depth=10, max_features=20, random_state=0)\n",
    "y_pred = rf_predictions(model, X_test, Y_test)\n",
    "create_reports(y_pred, Y_test)"
   ]
  },
  {
   "cell_type": "code",
   "execution_count": 18,
   "metadata": {},
   "outputs": [],
   "source": [
    "# Insight: Performance improved drastically over RF using regular text classification\n",
    "    # refer: '9.1 Text Classification-One txt column' notebook"
   ]
  },
  {
   "cell_type": "code",
   "execution_count": null,
   "metadata": {},
   "outputs": [],
   "source": []
  },
  {
   "cell_type": "code",
   "execution_count": 19,
   "metadata": {},
   "outputs": [],
   "source": [
    "############# Linear/Non-Linear SVM ###############"
   ]
  },
  {
   "cell_type": "code",
   "execution_count": 20,
   "metadata": {},
   "outputs": [],
   "source": [
    "from sklearn.svm import SVC "
   ]
  },
  {
   "cell_type": "code",
   "execution_count": 21,
   "metadata": {},
   "outputs": [],
   "source": [
    "# Training\n",
    "def svm_classifier(X_train, Y_train, kernel, C, gamma):\n",
    "    model = SVC(kernel=kernel, C=C, gamma=gamma) # kernel = rbf/linear \n",
    "    model.fit(X_train, Y_train) \n",
    "    return model\n",
    "\n",
    "def common_predictions(model, X_test, Y_test):\n",
    "    y_pred = model.predict(X_test)\n",
    "    y_pred = y_pred.astype(int)\n",
    "    y_pred[y_pred > 0.5] = 1\n",
    "    y_pred[y_pred <= 0.5] = 0\n",
    "    return y_pred"
   ]
  },
  {
   "cell_type": "code",
   "execution_count": 42,
   "metadata": {},
   "outputs": [
    {
     "name": "stdout",
     "output_type": "stream",
     "text": [
      "\n",
      "--Confusion Matrix--\n",
      "\n",
      "[[25 10]\n",
      " [ 2 14]]\n",
      "\n",
      "-------AUC-------\n",
      "\n",
      "0.7546296296296297\n",
      "\n",
      "----------------Classification_Report------------------\n",
      "\n",
      "              precision    recall  f1-score   support\n",
      "\n",
      "           0       0.71      0.93      0.81        27\n",
      "           1       0.88      0.58      0.70        24\n",
      "\n",
      "   micro avg       0.76      0.76      0.76        51\n",
      "   macro avg       0.79      0.75      0.75        51\n",
      "weighted avg       0.79      0.76      0.76        51\n",
      "\n"
     ]
    }
   ],
   "source": [
    "model = svm_classifier(X_train, Y_train, kernel='rbf', C=300, gamma=10)\n",
    "y_pred = common_predictions(model, X_test, Y_test)\n",
    "create_reports(y_pred, Y_test)"
   ]
  },
  {
   "cell_type": "code",
   "execution_count": 319,
   "metadata": {},
   "outputs": [],
   "source": [
    "# Insight: performance of SVM dipped by using word2vec\n",
    "    # because number of vars have reduced from 1500 to 100 and N performs well with more vars\n",
    "    # refer: '9.1 Text Classification-One txt column' notebook"
   ]
  },
  {
   "cell_type": "code",
   "execution_count": null,
   "metadata": {},
   "outputs": [],
   "source": []
  },
  {
   "cell_type": "code",
   "execution_count": 320,
   "metadata": {},
   "outputs": [],
   "source": [
    "############# Naive Bayes ###############"
   ]
  },
  {
   "cell_type": "code",
   "execution_count": 46,
   "metadata": {},
   "outputs": [],
   "source": [
    "from sklearn.naive_bayes import GaussianNB"
   ]
  },
  {
   "cell_type": "code",
   "execution_count": 47,
   "metadata": {},
   "outputs": [],
   "source": [
    "# Training\n",
    "def nb_classifier(X_train, Y_train):\n",
    "    model = GaussianNB()\n",
    "    temp = X_train.copy()\n",
    "    model.fit(temp, Y_train)\n",
    "    return model"
   ]
  },
  {
   "cell_type": "code",
   "execution_count": 48,
   "metadata": {},
   "outputs": [
    {
     "name": "stdout",
     "output_type": "stream",
     "text": [
      "\n",
      "--Confusion Matrix--\n",
      "\n",
      "[[ 9  7]\n",
      " [18 17]]\n",
      "\n",
      "-------AUC-------\n",
      "\n",
      "0.5208333333333334\n",
      "\n",
      "----------------Classification_Report------------------\n",
      "\n",
      "              precision    recall  f1-score   support\n",
      "\n",
      "           0       0.56      0.33      0.42        27\n",
      "           1       0.49      0.71      0.58        24\n",
      "\n",
      "   micro avg       0.51      0.51      0.51        51\n",
      "   macro avg       0.52      0.52      0.50        51\n",
      "weighted avg       0.53      0.51      0.49        51\n",
      "\n"
     ]
    }
   ],
   "source": [
    "model = nb_classifier(X_train, Y_train)\n",
    "y_pred = common_predictions(model, X_test, Y_test)\n",
    "create_reports(y_pred, Y_test)"
   ]
  },
  {
   "cell_type": "code",
   "execution_count": 82,
   "metadata": {},
   "outputs": [],
   "source": [
    "# Insight: performance of NB dipped by using word2vec\n",
    "    # because number of vars have reduced from 1500 to 100 and N performs well with more vars\n",
    "    # refer: '9.1 Text Classification-One txt column' notebook"
   ]
  },
  {
   "cell_type": "code",
   "execution_count": null,
   "metadata": {},
   "outputs": [],
   "source": []
  },
  {
   "cell_type": "code",
   "execution_count": null,
   "metadata": {},
   "outputs": [],
   "source": [
    "############ LR ############"
   ]
  },
  {
   "cell_type": "code",
   "execution_count": 49,
   "metadata": {},
   "outputs": [],
   "source": [
    "from sklearn.linear_model import LogisticRegression"
   ]
  },
  {
   "cell_type": "code",
   "execution_count": 50,
   "metadata": {},
   "outputs": [],
   "source": [
    "# Training\n",
    "def lr_classifier(X_train, Y_train, C):\n",
    "    model = LogisticRegression(C=C) # Inverse of regularization strength\n",
    "    model.fit(X_train, Y_train)\n",
    "    return model"
   ]
  },
  {
   "cell_type": "code",
   "execution_count": 65,
   "metadata": {},
   "outputs": [
    {
     "name": "stdout",
     "output_type": "stream",
     "text": [
      "\n",
      "--Confusion Matrix--\n",
      "\n",
      "[[23 12]\n",
      " [ 4 12]]\n",
      "\n",
      "-------AUC-------\n",
      "\n",
      "0.6759259259259258\n",
      "\n",
      "----------------Classification_Report------------------\n",
      "\n",
      "              precision    recall  f1-score   support\n",
      "\n",
      "           0       0.66      0.85      0.74        27\n",
      "           1       0.75      0.50      0.60        24\n",
      "\n",
      "   micro avg       0.69      0.69      0.69        51\n",
      "   macro avg       0.70      0.68      0.67        51\n",
      "weighted avg       0.70      0.69      0.68        51\n",
      "\n"
     ]
    },
    {
     "name": "stderr",
     "output_type": "stream",
     "text": [
      "/home/antrived/anaconda3/lib/python3.6/site-packages/sklearn/linear_model/logistic.py:433: FutureWarning: Default solver will be changed to 'lbfgs' in 0.22. Specify a solver to silence this warning.\n",
      "  FutureWarning)\n"
     ]
    }
   ],
   "source": [
    "model = lr_classifier(X_train, Y_train, C=50000)\n",
    "y_pred = common_predictions(model, X_test, Y_test)\n",
    "create_reports(y_pred, Y_test)"
   ]
  },
  {
   "cell_type": "code",
   "execution_count": null,
   "metadata": {},
   "outputs": [],
   "source": [
    "# LR performance improved significantly by using word2vec\n",
    "    # refer: '9.1 Text Classification-One txt column' notebook"
   ]
  },
  {
   "cell_type": "code",
   "execution_count": null,
   "metadata": {},
   "outputs": [],
   "source": []
  },
  {
   "cell_type": "code",
   "execution_count": 83,
   "metadata": {},
   "outputs": [],
   "source": [
    "############ XGBoost #############"
   ]
  },
  {
   "cell_type": "code",
   "execution_count": 66,
   "metadata": {},
   "outputs": [],
   "source": [
    "# conda install -c conda-forge xgboost # some issues\n",
    "# sudo pip install xgboost\n",
    "from xgboost import XGBClassifier"
   ]
  },
  {
   "cell_type": "code",
   "execution_count": 67,
   "metadata": {},
   "outputs": [],
   "source": [
    "# Training\n",
    "def xgb_classifier(X_train, Y_train, max_depth, learning_rate, n_estimators, objective):\n",
    "    model = XGBClassifier(max_depth=max_depth, learning_rate=learning_rate, n_estimators=n_estimators, objective=objective)\n",
    "    model.fit(X_train, Y_train)\n",
    "    return model"
   ]
  },
  {
   "cell_type": "code",
   "execution_count": 79,
   "metadata": {},
   "outputs": [
    {
     "name": "stdout",
     "output_type": "stream",
     "text": [
      "\n",
      "--Confusion Matrix--\n",
      "\n",
      "[[25 12]\n",
      " [ 2 12]]\n",
      "\n",
      "-------AUC-------\n",
      "\n",
      "0.7129629629629629\n",
      "\n",
      "----------------Classification_Report------------------\n",
      "\n",
      "              precision    recall  f1-score   support\n",
      "\n",
      "           0       0.68      0.93      0.78        27\n",
      "           1       0.86      0.50      0.63        24\n",
      "\n",
      "   micro avg       0.73      0.73      0.73        51\n",
      "   macro avg       0.77      0.71      0.71        51\n",
      "weighted avg       0.76      0.73      0.71        51\n",
      "\n"
     ]
    }
   ],
   "source": [
    "model = xgb_classifier(X_train, Y_train, max_depth=5, learning_rate=0.01, n_estimators=500, objective='binary:logistic')\n",
    "y_pred = common_predictions(model, X_test, Y_test)\n",
    "create_reports(y_pred, Y_test)"
   ]
  },
  {
   "cell_type": "code",
   "execution_count": null,
   "metadata": {},
   "outputs": [],
   "source": [
    "# XGBoost performance improved significantly by using word2vec\n",
    "    # refer: '9.1 Text Classification-One txt column' notebook"
   ]
  },
  {
   "cell_type": "code",
   "execution_count": null,
   "metadata": {},
   "outputs": [],
   "source": []
  },
  {
   "cell_type": "code",
   "execution_count": 190,
   "metadata": {},
   "outputs": [],
   "source": [
    "############ ANN #############"
   ]
  },
  {
   "cell_type": "code",
   "execution_count": 80,
   "metadata": {},
   "outputs": [
    {
     "name": "stderr",
     "output_type": "stream",
     "text": [
      "Using TensorFlow backend.\n"
     ]
    }
   ],
   "source": [
    "# importing keras libraries and packages:\n",
    "import keras\n",
    "from keras.models import Sequential # to initialize the ANN\n",
    "from keras.layers import Dense # to create layers of ANN\n",
    "from keras.layers import Dropout"
   ]
  },
  {
   "cell_type": "code",
   "execution_count": 85,
   "metadata": {
    "scrolled": true
   },
   "outputs": [
    {
     "name": "stdout",
     "output_type": "stream",
     "text": [
      "Epoch 1/40\n",
      "119/119 [==============================] - 1s 9ms/step - loss: 0.6913 - acc: 0.5630\n",
      "Epoch 2/40\n",
      "119/119 [==============================] - 0s 1ms/step - loss: 0.6808 - acc: 0.6134\n",
      "Epoch 3/40\n",
      "119/119 [==============================] - 0s 1ms/step - loss: 0.6739 - acc: 0.6134\n",
      "Epoch 4/40\n",
      "119/119 [==============================] - 0s 1ms/step - loss: 0.6744 - acc: 0.6134\n",
      "Epoch 5/40\n",
      "119/119 [==============================] - 0s 1ms/step - loss: 0.6699 - acc: 0.6134\n",
      "Epoch 6/40\n",
      "119/119 [==============================] - 0s 1ms/step - loss: 0.6706 - acc: 0.6134\n",
      "Epoch 7/40\n",
      "119/119 [==============================] - 0s 1ms/step - loss: 0.6705 - acc: 0.6134\n",
      "Epoch 8/40\n",
      "119/119 [==============================] - 0s 1ms/step - loss: 0.6703 - acc: 0.6134\n",
      "Epoch 9/40\n",
      "119/119 [==============================] - 0s 2ms/step - loss: 0.6722 - acc: 0.6134\n",
      "Epoch 10/40\n",
      "119/119 [==============================] - 0s 2ms/step - loss: 0.6702 - acc: 0.6134\n",
      "Epoch 11/40\n",
      "119/119 [==============================] - 0s 2ms/step - loss: 0.6697 - acc: 0.6134\n",
      "Epoch 12/40\n",
      "119/119 [==============================] - 0s 2ms/step - loss: 0.6694 - acc: 0.6134\n",
      "Epoch 13/40\n",
      "119/119 [==============================] - 0s 1ms/step - loss: 0.6698 - acc: 0.6134\n",
      "Epoch 14/40\n",
      "119/119 [==============================] - 0s 2ms/step - loss: 0.6713 - acc: 0.6134\n",
      "Epoch 15/40\n",
      "119/119 [==============================] - 0s 2ms/step - loss: 0.6696 - acc: 0.6134\n",
      "Epoch 16/40\n",
      "119/119 [==============================] - 0s 2ms/step - loss: 0.6716 - acc: 0.6134\n",
      "Epoch 17/40\n",
      "119/119 [==============================] - 0s 2ms/step - loss: 0.6694 - acc: 0.6134\n",
      "Epoch 18/40\n",
      "119/119 [==============================] - 0s 2ms/step - loss: 0.6705 - acc: 0.6134\n",
      "Epoch 19/40\n",
      "119/119 [==============================] - 0s 2ms/step - loss: 0.6695 - acc: 0.6134\n",
      "Epoch 20/40\n",
      "119/119 [==============================] - 0s 2ms/step - loss: 0.6698 - acc: 0.6134\n",
      "Epoch 21/40\n",
      "119/119 [==============================] - 0s 2ms/step - loss: 0.6701 - acc: 0.6134\n",
      "Epoch 22/40\n",
      "119/119 [==============================] - 0s 1ms/step - loss: 0.6684 - acc: 0.6134\n",
      "Epoch 23/40\n",
      "119/119 [==============================] - 0s 2ms/step - loss: 0.6715 - acc: 0.6134\n",
      "Epoch 24/40\n",
      "119/119 [==============================] - 0s 2ms/step - loss: 0.6718 - acc: 0.6134\n",
      "Epoch 25/40\n",
      "119/119 [==============================] - 0s 2ms/step - loss: 0.6691 - acc: 0.6134\n",
      "Epoch 26/40\n",
      "119/119 [==============================] - 0s 2ms/step - loss: 0.6705 - acc: 0.6134\n",
      "Epoch 27/40\n",
      "119/119 [==============================] - 0s 2ms/step - loss: 0.6721 - acc: 0.6134\n",
      "Epoch 28/40\n",
      "119/119 [==============================] - 0s 2ms/step - loss: 0.6703 - acc: 0.6134\n",
      "Epoch 29/40\n",
      "119/119 [==============================] - 0s 2ms/step - loss: 0.6688 - acc: 0.6134\n",
      "Epoch 30/40\n",
      "119/119 [==============================] - 0s 2ms/step - loss: 0.6692 - acc: 0.6134\n",
      "Epoch 31/40\n",
      "119/119 [==============================] - 0s 2ms/step - loss: 0.6702 - acc: 0.6134\n",
      "Epoch 32/40\n",
      "119/119 [==============================] - 0s 2ms/step - loss: 0.6692 - acc: 0.6134\n",
      "Epoch 33/40\n",
      "119/119 [==============================] - 0s 2ms/step - loss: 0.6689 - acc: 0.6134\n",
      "Epoch 34/40\n",
      "119/119 [==============================] - 0s 2ms/step - loss: 0.6695 - acc: 0.6134\n",
      "Epoch 35/40\n",
      "119/119 [==============================] - 0s 2ms/step - loss: 0.6704 - acc: 0.6134\n",
      "Epoch 36/40\n",
      "119/119 [==============================] - 0s 2ms/step - loss: 0.6693 - acc: 0.6134\n",
      "Epoch 37/40\n",
      "119/119 [==============================] - 0s 2ms/step - loss: 0.6686 - acc: 0.6134\n",
      "Epoch 38/40\n",
      "119/119 [==============================] - 0s 2ms/step - loss: 0.6695 - acc: 0.6134\n",
      "Epoch 39/40\n",
      "119/119 [==============================] - 0s 2ms/step - loss: 0.6702 - acc: 0.6134\n",
      "Epoch 40/40\n",
      "119/119 [==============================] - 0s 2ms/step - loss: 0.6691 - acc: 0.6134\n"
     ]
    },
    {
     "data": {
      "text/plain": [
       "<keras.callbacks.History at 0x7fc990307e80>"
      ]
     },
     "execution_count": 85,
     "metadata": {},
     "output_type": "execute_result"
    }
   ],
   "source": [
    "# Creating Basic ANN\n",
    "\n",
    "np.random.seed(100) # works. gives close results on repeating but not exactly same.\n",
    "\n",
    "# Initializing ANN\n",
    "model = Sequential()\n",
    "\n",
    "i = 0.20\n",
    "j = 125\n",
    "\n",
    "# Adding input layer and 1st hidden layer\n",
    "model.add(Dense(activation=\"relu\", input_dim=100, units=j, kernel_initializer=\"uniform\"))\n",
    "# model.add(Dropout(rate=i))\n",
    "# Adding 2nd hidden layer\n",
    "model.add(Dense(activation=\"relu\", units=j, kernel_initializer=\"uniform\"))\n",
    "# model.add(Dropout(rate=i))\n",
    "model.add(Dense(activation=\"relu\", units=j, kernel_initializer=\"uniform\"))\n",
    "# model.add(Dropout(rate=i))\n",
    "model.add(Dense(activation=\"relu\", units=j, kernel_initializer=\"uniform\"))\n",
    "# model.add(Dropout(rate=i))\n",
    "model.add(Dense(activation=\"relu\", units=j, kernel_initializer=\"uniform\"))\n",
    "# model.add(Dropout(rate=i))\n",
    "model.add(Dense(activation=\"relu\", units=j, kernel_initializer=\"uniform\"))\n",
    "# model.add(Dropout(rate=i))\n",
    "model.add(Dense(activation=\"relu\", units=j, kernel_initializer=\"uniform\"))\n",
    "# model.add(Dropout(rate=i))\n",
    "model.add(Dense(activation=\"relu\", units=j, kernel_initializer=\"uniform\"))\n",
    "# model.add(Dropout(rate=i))\n",
    "# model.add(Dense(activation=\"relu\", units=j, kernel_initializer=\"uniform\"))\n",
    "# model.add(Dense(activation=\"relu\", units=j, kernel_initializer=\"uniform\"))\n",
    "# model.add(Dense(activation=\"relu\", units=j, kernel_initializer=\"uniform\"))\n",
    "# model.add(Dense(activation=\"relu\", units=j, kernel_initializer=\"uniform\"))\n",
    "# model.add(Dense(activation=\"relu\", units=j, kernel_initializer=\"uniform\"))\n",
    "# model.add(Dense(activation=\"relu\", units=j, kernel_initializer=\"uniform\"))\n",
    "# model.add(Dense(activation=\"relu\", units=j, kernel_initializer=\"uniform\"))\n",
    "# model.add(Dense(activation=\"relu\", units=j, kernel_initializer=\"uniform\"))\n",
    "# model.add(Dense(activation=\"relu\", units=j, kernel_initializer=\"uniform\"))\n",
    "# # Adding hidden layer\n",
    "# classifier.add(Dense(activation=\"relu\", units=70, kernel_initializer=\"uniform\"))\n",
    "# # Adding hidden layer\n",
    "# classifier.add(Dense(activation=\"relu\", units=7, kernel_initializer=\"uniform\"))\n",
    "# # Adding hidden layer\n",
    "\n",
    "# Adding output layer\n",
    "model.add(Dense(activation=\"sigmoid\", units=1, kernel_initializer=\"uniform\"))\n",
    "\n",
    "# Compiling the ANN (means run SGD on ANN)\n",
    "model.compile(optimizer='adam', loss='binary_crossentropy', metrics=['accuracy'])\n",
    "\n",
    "# Fitting ANN to training set\n",
    "model.fit(X_train, Y_train, batch_size=2, epochs=40)"
   ]
  },
  {
   "cell_type": "code",
   "execution_count": 86,
   "metadata": {},
   "outputs": [
    {
     "name": "stdout",
     "output_type": "stream",
     "text": [
      "\n",
      "--Confusion Matrix--\n",
      "\n",
      "[[27 24]\n",
      " [ 0  0]]\n",
      "\n",
      "-------AUC-------\n",
      "\n",
      "0.5\n",
      "\n",
      "----------------Classification_Report------------------\n",
      "\n",
      "              precision    recall  f1-score   support\n",
      "\n",
      "           0       0.53      1.00      0.69        27\n",
      "           1       0.00      0.00      0.00        24\n",
      "\n",
      "   micro avg       0.53      0.53      0.53        51\n",
      "   macro avg       0.26      0.50      0.35        51\n",
      "weighted avg       0.28      0.53      0.37        51\n",
      "\n"
     ]
    }
   ],
   "source": [
    "y_pred = common_predictions(model, X_test, Y_test)\n",
    "create_reports(y_pred, Y_test)"
   ]
  },
  {
   "cell_type": "code",
   "execution_count": 230,
   "metadata": {},
   "outputs": [],
   "source": [
    "# NN not getting trained after using word2vec\n",
    "    # refer: '9.1 Text Classification-One txt column' notebook\n",
    "    # maybe because only 170 rows and 100 columns"
   ]
  },
  {
   "cell_type": "code",
   "execution_count": null,
   "metadata": {},
   "outputs": [],
   "source": []
  },
  {
   "cell_type": "code",
   "execution_count": null,
   "metadata": {},
   "outputs": [],
   "source": [
    "## GENSIM OUTCOME(compared with '9.1 Text Classification-One txt column' notebook): \n",
    "    # For individual models, embeddings generally outperform tf-idf\n",
    "        # except naive_bayes and ANN, where tf-idf performs better\n",
    "            # because these algos need high dimensionality to perform better\n",
    "    # Gensim best acc is from SVM(rbf) - 0.75"
   ]
  },
  {
   "cell_type": "code",
   "execution_count": null,
   "metadata": {},
   "outputs": [],
   "source": []
  },
  {
   "cell_type": "code",
   "execution_count": null,
   "metadata": {},
   "outputs": [],
   "source": []
  },
  {
   "cell_type": "code",
   "execution_count": null,
   "metadata": {},
   "outputs": [],
   "source": [
    "###############################################################\n",
    "################ Text Classification Scoring\n",
    "###############################################################"
   ]
  },
  {
   "cell_type": "code",
   "execution_count": null,
   "metadata": {},
   "outputs": [],
   "source": [
    "# You can use 'averaged_word_vectorizer' for new incoming data (check above)\n",
    " # the way it is used for current 'tokenized_corpus'"
   ]
  },
  {
   "cell_type": "code",
   "execution_count": null,
   "metadata": {},
   "outputs": [],
   "source": []
  },
  {
   "cell_type": "code",
   "execution_count": null,
   "metadata": {},
   "outputs": [],
   "source": []
  },
  {
   "cell_type": "code",
   "execution_count": null,
   "metadata": {},
   "outputs": [],
   "source": []
  },
  {
   "cell_type": "code",
   "execution_count": null,
   "metadata": {},
   "outputs": [],
   "source": []
  },
  {
   "cell_type": "code",
   "execution_count": null,
   "metadata": {},
   "outputs": [],
   "source": []
  },
  {
   "cell_type": "code",
   "execution_count": null,
   "metadata": {},
   "outputs": [],
   "source": []
  },
  {
   "cell_type": "code",
   "execution_count": null,
   "metadata": {},
   "outputs": [],
   "source": []
  },
  {
   "cell_type": "code",
   "execution_count": null,
   "metadata": {},
   "outputs": [],
   "source": []
  },
  {
   "cell_type": "code",
   "execution_count": null,
   "metadata": {},
   "outputs": [],
   "source": []
  },
  {
   "cell_type": "code",
   "execution_count": null,
   "metadata": {},
   "outputs": [],
   "source": []
  },
  {
   "cell_type": "code",
   "execution_count": null,
   "metadata": {},
   "outputs": [],
   "source": []
  },
  {
   "cell_type": "code",
   "execution_count": null,
   "metadata": {},
   "outputs": [],
   "source": []
  },
  {
   "cell_type": "code",
   "execution_count": null,
   "metadata": {},
   "outputs": [],
   "source": []
  },
  {
   "cell_type": "code",
   "execution_count": null,
   "metadata": {},
   "outputs": [],
   "source": []
  },
  {
   "cell_type": "code",
   "execution_count": null,
   "metadata": {},
   "outputs": [],
   "source": [
    "###############################################################\n",
    "################ Text Classification Accuracy - GloVe\n",
    "###############################################################"
   ]
  },
  {
   "cell_type": "code",
   "execution_count": null,
   "metadata": {},
   "outputs": [],
   "source": [
    "###############################################################\n",
    "################ Embeddings Generation - FastText\n",
    "###############################################################"
   ]
  },
  {
   "cell_type": "code",
   "execution_count": null,
   "metadata": {},
   "outputs": [],
   "source": [
    "###############################################################\n",
    "################ Text Classification Accuracy - FastText\n",
    "###############################################################"
   ]
  },
  {
   "cell_type": "code",
   "execution_count": null,
   "metadata": {},
   "outputs": [],
   "source": []
  }
 ],
 "metadata": {
  "kernelspec": {
   "display_name": "Python 3",
   "language": "python",
   "name": "python3"
  },
  "language_info": {
   "codemirror_mode": {
    "name": "ipython",
    "version": 3
   },
   "file_extension": ".py",
   "mimetype": "text/x-python",
   "name": "python",
   "nbconvert_exporter": "python",
   "pygments_lexer": "ipython3",
   "version": "3.6.6"
  }
 },
 "nbformat": 4,
 "nbformat_minor": 2
}
