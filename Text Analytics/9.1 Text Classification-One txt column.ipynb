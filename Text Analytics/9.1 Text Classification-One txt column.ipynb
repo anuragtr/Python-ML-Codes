{
 "cells": [
  {
   "cell_type": "markdown",
   "metadata": {},
   "source": [
    "### Anaconda & Python Version:\n",
    "\n",
    "The version of the notebook server is 5.0.0 and is running on:\n",
    "Python 3.6.4 |Anaconda custom (64-bit)| (default, Jan 16 2018, 10:22:32) [MSC v.1900 64 bit (AMD64)]\n",
    "\n",
    "Current Kernel Information:\n",
    "Python 3.6.4 |Anaconda custom (64-bit)| (default, Jan 16 2018, 10:22:32) [MSC v.1900 64 bit (AMD64)]\n",
    "Type 'copyright', 'credits' or 'license' for more information\n",
    "IPython 6.1.0 -- An enhanced Interactive Python. Type '?' for help.\n",
    "\n",
    "#### Anaconda 5.0.1"
   ]
  },
  {
   "cell_type": "code",
   "execution_count": 323,
   "metadata": {
    "collapsed": true
   },
   "outputs": [],
   "source": [
    "#########################################################################\n",
    "####### Text Classification (Only Text, no other variables used) -  1 CPU\n",
    "#########################################################################"
   ]
  },
  {
   "cell_type": "code",
   "execution_count": 9,
   "metadata": {
    "scrolled": true
   },
   "outputs": [],
   "source": [
    "# importing libraries\n",
    "import pandas as pd\n",
    "import matplotlib.pyplot as plt\n",
    "import sklearn\n",
    "import numpy as np  \n",
    "import re  # regular expressions like '+', '*'\n",
    "import nltk  # The Natural Language Toolkit\n",
    "from sklearn.datasets import load_files  \n",
    "# nltk.download('popular') \n",
    "# will download stopwords, punkt etc # download in default dir else error later on\n",
    "import pickle  \n",
    "from nltk.corpus import stopwords\n",
    "from nltk import PorterStemmer\n",
    "from nltk.tokenize import sent_tokenize, word_tokenize\n",
    "from nltk.stem import WordNetLemmatizer\n",
    "from nltk.corpus import wordnet"
   ]
  },
  {
   "cell_type": "code",
   "execution_count": 10,
   "metadata": {},
   "outputs": [],
   "source": [
    "# Ref: https://www.analyticsvidhya.com/blog/2018/04/a-comprehensive-guide-to-understand-and-implement-text-classification-in-python/"
   ]
  },
  {
   "cell_type": "code",
   "execution_count": 11,
   "metadata": {
    "scrolled": true
   },
   "outputs": [
    {
     "data": {
      "text/html": [
       "<div>\n",
       "<style scoped>\n",
       "    .dataframe tbody tr th:only-of-type {\n",
       "        vertical-align: middle;\n",
       "    }\n",
       "\n",
       "    .dataframe tbody tr th {\n",
       "        vertical-align: top;\n",
       "    }\n",
       "\n",
       "    .dataframe thead th {\n",
       "        text-align: right;\n",
       "    }\n",
       "</style>\n",
       "<table border=\"1\" class=\"dataframe\">\n",
       "  <thead>\n",
       "    <tr style=\"text-align: right;\">\n",
       "      <th></th>\n",
       "      <th>Industry</th>\n",
       "      <th>Wiki_Text</th>\n",
       "    </tr>\n",
       "  </thead>\n",
       "  <tbody>\n",
       "    <tr>\n",
       "      <th>0</th>\n",
       "      <td>Hollywood</td>\n",
       "      <td>is a neighborhood in the central region of Los...</td>\n",
       "    </tr>\n",
       "    <tr>\n",
       "      <th>1</th>\n",
       "      <td>Hollywood</td>\n",
       "      <td>including several of its historic studios. Its...</td>\n",
       "    </tr>\n",
       "    <tr>\n",
       "      <th>2</th>\n",
       "      <td>Hollywood</td>\n",
       "      <td>ethnically diverse, densely populated, economi...</td>\n",
       "    </tr>\n",
       "    <tr>\n",
       "      <th>3</th>\n",
       "      <td>Hollywood</td>\n",
       "      <td>Hollywood was a small community in 1870 and wa...</td>\n",
       "    </tr>\n",
       "    <tr>\n",
       "      <th>4</th>\n",
       "      <td>Hollywood</td>\n",
       "      <td>1910, and soon thereafter a prominentÂ film in...</td>\n",
       "    </tr>\n",
       "    <tr>\n",
       "      <th>5</th>\n",
       "      <td>Hollywood</td>\n",
       "      <td>In 1853, oneÂ adobeÂ hut stood in Nopalera (No...</td>\n",
       "    </tr>\n",
       "    <tr>\n",
       "      <th>6</th>\n",
       "      <td>Hollywood</td>\n",
       "      <td>community flourished. The area was known as th...</td>\n",
       "    </tr>\n",
       "    <tr>\n",
       "      <th>7</th>\n",
       "      <td>Hollywood</td>\n",
       "      <td>According to the diary ofÂ H.Â J. Whitley, kno...</td>\n",
       "    </tr>\n",
       "    <tr>\n",
       "      <th>8</th>\n",
       "      <td>Hollywood</td>\n",
       "      <td>carrying wood. The man got out of the wagon an...</td>\n",
       "    </tr>\n",
       "    <tr>\n",
       "      <th>9</th>\n",
       "      <td>Hollywood</td>\n",
       "      <td>represent England and wood would represent his...</td>\n",
       "    </tr>\n",
       "  </tbody>\n",
       "</table>\n",
       "</div>"
      ],
      "text/plain": [
       "    Industry                                          Wiki_Text\n",
       "0  Hollywood  is a neighborhood in the central region of Los...\n",
       "1  Hollywood  including several of its historic studios. Its...\n",
       "2  Hollywood  ethnically diverse, densely populated, economi...\n",
       "3  Hollywood  Hollywood was a small community in 1870 and wa...\n",
       "4  Hollywood  1910, and soon thereafter a prominentÂ film in...\n",
       "5  Hollywood  In 1853, oneÂ adobeÂ hut stood in Nopalera (No...\n",
       "6  Hollywood  community flourished. The area was known as th...\n",
       "7  Hollywood  According to the diary ofÂ H.Â J. Whitley, kno...\n",
       "8  Hollywood  carrying wood. The man got out of the wagon an...\n",
       "9  Hollywood  represent England and wood would represent his..."
      ]
     },
     "execution_count": 11,
     "metadata": {},
     "output_type": "execute_result"
    }
   ],
   "source": [
    "# importing data\n",
    "# Windows \n",
    "# hollybolly_inc=pd.read_excel(\"C:/Users/anurag.trivedi/Dropbox/Job 06 Sep 2018/prep/13. Data/1. Real Data/11. Text Classification Data/1. HollyBolly/HollyBolly Increased.xlsx\",sheet_name='HollyBolly Increased')\n",
    "# Linux\n",
    "hollybolly_inc=pd.read_csv(\"/home/antrived/Dropbox/Job-25-Feb-2019/prep/13. Data/1. Real Data/11. Text Classification Data/1. HollyBolly/HollyBolly_Increased_V2.csv\", encoding='ISO-8859-1')\n",
    "hollybolly = hollybolly_inc\n",
    "hollybolly.head(10)"
   ]
  },
  {
   "cell_type": "code",
   "execution_count": 12,
   "metadata": {},
   "outputs": [],
   "source": [
    "hollybolly.Industry[hollybolly.Industry == \"Hollywood\"] = 1\n",
    "hollybolly.Industry[hollybolly.Industry == \"Bollywood\"] = 0"
   ]
  },
  {
   "cell_type": "code",
   "execution_count": 13,
   "metadata": {},
   "outputs": [
    {
     "data": {
      "text/plain": [
       "array([1, 1, 1, 1, 1, 1, 1, 1, 1, 1, 1, 1, 1, 1, 1, 1, 1, 1, 1, 1, 1, 1,\n",
       "       1, 1, 1, 1, 1, 1, 1, 1, 1, 1, 1, 1, 1, 1, 1, 1, 1, 1, 1, 1, 1, 1,\n",
       "       1, 1, 1, 1, 1, 1, 1, 1, 1, 1, 1, 1, 1, 1, 1, 1, 1, 1, 1, 1, 1, 1,\n",
       "       1, 1, 1, 1, 0, 0, 0, 0, 0, 0, 0, 0, 0, 0, 0, 0, 0, 0, 0, 0, 0, 0,\n",
       "       0, 0, 0, 0, 0, 0, 0, 0, 0, 0, 0, 0, 0, 0, 0, 0, 0, 0, 0, 0, 0, 0,\n",
       "       0, 0, 0, 0, 0, 0, 0, 0, 0, 0, 0, 0, 0, 0, 0, 0, 0, 0, 0, 0, 0, 0,\n",
       "       0, 0, 0, 0, 0, 0, 0, 0, 0, 0, 0, 0, 0, 0, 0, 0, 0, 0, 0, 0, 0, 0,\n",
       "       0, 0, 0, 0, 0, 0, 0, 0, 0, 0, 0, 0, 0, 0, 0, 0], dtype=object)"
      ]
     },
     "execution_count": 13,
     "metadata": {},
     "output_type": "execute_result"
    }
   ],
   "source": [
    "Y = hollybolly.iloc[:,0].values\n",
    "type(Y) # numpy array\n",
    "Y\n",
    "# sum(hollybolly.Industry)"
   ]
  },
  {
   "cell_type": "code",
   "execution_count": 14,
   "metadata": {},
   "outputs": [
    {
     "name": "stdout",
     "output_type": "stream",
     "text": [
      "<class 'list'>\n",
      "['is a neighborhood in the central region of Los Angeles, California. The neighborhood is notable for its place as the home of the U.S. film industry, ', 'including several of its historic studios. Its name has come to be aÂ\\xa0metonymfor theÂ\\xa0motion picture industry of the United States. Hollywood is also a highlyÂ\\xa0', 'ethnically diverse, densely populated, economically diverse neighborhood and retail business district.', 'Hollywood was a small community in 1870 and was incorporated as a municipality in 1903.[3][4]Â\\xa0It officially merged with the city of Los Angeles inÂ\\xa0', '1910, and soon thereafter a prominentÂ\\xa0film industryÂ\\xa0began to emerge, eventually becoming the most recognizable film industry in the world.[5][6]', 'In 1853, oneÂ\\xa0adobeÂ\\xa0hut stood in Nopalera (NopalÂ\\xa0field), named for the MexicanÂ\\xa0Nopal cactusÂ\\xa0indigenous to the area. By 1870, an agriculturalÂ\\xa0', 'community flourished. The area was known as theÂ\\xa0Cahuenga Valley, after the pass in theÂ\\xa0Santa Monica MountainsÂ\\xa0immediately to the north.', 'According to the diary ofÂ\\xa0H.Â\\xa0J. Whitley, known as the \"Father of Hollywood\", on his honeymoon in 1886 he stood at the top of the hill looking out over the valley. Along came a Chinese man in a wagonÂ\\xa0', 'carrying wood. The man got out of the wagon and bowed. The Chinese man was asked what he was doing and replied, \"I holly-wood\", meaning \\'hauling wood.\\' H.Â\\xa0J. Whitley had an epiphany and decided to name his new town Hollywood. Holly wouldÂ\\xa0', 'represent England and wood would represent his Scottish heritage. Whitley had already started over 100 towns across the western United States', \"spread to GeneralÂ\\xa0Harrison Gray Otis, Hurd's wife, eastern adjacent ranch co-ow\", 'Daeida WilcoxÂ\\xa0may have learned of the nameÂ\\xa0HollywoodÂ\\xa0from Ivar Weid, her neighbor in Holly Canyon (now Lake Hollywood) and a prominent', \"Whitley's.[9][10]Â\\xa0She recommended the same name to her husband,Â\\xa0Harvey. H. Wilcox. In August 1887, Wilcox filed with the Los Angeles Cou\", 'parcel map of property he had sold named \"Hollywood, California.\" Wilcox wanted to be the first to record it on a deed. The earlyÂ\\xa0', 'By 1900, the region had a post office, newspaper, hotel, and two markets. LosÂ\\xa0', 'Angeles, with a population of 102,479 lay 10 miles (16Â\\xa0km) east through theÂ\\xa0vineyards, barley fields, andÂ\\xa0citrusÂ\\xa0groves. A single', 'Prospect Avenue from it, but service was infrequent and the trip took two hours. The old citrus fruit-packing house was convertedÂ\\xa0', 'TheÂ\\xa0Hollywood HotelÂ\\xa0was opened in 1902 by H.Â\\xa0J. Whitley, president of the Los Pacific Boulevard and Development Company. Having finally', 'subdivided it, Whitley built the hotel to attract land buyers. Flanking the west side ofÂ\\xa0Highland Avenue, the structure fro', 'unpaved road, was regularly graded and graveled. The hotel was to become internationally known and was the center of the civic and social lif', \"Whitley's company developed and sold one of the early residential areas, the Ocean View Tract.[12]Â\\xa0Whitley did much to promote th\", 'electric lighting, including bringing electricity and building a bank, as well as a road into theÂ\\xa0Cahuenga Pass. The lighting ran for several blocksÂ\\xa0', \"Whitley's land was centered onÂ\\xa0Highland Avenue.[13][14]Â\\xa0His 1918 development,Â\\xa0Whitley Heights, was named for him.\", 'Â\\xa0incorporated as aÂ\\xa0municipalityÂ\\xa0on November 14, 1903, by a vote of 88 for and 77 against. On January 30, 1904, the', '113 toÂ\\xa096, for the banishment of liquor in the city, except when it was being sold for medicinal purposes. Neithe', 'In 1910, the city voted for merger with Los Angeles in order to secure an adequate water supply and to gain access to theÂ\\xa0', 'By 1912, major motion-picture companies had set up production near or in Los Angeles.[17]Â\\xa0In the early 1900s, mostÂ\\xa0', \"Edison'sÂ\\xa0Motion Picture Patents CompanyÂ\\xa0in New Jersey, and filmmakers were often sued to stop their productions. To escape this, film\", \"where Edison's patents could not be enforced.[18]Â\\xa0Also, the weather was ideal and there was quick access to various settings. Los Angeles bec\", 'DirectorÂ\\xa0D. W. GriffithÂ\\xa0was the first to make a motion picture in Hollywood. His 17-minute short filmÂ\\xa0InÂ\\xa0Old CaliforniaÂ\\xa0(1910) was filmed for theÂ\\xa0Biograph Company.[20][21][22]Â\\xa0Although Hollywood banned movie thea', 'will recognize names like Abbey Road, Electric Lady, and Motown as places where The Beatles, Jimi Hendrix, Diana Ross, and the Supremes left their musical marks.', 'Since then, an impressive list of rock, pop, country, and reggae artists â\\x80\\x94 Aerosmith, Britney Spears, Keith Urban, and Damian Marley to name a few â\\x80\\x94 have followed suit.', 'Around 1905, â\\x80\\x9cNickelodeonsâ\\x80\\x9d, or 5-cent movie theaters, began to offer an easy and inexpensive way for the public to watch movies. Nickelodeons helped the movie industry move into the 1920â\\x80\\x99s by increasing the public appeal of film and generate more money for filmmakers, alongside the widespread use of theaters to screen World War I propaganda.Â\\xa0', \"Other moviemakers arrived from Europe after World War I: directors likeÂ\\xa0Ernst Lubitsch,Â\\xa0Alfred Hitchcock,Â\\xa0Fritz LangÂ\\xa0andÂ\\xa0Jean Renoir; and actors likeÂ\\xa0Rudolph Valentino,Â\\xa0Marlene Dietrich,Â\\xa0Ronald Colman, andÂ\\xa0Charles Boyer. They joined a homegrown supply of actorsÂ\\xa0â\\x80\\x94 lured west from the New York City stage after the introduction of sound filmsÂ\\xa0â\\x80\\x94 to form one of the 20th century's most remarkable growth industries. At motion pictures' height of popularity in the mid-1940s, the studios were cranking out a total of about 400 movies a year, seen by an audience of 90 million Americans per week.\", 'At the same time, one could usually guess which studio made which film, largely because of the actors who appeared in it;Â\\xa0MGM, for example, claimed it had contracted \"more stars than there are in heaven.\" Each studio had its own style and characteristic touches which made it possible to know thisÂ\\xa0â\\x80\\x93 a trait that does not exist today.', 'Movie-making was still a business, however, and motion picture companies made money by operating under theÂ\\xa0studio system. The major studios kept thousands of people on salaryÂ\\xa0â\\x80\\x94 actors, producers, directors, writers, stunt men, craftspersons, and technicians.', 'The Supreme Court eventually ruled that the major studios ownership of theaters and film distribution was a violation of theÂ\\xa0Sherman Antitrust Act. As a result, the studios began to release actors and technical staff from their contracts with the studios.', 'The drive to produce a spectacle on the movie screen has largely shaped American cinema ever since.', 'The first impression from those quotes is to assume that Russo is talking about future MCU films such as the second part ofÂ\\xa0Infinity WarÂ\\xa0not being constrained by the idea that films more than two hours are too long for audiences.', 'Could it be only a few years until the Russo Brothers names are appearing as â\\x80\\x9cexecutive producerâ\\x80\\x9d above a slew of Oscar nominees, even as they continue to direct some of the most popular blockbusters in recent memory? Weâ\\x80\\x99ll see if the AGBO experiment pans out.', 'To his credit, Weinstein eventually made good on his promise. Following a widely reported sexual harassment scandal, in 2018 The Weinstein Company declared bankruptcy.', 'Six people were arrested Thursday and one was arrested Friday after a grand jury indicted them on a variety of election fraud charges. They face accusations of bribing voters, improperly helping people fill out absentee ballots, voting despite being convicted of disqualifying felonies, and voting even though they lived outside the city or voting district.', 'In view of all this, it should come as no surprise that thereâ\\x80\\x99s already a film in development about what was perhaps theÂ\\xa0biggest storyÂ\\xa0in journalism this past year: the New York Timesâ\\x80\\x99 investigation into allegations of decades-long sexual abuse against Harvey Weinstein.', 'According to aÂ\\xa0reportÂ\\xa0in Mumbai Mirror, Lawrence Kasanoff, who is the producer of the Mortal Kombat series, made a quiet visit to Mumbai to meet Tiger and discuss details of the project. It is expected to be an action film. Lawrence, along with a big studio head and Emmy Award-winning writer Sean Catherine Derek of the Batman series came to Mumbai. Sanjay Grover, son of veteran actor Gulshan Grover, who has been part of the project for the last one year, was also part of the meetings, the report added.', 'The foremost example of this M.O.: 2012â\\x80\\x99sÂ\\xa0Argo.Â\\xa0In the late â\\x80\\x9990s, the producer had read the then-recently declassified testimony of CIA exfiltration expert Tony Mendez in a CIA journal, detailing how he helped American diplomats escape the 1979 Iran hostage crisis by posing them as a group of Canadian filmmakers.', 'Seven of the 11 top-grossing films of 2017 were superhero movies, based on characters first introduced in comic books.', 'Mr. Sonnierâ\\x80\\x99s revenues from a film are a tiny fraction of those from a major studio release, but he is making money off his strategy by keeping production costs low and relying on word-of-mouth to turn his movies into sleeper hits.', 'But according to aÂ\\xa0new reportÂ\\xa0from the University of Southern Californiaâ\\x80\\x99s Annenberg School for Communication and Journalism, youâ\\x80\\x99d be hard-pressed to find anyone who is like me or looks like me', 'â\\x80\\x9cThe Chinese film market is going to be the largest film market in short order,â\\x80\\x9d said Charles Rivkin, a former US assistant secretary of state who in January took over from Christopher Dodd as MPAA chairman. â\\x80\\x9cTheyâ\\x80\\x99re building about 25 screens a day.â\\x80\\x9d', 'This movie was not supposed to be good. Hereâ\\x80\\x99s the plot: A middle-aged cardiovascular surgeonâ\\x80\\x99s wife is killed by a one-armed man, and said surgeon is sent to death row. But his bus crashes on the way to prison, then a train crashes into the bus crash, then Dr. Richard Kimble escapes to go on the run with five U.S. marshals on his heels. This is literally the opening 20 minutes ofÂ\\xa0The Fugitive.', 'One, prominent among Asian immigrant communities, argues that the movie marks a breakthrough in Asian representation by virtue of its all-Asian cast, and holds the promise of further representation.', 'The ceremony will feature presentations, performances, and a special achievement award. Past honorees include Diane Warren, Smokey Robinson, and Glen Campbell.', 'No matter how high it is, a quote is a number that an actorâ\\x80\\x99s representation is constantly trying to jack upâ\\x80\\x94a never-ending cache of money and extras to be forever bested. â\\x80\\x9cAgents build quotes and fight for things in each successful deal that then become bedrock,â\\x80\\x9d says one veteran producer. This is also how agents, who skim 10 percent of their clientsâ\\x80\\x99 takes, earn more themselves.', 'â\\x80\\x9cOne of the most exciting aspects of our Fox acquisition is that it will allow us to greatly accelerate our direct-to-consumer strategy,â\\x80\\x9d Mr. Iger said when he announced the deal in December. â\\x80\\x9cWe believe creating a direct-to-consumer relationship is vital to the future of our media businesses, and itâ\\x80\\x99s our highest priority.â\\x80\\x9d', 'Donald Jr. opens the closet door to reveal De Niro as Mueller hiding behind the door, causing Eric to exclaim:Â\\xa0\"Robert Mueller is in there!\"Â\\xa0', 'â\\x80\\x9cSpaceyâ\\x80\\x99s conduct was extreme and outrageous,â\\x80\\x9d says the filing of yesterday, which is well within the statute of limitations that have stymied many of these types of cases in the now #MeToo era.', 'â\\x80\\x9cI was completely shocked by how little dialogue there was in the film,â\\x80\\x9d Mr. Haynes said in a phone interview.', 'Male actors command about twice the screen time of female ones. Men are the heroes and villains and do most of the talking, with (at the last count) two-thirds of speaking parts in successful films, a ratio only slightly better than in the late 1940s. Women, still, are often ornaments or victims, love interests or damsels in distress: useful for being disrobed, attacked or both.', 'â\\x80\\x9cFor a guy who always had control over actors, filmmakers, his company, his familyâ\\x80\\x94everybodyâ\\x80\\x94this was the first time I saw that he couldnâ\\x80\\x99t control a situation.â\\x80\\x9d Even so, Weinstein seemed hell-bent on trying.', 'Sorry to Bother You: is this the most shocking anti-capitalistÂ\\xa0filmÂ\\xa0ever?', 'No, youâ\\x80\\x99re not seeing double. These beautiful stars all have daughters who look just like them. From Kelly Ripa and Lola Consuelos, to Catherine Zeta-Jones and Carys Douglas,Â\\xa0the resemblance between these duos is uncanny!', 'Lady Gaga surprised the small crowd at the Black Rabbit Rose venue in Hollywood, California Thursday with a performance of Frank Sinatra songs. â\\x80\\x9cIâ\\x80\\x99m here to ruin the party. Iâ\\x80\\x99m so sorry,â\\x80\\x9d Gaga quipped.', 'Rising from the ashes of the 1929 stock-market crash, Twentieth Century-Fox was forged in a master stroke by ruthless producer Darryl F. Zanuck, who merged Twentieth Century Pictures with William Foxâ\\x80\\x99s ailing studioâ\\x80\\x94and booted out Fox in the processâ\\x80\\x94to create a formidable Hollywood player. It was the studio that turned Marilyn Monroe into a star, awarded Elizabeth Taylor her first $1 million payday (for the costly Cleopatra, which at $44 million nearly capsized the company), and helped solidify the modern-day blockbuster with George Lucasâ\\x80\\x99s space fantasy,Â\\xa0Star Wars.', 'Triple FrontierÂ\\xa0is a good movie. The J.C. Chandor-directed action melodrama, penned by Mark Boal and starring Ben Affleck, Oscar Isaac, Garrett Hedland, Charlie Hunnam and Pedro Pascal, isnâ\\x80\\x99t a new genre classic or a towering artistic achievement. It starts better than it ends, and it seems somewhat unwilling to truly confront the morality of its story (especially after its heroes cross a line of no return), but itâ\\x80\\x99s exactly what it promises.', 'When Aunt Becky and that Desperate Housewife became ensnared in the wild Hollywood cheating scam this week, countless questions arose. What does Teri Hatcher think? If Aunt Becky ends up in the slammer, will it be enough to make the Olsen twins resurface? And most importantly: where did Aunt Becky get $500,000 from?', 'She has starred inÂ\\xa0Coronation Street and is currently in Emmerdale.Â\\xa0And Gaynor Faye has now shared that she had a shot to break Hollywood prior to taking up roles in the British soap world. The English actress, 47, opened up toÂ\\xa0The Mirror on how her career could have taken a different path if she had headed across the pond.', 'Former \"Desperate Housewives\" star Felicity Huffman and actress Lori Loughlin, best known for playing Aunt Becky on \"Full House,\" are facing court appearances later this month related to allegations they participated in a college admissions cheating scheme. In the court of public opinion, however, it\\'s hard to say whether fans and Hollywood will, as Uncle Jesse says, \"Have mercy.\"', 'Airplanes are a versatile tool in the screenwriterâ\\x80\\x99s arsenal: They get characters from place to place, they can crash dramatically, they can get filled with inexplicable, profanity-inducing snakes. But theyâ\\x80\\x99re also kind of a nightmare to film movies in, on account of really only being designed for the one thing: Cramming as many people as possible into a little tube and hurling them into the sky, without much considerations for stuff like camera equipment and crews.', 'Entrepreneur Mariam Shaarâ\\x80\\x99s idea of using Palestiniansâ\\x80\\x99 national cuisine to provide hope and opportunity for refugee women has succeeded beyond her wildest dreams. Shaarâ\\x80\\x99s project â\\x80\\x9cSoufraâ\\x80\\x9d â\\x80\\x94 which means a table laden with food â\\x80\\x94 drew the attention of Hollywood actress and social activist Susan Sarandon, whose documentary â\\x80\\x94 also called â\\x80\\x9cSoufraâ\\x80\\x9d â\\x80\\x94 was screened for the first time this week in Beirut.', 'Several weeks ago, during all the pomp and circumstance of Oscar Sunday, stood actress Selma Blair in her sheer dress carrying a custom-made cane that was covered in patent leather. She posed for photographs before entering the Vanity Fair party. This was her first public appearance since revealing that she had been diagnosed with multiple sclerosis.', 'It is more formally referred to asÂ\\xa0Hindi cinema.[4]Â\\xa0The term \"Bollywood\" is often used by non-Indians as aÂ\\xa0synecdocheÂ\\xa0to refer t', 'however, Bollywood proper is only a part of the larger Indian film industry, which includes other production', 'ollywood is one of the largest film producers in India, representing 43% of the net box office revenue, whileÂ\\xa0Ta', 'rest of the regional cinema constitutes 21% as of 2014.[7]Â\\xa0Bollywood is also one of the largest centers of film production in the wo', 'of the biggest film industries in the world in terms of the number of people employed and the number of films produced.[1', 'were sold across the globe which in comparison is 900,000 tickets more thanÂ\\xa0Hollywood.[12]Â\\xa0Bollywood produced 252 films in 2014Â\\xa0', 'The name \"Bollywood\" is aÂ\\xa0portmanteauÂ\\xa0derived fromÂ\\xa0BombayÂ\\xa0(the former name for Mumbai) andÂ\\xa0Hollywood, the center of theÂ\\xa0American film industry.[13]Â\\xa0However, u', 'The naming scheme for \"Bollywood\" was inspired by \"Tollywood\", the name that was used to refer to theÂ\\xa0cinema of West Bengal. Dating back to 1932, \"Tollywood\" was the earliestÂ\\xa0', 'was this \"chance juxtaposition of two pairs of rhyming syllables,\" Holly and Tolly, that led to the portmanteau name \"Tollywood\" being coined. The name \"Tollywood\" went on to be', 'basedÂ\\xa0Junior StatesmanÂ\\xa0youth magazine, establishing a precedent for other film industries to use similar-sounding names, eventually leading to the coining of \"Bollywood\"', \"the world's largest film producer. Credit for the term has been claimed by several different people, including the lyricist, filmmaker and scholar Amit Khanna\", 'film made inÂ\\xa0India. By the 1930s, the industry was producing over 200 films per annum.[22]Â\\xa0The first Indian s', 'commercial success.[23]Â\\xa0There was clearly a huge market for talkies and musicals; Bollywood and all the regional film industries qu', 'The 1930s and 1940s were tumultuous times:Â\\xa0IndiaÂ\\xa0was buffeted by theÂ\\xa0Great Depression,Â\\xa0World War II, theÂ\\xa0Indian independence movement, and the violence of theÂ\\xa0Partition. Most Bollywood films were unab', 'Kanya. The next year, he made another colour film, a version ofÂ\\xa0Mother India. However, colour did not become aÂ\\xa0', 'lavish romantic musicals and melodramas were the staple fare at the cinema.', 'FollowingÂ\\xa0India\\'s independence, the period from the late 1940s to the 1960s is regarded by film historians as the \"Golden Age\" of Hindi cine', 'Examples include theÂ\\xa0Guru DuttÂ\\xa0filmsÂ\\xa0PyaasaÂ\\xa0(1957) andÂ\\xa0Kaagaz Ke PhoolÂ\\xa0(1959) and theÂ\\xa0Raj KapoorÂ\\xa0filmsÂ\\xa0AwaaraÂ\\xa0(1951),Â\\xa0Shree 420Â\\xa0(1955)Â\\xa0', 'India;Â\\xa0AwaaraÂ\\xa0presented the city as both a nightmare and a dream, whileÂ\\xa0Pyaasacritiqued the unreality of city life.[27]Â\\xa0Some of the most famousÂ\\xa0', 'popularised the theme ofÂ\\xa0reincarnationÂ\\xa0inÂ\\xa0Western popular culture.[30]Â\\xa0Other acclaimed mainstream Hindi filmmakers at the time includedÂ\\xa0Kamal AmrohiÂ\\xa0andÂ\\xa0Vijay Bhatt. Successful actors at the time include', 'While commercial Hindi cinema was thriving, the 1950s also saw the emergence of a newÂ\\xa0Parallel CinemaÂ\\xa0movement.[27]Though the movement was mainly led byÂ\\xa0Bengali cinema, it also began gain', \"Ever since theÂ\\xa0social realistÂ\\xa0filmÂ\\xa0Neecha NagarÂ\\xa0won theÂ\\xa0Grand PrizeÂ\\xa0at theÂ\\xa0first Cannes Film Festival,[32]Â\\xa0Hindi films were frequently in competition for theÂ\\xa0Palme d'OrÂ\\xa0at theÂ\\xa0Cannes Film FestivalÂ\\xa0throughout the 1950s and early 1960s, with some of them winning major prizes at the festival.[35]Â\\xa0Guru Dutt, while overlooke\", 'international recognition much later in the 1980s.[35][36]Â\\xa0Dutt is now regarded as one of the greatestÂ\\xa0Asian filmmakersÂ\\xa0of all time, alongside the more famous Indian Bengali filmmakerÂ\\xa0Satyaji', 'In the late 1960s and early 1970s, romance movies and action films starred actors likeÂ\\xa0Shammi Kapoor,Â\\xa0Jeetendra,Â\\xa0Rajesh Khanna,Â\\xa0Dharmendra,Â\\xa0Sanjeev KumarÂ\\xa0andÂ\\xa0Shashi KapoorÂ\\xa0and actresses likeÂ\\xa0Sharmila Tagore,Â\\xa0Mumtaz,Â\\xa0Saira B', 'Some Hindi filmmakers such asÂ\\xa0Shyam BenegalÂ\\xa0continued to produce realisticÂ\\xa0Parallel CinemaÂ\\xa0throughout the 1970s,[40]alongsideÂ\\xa0Mani Kaul,Â\\xa0Kumar Shahani,Â\\xa0Ketan Mehta,Â\\xa0Govind NihalaniÂ\\xa0andÂ\\xa0Vijaya Mehta.', \"The 1970s thus saw the rise of commercial cinema in the form of enduring films such asÂ\\xa0SholayÂ\\xa0(1975), which consolidatedÂ\\xa0Amitabh Bachchan's position as a lead actor. The devotional classicÂ\\xa0Jai Santoshi MaÂ\\xa0was also released in 1975.[41]Â\\xa0Another important film from 1975Â\\xa0\", 'During the late 1980s and 1990s, the pendulum swung back toward family-centric romantic musicals with the success of such films asÂ\\xa0Qayamat Se Qayamat TakÂ\\xa0(1988),Â\\xa0Maine Pyar Kiya', 'films were also successful, with actors likeÂ\\xa0Govinda,Â\\xa0Akshay KumarÂ\\xa0andÂ\\xa0Ajay Devgan, and Kumar gaining popularity forÂ\\xa0performingÂ\\xa0dangerousÂ\\xa0stuntsÂ\\xa0inÂ\\xa0action filmsÂ\\xa0in his well knownÂ\\xa0Khiladi (film series)Â\\xa0and oth', 'These films often featured actors likeÂ\\xa0Nana PatekarÂ\\xa0andÂ\\xa0Manoj Bajpai, and actresses likeÂ\\xa0Manisha Koirala,Â\\xa0Tabu,Â\\xa0Pooja BhattandÂ\\xa0Urmila Matondkar, whose performances were usually critically acclaimed.', \"She had signed a contract with Pooja Films on January 17, 2018, with respect to the film Padman, asking for financial help. Before that, KriArj Entertainment Pvt Ltd had also entered a contract with Gothik Entertainment Pvt Ltd in November 2017. Arora and her company kept both production houses in the dark about each other's contracts.\", 'Shraddha was spotted with Rohan last night (December 07, 2018) as the alleged couple stepped out and possibly went on a dinner date. She sported a chic look withÂ\\xa0a white and green striped dress with a denim jacket and her alleged beau donned a cool look in a casual black tee and blue denim.', \"'Gold' is the fictional re-telling of the India's iconic win at the 1948 London OlympicsÂ\\xa0\", 'In this situation, could an intimacy director, someone who keeps people comfortable on the sets, be essential? Filmmaker Madhur Bhandarkar thinks so.', 'And this trend is here to say. In a conversation with Entrepreneur India, Omung Kumar, the man behind two of Bollywood iconic biopic movie', 'A recent report by media consulting firmÂ\\xa0Ormax Media says Facebook and YouTube are the most effective media in driving buzz power, at 67 percent and 51 percent respectively. Television ranks at number three at 43 percent. The Facebook-Instagram combine thus has total buzz power of 69 percent.', 'Dolly Ki Doli director Abhishek Dogra feels that marriage movies are very relatable for audiences.', 'â\\x80\\x9cItâ\\x80\\x99s always humbling when fans come and speak to you, when they take the time out to say â\\x80\\x98helloâ\\x80\\x99, sometimes missing work and changing schedules. When I met Kauthar Abdulalim on the day of a press conference, I could barely see her with all the press people lined up in the middle.', 'India are some of the films that has been shot in the continent and with the wealth of beauty Australia has, it definitely is one of the most perfect locations for all the producers to explore.â\\x80\\x9d', 'December brings the second season ofÂ\\xa0The Marvelous Mrs. Maisel, the award-winning series that follows a 1958 housewife who discovers she has a talent for stand-up comedy', \"While 'Hindi Medium' bagged honours in the categories of BesÂ\\xa0..Â\\xa0\", 'With a funny cold war between him and the dean of the college, Dr. Asthana (Boman Irani), this film is a laughter riot. The film taught us that while conventional ways may seem like the right way to go about it, but sometimes a miracle is long due and it is only possible when a student-teacher relationship becomes a mutually understanding one. Well, like they say, a teacher never stops learning either.', 'Losely based on the life of Helen Keller and her teacher, Black is a film that made its mark on Indian Cinema with not just the story but with outstanding performances by Amitabh Bachchan andÂ\\xa0RaniÂ\\xa0Mukherjee.', 'A couple of weeks beforeÂ\\xa0Befikre, in Gauri Shindeâ\\x80\\x99sÂ\\xa0Dear Zindagi, Alia Bhatt was Kaira.', 'The paper entitledÂ\\xa0Transnational Cinema: A CrossÂ\\xa0Culture Communication Medium, attempts to look into transnational cinemaâ\\x80\\x99s innate nature to network the national to the international, not only in the panoptical sense but also with questions related to aesthetics, ideas, and mostly factors pertaining to cross-culture communication, especially in Indian context', 'The film is a fictional action fantasy featuring a hunky warrior prince who can throw trees and wrestle bulls but still loves his mother. It had the third-largest opening for a foreign-language film in U.S. history', 'The debutante cannot behold her excitement. As quoted byÂ\\xa0Hindustan Times', 'The film has finally got a release date and it is slated for a release on Eid-Ul-Fitr 2019.', '\"To character assassinate a hardworking, driven, achiever like Priyanka Chopra in this warped, petty manner and for TheCut to publish such a low-brow piece is the lowest of the lows.', 'Netflix didnâ\\x80\\x99t regard India as much of an opportunity when it first expanded there in January 2016. The company has built the worldâ\\x80\\x99sÂ\\xa0largest paid online TV networkÂ\\xa0by taking advantage of the proliferation of high-speed internet to deliver a video service thatâ\\x80\\x99s cheaper and easier to use than cable or satellite TV.Â\\xa0', 'The singer was released Thursday night following the intervention of the Indian Embassy in Abu Dhabi, Navdeep Singh Suri, the Indian Ambassador to the UAE, told Gulf News.', 'A Mumbai teen reflects on his upbringing in the slums when he is accused of cheating on the Indian Version of \"Who Wants to be a Millionaire?\"', 'Two friends are searching for their long lost companion. They revisit their college days and recall the memories of their friend who inspired them to think differently, even as the rest of the world called them \"idiots\".', 'An eight-year-old boy is thought to be a lazy trouble-maker, until the new art teacher has the patience and compassion to discover the real problem behind his struggles in school.', 'Over a hundred guests attended the sparkling event at Bowden Rugby Club.Â\\xa0As well as a festive and colourful atmosphere, guests were treated to a glass of bubbly on arrival, a delicious curry buffet, mince pies,Â\\xa0 a raffle with great prizes, andÂ\\xa0 a fabulous set from DJ Irf.', 'The Matrix Reloaded is a 2003 science fiction action film, the first sequel to The Matrix, and the second installment in The Matrix trilogy.', 'Among the guests who have reached the city, areÂ\\xa0actors RekhaÂ\\xa0andÂ\\xa0Disha Patani.', 'Taimur was seen in bright yellow shirt, blue pants and sneakers. He was clicked sprinting across the field with a baton in his hand, playing with his friends, being cheered by mom Kareena and even breaking into a few tears, perhaps unhappy with the cheerleading duties bestowed upon him.', 'Trade analyst Taran Adarsh also shared the box office figures of the film.', 'â\\x80\\x9cFilms like Toilet... are about social and public awareness. As there is similarity between the two countries, such movies are getting accepted in China.', 'On veteran actorÂ\\xa0Dharmendraâ\\x80\\x99s 83rd birthday, his wife and evergreen actress Hema Malini wished him saying he is her â\\x80\\x9ceverlasting loveâ\\x80\\x9d.', \"Famous celebrity Mehendi artist, Veena Nagda, who was in charge of Deepika's Mehendi ceremony, recentlyÂ\\xa0made this really cute revelation in interaction with a radio channel.\", 'Box office success is one thing but to outdo what has been a singular cultural phenomenon spanning the breadth of the country takes some derring-do.', \"After theÂ\\xa0women dazzled,Â\\xa0and theÂ\\xa0couples rockedÂ\\xa0the red carpet, Bollywood's hunks arrived at Priyanka Chopra and Nick Jonas's wedding reception in Mumbai on Thursday, December 20, night.\", 'PoliticianÂ\\xa0Asif BhamlaÂ\\xa0withÂ\\xa0Alka Yagnik, Sudesh Bhosale, Tabassum andÂ\\xa0Arun Govil.', 'The B-town beauty has been updating her Instagram account with beautiful pictures from her exotic holiday.', 'After aÂ\\xa0receptionÂ\\xa0for the media on Wednesday December 19, Priyanka and Nick hosted the Big One at the Taj Lands End hotel', \"Bauua's coarse charm isn't lost on Afiya Yusufzai Bhinder (Anushka Sharma), the wheelchair-bound NASA brains affected by cerebral palsy.\", \"He got his big break in Hrishikesh Mukherjee'sÂ\\xa0Namak HaraamÂ\\xa0in 1973. Raj Kapoor'sÂ\\xa0Prem Rog, in which he played the main villain, made sure there was no looking back.\", 'Vikram has cases of money laundering and drug dealing against him, and the couple were arrested last year from Kenya.', 'The smooth talking gangster had an instant connection with aspiring actress Monica Bedi.', 'The first celebrity gangster of Bombay got married to Sona, mostly based on the fact that she looked so much like Madhubala. Haji had a distinct fondness for the deceased Madhubala, and was married to Sona in a heartbeat.', 'Anita Ayub, a beauty pageant contestant, was very close to underworld terror Dawood Ibrahim.', 'The actress, famous for dancing under a waterfall, is said to have had an affair with the don.', 'Music label T-Series owner Gulshan Kumar was shot to death in broad daylight in 1997.', \"After Hrithik's father refused to give dreaded don Ali Baba Budesh a share of the profits from Kaho Na Pyaar Hai in 2000, he was yet to learn the true meaning of extortion.\", \"Mukesh Bhatt, Boney Kapoor, Rakesh Roshan have all admitted to receiving calls for sharing of profits, with dire consequences threatened if they didn't comply.\", 'While Sanjay was recently charged and placed in jail, he was earlier picked up in 1994 by the police as well.', 'SRK has openly admitted to speaking to dreaded gangster Chhota Shakeel under duress, claiming he had to listen to a story and decide whether to make a film about it. Apart from this, he has also gotten threat calls from Abu Salem and received death threats after the movie Happy New Year.', 'And it starts way back in 1931. Okay, Itâ\\x80\\x99s actually much older. The Underworld is basically working out of and headquartered in Pakistan.', 'Heâ\\x80\\x99s been threatened multiple times, and since his popularity is linked to Salman, Itâ\\x80\\x99s inevitable that he can be used by underworld.', 'Lets not forget all the other actors/actresses/producers who had connections, and used those connections to push their careers up in the beginning, only to switch sides once they became successful.', 'Fawad Khan is the son of Sales Head/Chair of Pakistanâ\\x80\\x99s biggest Pharmaceutical company. And he was roped in first by KJo, in 2008, but he couldnâ\\x80\\x99t get through, owing to the Mumbai blasts. He instead hit his first release with Sonam', 'The attack on RoshanÂ\\xa0 was not undertaken to prove that the Shiv Sena could no longer protectÂ\\xa0 its clients.', 'Rajasthan gangster Lawrence Bishnoi threatened to kill Race 3 actor Salman Khan in Jodhpur where the actor had gone for the hearing of his blackbuck poaching case.Â\\xa0', 'The underworld don has also asked the singer to perform at two stage shows for him free of cost.', 'The recommendation has come based on a recent audit it conducted on the security cover provided to various important personalities in the city, the report stated. In 2014, the agency had provided security cover to SRK', 'Satya, Company, Vaastav, Once Upon a Time in Mumbaai, Agneepathâ\\x80¦ and now Daddy.', 'While the law was amended in 2000 to allow the film industry to qualify for bank credit, the underworldâ\\x80\\x99s influence within Indian cinema had already become deeply entrenched and pervasive', \"Another incident that became the talk of the town and still remains finds its ground in 2000 released film â\\x80\\x98Chori Chori Chupke Chupke.'\", 'Mamta Kulkarni starred in a couple of hits before running off with Vikram Goswami (the co-accused who also has cases of money laundering and drug dealing) to live anonymously in Dubai.', \"What I've noticed mostly is Tamil and Telugu movies are over hyped all the time because of their over enthusiastic fans.\", 'They know what problems a majority of Indians are facing, their living conditions, their heavily burdened cultural values and they make 90% of movies based on poverty, corruption, police crime drama or rich girl poor boy stories. However, they make shitty, illogical and time wasting movies.', 'South movies are more content driven.', 'Before Baahubali, it was Rajinikanthâ\\x80\\x99s Endhiran, which stunned trade pundits that they started seeing the actor as a box office demigod.', 'Point to be noted here is we havenâ\\x80\\x99t added Malayalam and Kannada movies, especially the former producing some of the finest films in modern Indian cinema and they are slowly attracting non-Malayalam speaking multiplex audiences.', 'Allu Arjun has also signed a Tamil biggie with director Lingusamy and Jr NTR is also said to be planning to soon make his debut in Tamil.', 'A good example of this is how Pillai points out the absence of mythological themes during the genesis of Malayalam cinema.', 'Raman makes a very astute observation as to why there was the rise of misogynistic cinema after the â\\x80\\x9990s.', 'For all its â\\x80\\x98socialâ\\x80\\x99 and contemporary themes, the public space for women in Malayalam cinema was cruelly restricted', 'Zeenat Aman:Â\\xa0She was known for her bold on-screen appearances. She starred in films like Satyam Shivam Sundaram (1978), Ajanabee (1974), Hare Rama Hare Krishna (1971), The Great Gambler (1979), Yaadon Ki Baaraat (1973) and Heera Panna (1973).']\n"
     ]
    }
   ],
   "source": [
    "X = hollybolly.iloc[:,1].values.tolist() \n",
    "print(type(X)) # X is list\n",
    "print(X)"
   ]
  },
  {
   "cell_type": "code",
   "execution_count": null,
   "metadata": {},
   "outputs": [],
   "source": []
  },
  {
   "cell_type": "code",
   "execution_count": 15,
   "metadata": {},
   "outputs": [],
   "source": [
    "## Cleaning - run either Clean1 or Clean2"
   ]
  },
  {
   "cell_type": "code",
   "execution_count": 16,
   "metadata": {
    "scrolled": true
   },
   "outputs": [
    {
     "name": "stdout",
     "output_type": "stream",
     "text": [
      "['neighborhood central region los angeles california neighborhood notable place home film industry', 'include several historic studio name come metonymfor motion picture industry united state hollywood also highly', 'ethnically diverse densely populate economically diverse neighborhood retail business district', 'hollywood small community incorporate municipality officially merge city los angeles', 'soon thereafter prominent film industry begin emerge eventually become recognizable film industry world', 'one adobe hut stood nopalera nopal field name mexican nopal cactus indigenous area agricultural', 'community flourish area know cahuenga valley pas santa monica mountain immediately north', 'accord diary whitley know father hollywood honeymoon stood top hill look valley along come chinese man wagon', 'carry wood man get wagon bow chinese man ask reply meaning wood whitley epiphany decide name new town hollywood holly would', 'represent england wood would represent scottish heritage whitley already start town across western united state', 'spread general harrison gray otis hurd wife eastern adjacent ranch', 'daeida wilcox may learn name hollywood ivar weid neighbor holly canyon lake hollywood prominent', 'whitley recommend name husband harvey wilcox august wilcox file los angeles cou', 'parcel map property sell name hollywood california wilcox want first record deed early', 'region post office newspaper hotel two market los', 'angeles population lay mile km east vineyard barley field citrus grove single', 'prospect avenue service infrequent trip take two hour old citrus house convert', 'hollywood hotel open whitley president los pacific boulevard development company finally', 'subdivide whitley built hotel attract land buyer flank west side highland avenue structure fro', 'unpaved road regularly grade gravel hotel become internationally know center civic social lif', 'whitley company developed sell one early residential area ocean view tract whitley much promote th', 'electric light include bring electricity building bank well road cahuenga pas light ran several block', 'whitley land center highland avenue development whitley height name', 'incorporate municipality november vote january', 'banishment liquor city except sell medicinal purpose neithe', 'city vote merger los angeles order secure adequate water supply gain access', 'major company set production near los angeles early', 'motion picture patent company new jersey filmmaker often sue stop production escape film', 'edison patent could enforce also weather ideal quick access various setting los angeles bec', 'director griffith first make motion picture hollywood short film old california film biograph company although hollywood ban movie thea', 'recognize name like abbey road electric lady motown place beatles jimi hendrix diana ross supremes left musical mark', 'since impressive list rock pop country reggae artist aerosmith britney spear keith urban damian marley name follow suit', 'around movie theater begin offer easy inexpensive way public watch movie nickelodeon help movie industry move increase public appeal film generate money filmmaker alongside widespread use theater screen world war', 'moviemakers arrive europe world war director like ernst lubitsch alfred hitchcock fritz lang jean renoir actor like rudolph valentino marlene dietrich ronald colman charles boyer join homegrown supply actor lure west new york city stage introduction sound film form one century remarkable growth industry motion picture height popularity studio crank total movie year see audience million american per week', 'time one could usually guess studio make film largely actor appear mgm example claimed contract star heaven studio style characteristic touch make possible know trait exist today', 'still business however motion picture company make money operating studio system major studio kept thousand people salary actor producer director writer stunt men craftspersons technician', 'supreme court eventually rule major studio ownership theater film distribution violation sherman antitrust act result studio begin release actor technical staff contract studio', 'drive produce spectacle movie screen largely shape american cinema ever since', 'first impression quote assume russo talk future mcu film second part infinity war constrain idea film two hour long audience', 'could year russo brother name appear slew oscar nominee even continue direct popular blockbuster recent memory see agbo experiment pan', 'credit weinstein eventually make good promise follow widely report sexual harassment scandal weinstein company declare bankruptcy', 'six people arrest thursday one arrest friday grand jury indict variety election fraud charge face accusation bribing voter improperly help people fill absentee ballot voting despite convict disqualify felony voting even though live outside city voting district', 'view come surprise already film development perhaps big story journalism past year new york investigation allegation sexual abuse harvey weinstein', 'accord report mumbai mirror lawrence kasanoff producer mortal kombat series make quiet visit mumbai meet tiger discus detail project expect action film lawrence along big studio head emmy writer sean catherine derek batman series come mumbai sanjay grover son veteran actor gulshan grover part project last one year also part meeting report add', 'foremost example late producer read declassify testimony cia exfiltration expert tony mendez cia journal detail help american diplomat escape iran hostage crisis pose group canadian filmmaker', 'seven film superhero movie base character first introduce comic book', 'revenue film tiny fraction major studio release make money strategy keep production cost low rely turn movie sleeper hit', 'accord new report university southern annenberg school communication journalism find anyone like look like', 'chinese film market go large film market short order say charles rivkin former u assistant secretary state january take christopher dodd mpaa chairman building screen', 'movie suppose good plot cardiovascular wife kill man say surgeon sent death row bus crash way prison train crash bus crash richard kimble escape go run five marshal heel literally opening minute fugitive', 'one prominent among asian immigrant community argues movie mark breakthrough asian representation virtue cast hold promise representation', 'ceremony feature presentation performance special achievement award past honoree include diane warren smokey robinson glen campbell', 'matter high quote number representation constantly try jack cache money extra forever best build quote fight thing successful deal become bedrock say one veteran producer also agent skim percent take earn', 'excite aspect fox acquisition allow u greatly accelerate strategy iger say announce deal december believe create relationship vital future medium business high', 'donald open closet door reveal de niro mueller hiding behind door cause eric exclaim robert mueller', 'conduct extreme outrageous say filing yesterday well within statute limitation stymie many type case metoo era', 'completely shock little dialogue film haynes say phone interview', 'male actor command twice screen time female one men hero villain talk last count speak part successful film ratio slightly well late woman still often ornament victim love interest damsel distress useful disrobed attack', 'guy always control actor filmmaker company first time saw control even weinstein seem try', 'sorry bother shock film ever', 'see double beautiful star daughter look like kelly ripa lola consuelos catherine carys douglas resemblance duo uncanny', 'lady gaga surprised small crowd black rabbit rise venue hollywood california thursday performance frank sinatra song ruin party sorry gaga quipped', 'rise ash crash twentieth forge master stroke ruthless producer darryl zanuck merge twentieth century picture william ail boot fox create formidable hollywood player studio turn marilyn monroe star award elizabeth taylor first million payday costly cleopatra million nearly capsize company help solidify blockbuster george space fantasy star war', 'triple frontier good movie action melodrama pen mark boal star ben affleck oscar isaac garrett hedland charlie hunnam pedro pascal new genre classic tower artistic achievement start well end seem somewhat unwilling truly confront morality story especially hero cross line return exactly promise', 'aunt becky desperate housewife become ensnare wild hollywood cheat scam week countless question arose teri hatcher think aunt becky end slammer enough make olsen twin resurface importantly aunt becky get', 'star coronation street currently gaynor faye share shot break hollywood prior take role british soap world english actress open mirror career could take different path head across pond', 'former desperate housewife star felicity huffman actress lori loughlin best know play aunt becky full house face court appearance later month related allegation participate college admission cheat scheme court public opinion however hard say whether fan hollywood uncle jesse say mercy', 'airplane versatile tool arsenal get character place place crash dramatically get fill inexplicable snake also kind nightmare film movie account really design one thing cram many people possible little tube hurl sky without much consideration stuff like camera equipment crew', 'entrepreneur mariam idea use national cuisine provide hope opportunity refugee woman succeed beyond wild dream project mean table laden food drew attention hollywood actress social activist susan sarandon whose documentary also call screen first time week beirut', 'several week ago pomp circumstance oscar sunday stood actress selma blair sheer dress carry cane cover patent leather pose photograph enter vanity fair party first public appearance since reveal diagnose multiple sclerosis', 'formally refer hindi cinema term bollywood often use synecdoche refer', 'however bollywood proper part large indian film industry include production', 'ollywood one large film producer india represent net box office revenue ta', 'rest regional cinema constitutes bollywood also one large center film production wo', 'big film industry world term number people employ number film produce', 'sell across globe comparison ticket hollywood bollywood produce film', 'name bollywood portmanteau derive bombay former name mumbai hollywood center american film industry however u', 'name scheme bollywood inspire tollywood name use refer cinema west bengal date back tollywood early', 'chance juxtaposition two pair rhyme syllable holly tolly lead portmanteau name tollywood coin name tollywood go', 'base junior statesman youth magazine establish precedent film industry use name eventually lead coin bollywood', 'world large film producer credit term claimed several different people include lyricist filmmaker scholar amit khanna', 'film make india industry produce film per annum first indian', 'commercial success clearly huge market talkie musical bollywood regional film industry qu', 'tumultuous time india buffet great depression world war ii indian independence movement violence partition bollywood film unab', 'kanya next year make another colour film version mother india however colour become', 'lavish romantic musical melodrama staple fare cinema', 'follow india independence period late regard film historian golden age hindi cine', 'example include guru dutt film pyaasa kaagaz ke phool raj kapoor film awaara shree', 'india awaara present city nightmare dream pyaasacritiqued unreality city life famous', 'popularise theme reincarnation western popular culture acclaim mainstream hindi filmmaker time include kamal amrohi vijay bhatt successful actor time include', 'commercial hindi cinema thrive also saw emergence new parallel cinema movement though movement mainly lead bengali cinema also begin gain', 'ever since social realist film neecha nagar grand prize first cannes film festival hindi film frequently competition palme cannes film festival throughout early win major prize festival guru dutt overlooke', 'international recognition much later dutt regard one great asian filmmaker time alongside famous indian bengali filmmaker satyaji', 'late early romance movie action film star actor like shammi kapoor jeetendra rajesh khanna dharmendra sanjeev kumar shashi kapoor actress like sharmila tagore mumtaz saira b', 'hindi filmmaker shyam benegal continued produce realistic parallel cinema throughout alongside mani kaul kumar shahani ketan mehta govind nihalani vijaya mehta', 'thus saw rise commercial cinema form endure film sholay consolidated amitabh bachchan position lead actor devotional classic jai santoshi also release another important film', 'late pendulum swung back toward romantic musical success film qayamat se qayamat tak maine pyar kiya', 'film also successful actor like govinda akshay kumar ajay devgan kumar gain popularity perform dangerous stunt action film well know khiladi film series oth', 'film often feature actor like nana patekar manoj bajpai actress like manisha koirala tabu pooja bhattand urmila matondkar whose performance usually critically acclaim', 'sign contract pooja film january respect film padman ask financial help kriarj entertainment pvt ltd also enter contract gothik entertainment pvt ltd november arora company kept production house dark contract', 'shraddha spot rohan last night december allege couple step possibly go dinner date sport chic look white green strip dress denim jacket allege beau don cool look casual black tee blue denim', 'fictional india iconic win london olympics', 'situation could intimacy director someone keep people comfortable set essential filmmaker madhur bhandarkar think', 'trend say conversation entrepreneur india omung kumar man behind two bollywood iconic biopic movie', 'recent report medium consult firm ormax medium say facebook youtube effective medium drive buzz power percent percent respectively television rank number three percent combine thus total buzz power percent', 'dolly ki doli director abhishek dogra feel marriage movie relatable audience', 'always humble fan come speak take time say sometimes miss work change schedule met kauthar abdulalim day press conference could barely see press people line middle', 'india film shot continent wealth beauty australia definitely one perfect location producer', 'december brings second season marvelous maisel series follow housewife discovers talent comedy', 'medium bag honour category be', 'funny cold war dean college asthana boman irani film laughter riot film taught u conventional way may seem like right way go sometimes miracle long due possible relationship becomes mutually understand one well like say teacher never stop learn either', 'losely base life helen keller teacher black film make mark indian cinema story outstanding performance amitabh bachchan rani mukherjee', 'couple week befikre gauri dear zindagi alia bhatt kaira', 'paper entitle transnational cinema cross culture communication medium attempt look transnational innate nature network national international panoptical sense also question related aesthetic idea mostly factor pertain communication especially indian context', 'film fictional action fantasy feature hunky warrior prince throw tree wrestle bull still love mother opening film history', 'debutante behold excitement quote hindustan time', 'film finally get release date slat release', 'character assassinate hardworking driven achiever like priyanka chopra warp petty manner thecut publish piece low low', 'netflix regard india much opportunity first expand january company built large paid online tv network take advantage proliferation internet deliver video service cheaper easy use cable satellite', 'singer release thursday night follow intervention indian embassy abu dhabi navdeep singh suri indian ambassador uae told gulf news', 'mumbai teen reflect upbringing slum accuse cheat indian version want millionaire', 'two friend search long lose companion revisit college day recall memory friend inspire think differently even rest world call idiot', 'boy thought lazy new art teacher patience compassion discover real problem behind struggle school', 'hundred guest attend sparkle event bowden rugby well festive colourful atmosphere guest treat glass bubbly arrival delicious curry buffet mince pie raffle great prize fabulous set dj irf', 'matrix reload science fiction action film first sequel matrix second installment matrix trilogy', 'among guest reach city actor rekha disha patani', 'taimur see bright yellow shirt blue pant sneaker clicked sprint across field baton hand play friend cheer mom kareena even break tear perhaps unhappy cheerlead duty bestow upon', 'trade analyst taran adarsh also share box office figure film', 'like toilet social public awareness similarity two country movie get accepted china', 'veteran actor birthday wife evergreen actress hema malini wish say', 'famous celebrity mehendi artist veena nagda charge deepika mehendi ceremony recently make really cute revelation interaction radio channel', 'box office success one thing outdo singular cultural phenomenon span breadth country take', 'woman dazzle couple rock red carpet bollywood hunk arrive priyanka chopra nick jonas wedding reception mumbai thursday december night', 'politician asif bhamla alka yagnik sudesh bhosale tabassum arun govil', 'beauty update instagram account beautiful picture exotic holiday', 'reception medium wednesday december priyanka nick host big one taj land end hotel', 'bauua coarse charm lose afiya yusufzai bhinder anushka sharma nasa brain affected cerebral palsy', 'get big break hrishikesh namak haraam raj prem rog played main villain make sure look back', 'vikram case money laundering drug deal couple arrest last year kenya', 'smooth talk gangster instant connection aspire actress monica bedi', 'first celebrity gangster bombay get married sona mostly base fact look much like madhubala haji distinct fondness decease madhubala married sona heartbeat', 'anita ayub beauty pageant contestant close underworld terror dawood ibrahim', 'actress famous dance waterfall say affair', 'music label owner gulshan kumar shot death broad daylight', 'hrithik father refuse give dread ali baba budesh share profit kaho na pyaar hai yet learn true meaning extortion', 'mukesh bhatt boney kapoor rakesh roshan admit receive call share profit dire consequence threaten comply', 'sanjay recently charge place jail earlier picked police well', 'srk openly admit speak dread gangster chhota shakeel duress claim listen story decide whether make film apart also gotten threat call abu salem receive death threat movie happy new year', 'start way back okay actually much old underworld basically work headquarter pakistan', 'threaten multiple time since popularity link salman inevitable use underworld', 'let forget connection use connection push career begin switch side become successful', 'fawad khan son sale big pharmaceutical company roped first kjo get owe mumbai blast instead hit first release sonam', 'attack roshan undertaken prove shiv sena could longer protect client', 'rajasthan gangster lawrence bishnoi threaten kill race actor salman khan jodhpur actor go hearing blackbuck poach', 'underworld also ask singer perform two stage show free cost', 'recommendation come base recent audit conduct security cover provide various important personality city report state agency provide security cover srk', 'satya company vaastav upon time mumbaai daddy', 'law amend allow film industry qualify bank credit influence within indian cinema already become deeply entrench pervasive', 'another incident become talk town still remains find ground release film chori chupke chupke', 'mamta kulkarni star couple hit run vikram goswami also case money laundering drug deal live anonymously dubai', 'notice mostly tamil telugu movie hyped time enthusiastic fan', 'know problem majority indian face living condition heavily burden cultural value make movie base poverty corruption police crime drama rich girl poor boy story however make shitty illogical time waste movie', 'south movie content driven', 'baahubali endhiran stun trade pundit start see actor box office demigod', 'point note add malayalam kannada movie especially former produce fine film modern indian cinema slowly attract speak multiplex audience', 'allu arjun also sign tamil biggie director lingusamy jr ntr also say planning soon make debut tamil', 'good example pillai point absence mythological theme genesis malayalam cinema', 'raman make astute observation rise misogynistic cinema', 'contemporary theme public space woman malayalam cinema cruelly restrict', 'zeenat aman know bold appearance star film like satyam shivam sundaram ajanabee hare rama hare krishna great gambler yaadon ki baaraat heera panna']\n"
     ]
    }
   ],
   "source": [
    "# Clean1 (run either Clean1 or Clean2)\n",
    "    # removes stopwords, special chars, nums, extra spaces, to lower case etc. (better code)\n",
    "    # removes unicode characters\n",
    "\n",
    "    \n",
    "def remove_stopwords(sentence):\n",
    "    stop_words = set(stopwords.words(\"english\"))\n",
    "    return \" \".join([word.lower() for word in word_tokenize(sentence)\n",
    "                    if word.lower() not in stop_words and word.isalpha()])\n",
    "\n",
    "\n",
    "def clean_stopw_more(text1):\n",
    "    # removes stopwords, special chars, nums, extra spaces, to lower case etc. (better code)\n",
    "    # works on list of strings\n",
    "    documents = []\n",
    "    for sen in text1:\n",
    "        documents.append(remove_stopwords(sen))\n",
    "    return documents\n",
    "\n",
    "\n",
    "def clean_unicode(text1):\n",
    "    # removes unicode characters\n",
    "    # works on list of strings\n",
    "    documents = []\n",
    "    for sen in text1:\n",
    "        sen = str(sen.encode('ascii','ignore'))\n",
    "        sen = sen[2:]\n",
    "        sen = sen[:-1]\n",
    "        sen = \" \".join(sen.split())\n",
    "        documents.append(remove_stopwords(sen))\n",
    "    return documents\n",
    "\n",
    "# Lemmatize with POS Tag\n",
    "def get_wordnet_pos(word):\n",
    "    \"\"\"Map POS tag to first character lemmatize() accepts\"\"\"\n",
    "    tag = nltk.pos_tag([word])[0][1][0].upper()\n",
    "    tag_dict = {\"J\": wordnet.ADJ,\n",
    "                \"N\": wordnet.NOUN,\n",
    "                \"V\": wordnet.VERB,\n",
    "                \"R\": wordnet.ADV}\n",
    "\n",
    "    return tag_dict.get(tag, wordnet.NOUN)\n",
    "\n",
    "\n",
    "def lemmatize(text1):\n",
    "    # lemmitizes\n",
    "    # works on list of strings\n",
    "    documents = []\n",
    "    lemmatizer = WordNetLemmatizer() \n",
    "    for sen in text1:      \n",
    "        document = \"\"\n",
    "        for word in sen.split():\n",
    "#             word1 = lemmatizer.lemmatize(word) # only removes 's' at the end of nouns as of now\n",
    "#             word1 = lemmatizer.lemmatize(word, pos =\"a\") # also converts adjective 'better' to 'good'\n",
    "            word1 = lemmatizer.lemmatize(word, get_wordnet_pos(word)) # as per word's POS tag\n",
    "            document = (''.join(document+\" \"+word1)).strip()\n",
    "        documents.append(document)\n",
    "    return documents\n",
    "\n",
    "\n",
    "def stem(text1):\n",
    "    # lemmitizes\n",
    "    # works on list of strings\n",
    "    ps = PorterStemmer()\n",
    "    documents = []\n",
    "    for sen in text1:\n",
    "        words = word_tokenize(sen)\n",
    "        document = []\n",
    "        for w in words:\n",
    "            document.append(ps.stem(w)) # can try other stemming algos to improve accuracy\n",
    "        document = ' '.join(document)\n",
    "        documents.append(document)\n",
    "    return documents\n",
    "\n",
    "\n",
    "X = clean_stopw_more(X)\n",
    "X = clean_unicode(X)\n",
    "X = lemmatize(X)\n",
    "print(X)"
   ]
  },
  {
   "cell_type": "code",
   "execution_count": null,
   "metadata": {},
   "outputs": [],
   "source": []
  },
  {
   "cell_type": "code",
   "execution_count": 215,
   "metadata": {},
   "outputs": [
    {
     "name": "stdout",
     "output_type": "stream",
     "text": [
      "['is a neighborhood in the central region of los angeles california the neighborhood is notable for it place a the home of the u s film industry', 'including several of it historic studio it name ha come to be a metonymfor the motion picture industry of the united state hollywood is also a highly', 'ethnically diverse densely populated economically diverse neighborhood and retail business district', 'hollywood wa a small community in and wa incorporated a a municipality in it officially merged with the city of los angeles in', 'and soon thereafter a prominent film industry began to emerge eventually becoming the most recognizable film industry in the world', 'in one adobe hut stood in nopalera nopal field named for the mexican nopal cactus indigenous to the area by an agricultural', 'community flourished the area wa known a the cahuenga valley after the pas in the santa monica mountain immediately to the north', 'according to the diary of h j whitley known a the father of hollywood on his honeymoon in he stood at the top of the hill looking out over the valley along came a chinese man in a wagon', 'carrying wood the man got out of the wagon and bowed the chinese man wa asked what he wa doing and replied i holly wood meaning hauling wood h j whitley had an epiphany and decided to name his new town hollywood holly would', 'represent england and wood would represent his scottish heritage whitley had already started over town across the western united state', 'spread to general harrison gray otis hurd s wife eastern adjacent ranch co ow', 'daeida wilcox may have learned of the name hollywood from ivar weid her neighbor in holly canyon now lake hollywood and a prominent', 'whitley s she recommended the same name to her husband harvey h wilcox in august wilcox filed with the los angeles cou', 'parcel map of property he had sold named hollywood california wilcox wanted to be the first to record it on a deed the early', 'by the region had a post office newspaper hotel and two market los', 'angeles with a population of lay mile km east through the vineyard barley field and citrus grove a single', 'prospect avenue from it but service wa infrequent and the trip took two hour the old citrus fruit packing house wa converted', 'the hollywood hotel wa opened in by h j whitley president of the los pacific boulevard and development company having finally', 'subdivided it whitley built the hotel to attract land buyer flanking the west side of highland avenue the structure fro', 'unpaved road wa regularly graded and graveled the hotel wa to become internationally known and wa the center of the civic and social lif', 'whitley s company developed and sold one of the early residential area the ocean view tract whitley did much to promote th', 'electric lighting including bringing electricity and building a bank a well a a road into the cahuenga pas the lighting ran for several block', 'whitley s land wa centered on highland avenue his development whitley height wa named for him', 'incorporated a a municipality on november by a vote of for and against on january the', 'to for the banishment of liquor in the city except when it wa being sold for medicinal purpose neithe', 'in the city voted for merger with los angeles in order to secure an adequate water supply and to gain access to the', 'by major motion picture company had set up production near or in los angeles in the early s most', 'edison s motion picture patent company in new jersey and filmmaker were often sued to stop their production to escape this film', 'where edison s patent could not be enforced also the weather wa ideal and there wa quick access to various setting los angeles bec', 'director d w griffith wa the first to make a motion picture in hollywood his minute short film in old california wa filmed for the biograph company although hollywood banned movie thea', 'will recognize name like abbey road electric lady and motown a place where the beatles jimi hendrix diana ross and the supremes left their musical mark', 'since then an impressive list of rock pop country and reggae artist aerosmith britney spear keith urban and damian marley to name a few have followed suit', 'around nickelodeon or cent movie theater began to offer an easy and inexpensive way for the public to watch movie nickelodeon helped the movie industry move into the s by increasing the public appeal of film and generate more money for filmmaker alongside the widespread use of theater to screen world war i propaganda', 'other moviemakers arrived from europe after world war i director like ernst lubitsch alfred hitchcock fritz lang and jean renoir and actor like rudolph valentino marlene dietrich ronald colman and charles boyer they joined a homegrown supply of actor lured west from the new york city stage after the introduction of sound film to form one of the th century s most remarkable growth industry at motion picture height of popularity in the mid s the studio were cranking out a total of about movie a year seen by an audience of million american per week', 'at the same time one could usually guess which studio made which film largely because of the actor who appeared in it mgm for example claimed it had contracted more star than there are in heaven each studio had it own style and characteristic touch which made it possible to know this a trait that doe not exist today', 'movie making wa still a business however and motion picture company made money by operating under the studio system the major studio kept thousand of people on salary actor producer director writer stunt men craftspersons and technician', 'the supreme court eventually ruled that the major studio ownership of theater and film distribution wa a violation of the sherman antitrust act a a result the studio began to release actor and technical staff from their contract with the studio', 'the drive to produce a spectacle on the movie screen ha largely shaped american cinema ever since', 'the first impression from those quote is to assume that russo is talking about future mcu film such a the second part of infinity war not being constrained by the idea that film more than two hour are too long for audience', 'could it be only a few year until the russo brother name are appearing a executive producer above a slew of oscar nominee even a they continue to direct some of the most popular blockbuster in recent memory we ll see if the agbo experiment pan out', 'to his credit weinstein eventually made good on his promise following a widely reported sexual harassment scandal in the weinstein company declared bankruptcy', 'six people were arrested thursday and one wa arrested friday after a grand jury indicted them on a variety of election fraud charge they face accusation of bribing voter improperly helping people fill out absentee ballot voting despite being convicted of disqualifying felony and voting even though they lived outside the city or voting district', 'in view of all this it should come a no surprise that there s already a film in development about what wa perhaps the biggest story in journalism this past year the new york time investigation into allegation of decade long sexual abuse against harvey weinstein', 'according to a report in mumbai mirror lawrence kasanoff who is the producer of the mortal kombat series made a quiet visit to mumbai to meet tiger and discus detail of the project it is expected to be an action film lawrence along with a big studio head and emmy award winning writer sean catherine derek of the batman series came to mumbai sanjay grover son of veteran actor gulshan grover who ha been part of the project for the last one year wa also part of the meeting the report added', 'the foremost example of this m o s argo in the late s the producer had read the then recently declassified testimony of cia exfiltration expert tony mendez in a cia journal detailing how he helped american diplomat escape the iran hostage crisis by posing them a a group of canadian filmmaker', 'seven of the top grossing film of were superhero movie based on character first introduced in comic book', 'mr sonnier s revenue from a film are a tiny fraction of those from a major studio release but he is making money off his strategy by keeping production cost low and relying on word of mouth to turn his movie into sleeper hit', 'but according to a new report from the university of southern california s annenberg school for communication and journalism you d be hard pressed to find anyone who is like me or look like me', 'the chinese film market is going to be the largest film market in short order said charles rivkin a former u assistant secretary of state who in january took over from christopher dodd a mpaa chairman they re building about screen a day', 'this movie wa not supposed to be good here s the plot a middle aged cardiovascular surgeon s wife is killed by a one armed man and said surgeon is sent to death row but his bus crash on the way to prison then a train crash into the bus crash then dr richard kimble escape to go on the run with five u s marshal on his heel this is literally the opening minute of the fugitive', 'one prominent among asian immigrant community argues that the movie mark a breakthrough in asian representation by virtue of it all asian cast and hold the promise of further representation', 'the ceremony will feature presentation performance and a special achievement award past honoree include diane warren smokey robinson and glen campbell', 'no matter how high it is a quote is a number that an actor s representation is constantly trying to jack up a never ending cache of money and extra to be forever bested agent build quote and fight for thing in each successful deal that then become bedrock say one veteran producer this is also how agent who skim percent of their client take earn more themselves', 'one of the most exciting aspect of our fox acquisition is that it will allow u to greatly accelerate our direct to consumer strategy mr iger said when he announced the deal in december we believe creating a direct to consumer relationship is vital to the future of our medium business and it s our highest priority', 'donald jr open the closet door to reveal de niro a mueller hiding behind the door causing eric to exclaim robert mueller is in there', 'spacey s conduct wa extreme and outrageous say the filing of yesterday which is well within the statute of limitation that have stymied many of these type of case in the now metoo era', 'i wa completely shocked by how little dialogue there wa in the film mr haynes said in a phone interview', 'male actor command about twice the screen time of female one men are the hero and villain and do most of the talking with at the last count two third of speaking part in successful film a ratio only slightly better than in the late s woman still are often ornament or victim love interest or damsel in distress useful for being disrobed attacked or both', 'for a guy who always had control over actor filmmaker his company his family everybody this wa the first time i saw that he couldn t control a situation even so weinstein seemed hell bent on trying', 'sorry to bother you is this the most shocking anti capitalist film ever', 'no you re not seeing double these beautiful star all have daughter who look just like them from kelly ripa and lola consuelos to catherine zeta jones and carys douglas the resemblance between these duo is uncanny', 'lady gaga surprised the small crowd at the black rabbit rose venue in hollywood california thursday with a performance of frank sinatra song i m here to ruin the party i m so sorry gaga quipped', 'rising from the ash of the stock market crash twentieth century fox wa forged in a master stroke by ruthless producer darryl f zanuck who merged twentieth century picture with william fox s ailing studio and booted out fox in the process to create a formidable hollywood player it wa the studio that turned marilyn monroe into a star awarded elizabeth taylor her first million payday for the costly cleopatra which at million nearly capsized the company and helped solidify the modern day blockbuster with george lucas s space fantasy star war', 'triple frontier is a good movie the j c chandor directed action melodrama penned by mark boal and starring ben affleck oscar isaac garrett hedland charlie hunnam and pedro pascal isn t a new genre classic or a towering artistic achievement it start better than it end and it seems somewhat unwilling to truly confront the morality of it story especially after it hero cross a line of no return but it s exactly what it promise', 'when aunt becky and that desperate housewife became ensnared in the wild hollywood cheating scam this week countless question arose what doe teri hatcher think if aunt becky end up in the slammer will it be enough to make the olsen twin resurface and most importantly where did aunt becky get from', 'she ha starred in coronation street and is currently in emmerdale and gaynor faye ha now shared that she had a shot to break hollywood prior to taking up role in the british soap world the english actress opened up to the mirror on how her career could have taken a different path if she had headed across the pond', 'former desperate housewife star felicity huffman and actress lori loughlin best known for playing aunt becky on full house are facing court appearance later this month related to allegation they participated in a college admission cheating scheme in the court of public opinion however it s hard to say whether fan and hollywood will a uncle jesse say have mercy', 'airplane are a versatile tool in the screenwriter s arsenal they get character from place to place they can crash dramatically they can get filled with inexplicable profanity inducing snake but they re also kind of a nightmare to film movie in on account of really only being designed for the one thing cramming a many people a possible into a little tube and hurling them into the sky without much consideration for stuff like camera equipment and crew', 'entrepreneur mariam shaar s idea of using palestinian national cuisine to provide hope and opportunity for refugee woman ha succeeded beyond her wildest dream shaar s project soufra which mean a table laden with food drew the attention of hollywood actress and social activist susan sarandon whose documentary also called soufra wa screened for the first time this week in beirut', 'several week ago during all the pomp and circumstance of oscar sunday stood actress selma blair in her sheer dress carrying a custom made cane that wa covered in patent leather she posed for photograph before entering the vanity fair party this wa her first public appearance since revealing that she had been diagnosed with multiple sclerosis', 'it is more formally referred to a hindi cinema the term bollywood is often used by non indian a a synecdoche to refer t', 'however bollywood proper is only a part of the larger indian film industry which includes other production', 'ollywood is one of the largest film producer in india representing of the net box office revenue while ta', 'rest of the regional cinema constitutes a of bollywood is also one of the largest center of film production in the wo', 'of the biggest film industry in the world in term of the number of people employed and the number of film produced', 'were sold across the globe which in comparison is ticket more than hollywood bollywood produced film in', 'the name bollywood is a portmanteau derived from bombay the former name for mumbai and hollywood the center of the american film industry however u', 'the naming scheme for bollywood wa inspired by tollywood the name that wa used to refer to the cinema of west bengal dating back to tollywood wa the earliest', 'wa this chance juxtaposition of two pair of rhyming syllable holly and tolly that led to the portmanteau name tollywood being coined the name tollywood went on to be', 'based junior statesman youth magazine establishing a precedent for other film industry to use similar sounding name eventually leading to the coining of bollywood', 'the world s largest film producer credit for the term ha been claimed by several different people including the lyricist filmmaker and scholar amit khanna', 'film made in india by the s the industry wa producing over film per annum the first indian s', 'commercial success there wa clearly a huge market for talkie and musical bollywood and all the regional film industry qu', 'the s and s were tumultuous time india wa buffeted by the great depression world war ii the indian independence movement and the violence of the partition most bollywood film were unab', 'kanya the next year he made another colour film a version of mother india however colour did not become a', 'lavish romantic musical and melodrama were the staple fare at the cinema', 'following india s independence the period from the late s to the s is regarded by film historian a the golden age of hindi cine', 'example include the guru dutt film pyaasa and kaagaz ke phool and the raj kapoor film awaara shree', 'india awaara presented the city a both a nightmare and a dream while pyaasacritiqued the unreality of city life some of the most famous', 'popularised the theme of reincarnation in western popular culture other acclaimed mainstream hindi filmmaker at the time included kamal amrohi and vijay bhatt successful actor at the time include', 'while commercial hindi cinema wa thriving the s also saw the emergence of a new parallel cinema movement though the movement wa mainly led by bengali cinema it also began gain', 'ever since the social realist film neecha nagar won the grand prize at the first cannes film festival hindi film were frequently in competition for the palme d or at the cannes film festival throughout the s and early s with some of them winning major prize at the festival guru dutt while overlooke', 'international recognition much later in the s dutt is now regarded a one of the greatest asian filmmaker of all time alongside the more famous indian bengali filmmaker satyaji', 'in the late s and early s romance movie and action film starred actor like shammi kapoor jeetendra rajesh khanna dharmendra sanjeev kumar and shashi kapoor and actress like sharmila tagore mumtaz saira b', 'some hindi filmmaker such a shyam benegal continued to produce realistic parallel cinema throughout the s alongside mani kaul kumar shahani ketan mehta govind nihalani and vijaya mehta', 'the s thus saw the rise of commercial cinema in the form of enduring film such a sholay which consolidated amitabh bachchan s position a a lead actor the devotional classic jai santoshi ma wa also released in another important film from', 'during the late s and s the pendulum swung back toward family centric romantic musical with the success of such film a qayamat se qayamat tak maine pyar kiya', 'film were also successful with actor like govinda akshay kumar and ajay devgan and kumar gaining popularity for performing dangerous stunt in action film in his well known khiladi film series and oth', 'these film often featured actor like nana patekar and manoj bajpai and actress like manisha koirala tabu pooja bhattand urmila matondkar whose performance were usually critically acclaimed', 'she had signed a contract with pooja film on january with respect to the film padman asking for financial help before that kriarj entertainment pvt ltd had also entered a contract with gothik entertainment pvt ltd in november arora and her company kept both production house in the dark about each other s contract', 'shraddha wa spotted with rohan last night december a the alleged couple stepped out and possibly went on a dinner date she sported a chic look with a white and green striped dress with a denim jacket and her alleged beau donned a cool look in a casual black tee and blue denim', 'gold is the fictional re telling of the india s iconic win at the london olympics', 'in this situation could an intimacy director someone who keep people comfortable on the set be essential filmmaker madhur bhandarkar think so', 'and this trend is here to say in a conversation with entrepreneur india omung kumar the man behind two of bollywood iconic biopic movie', 'a recent report by medium consulting firm ormax medium say facebook and youtube are the most effective medium in driving buzz power at percent and percent respectively television rank at number three at percent the facebook instagram combine thus ha total buzz power of percent', 'dolly ki doli director abhishek dogra feel that marriage movie are very relatable for audience', 'it s always humbling when fan come and speak to you when they take the time out to say hello sometimes missing work and changing schedule when i met kauthar abdulalim on the day of a press conference i could barely see her with all the press people lined up in the middle', 'india are some of the film that ha been shot in the continent and with the wealth of beauty australia ha it definitely is one of the most perfect location for all the producer to explore', 'december brings the second season of the marvelous mr maisel the award winning series that follows a housewife who discovers she ha a talent for stand up comedy', 'while hindi medium bagged honour in the category of be', 'with a funny cold war between him and the dean of the college dr asthana boman irani this film is a laughter riot the film taught u that while conventional way may seem like the right way to go about it but sometimes a miracle is long due and it is only possible when a student teacher relationship becomes a mutually understanding one well like they say a teacher never stop learning either', 'losely based on the life of helen keller and her teacher black is a film that made it mark on indian cinema with not just the story but with outstanding performance by amitabh bachchan and rani mukherjee', 'a couple of week before befikre in gauri shinde s dear zindagi alia bhatt wa kaira', 'the paper entitled transnational cinema a cross culture communication medium attempt to look into transnational cinema s innate nature to network the national to the international not only in the panoptical sense but also with question related to aesthetic idea and mostly factor pertaining to cross culture communication especially in indian context', 'the film is a fictional action fantasy featuring a hunky warrior prince who can throw tree and wrestle bull but still love his mother it had the third largest opening for a foreign language film in u s history', 'the debutante cannot behold her excitement a quoted by hindustan time', 'the film ha finally got a release date and it is slated for a release on eid ul fitr', 'to character assassinate a hardworking driven achiever like priyanka chopra in this warped petty manner and for thecut to publish such a low brow piece is the lowest of the low', 'netflix didn t regard india a much of an opportunity when it first expanded there in january the company ha built the world s largest paid online tv network by taking advantage of the proliferation of high speed internet to deliver a video service that s cheaper and easier to use than cable or satellite tv', 'the singer wa released thursday night following the intervention of the indian embassy in abu dhabi navdeep singh suri the indian ambassador to the uae told gulf news', 'a mumbai teen reflects on his upbringing in the slum when he is accused of cheating on the indian version of who want to be a millionaire', 'two friend are searching for their long lost companion they revisit their college day and recall the memory of their friend who inspired them to think differently even a the rest of the world called them idiot', 'an eight year old boy is thought to be a lazy trouble maker until the new art teacher ha the patience and compassion to discover the real problem behind his struggle in school', 'over a hundred guest attended the sparkling event at bowden rugby club a well a a festive and colourful atmosphere guest were treated to a glass of bubbly on arrival a delicious curry buffet mince pie a raffle with great prize and a fabulous set from dj irf', 'the matrix reloaded is a science fiction action film the first sequel to the matrix and the second installment in the matrix trilogy', 'among the guest who have reached the city are actor rekha and disha patani', 'taimur wa seen in bright yellow shirt blue pant and sneaker he wa clicked sprinting across the field with a baton in his hand playing with his friend being cheered by mom kareena and even breaking into a few tear perhaps unhappy with the cheerleading duty bestowed upon him', 'trade analyst taran adarsh also shared the box office figure of the film', 'film like toilet are about social and public awareness a there is similarity between the two country such movie are getting accepted in china', 'on veteran actor dharmendra s rd birthday his wife and evergreen actress hema malini wished him saying he is her everlasting love', 'famous celebrity mehendi artist veena nagda who wa in charge of deepika s mehendi ceremony recently made this really cute revelation in interaction with a radio channel', 'box office success is one thing but to outdo what ha been a singular cultural phenomenon spanning the breadth of the country take some derring do', 'after the woman dazzled and the couple rocked the red carpet bollywood s hunk arrived at priyanka chopra and nick jonas s wedding reception in mumbai on thursday december night', 'politician asif bhamla with alka yagnik sudesh bhosale tabassum and arun govil', 'the b town beauty ha been updating her instagram account with beautiful picture from her exotic holiday', 'after a reception for the medium on wednesday december priyanka and nick hosted the big one at the taj land end hotel', 'bauua s coarse charm isn t lost on afiya yusufzai bhinder anushka sharma the wheelchair bound nasa brain affected by cerebral palsy', 'he got his big break in hrishikesh mukherjee s namak haraam in raj kapoor s prem rog in which he played the main villain made sure there wa no looking back', 'vikram ha case of money laundering and drug dealing against him and the couple were arrested last year from kenya', 'the smooth talking gangster had an instant connection with aspiring actress monica bedi', 'the first celebrity gangster of bombay got married to sona mostly based on the fact that she looked so much like madhubala haji had a distinct fondness for the deceased madhubala and wa married to sona in a heartbeat', 'anita ayub a beauty pageant contestant wa very close to underworld terror dawood ibrahim', 'the actress famous for dancing under a waterfall is said to have had an affair with the don', 'music label t series owner gulshan kumar wa shot to death in broad daylight in', 'after hrithik s father refused to give dreaded don ali baba budesh a share of the profit from kaho na pyaar hai in he wa yet to learn the true meaning of extortion', 'mukesh bhatt boney kapoor rakesh roshan have all admitted to receiving call for sharing of profit with dire consequence threatened if they didn t comply', 'while sanjay wa recently charged and placed in jail he wa earlier picked up in by the police a well', 'srk ha openly admitted to speaking to dreaded gangster chhota shakeel under duress claiming he had to listen to a story and decide whether to make a film about it apart from this he ha also gotten threat call from abu salem and received death threat after the movie happy new year', 'and it start way back in okay it s actually much older the underworld is basically working out of and headquartered in pakistan', 'he s been threatened multiple time and since his popularity is linked to salman it s inevitable that he can be used by underworld', 'let not forget all the other actor actress producer who had connection and used those connection to push their career up in the beginning only to switch side once they became successful', 'fawad khan is the son of sale head chair of pakistan s biggest pharmaceutical company and he wa roped in first by kjo in but he couldn t get through owing to the mumbai blast he instead hit his first release with sonam', 'the attack on roshan wa not undertaken to prove that the shiv sena could no longer protect it client', 'rajasthan gangster lawrence bishnoi threatened to kill race actor salman khan in jodhpur where the actor had gone for the hearing of his blackbuck poaching case', 'the underworld don ha also asked the singer to perform at two stage show for him free of cost', 'the recommendation ha come based on a recent audit it conducted on the security cover provided to various important personality in the city the report stated in the agency had provided security cover to srk', 'satya company vaastav once upon a time in mumbaai agneepath and now daddy', 'while the law wa amended in to allow the film industry to qualify for bank credit the underworld s influence within indian cinema had already become deeply entrenched and pervasive', 'another incident that became the talk of the town and still remains find it ground in released film chori chori chupke chupke', 'mamta kulkarni starred in a couple of hit before running off with vikram goswami the co accused who also ha case of money laundering and drug dealing to live anonymously in dubai', 'what i ve noticed mostly is tamil and telugu movie are over hyped all the time because of their over enthusiastic fan', 'they know what problem a majority of indian are facing their living condition their heavily burdened cultural value and they make of movie based on poverty corruption police crime drama or rich girl poor boy story however they make shitty illogical and time wasting movie', 'south movie are more content driven', 'before baahubali it wa rajinikanth s endhiran which stunned trade pundit that they started seeing the actor a a box office demigod', 'point to be noted here is we haven t added malayalam and kannada movie especially the former producing some of the finest film in modern indian cinema and they are slowly attracting non malayalam speaking multiplex audience', 'allu arjun ha also signed a tamil biggie with director lingusamy and jr ntr is also said to be planning to soon make his debut in tamil', 'a good example of this is how pillai point out the absence of mythological theme during the genesis of malayalam cinema', 'raman make a very astute observation a to why there wa the rise of misogynistic cinema after the s', 'for all it social and contemporary theme the public space for woman in malayalam cinema wa cruelly restricted', 'zeenat aman she wa known for her bold on screen appearance she starred in film like satyam shivam sundaram ajanabee hare rama hare krishna the great gambler yaadon ki baaraat and heera panna']\n"
     ]
    }
   ],
   "source": [
    "# # Clean2: (run either Clean1 or Clean2)\n",
    "# # Generic_Cleaning (without stop_words removal) and Stemming / Lemmitization\n",
    "\n",
    "# def clean_generic(text1):\n",
    "#     # cleans but does not remove stop_words\n",
    "#     # works on list of strings\n",
    "\n",
    "#     documents = []\n",
    "#     ps = PorterStemmer() \n",
    "\n",
    "#     for sen in range(0, len(text1)):  \n",
    "\n",
    "#         # Remove all the special characters\n",
    "#         document = re.sub(r'\\W', ' ', str(X[sen]))\n",
    "#         # Remove \"_\"\n",
    "#         document = document.replace(\"_\", \" \")\n",
    "#         # remove unicode characters\n",
    "#         document = str(document.encode('ascii','ignore'))\n",
    "#         document = document[1:]\n",
    "#         document = document[1:]\n",
    "#         document = document[:-1]\n",
    "#         # remove all numerics\n",
    "#         document=''.join(c if c not in map(str,range(0,10)) else \"\" for c in document)\n",
    "#         # remove all extra spaces\n",
    "#         document = \" \".join(document.split())\n",
    "#     #     # Remove single characters from the start\n",
    "#     #     document = re.sub(r'\\^[a-zA-Z]\\s+', ' ', document) \n",
    "#     #     # remove all single characters\n",
    "#     #     document = re.sub(r'\\s+[a-zA-Z]\\s+', ' ', document)\n",
    "#         # Converting to Lowercase\n",
    "#         document = document.lower()\n",
    "\n",
    "#     #     # Substituting multiple spaces with single space\n",
    "#     #     document = re.sub(r'\\s+', ' ', document, flags=re.I)\n",
    "#     #     # remove leading and trailing spaces\n",
    "#     #     document = document.strip()\n",
    "\n",
    "#     #     # Stemming:\n",
    "#     #     words = word_tokenize(document)\n",
    "#     #     document = []\n",
    "#     #     for w in words:\n",
    "#     #         document.append(ps.stem(w)) # can try other stemming algos to improve accuracy\n",
    "#     #     document = ' '.join(document)\n",
    "#     #     # Note: this stemming code converted 'los angeles' to 'lo angel' so maybe not good\n",
    "\n",
    "#     #     # Lemmatization:\n",
    "#         stemmer = WordNetLemmatizer()\n",
    "#         document = document.split()\n",
    "#         document = [stemmer.lemmatize(word) for word in document]\n",
    "#         document = ' '.join(document)\n",
    "#         document\n",
    "\n",
    "#         documents.append(document)\n",
    "        \n",
    "#     return documents\n",
    "\n",
    "# X = clean_generic(X)\n",
    "# print(X)"
   ]
  },
  {
   "cell_type": "code",
   "execution_count": null,
   "metadata": {},
   "outputs": [],
   "source": []
  },
  {
   "cell_type": "code",
   "execution_count": null,
   "metadata": {},
   "outputs": [],
   "source": []
  },
  {
   "cell_type": "code",
   "execution_count": 66,
   "metadata": {},
   "outputs": [],
   "source": [
    "## TF-IDF and Train-Test Split"
   ]
  },
  {
   "cell_type": "code",
   "execution_count": 100,
   "metadata": {},
   "outputs": [],
   "source": [
    "from sklearn.feature_extraction.text import TfidfVectorizer  \n",
    "# tfidfconverter = TfidfVectorizer(max_features=1500, min_df=1, max_df=0.9, stop_words=stopwords.words('english'))\n",
    "tfidfconverter = TfidfVectorizer(max_features=1500, ngram_range=(1, 2), stop_words=stopwords.words('english'))\n",
    "# df = document frequency (min_df seems to be auto divided by 100)\n",
    "# X = tfidfconverter.fit_transform(documents).toarray()  "
   ]
  },
  {
   "cell_type": "code",
   "execution_count": 101,
   "metadata": {},
   "outputs": [],
   "source": [
    "from sklearn.model_selection import train_test_split  \n",
    "X_train, X_test, Y_train, Y_test = train_test_split(X, Y, test_size=0.3, random_state=12) \n",
    "Y_train = Y_train.astype(int)\n",
    "Y_test = Y_test.astype(int)\n",
    "# len(X_train) # 128\n",
    "# len(X_test) # 32"
   ]
  },
  {
   "cell_type": "code",
   "execution_count": 102,
   "metadata": {},
   "outputs": [
    {
     "data": {
      "text/plain": [
       "TfidfVectorizer(analyzer='word', binary=False, decode_error='strict',\n",
       "        dtype=<class 'numpy.float64'>, encoding='utf-8', input='content',\n",
       "        lowercase=True, max_df=1.0, max_features=1500, min_df=1,\n",
       "        ngram_range=(1, 2), norm='l2', preprocessor=None, smooth_idf=True,\n",
       "        stop_words=['i', 'me', 'my', 'myself', 'we', 'our', 'ours', 'ourselves', 'you', \"you're\", \"you've\", \"you'll\", \"you'd\", 'your', 'yours', 'yourself', 'yourselves', 'he', 'him', 'his', 'himself', 'she', \"she's\", 'her', 'hers', 'herself', 'it', \"it's\", 'its', 'itself', 'they', 'them', 'their', 'theirs',... 'shouldn', \"shouldn't\", 'wasn', \"wasn't\", 'weren', \"weren't\", 'won', \"won't\", 'wouldn', \"wouldn't\"],\n",
       "        strip_accents=None, sublinear_tf=False,\n",
       "        token_pattern='(?u)\\\\b\\\\w\\\\w+\\\\b', tokenizer=None, use_idf=True,\n",
       "        vocabulary=None)"
      ]
     },
     "execution_count": 102,
     "metadata": {},
     "output_type": "execute_result"
    }
   ],
   "source": [
    "tfidfconverter.fit(X)"
   ]
  },
  {
   "cell_type": "code",
   "execution_count": 103,
   "metadata": {
    "scrolled": true
   },
   "outputs": [
    {
     "name": "stdout",
     "output_type": "stream",
     "text": [
      "  (0, 1342)\t0.2779024329806928\n",
      "  (0, 1340)\t0.24254835223646679\n",
      "  (0, 1184)\t0.25722162149785266\n",
      "  (0, 1120)\t0.2779024329806928\n",
      "  (0, 1119)\t0.2779024329806928\n",
      "  (0, 1111)\t0.2779024329806928\n",
      "  (0, 1110)\t0.2779024329806928\n",
      "  (0, 933)\t0.2779024329806928\n",
      "  (0, 265)\t0.25722162149785266\n",
      "  (0, 252)\t0.25722162149785266\n",
      "  (0, 249)\t0.25722162149785266\n",
      "  (0, 200)\t0.21400506113279397\n",
      "  (0, 198)\t0.23116688037598412\n",
      "  (0, 10)\t0.3374960447926617\n",
      "  (1, 1495)\t0.24124377075591213\n",
      "  (1, 1494)\t0.2001046172765391\n",
      "  (1, 1476)\t0.21285400388204578\n",
      "  (1, 1443)\t0.27640769445072644\n",
      "  (1, 1442)\t0.27640769445072644\n",
      "  (1, 1370)\t0.27640769445072644\n",
      "  (1, 1365)\t0.17769008018723143\n",
      "  (1, 820)\t0.27640769445072644\n",
      "  (1, 819)\t0.27640769445072644\n",
      "  (1, 514)\t0.27640769445072644\n",
      "  (1, 511)\t0.2558381177110399\n",
      "  :\t:\n",
      "  (117, 1193)\t0.38431964720769346\n",
      "  (117, 1192)\t0.38431964720769346\n",
      "  (117, 1170)\t0.15341365326441084\n",
      "  (117, 1157)\t0.19215982360384673\n",
      "  (117, 1156)\t0.16771371189974874\n",
      "  (117, 1063)\t0.19215982360384673\n",
      "  (117, 1062)\t0.19215982360384673\n",
      "  (117, 1060)\t0.35571952993701766\n",
      "  (117, 884)\t0.19215982360384673\n",
      "  (117, 883)\t0.19215982360384673\n",
      "  (117, 232)\t0.17785976496850883\n",
      "  (117, 122)\t0.35571952993701766\n",
      "  (117, 113)\t0.17785976496850883\n",
      "  (117, 108)\t0.1479770232902752\n",
      "  (117, 102)\t0.13911359462907294\n",
      "  (117, 49)\t0.1479770232902752\n",
      "  (118, 1362)\t0.4147141464158789\n",
      "  (118, 1361)\t0.4147141464158789\n",
      "  (118, 1196)\t0.3449706231301986\n",
      "  (118, 1015)\t0.3838521457154762\n",
      "  (118, 1014)\t0.31936001892624877\n",
      "  (118, 223)\t0.2518228837252532\n",
      "  (118, 178)\t0.1667239355995766\n",
      "  (118, 63)\t0.2783342683734065\n",
      "  (118, 7)\t0.3449706231301986\n",
      "  (0, 1456)\t0.15330580244838435\n",
      "  (0, 1390)\t0.21176374627135913\n",
      "  (0, 1388)\t0.21176374627135913\n",
      "  (0, 1387)\t0.39200962442932735\n",
      "  (0, 1386)\t0.21176374627135913\n",
      "  (0, 1385)\t0.21176374627135913\n",
      "  (0, 1288)\t0.21176374627135913\n",
      "  (0, 1287)\t0.21176374627135913\n",
      "  (0, 967)\t0.21176374627135913\n",
      "  (0, 965)\t0.19600481221466368\n",
      "  (0, 794)\t0.21176374627135913\n",
      "  (0, 793)\t0.21176374627135913\n",
      "  (0, 602)\t0.42352749254271826\n",
      "  (0, 589)\t0.2669037870923766\n",
      "  (0, 266)\t0.17615090331246763\n",
      "  (0, 222)\t0.1848236705617753\n",
      "  (0, 200)\t0.16307346783703824\n",
      "  (0, 105)\t0.19600481221466368\n",
      "  (1, 1472)\t0.35045233648070045\n",
      "  (1, 682)\t0.37862896744303476\n",
      "  (1, 680)\t0.35045233648070045\n",
      "  (1, 568)\t0.37862896744303476\n",
      "  (1, 567)\t0.35045233648070045\n",
      "  (1, 244)\t0.3149539796575559\n",
      "  (1, 235)\t0.35045233648070045\n",
      "  :\t:\n",
      "  (47, 589)\t0.31757873871163167\n",
      "  (47, 242)\t0.23321872545404967\n",
      "  (47, 153)\t0.19403496217569272\n",
      "  (47, 129)\t0.21991470717029482\n",
      "  (47, 100)\t0.15580474936228234\n",
      "  (47, 63)\t0.16910876764603716\n",
      "  (47, 47)\t0.20959530888007352\n",
      "  (48, 1489)\t0.46036696682006145\n",
      "  (48, 719)\t0.4973808165823455\n",
      "  (48, 237)\t0.34175881975242195\n",
      "  (48, 230)\t0.46036696682006145\n",
      "  (48, 175)\t0.46036696682006145\n",
      "  (49, 1196)\t0.3336387440367594\n",
      "  (49, 1076)\t0.40109127463949024\n",
      "  (49, 1075)\t0.40109127463949024\n",
      "  (49, 627)\t0.40109127463949024\n",
      "  (49, 409)\t0.40109127463949024\n",
      "  (49, 408)\t0.40109127463949024\n",
      "  (49, 102)\t0.29036896445370824\n",
      "  (50, 1212)\t0.42497691520892444\n",
      "  (50, 1177)\t0.4459005994059778\n",
      "  (50, 253)\t0.3698614414288494\n",
      "  (50, 225)\t0.4078810204174136\n",
      "  (50, 88)\t0.42497691520892444\n",
      "  (50, 53)\t0.3698614414288494\n"
     ]
    }
   ],
   "source": [
    "X_train = tfidfconverter.transform(X_train)\n",
    "print(X_train)\n",
    "# X_train_tfidf = pd.DataFrame(X_train_tfidf)\n",
    "X_test = tfidfconverter.transform(X_test)\n",
    "print(X_test)\n",
    "# X_test_tfidf = pd.DataFrame(X_test_tfidf)"
   ]
  },
  {
   "cell_type": "code",
   "execution_count": 21,
   "metadata": {},
   "outputs": [],
   "source": [
    "# export\n",
    "# np.savetxt(\"/home/antrived/Dropbox/Job 25 Feb 2019/prep/x2-more new projects & new techniques/1. Techniques & Algos/10. Text Analytics and NLP/1. Text Classification and Word2Vec/Temp3.csv\", X_train_tfidf, delimiter=\",\")"
   ]
  },
  {
   "cell_type": "code",
   "execution_count": 22,
   "metadata": {},
   "outputs": [],
   "source": [
    "# export\n",
    "# np.savetxt(\"/home/antrived/Dropbox/Job 25 Feb 2019/prep/x2-more new projects & new techniques/1. Techniques & Algos/10. Text Analytics and NLP/1. Text Classification and Word2Vec/Temp4.csv\", X_test_tfidf, delimiter=\",\")"
   ]
  },
  {
   "cell_type": "code",
   "execution_count": 23,
   "metadata": {},
   "outputs": [],
   "source": [
    "# display X, Y as df\n",
    "\n",
    "# X_df = pd.DataFrame(X)\n",
    "# X_df.head(5)"
   ]
  },
  {
   "cell_type": "code",
   "execution_count": 24,
   "metadata": {},
   "outputs": [],
   "source": [
    "# export\n",
    "# np.savetxt(\"/home/antrived/Dropbox/Job 25 Feb 2019/prep/x2-more new projects & new techniques/1. Techniques & Algos/10. Text Analytics and NLP/1. Text Classification and Word2Vec/Temp1.csv\", X, delimiter=\",\")"
   ]
  },
  {
   "cell_type": "code",
   "execution_count": null,
   "metadata": {},
   "outputs": [],
   "source": []
  },
  {
   "cell_type": "code",
   "execution_count": 104,
   "metadata": {},
   "outputs": [],
   "source": [
    "# Import classification related packages\n",
    "from sklearn.metrics import confusion_matrix\n",
    "from sklearn.metrics import roc_curve, auc, roc_auc_score\n",
    "from sklearn.metrics import classification_report"
   ]
  },
  {
   "cell_type": "code",
   "execution_count": null,
   "metadata": {},
   "outputs": [],
   "source": []
  },
  {
   "cell_type": "code",
   "execution_count": 105,
   "metadata": {},
   "outputs": [],
   "source": [
    "############# Random Forest ###############"
   ]
  },
  {
   "cell_type": "code",
   "execution_count": 106,
   "metadata": {},
   "outputs": [],
   "source": [
    "from sklearn.ensemble import RandomForestClassifier"
   ]
  },
  {
   "cell_type": "code",
   "execution_count": 107,
   "metadata": {},
   "outputs": [],
   "source": [
    "# Training\n",
    "def rf_classifier(X_train, Y_train, n_estimators, max_depth, max_features, random_state):\n",
    "    model = RandomForestClassifier(n_estimators=n_estimators, max_depth=max_depth, max_features=max_features, random_state=random_state)   \n",
    "    Y_train = np.asarray(Y_train, dtype=\"|S6\")\n",
    "    model.fit(X_train, Y_train)\n",
    "    return model\n",
    "\n",
    "def rf_predictions(model, X_test, Y_test):\n",
    "    y_pred = model.predict_proba(X_test) # default 'predict' gives 'categorical' predictions for RF\n",
    "    # classifier.classes_ # to check order of classes in 'predict_proba' (most prob. it's 0,1...)\n",
    "    y_pred = y_pred[:,1] # accessing 2nd column or '1' class probabilities\n",
    "    # converting prob to 1/0 and array type to int\n",
    "    y_pred[y_pred > 0.5] = 1\n",
    "    y_pred[y_pred <= 0.5] = 0\n",
    "    return y_pred\n",
    "    \n",
    "def create_reports(y_pred, Y_test):\n",
    "    # creating CF matrix\n",
    "    Y_test = Y_test.astype(int)\n",
    "    y_pred = y_pred.astype(int)\n",
    "    cm1 = confusion_matrix(y_pred, Y_test)\n",
    "    print(\"\\n--Confusion Matrix--\\n\")\n",
    "    print(cm1)\n",
    "    # calculating auc\n",
    "    fp_rate, tp_rate, thresholds = roc_curve(Y_test, y_pred)\n",
    "    print(\"\\n-------AUC-------\\n\")\n",
    "    print(auc(fp_rate, tp_rate))\n",
    "    print(\"\\n----------------Classification_Report------------------\\n\")\n",
    "    print(classification_report(Y_test, y_pred))"
   ]
  },
  {
   "cell_type": "code",
   "execution_count": 192,
   "metadata": {},
   "outputs": [
    {
     "name": "stdout",
     "output_type": "stream",
     "text": [
      "\n",
      "--Confusion Matrix--\n",
      "\n",
      "[[27 20]\n",
      " [ 0  4]]\n",
      "\n",
      "-------AUC-------\n",
      "\n",
      "0.5833333333333334\n",
      "\n",
      "----------------Classification_Report------------------\n",
      "\n",
      "              precision    recall  f1-score   support\n",
      "\n",
      "           0       0.57      1.00      0.73        27\n",
      "           1       1.00      0.17      0.29        24\n",
      "\n",
      "   micro avg       0.61      0.61      0.61        51\n",
      "   macro avg       0.79      0.58      0.51        51\n",
      "weighted avg       0.77      0.61      0.52        51\n",
      "\n"
     ]
    }
   ],
   "source": [
    "model = rf_classifier(X_train, Y_train, n_estimators=100, max_depth=7, max_features=400, random_state=0)\n",
    "y_pred = rf_predictions(model, X_test, Y_test) # tabular: model.predict works with test_df\n",
    "create_reports(y_pred, Y_test)"
   ]
  },
  {
   "cell_type": "code",
   "execution_count": null,
   "metadata": {},
   "outputs": [],
   "source": []
  },
  {
   "cell_type": "code",
   "execution_count": 109,
   "metadata": {},
   "outputs": [],
   "source": [
    "############# Saving/Loading Model & Scoring ###############"
   ]
  },
  {
   "cell_type": "code",
   "execution_count": 110,
   "metadata": {},
   "outputs": [],
   "source": [
    "## Saving model\n",
    "with open('./saved_models/text_classifier_RF', 'wb') as picklefile:  \n",
    "    pickle.dump(model,picklefile)"
   ]
  },
  {
   "cell_type": "code",
   "execution_count": 111,
   "metadata": {},
   "outputs": [],
   "source": [
    "## Loading model\n",
    "with open('./saved_models/text_classifier_RF', 'rb') as training_model:  \n",
    "    model_rf = pickle.load(training_model)"
   ]
  },
  {
   "cell_type": "code",
   "execution_count": 115,
   "metadata": {},
   "outputs": [],
   "source": [
    "# Scoring:\n",
    "# text_scoring = ['Shahrukh khan is a big star in the b-town'] # predicts bolly\n",
    "text_scoring = ['los angeles california'] # predicts holly"
   ]
  },
  {
   "cell_type": "code",
   "execution_count": 116,
   "metadata": {},
   "outputs": [],
   "source": [
    "def score(text1):\n",
    "# cleaning and shaping\n",
    "    text1 = clean_stopw_more(text1)\n",
    "    text1 = clean_unicode(text1)\n",
    "    text1 = lemmatize(text1)\n",
    "    X_Score = tfidfconverter.transform(text1)\n",
    "    # scoring:\n",
    "    pred = model.predict_proba(X_Score)\n",
    "    pred = pred[:,1]\n",
    "    pred[pred > 0.5] = 1\n",
    "    pred[pred <= 0.5] = 0\n",
    "    pred = pred[0].astype('int')\n",
    "    return pred"
   ]
  },
  {
   "cell_type": "code",
   "execution_count": 117,
   "metadata": {},
   "outputs": [
    {
     "data": {
      "text/plain": [
       "1"
      ]
     },
     "execution_count": 117,
     "metadata": {},
     "output_type": "execute_result"
    }
   ],
   "source": [
    "pred = score(text_scoring)\n",
    "pred # bolly=0, holly=1"
   ]
  },
  {
   "cell_type": "code",
   "execution_count": null,
   "metadata": {},
   "outputs": [],
   "source": []
  },
  {
   "cell_type": "code",
   "execution_count": 589,
   "metadata": {
    "collapsed": true
   },
   "outputs": [],
   "source": [
    "############# Linear SVM ###############"
   ]
  },
  {
   "cell_type": "code",
   "execution_count": 153,
   "metadata": {},
   "outputs": [],
   "source": [
    "from sklearn.svm import SVC "
   ]
  },
  {
   "cell_type": "code",
   "execution_count": 176,
   "metadata": {},
   "outputs": [],
   "source": [
    "# Training\n",
    "def svm_classifier(X_train, Y_train, kernel, C, gamma):\n",
    "    model = SVC(kernel=kernel, C=C, gamma=gamma) # kernel = rbf/linear \n",
    "    model.fit(X_train, Y_train) \n",
    "    return model\n",
    "\n",
    "def common_predictions(model, X_test, Y_test):\n",
    "    y_pred = model.predict(X_test)\n",
    "    y_pred = y_pred.astype(int)\n",
    "    y_pred[y_pred > 0.5] = 1\n",
    "    y_pred[y_pred <= 0.5] = 0\n",
    "    return y_pred"
   ]
  },
  {
   "cell_type": "code",
   "execution_count": 183,
   "metadata": {},
   "outputs": [
    {
     "name": "stdout",
     "output_type": "stream",
     "text": [
      "\n",
      "--Confusion Matrix--\n",
      "\n",
      "[[27 16]\n",
      " [ 0  8]]\n",
      "\n",
      "-------AUC-------\n",
      "\n",
      "0.6666666666666666\n",
      "\n",
      "----------------Classification_Report------------------\n",
      "\n",
      "              precision    recall  f1-score   support\n",
      "\n",
      "           0       0.63      1.00      0.77        27\n",
      "           1       1.00      0.33      0.50        24\n",
      "\n",
      "   micro avg       0.69      0.69      0.69        51\n",
      "   macro avg       0.81      0.67      0.64        51\n",
      "weighted avg       0.80      0.69      0.64        51\n",
      "\n"
     ]
    }
   ],
   "source": [
    "model = svm_classifier(X_train, Y_train, kernel='linear', C=100, gamma=1)\n",
    "y_pred = common_predictions(model, X_test, Y_test) # tabular: model.predict works with test_df\n",
    "create_reports(y_pred, Y_test)"
   ]
  },
  {
   "cell_type": "code",
   "execution_count": null,
   "metadata": {},
   "outputs": [],
   "source": []
  },
  {
   "cell_type": "code",
   "execution_count": 322,
   "metadata": {},
   "outputs": [],
   "source": [
    "############# Non-linear SVM ###############"
   ]
  },
  {
   "cell_type": "code",
   "execution_count": 156,
   "metadata": {},
   "outputs": [
    {
     "name": "stdout",
     "output_type": "stream",
     "text": [
      "\n",
      "--Confusion Matrix--\n",
      "\n",
      "[[27 16]\n",
      " [ 0  8]]\n",
      "\n",
      "-------AUC-------\n",
      "\n",
      "0.6666666666666666\n",
      "\n",
      "----------------Classification_Report------------------\n",
      "\n",
      "              precision    recall  f1-score   support\n",
      "\n",
      "           0       0.63      1.00      0.77        27\n",
      "           1       1.00      0.33      0.50        24\n",
      "\n",
      "   micro avg       0.69      0.69      0.69        51\n",
      "   macro avg       0.81      0.67      0.64        51\n",
      "weighted avg       0.80      0.69      0.64        51\n",
      "\n"
     ]
    }
   ],
   "source": [
    "model = svm_classifier(X_train, Y_train, kernel='rbf', C=10, gamma=0.1)\n",
    "y_pred = common_predictions(model, X_test, Y_test)\n",
    "create_reports(y_pred, Y_test)"
   ]
  },
  {
   "cell_type": "code",
   "execution_count": null,
   "metadata": {},
   "outputs": [],
   "source": []
  },
  {
   "cell_type": "code",
   "execution_count": 328,
   "metadata": {},
   "outputs": [],
   "source": [
    "############# Naive Bayes ###############"
   ]
  },
  {
   "cell_type": "code",
   "execution_count": 157,
   "metadata": {},
   "outputs": [],
   "source": [
    "from sklearn.naive_bayes import GaussianNB"
   ]
  },
  {
   "cell_type": "code",
   "execution_count": 158,
   "metadata": {},
   "outputs": [],
   "source": [
    "# Training\n",
    "def nb_classifier(X_train, Y_train):\n",
    "    model = GaussianNB()\n",
    "    temp = X_train.copy()\n",
    "    model.fit(temp, Y_train)\n",
    "    return model"
   ]
  },
  {
   "cell_type": "code",
   "execution_count": 159,
   "metadata": {},
   "outputs": [
    {
     "name": "stdout",
     "output_type": "stream",
     "text": [
      "\n",
      "--Confusion Matrix--\n",
      "\n",
      "[[20  6]\n",
      " [ 7 18]]\n",
      "\n",
      "-------AUC-------\n",
      "\n",
      "0.7453703703703703\n",
      "\n",
      "----------------Classification_Report------------------\n",
      "\n",
      "              precision    recall  f1-score   support\n",
      "\n",
      "           0       0.77      0.74      0.75        27\n",
      "           1       0.72      0.75      0.73        24\n",
      "\n",
      "   micro avg       0.75      0.75      0.75        51\n",
      "   macro avg       0.74      0.75      0.74        51\n",
      "weighted avg       0.75      0.75      0.75        51\n",
      "\n"
     ]
    }
   ],
   "source": [
    "if type(X_train) is not np.matrix:\n",
    "    temp_X_train_ = X_train.toarray()\n",
    "if type(X_test) is not np.matrix:\n",
    "    temp_X_test_ = X_test.toarray() \n",
    "model = nb_classifier(temp_X_train_, Y_train)\n",
    "y_pred = common_predictions(model, temp_X_test_, Y_test) \n",
    "# tabular: model.predict works with test_df; above 4 lines not needed\n",
    "create_reports(y_pred, Y_test)"
   ]
  },
  {
   "cell_type": "code",
   "execution_count": null,
   "metadata": {},
   "outputs": [],
   "source": []
  },
  {
   "cell_type": "code",
   "execution_count": 127,
   "metadata": {},
   "outputs": [],
   "source": [
    "############ LR ############"
   ]
  },
  {
   "cell_type": "code",
   "execution_count": 128,
   "metadata": {},
   "outputs": [],
   "source": [
    "from sklearn.linear_model import LogisticRegression"
   ]
  },
  {
   "cell_type": "code",
   "execution_count": 131,
   "metadata": {},
   "outputs": [],
   "source": [
    "# Training\n",
    "def lr_classifier(X_train, Y_train, C):\n",
    "    model = LogisticRegression(C=C) # Inverse of regularization strength\n",
    "    model.fit(X_train, Y_train)\n",
    "    return model"
   ]
  },
  {
   "cell_type": "code",
   "execution_count": 175,
   "metadata": {},
   "outputs": [
    {
     "name": "stdout",
     "output_type": "stream",
     "text": [
      "\n",
      "--Confusion Matrix--\n",
      "\n",
      "[[27 17]\n",
      " [ 0  7]]\n",
      "\n",
      "-------AUC-------\n",
      "\n",
      "0.6458333333333334\n",
      "\n",
      "----------------Classification_Report------------------\n",
      "\n",
      "              precision    recall  f1-score   support\n",
      "\n",
      "           0       0.61      1.00      0.76        27\n",
      "           1       1.00      0.29      0.45        24\n",
      "\n",
      "   micro avg       0.67      0.67      0.67        51\n",
      "   macro avg       0.81      0.65      0.61        51\n",
      "weighted avg       0.80      0.67      0.62        51\n",
      "\n"
     ]
    }
   ],
   "source": [
    "model = lr_classifier(X_train, Y_train, C=100)\n",
    "y_pred = common_predictions(model, X_test, Y_test) \n",
    "create_reports(y_pred, Y_test)"
   ]
  },
  {
   "cell_type": "code",
   "execution_count": null,
   "metadata": {},
   "outputs": [],
   "source": []
  },
  {
   "cell_type": "code",
   "execution_count": 342,
   "metadata": {},
   "outputs": [],
   "source": [
    "############ XGBoost #############"
   ]
  },
  {
   "cell_type": "code",
   "execution_count": 343,
   "metadata": {},
   "outputs": [],
   "source": [
    "# Ref: https://www.kdnuggets.com/2017/03/simple-xgboost-tutorial-iris-dataset.html"
   ]
  },
  {
   "cell_type": "code",
   "execution_count": 133,
   "metadata": {},
   "outputs": [],
   "source": [
    "# conda install -c conda-forge xgboost # some issues\n",
    "# sudo pip install xgboost\n",
    "from xgboost import XGBClassifier"
   ]
  },
  {
   "cell_type": "code",
   "execution_count": 134,
   "metadata": {},
   "outputs": [],
   "source": [
    "# Training\n",
    "def xgb_classifier(X_train, Y_train, max_depth, learning_rate, n_estimators, objective):\n",
    "    model = XGBClassifier(max_depth=max_depth, learning_rate=learning_rate, n_estimators=n_estimators, objective=objective)\n",
    "    model.fit(X_train, Y_train)\n",
    "    return model"
   ]
  },
  {
   "cell_type": "code",
   "execution_count": 170,
   "metadata": {},
   "outputs": [
    {
     "name": "stdout",
     "output_type": "stream",
     "text": [
      "\n",
      "--Confusion Matrix--\n",
      "\n",
      "[[22 13]\n",
      " [ 5 11]]\n",
      "\n",
      "-------AUC-------\n",
      "\n",
      "0.6365740740740741\n",
      "\n",
      "----------------Classification_Report------------------\n",
      "\n",
      "              precision    recall  f1-score   support\n",
      "\n",
      "           0       0.63      0.81      0.71        27\n",
      "           1       0.69      0.46      0.55        24\n",
      "\n",
      "   micro avg       0.65      0.65      0.65        51\n",
      "   macro avg       0.66      0.64      0.63        51\n",
      "weighted avg       0.66      0.65      0.63        51\n",
      "\n"
     ]
    }
   ],
   "source": [
    "model = xgb_classifier(X_train, Y_train, max_depth=3, learning_rate=1.1, n_estimators=100, objective='binary:logistic')\n",
    "y_pred = common_predictions(model, X_test, Y_test) # tabular: model.predict works with test_df\n",
    "create_reports(y_pred, Y_test)"
   ]
  },
  {
   "cell_type": "code",
   "execution_count": null,
   "metadata": {},
   "outputs": [],
   "source": []
  },
  {
   "cell_type": "code",
   "execution_count": 351,
   "metadata": {},
   "outputs": [],
   "source": [
    "############ ANN #############"
   ]
  },
  {
   "cell_type": "code",
   "execution_count": 136,
   "metadata": {},
   "outputs": [
    {
     "name": "stderr",
     "output_type": "stream",
     "text": [
      "Using TensorFlow backend.\n"
     ]
    }
   ],
   "source": [
    "# importing keras libraries and packages:\n",
    "import keras\n",
    "from keras.models import Sequential # to initialize the ANN\n",
    "from keras.layers import Dense # to create layers of ANN\n",
    "from keras.layers import Dropout"
   ]
  },
  {
   "cell_type": "code",
   "execution_count": 137,
   "metadata": {
    "scrolled": true
   },
   "outputs": [
    {
     "name": "stdout",
     "output_type": "stream",
     "text": [
      "WARNING:tensorflow:From /home/antrived/anaconda3/lib/python3.6/site-packages/tensorflow/python/framework/op_def_library.py:263: colocate_with (from tensorflow.python.framework.ops) is deprecated and will be removed in a future version.\n",
      "Instructions for updating:\n",
      "Colocations handled automatically by placer.\n",
      "WARNING:tensorflow:From /home/antrived/anaconda3/lib/python3.6/site-packages/tensorflow/python/ops/math_ops.py:3066: to_int32 (from tensorflow.python.ops.math_ops) is deprecated and will be removed in a future version.\n",
      "Instructions for updating:\n",
      "Use tf.cast instead.\n",
      "Epoch 1/40\n",
      "119/119 [==============================] - 1s 5ms/step - loss: 0.6921 - acc: 0.5630\n",
      "Epoch 2/40\n",
      "119/119 [==============================] - 0s 790us/step - loss: 0.6874 - acc: 0.6134\n",
      "Epoch 3/40\n",
      "119/119 [==============================] - 0s 829us/step - loss: 0.6805 - acc: 0.6134\n",
      "Epoch 4/40\n",
      "119/119 [==============================] - 0s 859us/step - loss: 0.5693 - acc: 0.6134\n",
      "Epoch 5/40\n",
      "119/119 [==============================] - 0s 1ms/step - loss: 0.2880 - acc: 0.6134\n",
      "Epoch 6/40\n",
      "119/119 [==============================] - 0s 802us/step - loss: 0.2356 - acc: 0.9580\n",
      "Epoch 7/40\n",
      "119/119 [==============================] - 0s 912us/step - loss: 0.0065 - acc: 1.0000\n",
      "Epoch 8/40\n",
      "119/119 [==============================] - 0s 1ms/step - loss: 2.3598e-05 - acc: 1.0000\n",
      "Epoch 9/40\n",
      "119/119 [==============================] - 0s 1ms/step - loss: 2.2998e-07 - acc: 1.0000\n",
      "Epoch 10/40\n",
      "119/119 [==============================] - 0s 826us/step - loss: 2.0333e-07 - acc: 1.0000\n",
      "Epoch 11/40\n",
      "119/119 [==============================] - 0s 814us/step - loss: 1.9453e-07 - acc: 1.0000\n",
      "Epoch 12/40\n",
      "119/119 [==============================] - 0s 818us/step - loss: 1.8976e-07 - acc: 1.0000\n",
      "Epoch 13/40\n",
      "119/119 [==============================] - 0s 906us/step - loss: 1.8611e-07 - acc: 1.0000\n",
      "Epoch 14/40\n",
      "119/119 [==============================] - 0s 1ms/step - loss: 1.8147e-07 - acc: 1.0000\n",
      "Epoch 15/40\n",
      "119/119 [==============================] - 0s 1ms/step - loss: 1.7788e-07 - acc: 1.0000\n",
      "Epoch 16/40\n",
      "119/119 [==============================] - 0s 872us/step - loss: 1.7456e-07 - acc: 1.0000\n",
      "Epoch 17/40\n",
      "119/119 [==============================] - 0s 821us/step - loss: 1.7215e-07 - acc: 1.0000\n",
      "Epoch 18/40\n",
      "119/119 [==============================] - 0s 753us/step - loss: 1.6799e-07 - acc: 1.0000\n",
      "Epoch 19/40\n",
      "119/119 [==============================] - 0s 820us/step - loss: 1.6532e-07 - acc: 1.0000\n",
      "Epoch 20/40\n",
      "119/119 [==============================] - 0s 905us/step - loss: 1.6314e-07 - acc: 1.0000\n",
      "Epoch 21/40\n",
      "119/119 [==============================] - 0s 759us/step - loss: 1.6024e-07 - acc: 1.0000\n",
      "Epoch 22/40\n",
      "119/119 [==============================] - 0s 881us/step - loss: 1.5828e-07 - acc: 1.0000\n",
      "Epoch 23/40\n",
      "119/119 [==============================] - 0s 1ms/step - loss: 1.5580e-07 - acc: 1.0000\n",
      "Epoch 24/40\n",
      "119/119 [==============================] - 0s 1ms/step - loss: 1.5420e-07 - acc: 1.0000\n",
      "Epoch 25/40\n",
      "119/119 [==============================] - 0s 975us/step - loss: 1.5176e-07 - acc: 1.0000\n",
      "Epoch 26/40\n",
      "119/119 [==============================] - 0s 1ms/step - loss: 1.4997e-07 - acc: 1.0000\n",
      "Epoch 27/40\n",
      "119/119 [==============================] - 0s 1ms/step - loss: 1.4838e-07 - acc: 1.0000\n",
      "Epoch 28/40\n",
      "119/119 [==============================] - 0s 795us/step - loss: 1.4650e-07 - acc: 1.0000\n",
      "Epoch 29/40\n",
      "119/119 [==============================] - 0s 1ms/step - loss: 1.4497e-07 - acc: 1.0000\n",
      "Epoch 30/40\n",
      "119/119 [==============================] - 0s 1ms/step - loss: 1.4340e-07 - acc: 1.0000\n",
      "Epoch 31/40\n",
      "119/119 [==============================] - 0s 919us/step - loss: 1.4200e-07 - acc: 1.0000\n",
      "Epoch 32/40\n",
      "119/119 [==============================] - 0s 975us/step - loss: 1.4090e-07 - acc: 1.0000\n",
      "Epoch 33/40\n",
      "119/119 [==============================] - 0s 805us/step - loss: 1.3941e-07 - acc: 1.0000\n",
      "Epoch 34/40\n",
      "119/119 [==============================] - 0s 805us/step - loss: 1.3821e-07 - acc: 1.0000\n",
      "Epoch 35/40\n",
      "119/119 [==============================] - 0s 802us/step - loss: 1.3708e-07 - acc: 1.0000\n",
      "Epoch 36/40\n",
      "119/119 [==============================] - 0s 803us/step - loss: 1.3604e-07 - acc: 1.0000\n",
      "Epoch 37/40\n",
      "119/119 [==============================] - 0s 784us/step - loss: 1.3506e-07 - acc: 1.0000\n",
      "Epoch 38/40\n",
      "119/119 [==============================] - 0s 791us/step - loss: 1.3417e-07 - acc: 1.0000\n",
      "Epoch 39/40\n",
      "119/119 [==============================] - 0s 787us/step - loss: 1.3307e-07 - acc: 1.0000\n",
      "Epoch 40/40\n",
      "119/119 [==============================] - 0s 761us/step - loss: 1.3242e-07 - acc: 1.0000\n"
     ]
    },
    {
     "data": {
      "text/plain": [
       "<keras.callbacks.History at 0x7f6dc648d6d8>"
      ]
     },
     "execution_count": 137,
     "metadata": {},
     "output_type": "execute_result"
    }
   ],
   "source": [
    "# Creating Basic ANN\n",
    "\n",
    "np.random.seed(100) # works. gives close results on repeating but not exactly same.\n",
    "\n",
    "# Initializing ANN\n",
    "model = Sequential()\n",
    "\n",
    "i = 0.25\n",
    "\n",
    "# Adding input layer and 1st hidden layer\n",
    "model.add(Dense(activation=\"relu\", input_dim=1500, units=125, kernel_initializer=\"uniform\"))\n",
    "# model.add(Dropout(rate=i))\n",
    "# Adding 2nd hidden layer\n",
    "model.add(Dense(activation=\"relu\", units=125, kernel_initializer=\"uniform\"))\n",
    "# model.add(Dropout(rate=i))\n",
    "model.add(Dense(activation=\"relu\", units=125, kernel_initializer=\"uniform\"))\n",
    "# model.add(Dropout(rate=i))\n",
    "model.add(Dense(activation=\"relu\", units=125, kernel_initializer=\"uniform\"))\n",
    "# model.add(Dropout(rate=i))\n",
    "model.add(Dense(activation=\"relu\", units=125, kernel_initializer=\"uniform\"))\n",
    "# # model.add(Dropout(rate=i))\n",
    "model.add(Dense(activation=\"relu\", units=125, kernel_initializer=\"uniform\"))\n",
    "# # model.add(Dropout(rate=i))\n",
    "model.add(Dense(activation=\"relu\", units=125, kernel_initializer=\"uniform\"))\n",
    "# # model.add(Dropout(rate=i))\n",
    "model.add(Dense(activation=\"relu\", units=125, kernel_initializer=\"uniform\"))\n",
    "# # model.add(Dropout(rate=i))\n",
    "# model.add(Dense(activation=\"relu\", units=125, kernel_initializer=\"uniform\"))\n",
    "# model.add(Dense(activation=\"relu\", units=125, kernel_initializer=\"uniform\"))\n",
    "# model.add(Dense(activation=\"relu\", units=100, kernel_initializer=\"uniform\"))\n",
    "# model.add(Dense(activation=\"relu\", units=100, kernel_initializer=\"uniform\"))\n",
    "# model.add(Dense(activation=\"relu\", units=100, kernel_initializer=\"uniform\"))\n",
    "# model.add(Dense(activation=\"relu\", units=100, kernel_initializer=\"uniform\"))\n",
    "# model.add(Dense(activation=\"relu\", units=100, kernel_initializer=\"uniform\"))\n",
    "# model.add(Dense(activation=\"relu\", units=100, kernel_initializer=\"uniform\"))\n",
    "# model.add(Dense(activation=\"relu\", units=100, kernel_initializer=\"uniform\"))\n",
    "# # Adding hidden layer\n",
    "# classifier.add(Dense(activation=\"relu\", units=70, kernel_initializer=\"uniform\"))\n",
    "# # Adding hidden layer\n",
    "# classifier.add(Dense(activation=\"relu\", units=7, kernel_initializer=\"uniform\"))\n",
    "# # Adding hidden layer\n",
    "\n",
    "# Adding output layer\n",
    "model.add(Dense(activation=\"sigmoid\", units=1, kernel_initializer=\"uniform\"))\n",
    "\n",
    "# Compiling the ANN (means run SGD on ANN)\n",
    "model.compile(optimizer='adam', loss='binary_crossentropy', metrics=['accuracy'])\n",
    "\n",
    "# Fitting ANN to training set\n",
    "model.fit(X_train, Y_train, batch_size=5, epochs=40)"
   ]
  },
  {
   "cell_type": "code",
   "execution_count": 138,
   "metadata": {},
   "outputs": [
    {
     "name": "stdout",
     "output_type": "stream",
     "text": [
      "\n",
      "--Confusion Matrix--\n",
      "\n",
      "[[22  5]\n",
      " [ 5 19]]\n",
      "\n",
      "-------AUC-------\n",
      "\n",
      "0.8032407407407407\n",
      "\n",
      "----------------Classification_Report------------------\n",
      "\n",
      "              precision    recall  f1-score   support\n",
      "\n",
      "           0       0.81      0.81      0.81        27\n",
      "           1       0.79      0.79      0.79        24\n",
      "\n",
      "   micro avg       0.80      0.80      0.80        51\n",
      "   macro avg       0.80      0.80      0.80        51\n",
      "weighted avg       0.80      0.80      0.80        51\n",
      "\n"
     ]
    }
   ],
   "source": [
    "y_pred = common_predictions(model, X_test, Y_test) # tabular: model.predict works with test_df\n",
    "create_reports(y_pred, Y_test)"
   ]
  },
  {
   "cell_type": "code",
   "execution_count": null,
   "metadata": {
    "collapsed": true
   },
   "outputs": [],
   "source": []
  },
  {
   "cell_type": "code",
   "execution_count": null,
   "metadata": {},
   "outputs": [],
   "source": []
  },
  {
   "cell_type": "code",
   "execution_count": null,
   "metadata": {},
   "outputs": [],
   "source": []
  },
  {
   "cell_type": "code",
   "execution_count": null,
   "metadata": {
    "collapsed": true
   },
   "outputs": [],
   "source": []
  },
  {
   "cell_type": "code",
   "execution_count": null,
   "metadata": {
    "collapsed": true
   },
   "outputs": [],
   "source": []
  },
  {
   "cell_type": "code",
   "execution_count": null,
   "metadata": {
    "collapsed": true
   },
   "outputs": [],
   "source": []
  },
  {
   "cell_type": "code",
   "execution_count": null,
   "metadata": {
    "collapsed": true
   },
   "outputs": [],
   "source": [
    "## Summary(HollyBolly data - 160 rows):\n",
    "# NB better than RF as its effective with less data\n",
    "# NB less powerful than SVM and LR due to its oversimplicity\n",
    "# LR behaving exactly like SVM (high correlation)\n",
    "## Note: On changing Train-Test ratio and random seed, algo behavior changes;\n",
    "# NB becomes best; SVM and XG becomes worse\n",
    "# NB fluctuates highly on changing Train-Test ratio and random seed\n",
    "\n",
    "## Algorithm Rank: NB/ANN, SVM/XG, LR, RF\n",
    "\n",
    "# tf-idf best acc is from ANN - 0.8032 (due to high dimensionality)"
   ]
  },
  {
   "cell_type": "code",
   "execution_count": null,
   "metadata": {
    "collapsed": true
   },
   "outputs": [],
   "source": []
  },
  {
   "cell_type": "code",
   "execution_count": null,
   "metadata": {
    "collapsed": true
   },
   "outputs": [],
   "source": [
    "# APPENDIX"
   ]
  },
  {
   "cell_type": "code",
   "execution_count": null,
   "metadata": {
    "collapsed": true
   },
   "outputs": [],
   "source": []
  },
  {
   "cell_type": "code",
   "execution_count": 219,
   "metadata": {},
   "outputs": [
    {
     "data": {
      "text/plain": [
       "['recommend']"
      ]
     },
     "execution_count": 219,
     "metadata": {},
     "output_type": "execute_result"
    }
   ],
   "source": [
    "lemmatize(['recommending'])"
   ]
  },
  {
   "cell_type": "code",
   "execution_count": null,
   "metadata": {},
   "outputs": [],
   "source": []
  }
 ],
 "metadata": {
  "kernelspec": {
   "display_name": "Python 3",
   "language": "python",
   "name": "python3"
  },
  "language_info": {
   "codemirror_mode": {
    "name": "ipython",
    "version": 3
   },
   "file_extension": ".py",
   "mimetype": "text/x-python",
   "name": "python",
   "nbconvert_exporter": "python",
   "pygments_lexer": "ipython3",
   "version": "3.6.6"
  }
 },
 "nbformat": 4,
 "nbformat_minor": 2
}
