{
 "cells": [
  {
   "cell_type": "code",
   "execution_count": 2,
   "metadata": {},
   "outputs": [],
   "source": [
    "# importing libraries\n",
    "import pandas as pd\n",
    "import numpy as np  \n",
    "import re"
   ]
  },
  {
   "cell_type": "code",
   "execution_count": null,
   "metadata": {},
   "outputs": [],
   "source": []
  },
  {
   "cell_type": "markdown",
   "metadata": {},
   "source": [
    "############### Question 1 ###############"
   ]
  },
  {
   "cell_type": "code",
   "execution_count": 2,
   "metadata": {},
   "outputs": [],
   "source": [
    "def check_sum(li, num):\n",
    "    for i in range(len(li)-1):\n",
    "        for j in range(i+1,len(li)):\n",
    "            sum_of_2 = li[i]+li[j]\n",
    "            if num == sum_of_2:\n",
    "                return True\n",
    "    return False\n",
    "\n",
    "# Order of (n*(n-1))/2"
   ]
  },
  {
   "cell_type": "code",
   "execution_count": 3,
   "metadata": {},
   "outputs": [
    {
     "data": {
      "text/plain": [
       "True"
      ]
     },
     "execution_count": 3,
     "metadata": {},
     "output_type": "execute_result"
    }
   ],
   "source": [
    "## USER INPUT\n",
    "li = [13, 6, 8, 22, 3]\n",
    "# li = [13, 6, 8]\n",
    "num = 14\n",
    "check_sum(li, num)"
   ]
  },
  {
   "cell_type": "code",
   "execution_count": null,
   "metadata": {},
   "outputs": [],
   "source": []
  },
  {
   "cell_type": "markdown",
   "metadata": {},
   "source": [
    "############### Question 5 ###############"
   ]
  },
  {
   "cell_type": "code",
   "execution_count": 4,
   "metadata": {},
   "outputs": [],
   "source": [
    "def match_percent_exact(w, t):\n",
    "    text_len = len(t.split())\n",
    "    word_count = 0\n",
    "    for i in t.split():\n",
    "        if w == i:\n",
    "            word_count += 1\n",
    "    perc = round(100*word_count/text_len,2)\n",
    "    return (\"% of word to word match: {}\".format(perc))\n",
    "    \n",
    "def match_percent_fuzzy(w, t):\n",
    "    text_len = len(t.split())\n",
    "    word_count = 0\n",
    "    for i in t.split():\n",
    "        if w in i:\n",
    "            word_count += 1\n",
    "    perc = round(100*word_count/text_len,2)\n",
    "    return (\"% of word to text match: {}\".format(perc))"
   ]
  },
  {
   "cell_type": "code",
   "execution_count": 5,
   "metadata": {},
   "outputs": [
    {
     "name": "stdout",
     "output_type": "stream",
     "text": [
      "% of word to word match: 8.33\n",
      "% of word to text match: 16.67\n"
     ]
    }
   ],
   "source": [
    "## INPUT HERE\n",
    "word = \"rent\"\n",
    "text = \"Sam rented his car so he could rent a boat for vacation\"\n",
    "\n",
    "print(match_percent_exact(word, text))\n",
    "print(match_percent_fuzzy(word, text))"
   ]
  },
  {
   "cell_type": "code",
   "execution_count": 6,
   "metadata": {},
   "outputs": [],
   "source": [
    "# Assumptions for Question 5:\n",
    "# 'how often a given word occurs in a text' may mean:\n",
    "    # 1. the word may exist in text as a complete word\n",
    "        # match_percent_exact() is for this case\n",
    "    # 2. the word may exist in text as a part of another word (or complete word)\n",
    "        # match_percent_fuzzy() is for this case"
   ]
  },
  {
   "cell_type": "code",
   "execution_count": null,
   "metadata": {},
   "outputs": [],
   "source": []
  },
  {
   "cell_type": "markdown",
   "metadata": {},
   "source": [
    "############### Problem (Solution 2) ###############"
   ]
  },
  {
   "cell_type": "code",
   "execution_count": 1,
   "metadata": {},
   "outputs": [],
   "source": [
    "# Helper Functions\n",
    "import pandas as pd\n",
    "import numpy as np  \n",
    "import re\n",
    "import itertools\n",
    "import gc\n",
    "import itertools as it\n",
    "import more_itertools as mit\n",
    "import time\n",
    "\n",
    "def get_2(strx):\n",
    "    strx1 = strx[0:2]\n",
    "    strx = strx[2:len(strx)]\n",
    "    return (strx1, strx)\n",
    "\n",
    "def get_3(strx):\n",
    "    strx1 = strx[0:3]\n",
    "    strx = strx[3:len(strx)]\n",
    "    return (strx1, strx)\n",
    "\n",
    "def get_numbers(s):\n",
    "    numbers = []\n",
    "    for i in range(int(len(s)/2)):\n",
    "        numbers.append(2)\n",
    "    for i in range(int(len(s)/3)):\n",
    "        numbers.append(3)\n",
    "    return numbers\n",
    "\n",
    "def detect_seq(lx1):\n",
    "    for i in range(0, len(lx1)-1):\n",
    "        if lx1[i] == lx1[i+1]:\n",
    "            return True\n",
    "    return False\n",
    "\n",
    "def get_final_substr(comb, l_r, center, side):\n",
    "    # converting all combinations of 2 and 3 to sub_strings\n",
    "    list_str2 = []\n",
    "    gc.collect()\n",
    "    for i in comb:\n",
    "        if i == 2:\n",
    "            strx1, l_r = get_2(l_r)\n",
    "            list_str2.append(strx1)\n",
    "        else:\n",
    "            strx1, l_r = get_3(l_r)\n",
    "            list_str2.append(strx1)\n",
    "    if side == 'l':\n",
    "        list_xx = list_str2 + [center]\n",
    "    else:\n",
    "        list_xx = [center] + list_str2\n",
    "    \n",
    "    # removing sub_string sequence with consecutive sub_strings like 'cc' and 'cc'\n",
    "    if detect_seq(list_xx) == False:\n",
    "        return list_str2\n",
    "    else:\n",
    "        return []\n",
    "        \n",
    "def Combinations(numbers, target, partial=[], partial_sum=0):\n",
    "    \"\"\"get all combinations of 2 & 3 which sum to len(input_str) - one by one\"\"\"\n",
    "    if partial_sum == target:\n",
    "        yield partial\n",
    "    if partial_sum >= target:\n",
    "        return\n",
    "    for i, n in enumerate(numbers):\n",
    "        remaining = numbers[i + 1:]\n",
    "        yield from Combinations(remaining, target, partial + [n], partial_sum + n)\n",
    "\n",
    "def Permutations(comb):\n",
    "    \"\"\"get permutations of 2 & 3 for each 'combination' from combinations - one by one\"\"\"\n",
    "    Permutations = []\n",
    "    for i in mit.distinct_permutations(comb):\n",
    "        yield i\n",
    "        \n",
    "# generate permutations of a list numbers adding to a constant\n",
    "def get_combo(side, l_r, center): # l_r is left/right string; side='l'/'r'\n",
    "    # get all combinations of 2/3 which sum to len(input_str)\n",
    "    # implementing with generator\n",
    "    Perm_final = []\n",
    "    numbers = get_numbers(l_r)\n",
    "    c = Combinations(numbers, len(l_r))\n",
    "    result_1 = 1\n",
    "    while result_1 is not None:\n",
    "        try:\n",
    "            result_1 = next(c)\n",
    "        except:\n",
    "            break\n",
    "    \n",
    "        comb = result_1\n",
    "            \n",
    "        xx = Permutations(comb)\n",
    "        y=1\n",
    "        while y is not None:\n",
    "            try:\n",
    "                y = next(xx)\n",
    "                sub_str = get_final_substr(y, l_r, center, side)\n",
    "                if sub_str != []:\n",
    "                    Perm_final = sub_str\n",
    "                    Perm_final = list(set(Perm_final))\n",
    "                    return Perm_final\n",
    "            except:\n",
    "                break\n",
    "    return Perm_final\n",
    "\n",
    "def get_left_center2_right(s,i):\n",
    "    s_center = s[i:i+2]\n",
    "    try:\n",
    "        s_left = s[0:i]\n",
    "    except:\n",
    "        s_left = ''\n",
    "    try:\n",
    "        s_right = s[i+2:len(s)]\n",
    "    except:\n",
    "        s_right = ''\n",
    "    return (s_left, s_center, s_right)\n",
    "\n",
    "def get_left_center3_right(s,i):\n",
    "    s_center = s[i:i+3]\n",
    "    try:\n",
    "        s_left = s[0:i]\n",
    "    except:\n",
    "        s_left = ''\n",
    "    try:\n",
    "        s_right = s[i+3:len(s)]\n",
    "    except:\n",
    "        s_right = ''\n",
    "    return (s_left, s_center, s_right)"
   ]
  },
  {
   "cell_type": "code",
   "execution_count": 2,
   "metadata": {},
   "outputs": [],
   "source": [
    "def split_string(strx):\n",
    "\n",
    "    ## Find and add all substrs left/right of every 2 length substr\n",
    "    Final_List_2 = []\n",
    "    for i in range(len(strx)-1):\n",
    "        left, center, right = get_left_center2_right(strx, i)\n",
    "\n",
    "        combo_left = get_combo('l', left, center)\n",
    "        combo_right = get_combo('r', right, center)\n",
    "\n",
    "\n",
    "        if center not in Final_List_2:\n",
    "\n",
    "            if i == 0:\n",
    "                if combo_right != []:\n",
    "                    Final_List_2 += combo_right\n",
    "                    Final_List_2.append(center)\n",
    "\n",
    "            elif i == len(strx)-2:\n",
    "                if combo_left != []:\n",
    "                    Final_List_2 += combo_left\n",
    "                    Final_List_2.append(center)\n",
    "\n",
    "            else:\n",
    "                if combo_left!=[] and combo_right!=[]:\n",
    "                    Final_List_2 += combo_left\n",
    "                    Final_List_2 += combo_right\n",
    "                    Final_List_2.append(center)\n",
    "\n",
    "    Final_List_2 = list(set(Final_List_2))\n",
    "    \n",
    "    \n",
    "    ## Find and add all substrs left/right of every 3 length substr\n",
    "    Final_List_3 = []\n",
    "    for i in range(len(strx)-2):\n",
    "        left, center, right = get_left_center3_right(strx, i)\n",
    "\n",
    "        combo_left = get_combo('l', left, center)\n",
    "        combo_right = get_combo('r', right, center)\n",
    "\n",
    "        if center not in Final_List_3:\n",
    "\n",
    "            if i == 0:\n",
    "                if get_combo('r', right, center) != []:\n",
    "                    Final_List_3 += combo_right\n",
    "                    Final_List_3.append(center)\n",
    "\n",
    "            elif i == len(strx)-3:\n",
    "                if get_combo('l', left, center) != []:\n",
    "                    Final_List_3 += combo_left\n",
    "                    Final_List_3.append(center)\n",
    "\n",
    "            else:\n",
    "                if get_combo('l', left, center) != [] and get_combo('r', right, center) != []:\n",
    "                    Final_List_3 += combo_left\n",
    "                    Final_List_3 += combo_right\n",
    "                    Final_List_3.append(center)\n",
    "\n",
    "    Final_List_3 = list(set(Final_List_3))\n",
    "    \n",
    "    Final_List = Final_List_2 + Final_List_3\n",
    "    Final_List = list(set(Final_List))\n",
    "    return Final_List"
   ]
  },
  {
   "cell_type": "code",
   "execution_count": 3,
   "metadata": {},
   "outputs": [
    {
     "name": "stdout",
     "output_type": "stream",
     "text": [
      "String Length: 50\n",
      "Output: ['hb', 'opq', 'tfr', 'wx', 'de', 'hij', 'ghi', 'qr', 'nnl', 'uvw', 'mn', 'lpo', 'os', 'lm', 'vw', 'pos', 'rst', 'rg', 'ef', 'deg', 'gh', 'ij', 'nlp', 'tf', 'dk', 'gn', 'pq', 'osh', 'bhg', 'sh', 'egt', 'efg', 'gnn', 'abc', 'cde', 'stu', 'uv', 'gt', 'hg', 'nop', 'mno', 'tu', 'fgh', 'hbh', 'nl', 'vwx', 'no', 'lmn', 'yab', 'ghb', 'cd', 'fr', 'klm', 'nn', 'xy', 'wxy', 'bc', 'rs', 'fg', 'rgh', 'pqr', 'hgn', 'st', 'hgt', 'ijk', 'gtf', 'jkl', 'hi', 'tdk', 'tuv', 'op', 'bh', 'bcd', 'shg', 'ya', 'lp', 'eg', 'jk', 'qrs', 'frg', 'kl', 'def', 'xya', 'po', 'ab']\n",
      "Seconds: 6.783310174942017\n"
     ]
    }
   ],
   "source": [
    "# strx = \"abcdefg\"\n",
    "# strx = \"ccccacccc\"\n",
    "# strx = 'ababcabc'\n",
    "# strx = 'abcdefghijklmnopqrstuvwxyabcde' # 30\n",
    "strx = 'abcdefghijklmnopqrstuvwxyabcdegtfrghbhgnnlposhgtdk' # 50\n",
    "# strx = 'abcdefghijklmnopqrstuvwxyabcdegtfrghbhgnnlposhgtdkabcdefghijklmnopqrstuvwxyabcdegtfrghbhgnnlposhgtdk' # 100\n",
    "\n",
    "\n",
    "start_time = time.time()\n",
    "\n",
    "# split_string function\n",
    "print(\"String Length: {}\".format(len(strx)))\n",
    "output = split_string(strx)\n",
    "print(\"Output: {}\".format(output))\n",
    "\n",
    "elapsed_time = time.time() - start_time\n",
    "print(\"Seconds: {}\".format(elapsed_time))"
   ]
  },
  {
   "cell_type": "code",
   "execution_count": null,
   "metadata": {},
   "outputs": [],
   "source": []
  },
  {
   "cell_type": "code",
   "execution_count": null,
   "metadata": {},
   "outputs": [],
   "source": []
  }
 ],
 "metadata": {
  "kernelspec": {
   "display_name": "Python 3",
   "language": "python",
   "name": "python3"
  },
  "language_info": {
   "codemirror_mode": {
    "name": "ipython",
    "version": 3
   },
   "file_extension": ".py",
   "mimetype": "text/x-python",
   "name": "python",
   "nbconvert_exporter": "python",
   "pygments_lexer": "ipython3",
   "version": "3.6.6"
  }
 },
 "nbformat": 4,
 "nbformat_minor": 2
}
